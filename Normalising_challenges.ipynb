{
  "nbformat": 4,
  "nbformat_minor": 0,
  "metadata": {
    "colab": {
      "name": "Normalising challenges.ipynb",
      "provenance": [],
      "collapsed_sections": [],
      "include_colab_link": true
    },
    "kernelspec": {
      "name": "python3",
      "display_name": "Python 3"
    },
    "language_info": {
      "name": "python"
    }
  },
  "cells": [
    {
      "cell_type": "markdown",
      "metadata": {
        "id": "view-in-github",
        "colab_type": "text"
      },
      "source": [
        "<a href=\"https://colab.research.google.com/github/kjp07/data-python-learning/blob/main/Normalising_challenges.ipynb\" target=\"_parent\"><img src=\"https://colab.research.google.com/assets/colab-badge.svg\" alt=\"Open In Colab\"/></a>"
      ]
    },
    {
      "cell_type": "markdown",
      "metadata": {
        "id": "qKkgkBgnagnq"
      },
      "source": [
        "#  Normalisation challenges"
      ]
    },
    {
      "cell_type": "markdown",
      "metadata": {
        "id": "gHU4-ADHU4eq"
      },
      "source": [
        "### Challenge 1 - prepare dataset for normalisation \n",
        "---\n",
        "1. Read Covid vaccination data from the `by_country` sheet in the Excel file at this link : https://github.com/lilaceri/Working-with-data-/blob/342abab10d93c4bf23b5c55a50f189f12a137c5f/Data%20Sets%20for%20code%20divisio/Covid%20Vaccination%20Data.xlsx?raw=true\n",
        "2. Use .info() to find out which columns have missing values\n",
        "3. Remove all rows with missing data in the total_vaccination column\n",
        "4. Find the median vaccinations per hundred \n",
        "5. display the mean people vaccinated per hundred for each country in descending order\n",
        "6. find the range of total_vaccinations across the dataframe \n",
        "\n",
        "\n",
        "**Test output**:  \n",
        "1. dataframe is saved in a variable\n",
        "2. \n",
        "```\n",
        "RangeIndex: 14994 entries, 0 to 14993\n",
        "Data columns (total 15 columns):\n",
        "    Column                               Non-Null Count  Dtype         \n",
        "                                \n",
        " 0   country                              14994 non-null  object        \n",
        " 1   iso_code                             14994 non-null  object        \n",
        " 2   date                                 14994 non-null  datetime64[ns]\n",
        " 3   total_vaccinations                   9011 non-null   float64       \n",
        " 4   people_vaccinated                    8370 non-null   float64       \n",
        " 5   people_fully_vaccinated              6158 non-null   float64       \n",
        " 6   daily_vaccinations_raw               7575 non-null   float64       \n",
        " 7   daily_vaccinations                   14796 non-null  float64       \n",
        " 8   total_vaccinations_per_hundred       9011 non-null   float64       \n",
        " 9   people_vaccinated_per_hundred        8370 non-null   float64       \n",
        " 10  people_fully_vaccinated_per_hundred  6158 non-null   float64       \n",
        " 11  daily_vaccinations_per_million       14796 non-null  float64       \n",
        " 12  vaccines                             14994 non-null  object        \n",
        " 13  source_name                          14994 non-null  object        \n",
        " 14  source_website                       14994 non-null  object        \n",
        "dtypes: datetime64[ns](1), float64(9), object(5)\n",
        "memory usage: 1.7+ MB\n",
        "```\n",
        "3. 9011 rows × 15 columns\n",
        "4. 7.78\n",
        "5. \n",
        "```\n",
        "country\n",
        "Gibraltar       72.172462\n",
        "Maldives        51.276087\n",
        "Israel          48.931008\n",
        "Seychelles      48.233333\n",
        "Aruba           42.155000\n",
        "                  ...    \n",
        "Guinea           0.677000\n",
        "Sierra Leone     0.530000\n",
        "Namibia          0.317143\n",
        "South Africa     0.261667\n",
        "Albania          0.080000\n",
        "Name: people_vaccinated_per_hundred, Length: 104, dtype: float64\n",
        "```\n",
        "6. 275338000.0\n"
      ]
    },
    {
      "cell_type": "code",
      "metadata": {
        "id": "ahCbIveoKy7e"
      },
      "source": [
        "import pandas as pd"
      ],
      "execution_count": 1,
      "outputs": []
    },
    {
      "cell_type": "code",
      "metadata": {
        "id": "3SQNwvQAK_55"
      },
      "source": [
        "url = \"https://github.com/lilaceri/Working-with-data-/blob/342abab10d93c4bf23b5c55a50f189f12a137c5f/Data%20Sets%20for%20code%20divisio/Covid%20Vaccination%20Data.xlsx?raw=true\"\n",
        "df = pd.read_excel(url, sheet_name = \"by_country\")"
      ],
      "execution_count": 2,
      "outputs": []
    },
    {
      "cell_type": "code",
      "metadata": {
        "colab": {
          "base_uri": "https://localhost:8080/"
        },
        "id": "bdA4zIQTLG1O",
        "outputId": "9ad29330-085b-440e-baf2-c2296a768a9f"
      },
      "source": [
        "df.info()"
      ],
      "execution_count": 3,
      "outputs": [
        {
          "output_type": "stream",
          "text": [
            "<class 'pandas.core.frame.DataFrame'>\n",
            "RangeIndex: 14994 entries, 0 to 14993\n",
            "Data columns (total 15 columns):\n",
            " #   Column                               Non-Null Count  Dtype         \n",
            "---  ------                               --------------  -----         \n",
            " 0   country                              14994 non-null  object        \n",
            " 1   iso_code                             14994 non-null  object        \n",
            " 2   date                                 14994 non-null  datetime64[ns]\n",
            " 3   total_vaccinations                   9011 non-null   float64       \n",
            " 4   people_vaccinated                    8370 non-null   float64       \n",
            " 5   people_fully_vaccinated              6158 non-null   float64       \n",
            " 6   daily_vaccinations_raw               7575 non-null   float64       \n",
            " 7   daily_vaccinations                   14796 non-null  float64       \n",
            " 8   total_vaccinations_per_hundred       9011 non-null   float64       \n",
            " 9   people_vaccinated_per_hundred        8370 non-null   float64       \n",
            " 10  people_fully_vaccinated_per_hundred  6158 non-null   float64       \n",
            " 11  daily_vaccinations_per_million       14796 non-null  float64       \n",
            " 12  vaccines                             14994 non-null  object        \n",
            " 13  source_name                          14994 non-null  object        \n",
            " 14  source_website                       14994 non-null  object        \n",
            "dtypes: datetime64[ns](1), float64(9), object(5)\n",
            "memory usage: 1.7+ MB\n"
          ],
          "name": "stdout"
        }
      ]
    },
    {
      "cell_type": "code",
      "metadata": {
        "colab": {
          "base_uri": "https://localhost:8080/"
        },
        "id": "48RgPTQOLOQQ",
        "outputId": "6db25994-b5a6-45c0-9bfa-885ffa62e0f9"
      },
      "source": [
        "# 3 - remove rows with missing data in total_vaccination_column\n",
        "df_drop = df.dropna(subset = [\"total_vaccinations\"], inplace = True)\n",
        "df.shape # Test"
      ],
      "execution_count": 4,
      "outputs": [
        {
          "output_type": "execute_result",
          "data": {
            "text/plain": [
              "(9011, 15)"
            ]
          },
          "metadata": {
            "tags": []
          },
          "execution_count": 4
        }
      ]
    },
    {
      "cell_type": "code",
      "metadata": {
        "colab": {
          "base_uri": "https://localhost:8080/"
        },
        "id": "6b0FLy5_L8Vy",
        "outputId": "74645ea2-9355-4b09-bb77-f90954f3273e"
      },
      "source": [
        "# 4 - Median vaccinations per hundred\n",
        "df[\"total_vaccinations_per_hundred\"].median()"
      ],
      "execution_count": 5,
      "outputs": [
        {
          "output_type": "execute_result",
          "data": {
            "text/plain": [
              "6.3"
            ]
          },
          "metadata": {
            "tags": []
          },
          "execution_count": 5
        }
      ]
    },
    {
      "cell_type": "code",
      "metadata": {
        "colab": {
          "base_uri": "https://localhost:8080/"
        },
        "id": "XtuFXXjaMTTb",
        "outputId": "bd964c91-5ae9-430b-add2-1b5376f89ba3"
      },
      "source": [
        "# 5 - display the mean people vaccinated per hundred for each country in descending order\n",
        "df.groupby(\"country\")[\"people_vaccinated_per_hundred\"].mean().sort_values(ascending = False)"
      ],
      "execution_count": 6,
      "outputs": [
        {
          "output_type": "execute_result",
          "data": {
            "text/plain": [
              "country\n",
              "Gibraltar                           64.975699\n",
              "Bhutan                              55.961892\n",
              "Falkland Islands                    51.063333\n",
              "Saint Helena                        44.880000\n",
              "Seychelles                          44.005686\n",
              "                                      ...    \n",
              "China                                     NaN\n",
              "Ethiopia                                  NaN\n",
              "Saint Vincent and the Grenadines          NaN\n",
              "Samoa                                     NaN\n",
              "Saudi Arabia                              NaN\n",
              "Name: people_vaccinated_per_hundred, Length: 195, dtype: float64"
            ]
          },
          "metadata": {
            "tags": []
          },
          "execution_count": 6
        }
      ]
    },
    {
      "cell_type": "code",
      "metadata": {
        "colab": {
          "base_uri": "https://localhost:8080/"
        },
        "id": "Gh7fojq5MWs7",
        "outputId": "cdec8e10-2e3a-4fcb-e56d-012f70672a32"
      },
      "source": [
        "# 6 - find the range of total_vaccinations across the dataframe\n",
        "max = df[\"total_vaccinations\"].max()\n",
        "min = df[\"total_vaccinations\"].min()\n",
        "print(max - min)"
      ],
      "execution_count": 7,
      "outputs": [
        {
          "output_type": "stream",
          "text": [
            "275338000.0\n"
          ],
          "name": "stdout"
        }
      ]
    },
    {
      "cell_type": "markdown",
      "metadata": {
        "id": "G8yHJH706Cd9"
      },
      "source": [
        "### Challenge 2 - normalise daily vaccinations \n",
        "---\n",
        "\n",
        "1. Find the median daily vaccinations per million \n",
        "2. Write a function to normalise daily vaccinations per million, where values greater than or equal to median = 1 and values less than median = 0 \n",
        "\n",
        "**Test output**: \n",
        "\n",
        "1. 1915.5\n",
        "2. \n",
        "```\n",
        "0        0\n",
        "6        0\n",
        "22       0\n",
        "44       0\n",
        "59       0\n",
        "        ..\n",
        "14989    0\n",
        "14990    0\n",
        "14991    0\n",
        "14992    0\n",
        "14993    0\n",
        "Name: daily_vaccinations_per_million, Length: 9011, dtype: int64\n",
        "```"
      ]
    },
    {
      "cell_type": "code",
      "metadata": {
        "id": "nwmvVLa0aYli",
        "colab": {
          "base_uri": "https://localhost:8080/"
        },
        "outputId": "96a6a8c9-aa2f-4d32-fe08-4daa2ff347a4"
      },
      "source": [
        "# 1 - Find the median daily vaccinations per million\n",
        "median = df[\"daily_vaccinations_per_million\"].median()\n",
        "print(median)"
      ],
      "execution_count": 8,
      "outputs": [
        {
          "output_type": "stream",
          "text": [
            "1915.5\n"
          ],
          "name": "stdout"
        }
      ]
    },
    {
      "cell_type": "code",
      "metadata": {
        "colab": {
          "base_uri": "https://localhost:8080/"
        },
        "id": "-7KBgXRkOpqU",
        "outputId": "737d01ae-8c94-4da5-9627-d4be3bc414fa"
      },
      "source": [
        "# 2 - Write a function to normalise daily vaccinations per million, where values greater than or equal to median = 1 and values less than median = 0\n",
        "def normalise_daily_vaccinations(df):\n",
        "  if df[\"daily_vaccinations_per_million\"] >= median:\n",
        "    return 1\n",
        "  else:\n",
        "    return 0\n",
        "\n",
        "df[\"daily_vaccinations_per_million\"] = df.apply(normalise_daily_vaccinations, axis=1)\n",
        "\n",
        "# Test\n",
        "print(\"Max:\", df[\"daily_vaccinations_per_million\"].max())\n",
        "print(\"Min:\", df[\"daily_vaccinations_per_million\"].min())\n"
      ],
      "execution_count": 9,
      "outputs": [
        {
          "output_type": "stream",
          "text": [
            "Max: 1\n",
            "Min: 0\n"
          ],
          "name": "stdout"
        }
      ]
    },
    {
      "cell_type": "markdown",
      "metadata": {
        "id": "KznNiO1ooEcw"
      },
      "source": [
        "### Challenge 3 - Normalising total vaccinations   \n",
        "---\n",
        "The United Kingdom has been praised for its fast vaccine rollout. \n",
        "1. Find the minimum total vaccinations for the United Kingdom \n",
        "2. Save this value in a variable rounded down to an integer\n",
        "3. Write a function to normalise total_vaccinations column so that all values less than the UK's min are 0 and all values greater than or equal to the UK's min are coded as 1 \n",
        "4. Display the countries for which total vaccinated is at the same rate or more than the UK\n",
        "\n",
        "**Test output**:\n",
        "\n",
        "1. 1402432.0\n",
        "2. 1402432\n",
        "3. `df['total_vaccinations']` should output:\n",
        "```\n",
        "0        0\n",
        "6        0\n",
        "22       0\n",
        "44       0\n",
        "59       0\n",
        "        ..\n",
        "14989    0\n",
        "14990    0\n",
        "14991    0\n",
        "14992    0\n",
        "14993    0\n",
        "Name: total_vaccinations, Length: 9011, dtype: int64\n",
        "```\n",
        "4. \n",
        "```\n",
        "array(['Argentina', 'Australia', 'Austria', 'Azerbaijan', 'Bangladesh',\n",
        "       'Belgium', 'Brazil', 'Cambodia', 'Canada', 'Chile', 'China',\n",
        "       'Colombia', 'Czechia', 'Denmark', 'Dominican Republic', 'England',\n",
        "       'Finland', 'France', 'Germany', 'Greece', 'Hong Kong', 'Hungary',\n",
        "       'India', 'Indonesia', 'Ireland', 'Israel', 'Italy', 'Japan',\n",
        "       'Kazakhstan', 'Malaysia', 'Mexico', 'Morocco', 'Nepal',\n",
        "       'Netherlands', 'Norway', 'Pakistan', 'Peru', 'Philippines',\n",
        "       'Poland', 'Portugal', 'Qatar', 'Romania', 'Russia', 'Saudi Arabia',\n",
        "       'Scotland', 'Serbia', 'Singapore', 'Slovakia', 'South Korea',\n",
        "       'Spain', 'Sweden', 'Switzerland', 'Thailand', 'Turkey',\n",
        "       'United Arab Emirates', 'United Kingdom', 'United States',\n",
        "       'Uruguay', 'Wales'], dtype=object)\n",
        "```\n",
        "\n",
        "\n"
      ]
    },
    {
      "cell_type": "code",
      "metadata": {
        "colab": {
          "base_uri": "https://localhost:8080/",
          "height": 674
        },
        "id": "hhfU2pDaSHsz",
        "outputId": "1bb7f2a3-472b-43f7-cfdc-a83e25b5d4f8"
      },
      "source": [
        "df"
      ],
      "execution_count": 10,
      "outputs": [
        {
          "output_type": "execute_result",
          "data": {
            "text/html": [
              "<div>\n",
              "<style scoped>\n",
              "    .dataframe tbody tr th:only-of-type {\n",
              "        vertical-align: middle;\n",
              "    }\n",
              "\n",
              "    .dataframe tbody tr th {\n",
              "        vertical-align: top;\n",
              "    }\n",
              "\n",
              "    .dataframe thead th {\n",
              "        text-align: right;\n",
              "    }\n",
              "</style>\n",
              "<table border=\"1\" class=\"dataframe\">\n",
              "  <thead>\n",
              "    <tr style=\"text-align: right;\">\n",
              "      <th></th>\n",
              "      <th>country</th>\n",
              "      <th>iso_code</th>\n",
              "      <th>date</th>\n",
              "      <th>total_vaccinations</th>\n",
              "      <th>people_vaccinated</th>\n",
              "      <th>people_fully_vaccinated</th>\n",
              "      <th>daily_vaccinations_raw</th>\n",
              "      <th>daily_vaccinations</th>\n",
              "      <th>total_vaccinations_per_hundred</th>\n",
              "      <th>people_vaccinated_per_hundred</th>\n",
              "      <th>people_fully_vaccinated_per_hundred</th>\n",
              "      <th>daily_vaccinations_per_million</th>\n",
              "      <th>vaccines</th>\n",
              "      <th>source_name</th>\n",
              "      <th>source_website</th>\n",
              "    </tr>\n",
              "  </thead>\n",
              "  <tbody>\n",
              "    <tr>\n",
              "      <th>0</th>\n",
              "      <td>Afghanistan</td>\n",
              "      <td>AFG</td>\n",
              "      <td>2021-02-22</td>\n",
              "      <td>0.0</td>\n",
              "      <td>0.0</td>\n",
              "      <td>NaN</td>\n",
              "      <td>NaN</td>\n",
              "      <td>NaN</td>\n",
              "      <td>0.00</td>\n",
              "      <td>0.00</td>\n",
              "      <td>NaN</td>\n",
              "      <td>0</td>\n",
              "      <td>Oxford/AstraZeneca</td>\n",
              "      <td>Government of Afghanistan</td>\n",
              "      <td>https://reliefweb.int/report/afghanistan/afgha...</td>\n",
              "    </tr>\n",
              "    <tr>\n",
              "      <th>6</th>\n",
              "      <td>Afghanistan</td>\n",
              "      <td>AFG</td>\n",
              "      <td>2021-02-28</td>\n",
              "      <td>8200.0</td>\n",
              "      <td>8200.0</td>\n",
              "      <td>NaN</td>\n",
              "      <td>NaN</td>\n",
              "      <td>1367.0</td>\n",
              "      <td>0.02</td>\n",
              "      <td>0.02</td>\n",
              "      <td>NaN</td>\n",
              "      <td>0</td>\n",
              "      <td>Oxford/AstraZeneca</td>\n",
              "      <td>Government of Afghanistan</td>\n",
              "      <td>https://reliefweb.int/report/afghanistan/afgha...</td>\n",
              "    </tr>\n",
              "    <tr>\n",
              "      <th>22</th>\n",
              "      <td>Afghanistan</td>\n",
              "      <td>AFG</td>\n",
              "      <td>2021-03-16</td>\n",
              "      <td>54000.0</td>\n",
              "      <td>54000.0</td>\n",
              "      <td>NaN</td>\n",
              "      <td>NaN</td>\n",
              "      <td>2862.0</td>\n",
              "      <td>0.14</td>\n",
              "      <td>0.14</td>\n",
              "      <td>NaN</td>\n",
              "      <td>0</td>\n",
              "      <td>Oxford/AstraZeneca</td>\n",
              "      <td>Government of Afghanistan</td>\n",
              "      <td>https://reliefweb.int/report/afghanistan/afgha...</td>\n",
              "    </tr>\n",
              "    <tr>\n",
              "      <th>44</th>\n",
              "      <td>Afghanistan</td>\n",
              "      <td>AFG</td>\n",
              "      <td>2021-04-07</td>\n",
              "      <td>120000.0</td>\n",
              "      <td>120000.0</td>\n",
              "      <td>NaN</td>\n",
              "      <td>NaN</td>\n",
              "      <td>3000.0</td>\n",
              "      <td>0.31</td>\n",
              "      <td>0.31</td>\n",
              "      <td>NaN</td>\n",
              "      <td>0</td>\n",
              "      <td>Oxford/AstraZeneca</td>\n",
              "      <td>Government of Afghanistan</td>\n",
              "      <td>https://reliefweb.int/report/afghanistan/afgha...</td>\n",
              "    </tr>\n",
              "    <tr>\n",
              "      <th>59</th>\n",
              "      <td>Afghanistan</td>\n",
              "      <td>AFG</td>\n",
              "      <td>2021-04-22</td>\n",
              "      <td>240000.0</td>\n",
              "      <td>240000.0</td>\n",
              "      <td>NaN</td>\n",
              "      <td>NaN</td>\n",
              "      <td>8000.0</td>\n",
              "      <td>0.62</td>\n",
              "      <td>0.62</td>\n",
              "      <td>NaN</td>\n",
              "      <td>0</td>\n",
              "      <td>Oxford/AstraZeneca</td>\n",
              "      <td>Government of Afghanistan</td>\n",
              "      <td>https://reliefweb.int/report/afghanistan/afgha...</td>\n",
              "    </tr>\n",
              "    <tr>\n",
              "      <th>...</th>\n",
              "      <td>...</td>\n",
              "      <td>...</td>\n",
              "      <td>...</td>\n",
              "      <td>...</td>\n",
              "      <td>...</td>\n",
              "      <td>...</td>\n",
              "      <td>...</td>\n",
              "      <td>...</td>\n",
              "      <td>...</td>\n",
              "      <td>...</td>\n",
              "      <td>...</td>\n",
              "      <td>...</td>\n",
              "      <td>...</td>\n",
              "      <td>...</td>\n",
              "      <td>...</td>\n",
              "    </tr>\n",
              "    <tr>\n",
              "      <th>14989</th>\n",
              "      <td>Zimbabwe</td>\n",
              "      <td>ZWE</td>\n",
              "      <td>2021-04-28</td>\n",
              "      <td>458013.0</td>\n",
              "      <td>388021.0</td>\n",
              "      <td>69992.0</td>\n",
              "      <td>24074.0</td>\n",
              "      <td>17860.0</td>\n",
              "      <td>3.08</td>\n",
              "      <td>2.61</td>\n",
              "      <td>0.47</td>\n",
              "      <td>0</td>\n",
              "      <td>Sinopharm/Beijing</td>\n",
              "      <td>Ministry of Health</td>\n",
              "      <td>https://twitter.com/MoHCCZim/status/1388935941...</td>\n",
              "    </tr>\n",
              "    <tr>\n",
              "      <th>14990</th>\n",
              "      <td>Zimbabwe</td>\n",
              "      <td>ZWE</td>\n",
              "      <td>2021-04-29</td>\n",
              "      <td>477597.0</td>\n",
              "      <td>400771.0</td>\n",
              "      <td>76826.0</td>\n",
              "      <td>19584.0</td>\n",
              "      <td>17971.0</td>\n",
              "      <td>3.21</td>\n",
              "      <td>2.70</td>\n",
              "      <td>0.52</td>\n",
              "      <td>0</td>\n",
              "      <td>Sinopharm/Beijing</td>\n",
              "      <td>Ministry of Health</td>\n",
              "      <td>https://twitter.com/MoHCCZim/status/1388935941...</td>\n",
              "    </tr>\n",
              "    <tr>\n",
              "      <th>14991</th>\n",
              "      <td>Zimbabwe</td>\n",
              "      <td>ZWE</td>\n",
              "      <td>2021-04-30</td>\n",
              "      <td>500342.0</td>\n",
              "      <td>414735.0</td>\n",
              "      <td>85607.0</td>\n",
              "      <td>22745.0</td>\n",
              "      <td>19194.0</td>\n",
              "      <td>3.37</td>\n",
              "      <td>2.79</td>\n",
              "      <td>0.58</td>\n",
              "      <td>0</td>\n",
              "      <td>Sinopharm/Beijing</td>\n",
              "      <td>Ministry of Health</td>\n",
              "      <td>https://twitter.com/MoHCCZim/status/1388935941...</td>\n",
              "    </tr>\n",
              "    <tr>\n",
              "      <th>14992</th>\n",
              "      <td>Zimbabwe</td>\n",
              "      <td>ZWE</td>\n",
              "      <td>2021-05-01</td>\n",
              "      <td>520299.0</td>\n",
              "      <td>428135.0</td>\n",
              "      <td>92164.0</td>\n",
              "      <td>19957.0</td>\n",
              "      <td>21171.0</td>\n",
              "      <td>3.50</td>\n",
              "      <td>2.88</td>\n",
              "      <td>0.62</td>\n",
              "      <td>0</td>\n",
              "      <td>Sinopharm/Beijing</td>\n",
              "      <td>Ministry of Health</td>\n",
              "      <td>https://twitter.com/MoHCCZim/status/1388935941...</td>\n",
              "    </tr>\n",
              "    <tr>\n",
              "      <th>14993</th>\n",
              "      <td>Zimbabwe</td>\n",
              "      <td>ZWE</td>\n",
              "      <td>2021-05-02</td>\n",
              "      <td>524199.0</td>\n",
              "      <td>430068.0</td>\n",
              "      <td>94131.0</td>\n",
              "      <td>3900.0</td>\n",
              "      <td>19169.0</td>\n",
              "      <td>3.53</td>\n",
              "      <td>2.89</td>\n",
              "      <td>0.63</td>\n",
              "      <td>0</td>\n",
              "      <td>Sinopharm/Beijing</td>\n",
              "      <td>Ministry of Health</td>\n",
              "      <td>https://twitter.com/MoHCCZim/status/1388935941...</td>\n",
              "    </tr>\n",
              "  </tbody>\n",
              "</table>\n",
              "<p>9011 rows × 15 columns</p>\n",
              "</div>"
            ],
            "text/plain": [
              "           country  ...                                     source_website\n",
              "0      Afghanistan  ...  https://reliefweb.int/report/afghanistan/afgha...\n",
              "6      Afghanistan  ...  https://reliefweb.int/report/afghanistan/afgha...\n",
              "22     Afghanistan  ...  https://reliefweb.int/report/afghanistan/afgha...\n",
              "44     Afghanistan  ...  https://reliefweb.int/report/afghanistan/afgha...\n",
              "59     Afghanistan  ...  https://reliefweb.int/report/afghanistan/afgha...\n",
              "...            ...  ...                                                ...\n",
              "14989     Zimbabwe  ...  https://twitter.com/MoHCCZim/status/1388935941...\n",
              "14990     Zimbabwe  ...  https://twitter.com/MoHCCZim/status/1388935941...\n",
              "14991     Zimbabwe  ...  https://twitter.com/MoHCCZim/status/1388935941...\n",
              "14992     Zimbabwe  ...  https://twitter.com/MoHCCZim/status/1388935941...\n",
              "14993     Zimbabwe  ...  https://twitter.com/MoHCCZim/status/1388935941...\n",
              "\n",
              "[9011 rows x 15 columns]"
            ]
          },
          "metadata": {
            "tags": []
          },
          "execution_count": 10
        }
      ]
    },
    {
      "cell_type": "code",
      "metadata": {
        "id": "D6-QmeusbTIx",
        "colab": {
          "base_uri": "https://localhost:8080/"
        },
        "outputId": "229287e7-b1bd-4739-ebf2-2485cb1c026e"
      },
      "source": [
        "# Min total vaccinations of UK\n",
        "print(df[df[\"country\"] == \"United Kingdom\"][\"total_vaccinations\"].min())\n",
        "\n",
        "# Save min for including in normalisation function\n",
        "uk_total_vaccinations = round(df[df[\"country\"] == \"United Kingdom\"][\"total_vaccinations\"].min())\n",
        "print(uk_total_vaccinations)"
      ],
      "execution_count": 11,
      "outputs": [
        {
          "output_type": "stream",
          "text": [
            "1402432.0\n",
            "1402432\n"
          ],
          "name": "stdout"
        }
      ]
    },
    {
      "cell_type": "code",
      "metadata": {
        "id": "Hez8ajUJT07J"
      },
      "source": [
        "def normalise_total_vaccinations(df):\n",
        "  if df[\"total_vaccinations\"] >= uk_total_vaccinations:\n",
        "    return 1\n",
        "  else:\n",
        "    return 0\n",
        "\n",
        "df[\"total_vaccinations\"] = df.apply(normalise_total_vaccinations, axis=1)"
      ],
      "execution_count": 12,
      "outputs": []
    },
    {
      "cell_type": "code",
      "metadata": {
        "colab": {
          "base_uri": "https://localhost:8080/"
        },
        "id": "93jWXPJLUOXw",
        "outputId": "03de45bc-2543-473f-9788-03cfff30d61f"
      },
      "source": [
        "df.loc[df[\"total_vaccinations\"] == 1][\"country\"].unique()"
      ],
      "execution_count": 13,
      "outputs": [
        {
          "output_type": "execute_result",
          "data": {
            "text/plain": [
              "array(['Argentina', 'Australia', 'Austria', 'Azerbaijan', 'Bangladesh',\n",
              "       'Belgium', 'Brazil', 'Cambodia', 'Canada', 'Chile', 'China',\n",
              "       'Colombia', 'Czechia', 'Denmark', 'Dominican Republic', 'England',\n",
              "       'Finland', 'France', 'Germany', 'Greece', 'Hong Kong', 'Hungary',\n",
              "       'India', 'Indonesia', 'Ireland', 'Israel', 'Italy', 'Japan',\n",
              "       'Kazakhstan', 'Malaysia', 'Mexico', 'Morocco', 'Nepal',\n",
              "       'Netherlands', 'Norway', 'Pakistan', 'Peru', 'Philippines',\n",
              "       'Poland', 'Portugal', 'Qatar', 'Romania', 'Russia', 'Saudi Arabia',\n",
              "       'Scotland', 'Serbia', 'Singapore', 'Slovakia', 'South Korea',\n",
              "       'Spain', 'Sweden', 'Switzerland', 'Thailand', 'Turkey',\n",
              "       'United Arab Emirates', 'United Kingdom', 'United States',\n",
              "       'Uruguay', 'Wales'], dtype=object)"
            ]
          },
          "metadata": {
            "tags": []
          },
          "execution_count": 13
        }
      ]
    },
    {
      "cell_type": "markdown",
      "metadata": {
        "id": "9upnqmDO9Yko"
      },
      "source": [
        "### Challenge 4 - create new series of total vaccinations for each manufacturer\n",
        "---\n",
        "\n",
        "To create a new column in your dataframe:\n",
        "\n",
        "`df['new_column'] = ...`\n",
        "\n",
        "For example:\n",
        "\n",
        "* to duplicate an existing column\n",
        "  * `df['new_column'] = df['old_column']`\n",
        "* to add two columns together \n",
        "  * `df['new_column'] = df['column1'] + df['column2']`\n",
        "* to make a percentages column \n",
        "  * `df['new_column'] = (df['column1']/df['column1].sum()) * 100`\n",
        "\n",
        "  \n",
        "1. read data from 'by_manufacturer' sheet from Covid data \n",
        "2. find the sum of total vaccinations for each manufacturer\n",
        "3. create a new column that has the total vaccinations as a percentage of the overall sum of total vaccinations \n",
        "4. find the median percentage \n",
        "5. create a new column called 'normalised_percentages' which duplicates the percentages column\n",
        "6. normalise the normalised_percentages column so that any values greater than or equal to the median percentage = 1 and any lesser than = 0 \n",
        "\n",
        "\n",
        "**Test output**:\n",
        "\n",
        "1.\n",
        "2. \n",
        "```\n",
        "vaccine\n",
        "Johnson&Johnson        264839828\n",
        "Moderna               5548036383\n",
        "Oxford/AstraZeneca     539433203\n",
        "Pfizer/BioNTech       8690461304\n",
        "Sinovac                604660293\n",
        "Name: total_vaccinations, dtype: int64\n",
        "```\n",
        "3. \n",
        "```\n",
        "\tlocation\tdate\tvaccine\ttotal_vaccinations\tpercentages\n",
        "0\tChile\t2020-12-24\tPfizer/BioNTech\t420\t0.000003\n",
        "1\tChile\t2020-12-25\tPfizer/BioNTech\t5198\t0.000033\n",
        "2\tChile\t2020-12-26\tPfizer/BioNTech\t8338\t0.000053\n",
        "3\tChile\t2020-12-27\tPfizer/BioNTech\t8649\t0.000055\n",
        "4\tChile\t2020-12-28\tPfizer/BioNTech\t8649\t0.000055\n",
        "...\t...\t...\t...\t...\t...\n",
        "3291\tUnited States\t2021-05-01\tModerna\t105947940\t0.677095\n",
        "3292\tUnited States\t2021-05-01\tPfizer/BioNTech\t129013657\t0.824504\n",
        "3293\tUnited States\t2021-05-02\tJohnson&Johnson\t8374395\t0.053519\n",
        "3294\tUnited States\t2021-05-02\tModerna\t106780082\t0.682413\n",
        "3295\tUnited States\t2021-05-02\tPfizer/BioNTech\t130252779\t0.832423\n",
        "3296 rows × 5 columns\n",
        "```\n",
        "4. 0.0011110194374896931\n",
        "5. \n",
        "6. \n",
        "```\n",
        "\tlocation\tdate\tvaccine\ttotal_vaccinations\tpercentages\tnormalise\tnormalised\n",
        "0\tChile\t2020-12-24\tPfizer/BioNTech\t420\t0.000003\t0.000003\t0\n",
        "1\tChile\t2020-12-25\tPfizer/BioNTech\t5198\t0.000033\t0.000033\t0\n",
        "2\tChile\t2020-12-26\tPfizer/BioNTech\t8338\t0.000053\t0.000053\t0\n",
        "3\tChile\t2020-12-27\tPfizer/BioNTech\t8649\t0.000055\t0.000055\t0\n",
        "4\tChile\t2020-12-28\tPfizer/BioNTech\t8649\t0.000055\t0.000055\t0\n",
        "...\t...\t...\t...\t...\t...\t...\t...\n",
        "3291\tUnited States\t2021-05-01\tModerna\t105947940\t0.677095\t0.677095\t1\n",
        "3292\tUnited States\t2021-05-01\tPfizer/BioNTech\t129013657\t0.824504\t0.824504\t1\n",
        "3293\tUnited States\t2021-05-02\tJohnson&Johnson\t8374395\t0.053519\t0.053519\t1\n",
        "3294\tUnited States\t2021-05-02\tModerna\t106780082\t0.682413\t0.682413\t1\n",
        "3295\tUnited States\t2021-05-02\tPfizer/BioNTech\t130252779\t0.832423\t0.832423\t1\n",
        "3296 rows × 7 columns\n",
        "```\n",
        "\n"
      ]
    },
    {
      "cell_type": "code",
      "metadata": {
        "id": "SOR5I5cIbTx5",
        "colab": {
          "base_uri": "https://localhost:8080/",
          "height": 402
        },
        "outputId": "400fcc2f-e290-4f17-a212-35cd20d9af0c"
      },
      "source": [
        "df2 = pd.read_excel(url, sheet_name = \"by_manufacturer\")\n",
        "df2"
      ],
      "execution_count": 14,
      "outputs": [
        {
          "output_type": "execute_result",
          "data": {
            "text/html": [
              "<div>\n",
              "<style scoped>\n",
              "    .dataframe tbody tr th:only-of-type {\n",
              "        vertical-align: middle;\n",
              "    }\n",
              "\n",
              "    .dataframe tbody tr th {\n",
              "        vertical-align: top;\n",
              "    }\n",
              "\n",
              "    .dataframe thead th {\n",
              "        text-align: right;\n",
              "    }\n",
              "</style>\n",
              "<table border=\"1\" class=\"dataframe\">\n",
              "  <thead>\n",
              "    <tr style=\"text-align: right;\">\n",
              "      <th></th>\n",
              "      <th>location</th>\n",
              "      <th>date</th>\n",
              "      <th>vaccine</th>\n",
              "      <th>total_vaccinations</th>\n",
              "    </tr>\n",
              "  </thead>\n",
              "  <tbody>\n",
              "    <tr>\n",
              "      <th>0</th>\n",
              "      <td>Chile</td>\n",
              "      <td>2020-12-24</td>\n",
              "      <td>Pfizer/BioNTech</td>\n",
              "      <td>420</td>\n",
              "    </tr>\n",
              "    <tr>\n",
              "      <th>1</th>\n",
              "      <td>Chile</td>\n",
              "      <td>2020-12-25</td>\n",
              "      <td>Pfizer/BioNTech</td>\n",
              "      <td>5198</td>\n",
              "    </tr>\n",
              "    <tr>\n",
              "      <th>2</th>\n",
              "      <td>Chile</td>\n",
              "      <td>2020-12-26</td>\n",
              "      <td>Pfizer/BioNTech</td>\n",
              "      <td>8338</td>\n",
              "    </tr>\n",
              "    <tr>\n",
              "      <th>3</th>\n",
              "      <td>Chile</td>\n",
              "      <td>2020-12-27</td>\n",
              "      <td>Pfizer/BioNTech</td>\n",
              "      <td>8649</td>\n",
              "    </tr>\n",
              "    <tr>\n",
              "      <th>4</th>\n",
              "      <td>Chile</td>\n",
              "      <td>2020-12-28</td>\n",
              "      <td>Pfizer/BioNTech</td>\n",
              "      <td>8649</td>\n",
              "    </tr>\n",
              "    <tr>\n",
              "      <th>...</th>\n",
              "      <td>...</td>\n",
              "      <td>...</td>\n",
              "      <td>...</td>\n",
              "      <td>...</td>\n",
              "    </tr>\n",
              "    <tr>\n",
              "      <th>3291</th>\n",
              "      <td>United States</td>\n",
              "      <td>2021-05-01</td>\n",
              "      <td>Moderna</td>\n",
              "      <td>105947940</td>\n",
              "    </tr>\n",
              "    <tr>\n",
              "      <th>3292</th>\n",
              "      <td>United States</td>\n",
              "      <td>2021-05-01</td>\n",
              "      <td>Pfizer/BioNTech</td>\n",
              "      <td>129013657</td>\n",
              "    </tr>\n",
              "    <tr>\n",
              "      <th>3293</th>\n",
              "      <td>United States</td>\n",
              "      <td>2021-05-02</td>\n",
              "      <td>Johnson&amp;Johnson</td>\n",
              "      <td>8374395</td>\n",
              "    </tr>\n",
              "    <tr>\n",
              "      <th>3294</th>\n",
              "      <td>United States</td>\n",
              "      <td>2021-05-02</td>\n",
              "      <td>Moderna</td>\n",
              "      <td>106780082</td>\n",
              "    </tr>\n",
              "    <tr>\n",
              "      <th>3295</th>\n",
              "      <td>United States</td>\n",
              "      <td>2021-05-02</td>\n",
              "      <td>Pfizer/BioNTech</td>\n",
              "      <td>130252779</td>\n",
              "    </tr>\n",
              "  </tbody>\n",
              "</table>\n",
              "<p>3296 rows × 4 columns</p>\n",
              "</div>"
            ],
            "text/plain": [
              "           location       date          vaccine  total_vaccinations\n",
              "0             Chile 2020-12-24  Pfizer/BioNTech                 420\n",
              "1             Chile 2020-12-25  Pfizer/BioNTech                5198\n",
              "2             Chile 2020-12-26  Pfizer/BioNTech                8338\n",
              "3             Chile 2020-12-27  Pfizer/BioNTech                8649\n",
              "4             Chile 2020-12-28  Pfizer/BioNTech                8649\n",
              "...             ...        ...              ...                 ...\n",
              "3291  United States 2021-05-01          Moderna           105947940\n",
              "3292  United States 2021-05-01  Pfizer/BioNTech           129013657\n",
              "3293  United States 2021-05-02  Johnson&Johnson             8374395\n",
              "3294  United States 2021-05-02          Moderna           106780082\n",
              "3295  United States 2021-05-02  Pfizer/BioNTech           130252779\n",
              "\n",
              "[3296 rows x 4 columns]"
            ]
          },
          "metadata": {
            "tags": []
          },
          "execution_count": 14
        }
      ]
    },
    {
      "cell_type": "code",
      "metadata": {
        "colab": {
          "base_uri": "https://localhost:8080/"
        },
        "id": "WJiVLWkRX27S",
        "outputId": "a1d845e3-d9a4-4381-cca4-5f5fb869990a"
      },
      "source": [
        "df2.columns"
      ],
      "execution_count": 15,
      "outputs": [
        {
          "output_type": "execute_result",
          "data": {
            "text/plain": [
              "Index(['location', 'date', 'vaccine', 'total_vaccinations'], dtype='object')"
            ]
          },
          "metadata": {
            "tags": []
          },
          "execution_count": 15
        }
      ]
    },
    {
      "cell_type": "code",
      "metadata": {
        "colab": {
          "base_uri": "https://localhost:8080/"
        },
        "id": "ybPs71fEXn7k",
        "outputId": "901e63ca-d28a-43e1-8efb-a5ef79cacc8d"
      },
      "source": [
        "df2.groupby(\"vaccine\")[\"total_vaccinations\"].sum()"
      ],
      "execution_count": 16,
      "outputs": [
        {
          "output_type": "execute_result",
          "data": {
            "text/plain": [
              "vaccine\n",
              "Johnson&Johnson        264839828\n",
              "Moderna               5548036383\n",
              "Oxford/AstraZeneca     539433203\n",
              "Pfizer/BioNTech       8690461304\n",
              "Sinovac                604660293\n",
              "Name: total_vaccinations, dtype: int64"
            ]
          },
          "metadata": {
            "tags": []
          },
          "execution_count": 16
        }
      ]
    },
    {
      "cell_type": "code",
      "metadata": {
        "colab": {
          "base_uri": "https://localhost:8080/",
          "height": 402
        },
        "id": "S1QFGUSNXzFO",
        "outputId": "c4542150-f50a-4018-942a-fb904ac55726"
      },
      "source": [
        "df2[\"% of all vaccinations\"] = (df2[\"total_vaccinations\"] / df2[\"total_vaccinations\"].sum()) * 100\n",
        "df2"
      ],
      "execution_count": 17,
      "outputs": [
        {
          "output_type": "execute_result",
          "data": {
            "text/html": [
              "<div>\n",
              "<style scoped>\n",
              "    .dataframe tbody tr th:only-of-type {\n",
              "        vertical-align: middle;\n",
              "    }\n",
              "\n",
              "    .dataframe tbody tr th {\n",
              "        vertical-align: top;\n",
              "    }\n",
              "\n",
              "    .dataframe thead th {\n",
              "        text-align: right;\n",
              "    }\n",
              "</style>\n",
              "<table border=\"1\" class=\"dataframe\">\n",
              "  <thead>\n",
              "    <tr style=\"text-align: right;\">\n",
              "      <th></th>\n",
              "      <th>location</th>\n",
              "      <th>date</th>\n",
              "      <th>vaccine</th>\n",
              "      <th>total_vaccinations</th>\n",
              "      <th>% of all vaccinations</th>\n",
              "    </tr>\n",
              "  </thead>\n",
              "  <tbody>\n",
              "    <tr>\n",
              "      <th>0</th>\n",
              "      <td>Chile</td>\n",
              "      <td>2020-12-24</td>\n",
              "      <td>Pfizer/BioNTech</td>\n",
              "      <td>420</td>\n",
              "      <td>0.000003</td>\n",
              "    </tr>\n",
              "    <tr>\n",
              "      <th>1</th>\n",
              "      <td>Chile</td>\n",
              "      <td>2020-12-25</td>\n",
              "      <td>Pfizer/BioNTech</td>\n",
              "      <td>5198</td>\n",
              "      <td>0.000033</td>\n",
              "    </tr>\n",
              "    <tr>\n",
              "      <th>2</th>\n",
              "      <td>Chile</td>\n",
              "      <td>2020-12-26</td>\n",
              "      <td>Pfizer/BioNTech</td>\n",
              "      <td>8338</td>\n",
              "      <td>0.000053</td>\n",
              "    </tr>\n",
              "    <tr>\n",
              "      <th>3</th>\n",
              "      <td>Chile</td>\n",
              "      <td>2020-12-27</td>\n",
              "      <td>Pfizer/BioNTech</td>\n",
              "      <td>8649</td>\n",
              "      <td>0.000055</td>\n",
              "    </tr>\n",
              "    <tr>\n",
              "      <th>4</th>\n",
              "      <td>Chile</td>\n",
              "      <td>2020-12-28</td>\n",
              "      <td>Pfizer/BioNTech</td>\n",
              "      <td>8649</td>\n",
              "      <td>0.000055</td>\n",
              "    </tr>\n",
              "    <tr>\n",
              "      <th>...</th>\n",
              "      <td>...</td>\n",
              "      <td>...</td>\n",
              "      <td>...</td>\n",
              "      <td>...</td>\n",
              "      <td>...</td>\n",
              "    </tr>\n",
              "    <tr>\n",
              "      <th>3291</th>\n",
              "      <td>United States</td>\n",
              "      <td>2021-05-01</td>\n",
              "      <td>Moderna</td>\n",
              "      <td>105947940</td>\n",
              "      <td>0.677095</td>\n",
              "    </tr>\n",
              "    <tr>\n",
              "      <th>3292</th>\n",
              "      <td>United States</td>\n",
              "      <td>2021-05-01</td>\n",
              "      <td>Pfizer/BioNTech</td>\n",
              "      <td>129013657</td>\n",
              "      <td>0.824504</td>\n",
              "    </tr>\n",
              "    <tr>\n",
              "      <th>3293</th>\n",
              "      <td>United States</td>\n",
              "      <td>2021-05-02</td>\n",
              "      <td>Johnson&amp;Johnson</td>\n",
              "      <td>8374395</td>\n",
              "      <td>0.053519</td>\n",
              "    </tr>\n",
              "    <tr>\n",
              "      <th>3294</th>\n",
              "      <td>United States</td>\n",
              "      <td>2021-05-02</td>\n",
              "      <td>Moderna</td>\n",
              "      <td>106780082</td>\n",
              "      <td>0.682413</td>\n",
              "    </tr>\n",
              "    <tr>\n",
              "      <th>3295</th>\n",
              "      <td>United States</td>\n",
              "      <td>2021-05-02</td>\n",
              "      <td>Pfizer/BioNTech</td>\n",
              "      <td>130252779</td>\n",
              "      <td>0.832423</td>\n",
              "    </tr>\n",
              "  </tbody>\n",
              "</table>\n",
              "<p>3296 rows × 5 columns</p>\n",
              "</div>"
            ],
            "text/plain": [
              "           location       date  ... total_vaccinations  % of all vaccinations\n",
              "0             Chile 2020-12-24  ...                420               0.000003\n",
              "1             Chile 2020-12-25  ...               5198               0.000033\n",
              "2             Chile 2020-12-26  ...               8338               0.000053\n",
              "3             Chile 2020-12-27  ...               8649               0.000055\n",
              "4             Chile 2020-12-28  ...               8649               0.000055\n",
              "...             ...        ...  ...                ...                    ...\n",
              "3291  United States 2021-05-01  ...          105947940               0.677095\n",
              "3292  United States 2021-05-01  ...          129013657               0.824504\n",
              "3293  United States 2021-05-02  ...            8374395               0.053519\n",
              "3294  United States 2021-05-02  ...          106780082               0.682413\n",
              "3295  United States 2021-05-02  ...          130252779               0.832423\n",
              "\n",
              "[3296 rows x 5 columns]"
            ]
          },
          "metadata": {
            "tags": []
          },
          "execution_count": 17
        }
      ]
    },
    {
      "cell_type": "code",
      "metadata": {
        "colab": {
          "base_uri": "https://localhost:8080/"
        },
        "id": "ZKKXyXwaYayN",
        "outputId": "1a43a254-8c80-48a9-cf1b-d9bbcdadfce4"
      },
      "source": [
        "median = df2[\"% of all vaccinations\"].median()\n",
        "print(median)"
      ],
      "execution_count": 18,
      "outputs": [
        {
          "output_type": "stream",
          "text": [
            "0.0011110194374896931\n"
          ],
          "name": "stdout"
        }
      ]
    },
    {
      "cell_type": "code",
      "metadata": {
        "colab": {
          "base_uri": "https://localhost:8080/",
          "height": 402
        },
        "id": "P-DHgGlJYy27",
        "outputId": "6afcf38a-98f0-43fc-9943-5c7f5ab1569e"
      },
      "source": [
        "df2[\"normalised_percentages\"] = df2[\"% of all vaccinations\"]\n",
        "df2 # Check"
      ],
      "execution_count": 19,
      "outputs": [
        {
          "output_type": "execute_result",
          "data": {
            "text/html": [
              "<div>\n",
              "<style scoped>\n",
              "    .dataframe tbody tr th:only-of-type {\n",
              "        vertical-align: middle;\n",
              "    }\n",
              "\n",
              "    .dataframe tbody tr th {\n",
              "        vertical-align: top;\n",
              "    }\n",
              "\n",
              "    .dataframe thead th {\n",
              "        text-align: right;\n",
              "    }\n",
              "</style>\n",
              "<table border=\"1\" class=\"dataframe\">\n",
              "  <thead>\n",
              "    <tr style=\"text-align: right;\">\n",
              "      <th></th>\n",
              "      <th>location</th>\n",
              "      <th>date</th>\n",
              "      <th>vaccine</th>\n",
              "      <th>total_vaccinations</th>\n",
              "      <th>% of all vaccinations</th>\n",
              "      <th>normalised_percentages</th>\n",
              "    </tr>\n",
              "  </thead>\n",
              "  <tbody>\n",
              "    <tr>\n",
              "      <th>0</th>\n",
              "      <td>Chile</td>\n",
              "      <td>2020-12-24</td>\n",
              "      <td>Pfizer/BioNTech</td>\n",
              "      <td>420</td>\n",
              "      <td>0.000003</td>\n",
              "      <td>0.000003</td>\n",
              "    </tr>\n",
              "    <tr>\n",
              "      <th>1</th>\n",
              "      <td>Chile</td>\n",
              "      <td>2020-12-25</td>\n",
              "      <td>Pfizer/BioNTech</td>\n",
              "      <td>5198</td>\n",
              "      <td>0.000033</td>\n",
              "      <td>0.000033</td>\n",
              "    </tr>\n",
              "    <tr>\n",
              "      <th>2</th>\n",
              "      <td>Chile</td>\n",
              "      <td>2020-12-26</td>\n",
              "      <td>Pfizer/BioNTech</td>\n",
              "      <td>8338</td>\n",
              "      <td>0.000053</td>\n",
              "      <td>0.000053</td>\n",
              "    </tr>\n",
              "    <tr>\n",
              "      <th>3</th>\n",
              "      <td>Chile</td>\n",
              "      <td>2020-12-27</td>\n",
              "      <td>Pfizer/BioNTech</td>\n",
              "      <td>8649</td>\n",
              "      <td>0.000055</td>\n",
              "      <td>0.000055</td>\n",
              "    </tr>\n",
              "    <tr>\n",
              "      <th>4</th>\n",
              "      <td>Chile</td>\n",
              "      <td>2020-12-28</td>\n",
              "      <td>Pfizer/BioNTech</td>\n",
              "      <td>8649</td>\n",
              "      <td>0.000055</td>\n",
              "      <td>0.000055</td>\n",
              "    </tr>\n",
              "    <tr>\n",
              "      <th>...</th>\n",
              "      <td>...</td>\n",
              "      <td>...</td>\n",
              "      <td>...</td>\n",
              "      <td>...</td>\n",
              "      <td>...</td>\n",
              "      <td>...</td>\n",
              "    </tr>\n",
              "    <tr>\n",
              "      <th>3291</th>\n",
              "      <td>United States</td>\n",
              "      <td>2021-05-01</td>\n",
              "      <td>Moderna</td>\n",
              "      <td>105947940</td>\n",
              "      <td>0.677095</td>\n",
              "      <td>0.677095</td>\n",
              "    </tr>\n",
              "    <tr>\n",
              "      <th>3292</th>\n",
              "      <td>United States</td>\n",
              "      <td>2021-05-01</td>\n",
              "      <td>Pfizer/BioNTech</td>\n",
              "      <td>129013657</td>\n",
              "      <td>0.824504</td>\n",
              "      <td>0.824504</td>\n",
              "    </tr>\n",
              "    <tr>\n",
              "      <th>3293</th>\n",
              "      <td>United States</td>\n",
              "      <td>2021-05-02</td>\n",
              "      <td>Johnson&amp;Johnson</td>\n",
              "      <td>8374395</td>\n",
              "      <td>0.053519</td>\n",
              "      <td>0.053519</td>\n",
              "    </tr>\n",
              "    <tr>\n",
              "      <th>3294</th>\n",
              "      <td>United States</td>\n",
              "      <td>2021-05-02</td>\n",
              "      <td>Moderna</td>\n",
              "      <td>106780082</td>\n",
              "      <td>0.682413</td>\n",
              "      <td>0.682413</td>\n",
              "    </tr>\n",
              "    <tr>\n",
              "      <th>3295</th>\n",
              "      <td>United States</td>\n",
              "      <td>2021-05-02</td>\n",
              "      <td>Pfizer/BioNTech</td>\n",
              "      <td>130252779</td>\n",
              "      <td>0.832423</td>\n",
              "      <td>0.832423</td>\n",
              "    </tr>\n",
              "  </tbody>\n",
              "</table>\n",
              "<p>3296 rows × 6 columns</p>\n",
              "</div>"
            ],
            "text/plain": [
              "           location       date  ... % of all vaccinations  normalised_percentages\n",
              "0             Chile 2020-12-24  ...              0.000003                0.000003\n",
              "1             Chile 2020-12-25  ...              0.000033                0.000033\n",
              "2             Chile 2020-12-26  ...              0.000053                0.000053\n",
              "3             Chile 2020-12-27  ...              0.000055                0.000055\n",
              "4             Chile 2020-12-28  ...              0.000055                0.000055\n",
              "...             ...        ...  ...                   ...                     ...\n",
              "3291  United States 2021-05-01  ...              0.677095                0.677095\n",
              "3292  United States 2021-05-01  ...              0.824504                0.824504\n",
              "3293  United States 2021-05-02  ...              0.053519                0.053519\n",
              "3294  United States 2021-05-02  ...              0.682413                0.682413\n",
              "3295  United States 2021-05-02  ...              0.832423                0.832423\n",
              "\n",
              "[3296 rows x 6 columns]"
            ]
          },
          "metadata": {
            "tags": []
          },
          "execution_count": 19
        }
      ]
    },
    {
      "cell_type": "code",
      "metadata": {
        "id": "sMa1rJfhY57b"
      },
      "source": [
        "def normalise_percent_vaccinations(df2):\n",
        "  if df2[\"% of all vaccinations\"] >= median:\n",
        "    return 1\n",
        "  else:\n",
        "    return 0\n",
        "\n",
        "df2[\"normalised_percentages\"] = df2.apply(normalise_percent_vaccinations, axis=1)"
      ],
      "execution_count": 20,
      "outputs": []
    },
    {
      "cell_type": "code",
      "metadata": {
        "colab": {
          "base_uri": "https://localhost:8080/",
          "height": 402
        },
        "id": "xC0-5mDQZMQz",
        "outputId": "0216ddac-b087-4cb3-b8ba-0f30a6522ed9"
      },
      "source": [
        "df2"
      ],
      "execution_count": 21,
      "outputs": [
        {
          "output_type": "execute_result",
          "data": {
            "text/html": [
              "<div>\n",
              "<style scoped>\n",
              "    .dataframe tbody tr th:only-of-type {\n",
              "        vertical-align: middle;\n",
              "    }\n",
              "\n",
              "    .dataframe tbody tr th {\n",
              "        vertical-align: top;\n",
              "    }\n",
              "\n",
              "    .dataframe thead th {\n",
              "        text-align: right;\n",
              "    }\n",
              "</style>\n",
              "<table border=\"1\" class=\"dataframe\">\n",
              "  <thead>\n",
              "    <tr style=\"text-align: right;\">\n",
              "      <th></th>\n",
              "      <th>location</th>\n",
              "      <th>date</th>\n",
              "      <th>vaccine</th>\n",
              "      <th>total_vaccinations</th>\n",
              "      <th>% of all vaccinations</th>\n",
              "      <th>normalised_percentages</th>\n",
              "    </tr>\n",
              "  </thead>\n",
              "  <tbody>\n",
              "    <tr>\n",
              "      <th>0</th>\n",
              "      <td>Chile</td>\n",
              "      <td>2020-12-24</td>\n",
              "      <td>Pfizer/BioNTech</td>\n",
              "      <td>420</td>\n",
              "      <td>0.000003</td>\n",
              "      <td>0</td>\n",
              "    </tr>\n",
              "    <tr>\n",
              "      <th>1</th>\n",
              "      <td>Chile</td>\n",
              "      <td>2020-12-25</td>\n",
              "      <td>Pfizer/BioNTech</td>\n",
              "      <td>5198</td>\n",
              "      <td>0.000033</td>\n",
              "      <td>0</td>\n",
              "    </tr>\n",
              "    <tr>\n",
              "      <th>2</th>\n",
              "      <td>Chile</td>\n",
              "      <td>2020-12-26</td>\n",
              "      <td>Pfizer/BioNTech</td>\n",
              "      <td>8338</td>\n",
              "      <td>0.000053</td>\n",
              "      <td>0</td>\n",
              "    </tr>\n",
              "    <tr>\n",
              "      <th>3</th>\n",
              "      <td>Chile</td>\n",
              "      <td>2020-12-27</td>\n",
              "      <td>Pfizer/BioNTech</td>\n",
              "      <td>8649</td>\n",
              "      <td>0.000055</td>\n",
              "      <td>0</td>\n",
              "    </tr>\n",
              "    <tr>\n",
              "      <th>4</th>\n",
              "      <td>Chile</td>\n",
              "      <td>2020-12-28</td>\n",
              "      <td>Pfizer/BioNTech</td>\n",
              "      <td>8649</td>\n",
              "      <td>0.000055</td>\n",
              "      <td>0</td>\n",
              "    </tr>\n",
              "    <tr>\n",
              "      <th>...</th>\n",
              "      <td>...</td>\n",
              "      <td>...</td>\n",
              "      <td>...</td>\n",
              "      <td>...</td>\n",
              "      <td>...</td>\n",
              "      <td>...</td>\n",
              "    </tr>\n",
              "    <tr>\n",
              "      <th>3291</th>\n",
              "      <td>United States</td>\n",
              "      <td>2021-05-01</td>\n",
              "      <td>Moderna</td>\n",
              "      <td>105947940</td>\n",
              "      <td>0.677095</td>\n",
              "      <td>1</td>\n",
              "    </tr>\n",
              "    <tr>\n",
              "      <th>3292</th>\n",
              "      <td>United States</td>\n",
              "      <td>2021-05-01</td>\n",
              "      <td>Pfizer/BioNTech</td>\n",
              "      <td>129013657</td>\n",
              "      <td>0.824504</td>\n",
              "      <td>1</td>\n",
              "    </tr>\n",
              "    <tr>\n",
              "      <th>3293</th>\n",
              "      <td>United States</td>\n",
              "      <td>2021-05-02</td>\n",
              "      <td>Johnson&amp;Johnson</td>\n",
              "      <td>8374395</td>\n",
              "      <td>0.053519</td>\n",
              "      <td>1</td>\n",
              "    </tr>\n",
              "    <tr>\n",
              "      <th>3294</th>\n",
              "      <td>United States</td>\n",
              "      <td>2021-05-02</td>\n",
              "      <td>Moderna</td>\n",
              "      <td>106780082</td>\n",
              "      <td>0.682413</td>\n",
              "      <td>1</td>\n",
              "    </tr>\n",
              "    <tr>\n",
              "      <th>3295</th>\n",
              "      <td>United States</td>\n",
              "      <td>2021-05-02</td>\n",
              "      <td>Pfizer/BioNTech</td>\n",
              "      <td>130252779</td>\n",
              "      <td>0.832423</td>\n",
              "      <td>1</td>\n",
              "    </tr>\n",
              "  </tbody>\n",
              "</table>\n",
              "<p>3296 rows × 6 columns</p>\n",
              "</div>"
            ],
            "text/plain": [
              "           location       date  ... % of all vaccinations  normalised_percentages\n",
              "0             Chile 2020-12-24  ...              0.000003                       0\n",
              "1             Chile 2020-12-25  ...              0.000033                       0\n",
              "2             Chile 2020-12-26  ...              0.000053                       0\n",
              "3             Chile 2020-12-27  ...              0.000055                       0\n",
              "4             Chile 2020-12-28  ...              0.000055                       0\n",
              "...             ...        ...  ...                   ...                     ...\n",
              "3291  United States 2021-05-01  ...              0.677095                       1\n",
              "3292  United States 2021-05-01  ...              0.824504                       1\n",
              "3293  United States 2021-05-02  ...              0.053519                       1\n",
              "3294  United States 2021-05-02  ...              0.682413                       1\n",
              "3295  United States 2021-05-02  ...              0.832423                       1\n",
              "\n",
              "[3296 rows x 6 columns]"
            ]
          },
          "metadata": {
            "tags": []
          },
          "execution_count": 21
        }
      ]
    },
    {
      "cell_type": "code",
      "metadata": {
        "id": "TD0SxdRAZf4p"
      },
      "source": [
        ""
      ],
      "execution_count": 21,
      "outputs": []
    }
  ]
}