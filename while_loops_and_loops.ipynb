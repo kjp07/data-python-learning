{
  "nbformat": 4,
  "nbformat_minor": 0,
  "metadata": {
    "colab": {
      "name": "while_loops_and_loops.ipynb",
      "provenance": [],
      "collapsed_sections": [],
      "authorship_tag": "ABX9TyMScZwxgCk1Mx9oM182h3rG",
      "include_colab_link": true
    },
    "kernelspec": {
      "name": "python3",
      "display_name": "Python 3"
    },
    "language_info": {
      "name": "python"
    }
  },
  "cells": [
    {
      "cell_type": "markdown",
      "metadata": {
        "id": "view-in-github",
        "colab_type": "text"
      },
      "source": [
        "<a href=\"https://colab.research.google.com/github/kjp07/data-python-learning/blob/main/while_loops_and_loops.ipynb\" target=\"_parent\"><img src=\"https://colab.research.google.com/assets/colab-badge.svg\" alt=\"Open In Colab\"/></a>"
      ]
    },
    {
      "cell_type": "markdown",
      "metadata": {
        "id": "PKcwnk9AKBJx"
      },
      "source": [
        "### While Loops\n",
        "\n",
        "**Example 1:**"
      ]
    },
    {
      "cell_type": "code",
      "metadata": {
        "colab": {
          "base_uri": "https://localhost:8080/"
        },
        "id": "FEg0tDpKJ-RM",
        "outputId": "2aaf8dfb-06d8-4b21-9b14-21525ce59d6c"
      },
      "source": [
        "# initialise a total to 0\n",
        "# read the first number\n",
        "# add the number to the total and keep reading next number and adding to total until -1 entered\n",
        "\n",
        "def running_total():\n",
        "    total = 0\n",
        "    num = int(input(\"Enter a number, or type -1 to stop\"))\n",
        "    while num != -1:\n",
        "        total = total + num\n",
        "        num = int(input(\"Enter a number, or type -1 to stop\"))\n",
        "    print(total)\n",
        "\n",
        "running_total()"
      ],
      "execution_count": null,
      "outputs": [
        {
          "output_type": "stream",
          "text": [
            "Enter a number, or type -1 to stop-1\n",
            "0\n"
          ],
          "name": "stdout"
        }
      ]
    },
    {
      "cell_type": "markdown",
      "metadata": {
        "id": "vu4C2qTVKQjM"
      },
      "source": [
        "**Example 2:**"
      ]
    },
    {
      "cell_type": "code",
      "metadata": {
        "colab": {
          "base_uri": "https://localhost:8080/"
        },
        "id": "rkk9m10WKIuG",
        "outputId": "79f50a7d-cc31-484a-a938-a7a5072d271a"
      },
      "source": [
        "def div_by_two():\n",
        "  num = int(input(\"Enter a number to be processed:\"))\n",
        "  number_times_divided = 0\n",
        "  while num > 1:\n",
        "    number_times_divided = number_times_divided + 1\n",
        "    num = num/2\n",
        "  print(\"Your number was divided\", number_times_divided, \"times\") \n",
        "   \n",
        "div_by_two()"
      ],
      "execution_count": null,
      "outputs": [
        {
          "output_type": "stream",
          "text": [
            "Enter a number to be processed:1\n",
            "Your number was divided 0 times\n"
          ],
          "name": "stdout"
        }
      ]
    },
    {
      "cell_type": "markdown",
      "metadata": {
        "id": "md-Kn5qtKcZ5"
      },
      "source": [
        "**Example 3:**"
      ]
    },
    {
      "cell_type": "code",
      "metadata": {
        "colab": {
          "base_uri": "https://localhost:8080/"
        },
        "id": "QV6T06goKW0u",
        "outputId": "ae6bf608-4f7c-4bda-dd38-8ac6b535865c"
      },
      "source": [
        "# read a number from the user\n",
        "# check that the number is a positive integer.  If not, display error messages\n",
        "# keep reading until a positive integer is read\n",
        "\n",
        "def positive_num():\n",
        "  number = -1\n",
        "  while number < 0:\n",
        "    print(\"You must type a number above 0\")\n",
        "    number = int(input(\"Enter a positive number\"))\n",
        "  print(\"Thank you for typing the number\", number)\n",
        "\n",
        "positive_num()"
      ],
      "execution_count": null,
      "outputs": [
        {
          "output_type": "stream",
          "text": [
            "You must type a number above 0\n",
            "Enter a positive number5\n",
            "Thank you for typing the number 5\n"
          ],
          "name": "stdout"
        }
      ]
    },
    {
      "cell_type": "markdown",
      "metadata": {
        "id": "GBtCyvUgKmv4"
      },
      "source": [
        "**Exercise 1: Get a valid username**  \n",
        "Write a function called **get_username()** which will:\n",
        "\n",
        "- assign the value False to a boolean variable called **valid**\n",
        "- start a while loop that will continue to loop while valid is False\n",
        "- in the loop: ask the user to enter a **username**, if the username is \"user\" assign the value True to valid, otherwise print the message \"Incorrect user name\"\n",
        "- after the loop, display the message \"Welcome username, you will now be asked to enter your password\n",
        "\n",
        "Test input:  \n",
        "username  \n",
        "user\n",
        "\n",
        "Expected output:  \n",
        "Incorrect username  \n",
        "Welcome user you will now be asked to enter your password"
      ]
    },
    {
      "cell_type": "code",
      "metadata": {
        "colab": {
          "base_uri": "https://localhost:8080/"
        },
        "id": "1pk8NJEZKjqV",
        "outputId": "d353005b-9c91-4b65-e7b7-facc2d585958"
      },
      "source": [
        "def get_username():\n",
        "  valid = False\n",
        "  while valid == False:\n",
        "    username = str(input(\"Enter a username: \"))\n",
        "    if username == \"user\":\n",
        "      valid = True\n",
        "    else:\n",
        "      print(\"Incorrect user name\")\n",
        "  print(\"Welcome username, you will now be asked to enter your password\")\n",
        "\n",
        "get_username()"
      ],
      "execution_count": null,
      "outputs": [
        {
          "output_type": "stream",
          "text": [
            "Enter a username: user\n",
            "Welcome username, you will now be asked to enter your password\n"
          ],
          "name": "stdout"
        }
      ]
    },
    {
      "cell_type": "markdown",
      "metadata": {
        "id": "WMVUUPIZL0D-"
      },
      "source": [
        "**Exercise 2 - get a valid passcode**\n",
        "\n",
        "Write a function called **get_passcode()** which will:\n",
        "\n",
        "- assign the value False to a boolean variable called **valid**\n",
        "- start a while loop that will continue to loop while valid is False\n",
        "- in the loop: ask the user to enter a **passcode**, if the passcode is \"9876\" assign the value True to valid, otherwise print the message \"Incorrect passcode\"\n",
        "- after the loop, display the message \"Passcode accepted\"\n",
        "\n",
        "Test input:  \n",
        "1234  \n",
        "9876\n",
        "\n",
        "Expected output:  \n",
        "Incorrect passcode  \n",
        "Passcode accepted"
      ]
    },
    {
      "cell_type": "code",
      "metadata": {
        "colab": {
          "base_uri": "https://localhost:8080/"
        },
        "id": "khTrNwl7LZaO",
        "outputId": "5c2164cb-6089-4d2a-95bf-701eddb4878d"
      },
      "source": [
        "def get_passcode():\n",
        "  valid = False\n",
        "  while valid == False:\n",
        "    passcode = int(input(\"Enter a passcode: \"))\n",
        "    if passcode == 9876:\n",
        "      valid = True\n",
        "    else: \n",
        "      print(\"Incorrect passcode\")\n",
        "  print(\"Passcode accepted\")\n",
        "\n",
        "get_passcode()"
      ],
      "execution_count": null,
      "outputs": [
        {
          "output_type": "stream",
          "text": [
            "Enter a passcode: 9876\n",
            "Passcode accepted\n"
          ],
          "name": "stdout"
        }
      ]
    },
    {
      "cell_type": "markdown",
      "metadata": {
        "id": "66pP6KY2MkGX"
      },
      "source": [
        "**Exercise 3 - single digit input**\n",
        "\n",
        "Write a function called **get_digit()** which will:\n",
        "\n",
        "- assign the value False to a boolean variable called **valid_digit**\n",
        "- use a while loop to repeatedly ask the user to enter a single digit until the value they enter is less than 10\n",
        "- in the loop: ask the user to enter a **single_digit**, if the single_digit is less than 10 assign the value True to valid, otherwise print the message \"Not a digit\"\n",
        "- after the loop, display the message \"Single digit entered\"\n",
        "\n",
        "Test input:  \n",
        "10  \n",
        "9\n",
        "\n",
        "Expected output:  \n",
        "Not a digit  \n",
        "Single digit entered"
      ]
    },
    {
      "cell_type": "code",
      "metadata": {
        "colab": {
          "base_uri": "https://localhost:8080/"
        },
        "id": "2HKcBA2IMfGP",
        "outputId": "da3b34d7-46f5-4fc1-ad59-ee042e220f98"
      },
      "source": [
        "def get_digit():\n",
        "  valid_digit = False\n",
        "  while valid_digit == False:\n",
        "    single_digit = int(input(\"Enter a value less than 10: \"))\n",
        "    if single_digit < 10:\n",
        "      valid_digit = True\n",
        "    else:\n",
        "      print(\"Not a single digit\")\n",
        "  print(\"Single digit entered\")\n",
        "\n",
        "get_digit()"
      ],
      "execution_count": null,
      "outputs": [
        {
          "output_type": "stream",
          "text": [
            "Enter a value less than 10: 5\n",
            "Single digit entered\n"
          ],
          "name": "stdout"
        }
      ]
    },
    {
      "cell_type": "markdown",
      "metadata": {
        "id": "TXzq3AVqOYHu"
      },
      "source": [
        "**Exercise 4 - positive number input**\n",
        "\n",
        "Write a function called **positive_number()** which will:\n",
        "\n",
        "- ask the user to enter a **number**, the message should indicate that it must be a positive number\n",
        "- if number is not positive **(ie. less than 1)** show an error message and ask user to re-enter the number\n",
        "- when the number is positive, print the number\n",
        "\n",
        "Test input:  \n",
        "-1  \n",
        "0  \n",
        "1\n",
        "\n",
        "Expected output:  \n",
        "It must be a positive number, try again  \n",
        "It must be a positive number, try again  \n",
        "1"
      ]
    },
    {
      "cell_type": "code",
      "metadata": {
        "colab": {
          "base_uri": "https://localhost:8080/"
        },
        "id": "K-Sh8FyHNSgC",
        "outputId": "610683d1-b588-4b1c-d345-2d3cdaead2e9"
      },
      "source": [
        "def positive_number():\n",
        "  valid_number = False\n",
        "  while valid_number == False:\n",
        "    number = int(input(\"Enter a positive number: \"))\n",
        "    if number < 1:\n",
        "      print(\"Number is not positive. Try again...\")\n",
        "      valid_number = False\n",
        "    else:\n",
        "      valid_number = True\n",
        "      print(number)\n",
        "\n",
        "positive_number()"
      ],
      "execution_count": null,
      "outputs": [
        {
          "output_type": "stream",
          "text": [
            "Enter a positive number: 5\n",
            "5\n"
          ],
          "name": "stdout"
        }
      ]
    },
    {
      "cell_type": "markdown",
      "metadata": {
        "id": "3y-R5glkQAHg"
      },
      "source": [
        "**Exercise 5 - getting a number within limits**\n",
        "\n",
        "Write a function called **test_limits()** which will:\n",
        "\n",
        "- ask the user to enter a number between **1 and 31**\n",
        "- if the number entered is less than 1 or more than 31, display the error message \"Number out of limits\"\n",
        "- continue asking the user until a valid input is given\n",
        "- when a valid number is given, display the message \"Your number was number\" and end the program\n",
        "\n",
        "Test input:  \n",
        "40  \n",
        "50  \n",
        "30\n",
        "\n",
        "Expected output:  \n",
        "Number out of limits  \n",
        "Number out of limits  \n",
        "Your number was 30"
      ]
    },
    {
      "cell_type": "code",
      "metadata": {
        "colab": {
          "base_uri": "https://localhost:8080/"
        },
        "id": "fIdDxsMVPFKs",
        "outputId": "fb60ba96-5301-4b0a-ee54-1bba54ecaa43"
      },
      "source": [
        "def test_limits():\n",
        "  number_valid = False\n",
        "  while number_valid == False:\n",
        "    number = int(input(\"Enter a number between 1 and 31: \"))\n",
        "    if number < 1 or number > 31:\n",
        "      print(\"Number out of limits\")\n",
        "      number_valid = False\n",
        "    else:\n",
        "      number_valid = True\n",
        "      print(\"Your number was number\", number)\n",
        "\n",
        "test_limits()"
      ],
      "execution_count": null,
      "outputs": [
        {
          "output_type": "stream",
          "text": [
            "Enter a number between 1 and 31: 34\n",
            "Number out of limits\n",
            "Enter a number between 1 and 31: 30\n",
            "Your number was number 30\n"
          ],
          "name": "stdout"
        }
      ]
    },
    {
      "cell_type": "markdown",
      "metadata": {
        "id": "0V0lap0ZR6LD"
      },
      "source": [
        "**Exercise 6 - getting a number outside range**\n",
        "\n",
        "Write a function called **test_outlier()** which will:\n",
        "\n",
        "- ask the user to enter a number that is NOT between 40 and 50\n",
        "- if the number entered is between 40 and 50 (including both 40 and 50, display the error message \"This is not an outlier\"\n",
        "- continue asking the user until a valid number is given\n",
        "- when a valid number is given, display the message \"You have entered an outlier\" and end the program\n",
        "\n",
        "Test input:  \n",
        "34\n",
        "\n",
        "Expected output:  \n",
        "You have entered an outlier\n",
        "\n",
        "Test input:  \n",
        "44  \n",
        "50  \n",
        "40  \n",
        "34  \n",
        "\n",
        "Expected output:  \n",
        "This is not an outlier  \n",
        "This is not an outlier  \n",
        "This is not an outlier  \n",
        "You have entered an outlier  "
      ]
    },
    {
      "cell_type": "code",
      "metadata": {
        "colab": {
          "base_uri": "https://localhost:8080/"
        },
        "id": "DgqYAaNzQkqW",
        "outputId": "01a525d4-2e0e-406e-eae9-29012b600e98"
      },
      "source": [
        "def test_outlier():\n",
        "  valid = False\n",
        "  while valid == False:\n",
        "    number = int(input(\"Enter a number that is not between 40 and 50: \"))\n",
        "    if number >= 40 and number <= 50:\n",
        "      print(\"This is not an outlier\")\n",
        "      valid = False\n",
        "    else:\n",
        "      print(\"You have entered an outlier\")\n",
        "      valid = True\n",
        "\n",
        "test_outlier()"
      ],
      "execution_count": null,
      "outputs": [
        {
          "output_type": "stream",
          "text": [
            "Enter a number that is not between 40 and 50: 45\n",
            "This is not an outlier\n",
            "Enter a number that is not between 40 and 50: 42\n",
            "This is not an outlier\n",
            "Enter a number that is not between 40 and 50: 50\n",
            "This is not an outlier\n",
            "Enter a number that is not between 40 and 50: 60\n",
            "You have entered an outlier\n"
          ],
          "name": "stdout"
        }
      ]
    },
    {
      "cell_type": "markdown",
      "metadata": {
        "id": "LuWDOpIJTFCw"
      },
      "source": [
        "**Exercise 7 - multiplying a number to be greater than 20,000**\n",
        "\n",
        "Write a function called **increase_to_twenty_thousand()** that will:\n",
        "\n",
        "- ask the user to input a **number**\n",
        "- multiply given number by itself repeatedly, printing its value each time it changes, until the number has become greater (>) than 20,000\n",
        "\n",
        "Test input:  \n",
        "5\n",
        "\n",
        "Expected output:  \n",
        "5  \n",
        "25  \n",
        "125  \n",
        "625  \n",
        "3125  \n",
        "15625  \n",
        "78125  "
      ]
    },
    {
      "cell_type": "code",
      "metadata": {
        "colab": {
          "base_uri": "https://localhost:8080/"
        },
        "id": "uOPnM2ZjStW_",
        "outputId": "dac05f72-b1f0-466a-f12b-0fb079346a24"
      },
      "source": [
        "def increase_to_twenty_thousand():\n",
        "  # limit is 20,000\n",
        "  limit = 200000 \n",
        "\n",
        "  # Ask user to input a number \n",
        "  number = int(input(\"Enter a number: \"))\n",
        "\n",
        "  # while the number is less than\n",
        "  while number < limit:\n",
        "    number = number * number\n",
        "    print(number)\n",
        "\n",
        "increase_to_twenty_thousand()"
      ],
      "execution_count": null,
      "outputs": [
        {
          "output_type": "stream",
          "text": [
            "Enter a number: 5\n",
            "25\n",
            "625\n",
            "390625\n"
          ],
          "name": "stdout"
        }
      ]
    },
    {
      "cell_type": "markdown",
      "metadata": {
        "id": "6WkQ4EKS8JY_"
      },
      "source": [
        "**Exercise 8 - even and odds**\n",
        "\n",
        "Write a function called **get_even_number()** that:\n",
        "\n",
        "- asks the user to input an even number (divisible by 2)\n",
        "- if an odd number is given, display message \"That number is odd\"\n",
        "- once valid input given (even number), display message \"Thanks, that number is even\"\n",
        "\n",
        "Test input:  \n",
        "3  \n",
        "1  \n",
        "2  \n",
        "\n",
        "Expected output:  \n",
        "That number is odd  \n",
        "That number is odd  \n",
        "Thanks, that number is even"
      ]
    },
    {
      "cell_type": "code",
      "metadata": {
        "id": "-WRUglTXT4iB",
        "colab": {
          "base_uri": "https://localhost:8080/"
        },
        "outputId": "ec7835ee-3d09-47a6-dd07-f0fec4b4fa47"
      },
      "source": [
        "# Define function\n",
        "def get_even_number():\n",
        "  \n",
        "  # Set modulus to 1\n",
        "  modulus = 1 \n",
        "  \n",
        "  while modulus != 0:\n",
        "    number = int(input(\"Enter an even_number: \"))\n",
        "    # Calculate modulus to check if it's odd or even\n",
        "    modulus = number % 2\n",
        "    # Test modulus, if not 0 statement below is printed\n",
        "    if modulus != 0:\n",
        "      print(\"That number is odd\")\n",
        "  \n",
        "  if modulus == 0:\n",
        "    print(\"Thanks, that number is even\")\n",
        "\n",
        "get_even_number() "
      ],
      "execution_count": null,
      "outputs": [
        {
          "output_type": "stream",
          "text": [
            "Enter an even_number: 3\n",
            "That number is odd\n",
            "Enter an even_number: 1\n",
            "That number is odd\n",
            "Enter an even_number: 2\n",
            "Thanks, that number is even\n"
          ],
          "name": "stdout"
        }
      ]
    },
    {
      "cell_type": "markdown",
      "metadata": {
        "id": "yJSj6AtiA9Kt"
      },
      "source": [
        "**Exercise 9 - menu choice**\n",
        "\n",
        "Write a function called **show_special_numbers()** which will:\n",
        "\n",
        "- display the following menu\n",
        "\n",
        "*What value would you like to see?*\n",
        "\n",
        "1. Pi\n",
        "2. Plank’s constant\n",
        "3. E\n",
        "4. Square root of 2\n",
        "5. Quit the program\n",
        "- ask the user to input which value they would like to see by typing a number between 1 - 5\n",
        "- read and process the choice while the user selects anything other than 5 (Quit the program)\n",
        "\n",
        "To process the choice:\n",
        "\n",
        "- if the number is 1 - print 3.14159265359\n",
        "- if the number is 2 - print 6.62607004 × 10-34 (in Python this would be written 6.62607004E-34\n",
        "- if the number is 3 - print 2.71828\n",
        "- if the number is 4 - print 1.414\n",
        "- if the number is 5 - print the message (\"Thank you for using this program\")\n",
        "- if the number is anything else - print \"Invalid choice\"\n",
        "\n",
        "The program will print the message associated with the menu choice and will then display the menu again and ask the user to select a choice.\n",
        "\n",
        "When the user enters 5, the program should stop repeating.\n",
        "\n",
        "Test input:  \n",
        "1  \n",
        "4  \n",
        "6  \n",
        "5  \n",
        "\n",
        "Expected output:  \n",
        "3.14159265359  \n",
        "1.414  \n",
        "Invalid choice  \n",
        "Thank you for using this program"
      ]
    },
    {
      "cell_type": "code",
      "metadata": {
        "colab": {
          "base_uri": "https://localhost:8080/"
        },
        "id": "Nn0X32FZBTVX",
        "outputId": "a2cd4dd0-f8c1-458e-b09a-6489d321eb15"
      },
      "source": [
        "def show_special_numbers():\n",
        "  \n",
        "  # Define and print menu\n",
        "  menu = \"\"\"What would you like to see?\n",
        "  1. Pi\n",
        "  2. Plank’s constant\n",
        "  3. E\n",
        "  4. Square root of 2\n",
        "  5. Quit the program\"\"\"\n",
        "  \n",
        "  # Set value\n",
        "  value = 6\n",
        "\n",
        "  # Set up while loop \n",
        "  while value != 5:\n",
        "    print(menu)\n",
        "    value = int(input(\"Enter a number between 1 and 5: \"))\n",
        "    if value == 1:\n",
        "      print(\"3.14159265359\")\n",
        "    elif value == 2:\n",
        "      print(\"6.62607004E-34\")\n",
        "    elif value == 3:\n",
        "      print(\"2.71828\")\n",
        "    elif value == 4:\n",
        "      print(\"1.414\")\n",
        "    else:\n",
        "      print(\"Invalid number entered\")\n",
        "  if value == 5:\n",
        "    print(\"Thank you for using this program\")\n",
        "\n",
        "show_special_numbers()"
      ],
      "execution_count": null,
      "outputs": [
        {
          "output_type": "stream",
          "text": [
            "What would you like to see?\n",
            "  1. Pi\n",
            "  2. Plank’s constant\n",
            "  3. E\n",
            "  4. Square root of 2\n",
            "  5. Quit the program\n",
            "Enter a number between 1 and 5: 1\n",
            "3.14159265359\n",
            "What would you like to see?\n",
            "  1. Pi\n",
            "  2. Plank’s constant\n",
            "  3. E\n",
            "  4. Square root of 2\n",
            "  5. Quit the program\n",
            "Enter a number between 1 and 5: 2\n",
            "6.62607004E-34\n",
            "What would you like to see?\n",
            "  1. Pi\n",
            "  2. Plank’s constant\n",
            "  3. E\n",
            "  4. Square root of 2\n",
            "  5. Quit the program\n",
            "Enter a number between 1 and 5: 3\n",
            "2.71828\n",
            "What would you like to see?\n",
            "  1. Pi\n",
            "  2. Plank’s constant\n",
            "  3. E\n",
            "  4. Square root of 2\n",
            "  5. Quit the program\n",
            "Enter a number between 1 and 5: 4\n",
            "1.414\n",
            "What would you like to see?\n",
            "  1. Pi\n",
            "  2. Plank’s constant\n",
            "  3. E\n",
            "  4. Square root of 2\n",
            "  5. Quit the program\n",
            "Enter a number between 1 and 5: 6\n",
            "Invalid number entered\n",
            "What would you like to see?\n",
            "  1. Pi\n",
            "  2. Plank’s constant\n",
            "  3. E\n",
            "  4. Square root of 2\n",
            "  5. Quit the program\n",
            "Enter a number between 1 and 5: 5\n",
            "Invalid number entered\n",
            "Thank you for using this program\n"
          ],
          "name": "stdout"
        }
      ]
    },
    {
      "cell_type": "markdown",
      "metadata": {
        "id": "iqynumu8mLlD"
      },
      "source": [
        "**Exercise 10 - Guess the number**\n",
        "\n",
        "Write a function called **guess_number(number)** which will:\n",
        "\n",
        "Ask the user to guess the number within 6 attempts.\n",
        "\n",
        "The function will be given a random number (called number) and should use a while loop that will continue while the user has not guessed correctly and has had less than 6 attempts (don't forget to set the number of attempts to 0 before the loop and increment it every time a guess is made).\n",
        "\n",
        "In the loop:\n",
        "\n",
        "- ask the user to enter a **guess**\n",
        "- if the guess is greater than the number print \"Too high\", if less than the number - print \"Too low\" or if correct print \"You guessed it\"\n",
        "count the attempt\n",
        "\n",
        "After the loop if the maximum attempts has been reached, print \"Too many attempts\""
      ]
    },
    {
      "cell_type": "code",
      "metadata": {
        "colab": {
          "base_uri": "https://localhost:8080/"
        },
        "id": "RlIqzspimKr9",
        "outputId": "42d5674c-1940-472a-d8f8-2a996cb9418c"
      },
      "source": [
        "from random import randint\n",
        "\n",
        "def guess_number(number):\n",
        "  \n",
        "  # Initial variables\n",
        "  guess = \" \"\n",
        "  attempts = 0\n",
        "\n",
        "  while guess != number and attempts < 6: # While these statements are True, perform the following\n",
        "    guess = int(input(\"Guess the number: \"))\n",
        "    attempts = attempts + 1\n",
        "    if guess > number:\n",
        "      print(\"Too high!\")\n",
        "    elif guess < number:\n",
        "      print(\"Too low!\")\n",
        "  if attempts == 6:\n",
        "    print(\"Too many attempts\")\n",
        "  else:\n",
        "    print(\"You guess it!\")\n",
        "\n",
        "guess_number(randint(1,50))"
      ],
      "execution_count": null,
      "outputs": [
        {
          "output_type": "stream",
          "text": [
            "Guess the number: 10\n",
            "Too high!\n",
            "Guess the number: 5\n",
            "Too low!\n",
            "Guess the number: 8\n",
            "Too high!\n",
            "Guess the number: 7\n",
            "You guess it!\n"
          ],
          "name": "stdout"
        }
      ]
    },
    {
      "cell_type": "markdown",
      "metadata": {
        "id": "fwfFh7QPZlGD"
      },
      "source": [
        "### **For Loops**\n",
        "\n",
        "For loops will repeat the loop for a set number of times.\n",
        "\n",
        "**Example 1:**"
      ]
    },
    {
      "cell_type": "code",
      "metadata": {
        "colab": {
          "base_uri": "https://localhost:8080/"
        },
        "id": "lOrNKC-HZkH_",
        "outputId": "29310a6c-8d2d-46fe-ad6c-77f8f513f8b3"
      },
      "source": [
        "# initialise a total so that it starts at 0\n",
        "# read 10 numbers from the keyboard and keep a running total\n",
        "# print the total\n",
        "\n",
        "def read_ten_nums():\n",
        "  total = 0\n",
        "  for i in range(10):\n",
        "    num = int(input(\"Enter a number\"))\n",
        "    total = total + num\n",
        "  print(total)\n",
        "\n",
        "read_ten_nums()"
      ],
      "execution_count": null,
      "outputs": [
        {
          "output_type": "stream",
          "text": [
            "Enter a number5\n",
            "Enter a number6\n",
            "Enter a number7\n",
            "Enter a number12\n",
            "Enter a number0\n",
            "Enter a number1\n",
            "Enter a number3\n",
            "Enter a number5\n",
            "Enter a number87\n",
            "Enter a number64\n",
            "190\n"
          ],
          "name": "stdout"
        }
      ]
    },
    {
      "cell_type": "markdown",
      "metadata": {
        "id": "QMQY-fDnaSZ7"
      },
      "source": [
        "**Example 2:**\n",
        "The loop below will print each letter in the word until all letters have been printed:"
      ]
    },
    {
      "cell_type": "code",
      "metadata": {
        "colab": {
          "base_uri": "https://localhost:8080/"
        },
        "id": "qDxvHk7raA_-",
        "outputId": "f83cce7e-07c2-4704-e86b-46efcb4aa219"
      },
      "source": [
        "def print_characters():\n",
        "  word = \"learning\"\n",
        "  for letter in word:\n",
        "    print(letter)\n",
        "print_characters()"
      ],
      "execution_count": null,
      "outputs": [
        {
          "output_type": "stream",
          "text": [
            "l\n",
            "e\n",
            "a\n",
            "r\n",
            "n\n",
            "i\n",
            "n\n",
            "g\n"
          ],
          "name": "stdout"
        }
      ]
    },
    {
      "cell_type": "markdown",
      "metadata": {
        "id": "xFfZGa8NaixT"
      },
      "source": [
        "#### **Using the range() function**\n",
        "**Example 1:** this for loops prints all the numbers up to 5"
      ]
    },
    {
      "cell_type": "code",
      "metadata": {
        "colab": {
          "base_uri": "https://localhost:8080/"
        },
        "id": "njdPgysNZxmU",
        "outputId": "6a7deb35-7ba6-45ee-f321-3abd99bec301"
      },
      "source": [
        "def show_range():\n",
        "  for i in range(6):\n",
        "    print(i)\n",
        "    \n",
        "show_range()"
      ],
      "execution_count": null,
      "outputs": [
        {
          "output_type": "stream",
          "text": [
            "0\n",
            "1\n",
            "2\n",
            "3\n",
            "4\n",
            "5\n"
          ],
          "name": "stdout"
        }
      ]
    },
    {
      "cell_type": "markdown",
      "metadata": {
        "id": "1XjgrS8Za87H"
      },
      "source": [
        "**Example 2:** this for loop prints all numbers in range 1 to 5"
      ]
    },
    {
      "cell_type": "code",
      "metadata": {
        "colab": {
          "base_uri": "https://localhost:8080/"
        },
        "id": "Sbsk11tKavCZ",
        "outputId": "c190d820-0bed-466d-ec77-45fef879e0c5"
      },
      "source": [
        "def show_range():\n",
        "  for i in range(1, 6):\n",
        "    print(i)\n",
        "\n",
        "show_range()"
      ],
      "execution_count": null,
      "outputs": [
        {
          "output_type": "stream",
          "text": [
            "1\n",
            "2\n",
            "3\n",
            "4\n",
            "5\n"
          ],
          "name": "stdout"
        }
      ]
    },
    {
      "cell_type": "markdown",
      "metadata": {
        "id": "3QveRI8SbOYm"
      },
      "source": [
        "**Example 3:** using steps to print the even numbers up to 10"
      ]
    },
    {
      "cell_type": "code",
      "metadata": {
        "colab": {
          "base_uri": "https://localhost:8080/"
        },
        "id": "hb4tUItRbNwr",
        "outputId": "5c2c0888-dfc6-40fe-a532-d6502299fdd7"
      },
      "source": [
        "for i in range(2, 11, 2):\n",
        "  print(i)"
      ],
      "execution_count": null,
      "outputs": [
        {
          "output_type": "stream",
          "text": [
            "2\n",
            "4\n",
            "6\n",
            "8\n",
            "10\n"
          ],
          "name": "stdout"
        }
      ]
    },
    {
      "cell_type": "markdown",
      "metadata": {
        "id": "PKse9OECbeIE"
      },
      "source": [
        "**Example 4:** using steps to print all multiples of 5 from 5 to 50 (starting with the first multiple)"
      ]
    },
    {
      "cell_type": "code",
      "metadata": {
        "colab": {
          "base_uri": "https://localhost:8080/"
        },
        "id": "nrLsAl3ybHEh",
        "outputId": "8cd80b6b-eb3f-49ea-f7c8-268539fd4eb4"
      },
      "source": [
        "for i in range(5, 51, 5):\n",
        "  print(i)"
      ],
      "execution_count": null,
      "outputs": [
        {
          "output_type": "stream",
          "text": [
            "5\n",
            "10\n",
            "15\n",
            "20\n",
            "25\n",
            "30\n",
            "35\n",
            "40\n",
            "45\n",
            "50\n"
          ],
          "name": "stdout"
        }
      ]
    },
    {
      "cell_type": "markdown",
      "metadata": {
        "id": "P-JPw5t7bs2f"
      },
      "source": [
        "**Example 5:** using steps to reverse direction of counting"
      ]
    },
    {
      "cell_type": "code",
      "metadata": {
        "colab": {
          "base_uri": "https://localhost:8080/"
        },
        "id": "CPx9Tf7SbpdD",
        "outputId": "e90c46b7-7201-4e45-fcfc-6208ff1ef9a0"
      },
      "source": [
        "# Counts back from 10 and prints each value (i)\n",
        "for i in range(10, 0, -1):\n",
        "  print(i)"
      ],
      "execution_count": null,
      "outputs": [
        {
          "output_type": "stream",
          "text": [
            "10\n",
            "9\n",
            "8\n",
            "7\n",
            "6\n",
            "5\n",
            "4\n",
            "3\n",
            "2\n",
            "1\n"
          ],
          "name": "stdout"
        }
      ]
    },
    {
      "cell_type": "markdown",
      "metadata": {
        "id": "uAEknguab6zB"
      },
      "source": [
        "### **Exercises**\n",
        "**Exercise 1 - number list**\n",
        "\n",
        "Write a function called **list_number()** which will:\n",
        "- print all the whole numbers up to 9\n",
        "\n",
        "Expected output:  \n",
        "0  \n",
        "1  \n",
        "2  \n",
        "3  \n",
        "4  \n",
        "5  \n",
        "6  \n",
        "7  \n",
        "8  \n",
        "9  "
      ]
    },
    {
      "cell_type": "code",
      "metadata": {
        "colab": {
          "base_uri": "https://localhost:8080/"
        },
        "id": "uk77WZCfb0iJ",
        "outputId": "34d10521-4f61-497b-bafb-02505dad9a1e"
      },
      "source": [
        "def list_number():\n",
        "  # Set range to go up 9 (starts at 0)\n",
        "  for i in range(10):\n",
        "    print(i)\n",
        "\n",
        "list_number()"
      ],
      "execution_count": null,
      "outputs": [
        {
          "output_type": "stream",
          "text": [
            "0\n",
            "1\n",
            "2\n",
            "3\n",
            "4\n",
            "5\n",
            "6\n",
            "7\n",
            "8\n",
            "9\n"
          ],
          "name": "stdout"
        }
      ]
    },
    {
      "cell_type": "markdown",
      "metadata": {
        "id": "uiyAPCrXcgEK"
      },
      "source": [
        "**Exercise 2 - list number range**\n",
        "\n",
        "Write a function called **list_number_range()** which will:\n",
        "- print the numbers between 5 and 15 (including both)\n",
        "\n",
        "Expected output:  \n",
        "5  \n",
        "6  \n",
        "7  \n",
        "8  \n",
        "9  \n",
        "10  \n",
        "11  \n",
        "12  \n",
        "13  \n",
        "14  \n",
        "15"
      ]
    },
    {
      "cell_type": "code",
      "metadata": {
        "colab": {
          "base_uri": "https://localhost:8080/"
        },
        "id": "WbktXh8hcXTO",
        "outputId": "4f66071b-3170-4680-9b73-ad7e9f300db4"
      },
      "source": [
        "def list_number_range():\n",
        "  for n in range(5, 16):\n",
        "    print(n)\n",
        "\n",
        "list_number_range()"
      ],
      "execution_count": null,
      "outputs": [
        {
          "output_type": "stream",
          "text": [
            "5\n",
            "6\n",
            "7\n",
            "8\n",
            "9\n",
            "10\n",
            "11\n",
            "12\n",
            "13\n",
            "14\n",
            "15\n"
          ],
          "name": "stdout"
        }
      ]
    },
    {
      "cell_type": "markdown",
      "metadata": {
        "id": "AsGdQ5xcdI_R"
      },
      "source": [
        "**Exercise 3 - list evens**\n",
        "\n",
        "Write a function called **list_evens()** which will:\n",
        "- print the even numbers from 2 to 20\n",
        "\n",
        "Expected output:  \n",
        "2  \n",
        "4  \n",
        "6  \n",
        "8  \n",
        "10  \n",
        "12  \n",
        "14  \n",
        "16  \n",
        "18  \n",
        "20  "
      ]
    },
    {
      "cell_type": "code",
      "metadata": {
        "colab": {
          "base_uri": "https://localhost:8080/"
        },
        "id": "TBbxpk-zdA7N",
        "outputId": "2233156a-b151-4bf2-b60c-2431fdd85886"
      },
      "source": [
        "def list_evens():\n",
        "  # Define range\n",
        "  for n in range(1, 21):\n",
        "    # Test if n is even or odd using modulus\n",
        "    if n % 2 == 0:  \n",
        "      print(n)\n",
        "\n",
        "list_evens()"
      ],
      "execution_count": null,
      "outputs": [
        {
          "output_type": "stream",
          "text": [
            "2\n",
            "4\n",
            "6\n",
            "8\n",
            "10\n",
            "12\n",
            "14\n",
            "16\n",
            "18\n",
            "20\n"
          ],
          "name": "stdout"
        }
      ]
    },
    {
      "cell_type": "markdown",
      "metadata": {
        "id": "Kpc8y8ihd8B_"
      },
      "source": [
        "**Exercise 4 - list multiples**\n",
        "\n",
        "Write a function called **list_multiples()** which will:\n",
        "- list the multiples of 3 fromo 3 to 36\n",
        "\n",
        "Expected output:  \n",
        "3  \n",
        "6  \n",
        "9  \n",
        "12  \n",
        "15  \n",
        "18  \n",
        "21  \n",
        "24  \n",
        "27  \n",
        "30  \n",
        "33  \n",
        "36  "
      ]
    },
    {
      "cell_type": "code",
      "metadata": {
        "colab": {
          "base_uri": "https://localhost:8080/"
        },
        "id": "dWsloRoDdlep",
        "outputId": "4203e275-68fe-484a-b036-b5e86e4a3d56"
      },
      "source": [
        "def list_multiples():\n",
        "  # Define range\n",
        "  for n in range(2, 37):\n",
        "    # Test if multiple of three using modulus\n",
        "    if n % 3 == 0:\n",
        "      print(n)\n",
        "\n",
        "list_multiples()"
      ],
      "execution_count": null,
      "outputs": [
        {
          "output_type": "stream",
          "text": [
            "3\n",
            "6\n",
            "9\n",
            "12\n",
            "15\n",
            "18\n",
            "21\n",
            "24\n",
            "27\n",
            "30\n",
            "33\n",
            "36\n"
          ],
          "name": "stdout"
        }
      ]
    },
    {
      "cell_type": "markdown",
      "metadata": {
        "id": "5PxeC1vZfA77"
      },
      "source": [
        "**Exercise 5 - reverse list**\n",
        "\n",
        "Write a function called **list_reverse()** which will:\n",
        "- print the numbers 5 to 15 in reverse\n",
        "\n",
        "Expected output:  \n",
        "15  \n",
        "14  \n",
        "13  \n",
        "12  \n",
        "11  \n",
        "10  \n",
        "9  \n",
        "8  \n",
        "7  \n",
        "6  \n",
        "5"
      ]
    },
    {
      "cell_type": "code",
      "metadata": {
        "colab": {
          "base_uri": "https://localhost:8080/"
        },
        "id": "b3irZ_WVeyfn",
        "outputId": "05f76a8f-dc20-4810-f7bb-a20fcd0a5e43"
      },
      "source": [
        "def list_reverse():\n",
        "  for n in range(15, 4, -1):\n",
        "    print(n)\n",
        "\n",
        "list_reverse()"
      ],
      "execution_count": null,
      "outputs": [
        {
          "output_type": "stream",
          "text": [
            "15\n",
            "14\n",
            "13\n",
            "12\n",
            "11\n",
            "10\n",
            "9\n",
            "8\n",
            "7\n",
            "6\n",
            "5\n"
          ],
          "name": "stdout"
        }
      ]
    },
    {
      "cell_type": "markdown",
      "metadata": {
        "id": "VUUWRo8gfh4h"
      },
      "source": [
        "**Exercise 6 - sum of range**\n",
        "\n",
        "Write the function **calculate_sum_of()** which will:\n",
        "\n",
        "- set a total to 0\n",
        "- use the `range()` function for all the numbers between 1 - 15, adding each onto a total in the for `loop`\n",
        "- print the `total`\n",
        "\n",
        "Expected output():  \n",
        "120"
      ]
    },
    {
      "cell_type": "code",
      "metadata": {
        "colab": {
          "base_uri": "https://localhost:8080/"
        },
        "id": "0M7tSqs3fYI5",
        "outputId": "17b24197-df0e-41a0-e3e8-81e710a46696"
      },
      "source": [
        "def calculate_sum_of():\n",
        "  # Set total to 0 as starting point\n",
        "  total = 0\n",
        "  # Define range\n",
        "  for n in range(1, 16):\n",
        "    # For each n in range, add to total\n",
        "    total += n\n",
        "  print(total)\n",
        "\n",
        "calculate_sum_of()"
      ],
      "execution_count": null,
      "outputs": [
        {
          "output_type": "stream",
          "text": [
            "120\n"
          ],
          "name": "stdout"
        }
      ]
    },
    {
      "cell_type": "markdown",
      "metadata": {
        "id": "w7VjeA9bgZTK"
      },
      "source": [
        "**Exercise 7 - calculating the average of 5 numbers**\n",
        "\n",
        "Write a function called **average()** which will:\n",
        "- set a total of 0\n",
        "- ask the user to enter a number 5 times, using a `for loop` with a range and adding the numbers to the `total` as the loop continues\n",
        "- calculate the **average** of the 5 numbers\n",
        "- print the `total` and `average`\n",
        "\n",
        "Test input:  \n",
        "1  \n",
        "2  \n",
        "3  \n",
        "4  \n",
        "5\n",
        "\n",
        "Expected outcome:  \n",
        "3"
      ]
    },
    {
      "cell_type": "code",
      "metadata": {
        "colab": {
          "base_uri": "https://localhost:8080/"
        },
        "id": "yC_nGJHkgEsQ",
        "outputId": "8223e2ab-ae24-4a4f-b262-535589f1f90f"
      },
      "source": [
        "def average():\n",
        "  # Set total to 0\n",
        "  total = 0\n",
        "  # Cap the number of times numbers can be entered\n",
        "  entries = 5\n",
        "  # Set range to entries\n",
        "  for number in range(entries):\n",
        "    # Ask user to enter numbers \n",
        "    number = int(input(\"Enter a number: \"))\n",
        "    # For each number, add and save into total\n",
        "    total += number\n",
        "    # Calculate average using total and number of entries\n",
        "    average = int(total / entries)\n",
        "  # Print total and average\n",
        "  print(\"Total is:\", total)\n",
        "  print(\"Average is\", average)\n",
        "\n",
        "average()"
      ],
      "execution_count": null,
      "outputs": [
        {
          "output_type": "stream",
          "text": [
            "Enter a number: 1\n",
            "Enter a number: 2\n",
            "Enter a number: 3\n",
            "Enter a number: 4\n",
            "Enter a number: 5\n",
            "Total is: 15\n",
            "Average is 3\n"
          ],
          "name": "stdout"
        }
      ]
    },
    {
      "cell_type": "markdown",
      "metadata": {
        "id": "JYGqx8T2jEAT"
      },
      "source": [
        "**Exercise 8 - calculating times table**\n",
        "\n",
        "Write a function called **display_times_table()** which will:\n",
        "\n",
        "- ask the user to input a **number**\n",
        "- use a for loop and the range() function to calculate the first ten multiples of that number and print a times table entry as shown below\n",
        "\n",
        "Test Input:  \n",
        "4\n",
        "\n",
        "Expected output:  \n",
        "1 x 4 = 4  \n",
        "2 x 4 = 8  \n",
        "3 x 4 = 12  \n",
        "4 x 4 = 16  \n",
        "5 x 4 = 20  \n",
        "6 x 4 = 24  \n",
        "7 x 4 = 28  \n",
        "8 x 4 = 32  \n",
        "9 x 4 = 36  \n",
        "10 x 4 = 40  "
      ]
    },
    {
      "cell_type": "code",
      "metadata": {
        "colab": {
          "base_uri": "https://localhost:8080/"
        },
        "id": "Vc99fe2Jhtbs",
        "outputId": "09436d5c-9408-4465-bd25-0cd6ad7055c3"
      },
      "source": [
        "def display_times_tables():\n",
        "  # Ask for number first\n",
        "  number = int(input(\"Enter a number: \"))\n",
        "  # Define range\n",
        "  for i in range(1, 11):\n",
        "    # Print statement with calculation\n",
        "    print(number, \"x\", i, \"=\", number * i)\n",
        "\n",
        "display_times_tables()\n",
        "\n",
        "# If the input is placed in the for loop, \n",
        "# the question will be asked for each number in the range"
      ],
      "execution_count": null,
      "outputs": [
        {
          "output_type": "stream",
          "text": [
            "Enter a number: 4\n",
            "4 x 1 = 4\n",
            "4 x 2 = 8\n",
            "4 x 3 = 12\n",
            "4 x 4 = 16\n",
            "4 x 5 = 20\n",
            "4 x 6 = 24\n",
            "4 x 7 = 28\n",
            "4 x 8 = 32\n",
            "4 x 9 = 36\n",
            "4 x 10 = 40\n"
          ],
          "name": "stdout"
        }
      ]
    },
    {
      "cell_type": "markdown",
      "metadata": {
        "id": "JPnwmQfNjYwD"
      },
      "source": [
        "**Exercise 9 - counting down numbers in reverse**\n",
        "\n",
        "Write a function called **countdown()** which will:\n",
        "\n",
        "- ask the user to input a number\n",
        "- prints numbers in a countdown starting at number, decreasing by 1 each time round the loop and finishing at 1\n",
        "- after the loop, print (\"GO\")\n",
        "\n",
        "Test Input:  \n",
        "9\n",
        "\n",
        "Expected output:  \n",
        "9  \n",
        "8  \n",
        "7  \n",
        "6  \n",
        "5  \n",
        "4  \n",
        "3  \n",
        "2  \n",
        "1  \n",
        "GO  "
      ]
    },
    {
      "cell_type": "code",
      "metadata": {
        "id": "g8_lp99Ch3F-",
        "colab": {
          "base_uri": "https://localhost:8080/"
        },
        "outputId": "168cd3de-1103-49fb-9164-487232ad5170"
      },
      "source": [
        "def countdown():\n",
        "  # Ask user for number\n",
        "  number = int(input(\"Enter a number: \"))\n",
        "  # For each number in range, subtract 1\n",
        "  for i in range(number, 0, -1):\n",
        "    # Print each resulting number\n",
        "    print(i)\n",
        "  # Print GO once all numbers have gone through the loop\n",
        "  print(\"GO\")\n",
        "\n",
        "countdown()\n"
      ],
      "execution_count": null,
      "outputs": [
        {
          "output_type": "stream",
          "text": [
            "Enter a number: 10\n",
            "10\n",
            "9\n",
            "8\n",
            "7\n",
            "6\n",
            "5\n",
            "4\n",
            "3\n",
            "2\n",
            "1\n",
            "GO\n"
          ],
          "name": "stdout"
        }
      ]
    },
    {
      "cell_type": "markdown",
      "metadata": {
        "id": "JJltyn-lkpF2"
      },
      "source": [
        "**Exercise 5 - finding numbers multiples of 3 and multiples of 10 between 500 and 1500**\n",
        "\n",
        "Write a function called **find_multiples()** which will find numbers between 500 - 1500 which are multiples of 3 or multiples of 10:\n",
        "\n",
        "- use a for loop and the range() function\n",
        "- use an if statment to determine if a number is a multiple of 3 (number % 3 is 0) or a multiple of 10 (calculated the same way). If the number is a multiple of 3 or 10, print it.\n",
        "\n",
        "Expected output:  \n",
        "510  \n",
        "540  \n",
        "570  \n",
        "600  \n",
        "630  \n",
        "660  \n",
        "690  \n",
        "720  \n",
        "750  \n",
        "780  \n",
        "810  \n",
        "840  \n",
        "870  \n",
        "900  \n",
        "930  \n",
        "960  \n",
        "990  \n",
        "1020  \n",
        "1050  \n",
        "1080  \n",
        "1110  \n",
        "1140  \n",
        "1170  \n",
        "1200  \n",
        "1230  \n",
        "1260  \n",
        "1290  \n",
        "1320  \n",
        "1350  \n",
        "1380  \n",
        "1410  \n",
        "1440  \n",
        "1470"
      ]
    },
    {
      "cell_type": "code",
      "metadata": {
        "colab": {
          "base_uri": "https://localhost:8080/"
        },
        "id": "MvBqnKDjj46D",
        "outputId": "3d327d12-7d18-4343-9829-01920aef2eba"
      },
      "source": [
        "def find_multiples():\n",
        "  # Set up loop and define range\n",
        "  for i in range(500, 1500):\n",
        "    # Set up if to check if a multiple of 3 and 10\n",
        "    if i % 3 == 0 and i % 10 == 0:\n",
        "      print(i)\n",
        "\n",
        "find_multiples()\n",
        "\n",
        "# If an \"or\" operator is used instead of \"and\", numbers which are multiples of 3 or 10 are returned\n"
      ],
      "execution_count": 1,
      "outputs": [
        {
          "output_type": "stream",
          "text": [
            "510\n",
            "540\n",
            "570\n",
            "600\n",
            "630\n",
            "660\n",
            "690\n",
            "720\n",
            "750\n",
            "780\n",
            "810\n",
            "840\n",
            "870\n",
            "900\n",
            "930\n",
            "960\n",
            "990\n",
            "1020\n",
            "1050\n",
            "1080\n",
            "1110\n",
            "1140\n",
            "1170\n",
            "1200\n",
            "1230\n",
            "1260\n",
            "1290\n",
            "1320\n",
            "1350\n",
            "1380\n",
            "1410\n",
            "1440\n",
            "1470\n"
          ],
          "name": "stdout"
        }
      ]
    },
    {
      "cell_type": "code",
      "metadata": {
        "id": "LcTka06llT6i"
      },
      "source": [
        ""
      ],
      "execution_count": null,
      "outputs": []
    }
  ]
}