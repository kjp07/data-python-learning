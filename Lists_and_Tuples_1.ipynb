{
  "nbformat": 4,
  "nbformat_minor": 0,
  "metadata": {
    "colab": {
      "name": "Lists and Tuples 1.ipynb",
      "provenance": [],
      "collapsed_sections": [],
      "include_colab_link": true
    },
    "kernelspec": {
      "name": "python3",
      "display_name": "Python 3"
    },
    "language_info": {
      "name": "python"
    }
  },
  "cells": [
    {
      "cell_type": "markdown",
      "metadata": {
        "id": "view-in-github",
        "colab_type": "text"
      },
      "source": [
        "<a href=\"https://colab.research.google.com/github/kjp07/data-python-learning/blob/main/Lists_and_Tuples_1.ipynb\" target=\"_parent\"><img src=\"https://colab.research.google.com/assets/colab-badge.svg\" alt=\"Open In Colab\"/></a>"
      ]
    },
    {
      "cell_type": "markdown",
      "metadata": {
        "id": "Z-M-RCWATK71"
      },
      "source": [
        "# Lists and tuples\n",
        "\n",
        "Often we need to store a number of single items of data together so that they can be processed together. This might be because all the data refers to one person (e.g. name, age, gender, etc) OR it might be because we have a set of data (e.g. all the items that should be displayed in a drop down list, such as all the years from this year back to 100 years ago so that someone can select their year of birth)\n",
        "\n",
        "Python has a range of data structures available including:\n",
        "*   lists  \n",
        "*   tuples  \n",
        "*   dictionaries  \n",
        "*   sets\n",
        "\n",
        "This worksheet looks at lists and tuples.\n",
        "\n",
        "## List\n",
        "A list is a set of related, individual data objects, that are indexed and can be processed as a whole, as subsets or as individual items.  Lists are stored, essentially, as contiguous items in memory so that access can be as quick as possible.  However, they are mutable (they can be changed after they are created and stored) and so those mechanisms need to include extra functionality to deal with changing list sizes.\n",
        "\n",
        "## Tuple\n",
        "Essentially the same as a list but it is immutable.  Once it has been created it can't be changed.  It is stored in memory as contiguous items, with the size required being fixed right from the start.  This makes it faster to access.\n",
        "\n",
        "The code below will create two lists and a tuple.\n",
        "*   the first list contains 1000 random numbers between 1 and 100\n",
        "*   the second list is of random length (up to 5000) and each item is one of the 9 characteristics that are protected under the Equality Act in the UK.\n",
        "*   the tuple contains the 9 protected characteristics\n",
        "\n",
        "Before you start the exercises, run the code below.  It will generate the lists and tuple so that you can use them in the exercises.  If you need to recreate the lists again (because you have changed them and need to work on the originals, just run this cell again).\n",
        "\n",
        "***Note:***  *a list variable contains a reference to the start of the list in memory, rather than storing the list itself.  This means that if you assign the list to another variable (to make a copy), it will only copy across the reference.  If you change the copy, you change the original list.*\n",
        "\n",
        "*If you need to make a copy of the list you will need to use a loop to create a new list and copy all items across.*"
      ]
    },
    {
      "cell_type": "code",
      "metadata": {
        "id": "BDRckXeQXFMT"
      },
      "source": [
        "# Import libraries\n",
        "from random import randint, choice\n",
        "\n",
        "# Create list of 1000 random numbers between 1 and 100\n",
        "def get_num_list():\n",
        "  num_list = [randint(1,100) for n in range(1000)]\n",
        "  return num_list\n",
        "\n",
        "# Create list of random length\n",
        "def get_protected_characteristics():\n",
        "  characteristics_tuple = ('age','disability','gender reassignment','marriage and civil partnership','pregnancy and maternity','race','religion or belief','sex','sexual orientation')\n",
        "  return characteristics_tuple\n",
        "\n",
        "# Create tupe containing the 9 protected characteries\n",
        "def get_protected_characteristic_list(protected_characteristics):\n",
        "  char_list = [choice(protected_characteristics) for ch in range(randint(1,5000))]\n",
        "  return char_list\n",
        "\n",
        "nums = get_num_list()\n",
        "protected_characteristics = get_protected_characteristics()\n",
        "characteristics = get_protected_characteristic_list(protected_characteristics)"
      ],
      "execution_count": 1,
      "outputs": []
    },
    {
      "cell_type": "markdown",
      "metadata": {
        "id": "xXT38-4ZV45n"
      },
      "source": [
        "## The exercises below will use the lists:  \n",
        "*   **nums** (a list of between 1 and 1000 random numbers, each number is between 0 and 1000)\n",
        "*   **characteristics** (a list of 5000 random protected_characteristics)\n",
        "\n",
        "and the tuple:\n",
        "*  **protected_characteristics** (a set of the 9 protected characteristics identified in the Equality Act)\n",
        "\n",
        "## You can run the cell above any number of times to generate new lists."
      ]
    },
    {
      "cell_type": "markdown",
      "metadata": {
        "id": "Ft0dXl7fUuaK"
      },
      "source": [
        "---\n",
        "### Exercise 1 - list head, tail and shape\n",
        "\n",
        "Write a function, **describe_list()** which will:\n",
        "*  print the length of the list `nums`\n",
        "*  print the first 10 items in `nums`  \n",
        "*  print the last 5 items in `nums`"
      ]
    },
    {
      "cell_type": "code",
      "metadata": {
        "id": "jUcZD7mmTJdA",
        "colab": {
          "base_uri": "https://localhost:8080/"
        },
        "outputId": "10812295-612c-478a-fe96-36923cc65ddf"
      },
      "source": [
        "# Define function\n",
        "def describe_list(list):\n",
        "  print(len(list)) # Print length of list\n",
        "  print(list[:10]) # Print first 10 items in list\n",
        "  print(list[-5:]) # Print last 5 items in list\n",
        "\n",
        "# Call function with nums list\n",
        "describe_list(nums)"
      ],
      "execution_count": 2,
      "outputs": [
        {
          "output_type": "stream",
          "text": [
            "1000\n",
            "[84, 58, 13, 4, 78, 38, 23, 28, 45, 87]\n",
            "[22, 31, 18, 56, 100]\n"
          ],
          "name": "stdout"
        }
      ]
    },
    {
      "cell_type": "markdown",
      "metadata": {
        "id": "yNWg08k6bXv0"
      },
      "source": [
        "---\n",
        "### Exercise 2 - show tuple items\n",
        "\n",
        "Write a function which will:\n",
        "*   use a loop to print the list of protected characteristics from the `protected_characteristics` tuple.\n"
      ]
    },
    {
      "cell_type": "code",
      "metadata": {
        "id": "P2HnCG9pb1BS",
        "colab": {
          "base_uri": "https://localhost:8080/"
        },
        "outputId": "28ff5768-2cd9-41fb-c778-e81a61082a5a"
      },
      "source": [
        "# Def function\n",
        "def show_tuple_items(tuple):\n",
        "  # Set up loop to print each item (i) in tuple\n",
        "  for i in tuple:\n",
        "    print(i)\n",
        "\n",
        "# Call function with protected_characterics tuple\n",
        "show_tuple_items(protected_characteristics)"
      ],
      "execution_count": 3,
      "outputs": [
        {
          "output_type": "stream",
          "text": [
            "age\n",
            "disability\n",
            "gender reassignment\n",
            "marriage and civil partnership\n",
            "pregnancy and maternity\n",
            "race\n",
            "religion or belief\n",
            "sex\n",
            "sexual orientation\n"
          ],
          "name": "stdout"
        }
      ]
    },
    {
      "cell_type": "markdown",
      "metadata": {
        "id": "RTSuQZs4b1JU"
      },
      "source": [
        "---\n",
        "### Exercise 3 - list a random subset\n",
        "\n",
        "Write a function which will:\n",
        "*  calculate the position of the middle item in the `characteristics` list   \n",
        "(*Hint: use len() to help with this*)\n",
        "*  calculate the position of the item that is 5 places before the middle item\n",
        "*  calculate the position of the item that is 5 places after the middle item\n",
        "*  print the part of the list that includes the items from 5 places before to 5 places after.  \n",
        "\n",
        "Expected output:  \n",
        "Your list will include 11 items."
      ]
    },
    {
      "cell_type": "code",
      "metadata": {
        "id": "OwhFnH2kdC11",
        "colab": {
          "base_uri": "https://localhost:8080/"
        },
        "outputId": "30c2592d-14c4-4564-82c1-87b6a8d8a131"
      },
      "source": [
        "# Define function\n",
        "def random_subset(list):\n",
        "  middle = int(len(list) / 2) # Calculate middle position\n",
        "  before_middle = int(middle - 5) # Calculate position 5 places before middle\n",
        "  after_middle = int(middle + 6) # Calculate position 5 places before middle\n",
        "  middle_ten = list[before_middle:after_middle] # Splice list\n",
        "  for i in middle_ten: # Loop printing items in middle_ten list\n",
        "    print(i)\n",
        "\n",
        "# Call function with characteristics list\n",
        "random_subset(characteristics)"
      ],
      "execution_count": 4,
      "outputs": [
        {
          "output_type": "stream",
          "text": [
            "pregnancy and maternity\n",
            "race\n",
            "disability\n",
            "pregnancy and maternity\n",
            "gender reassignment\n",
            "gender reassignment\n",
            "sex\n",
            "race\n",
            "race\n",
            "race\n",
            "marriage and civil partnership\n"
          ],
          "name": "stdout"
        }
      ]
    },
    {
      "cell_type": "markdown",
      "metadata": {
        "id": "KS0x3oFNePI9"
      },
      "source": [
        "---\n",
        "### Exercise 4 - create a copy\n",
        "\n",
        "Write a function which will: use a for loop to create a copy of the `nums` list:\n",
        "\n",
        "*   create a new, empty, list called **new_nums**  (*Hint: an empty list is [ ]*)\n",
        "*   use a for loop which uses the following syntax:  `for num in nums:`\n",
        "*   each time round the loop append `num` to `new_nums`  ( *`new_nums.append(num)`*)\n",
        "*   print the first 10 items of `new_nums`\n",
        "*   print the first 10 items of `nums`\n",
        "*   print the length of both lists"
      ]
    },
    {
      "cell_type": "code",
      "metadata": {
        "id": "mpK1Ip3we-uC",
        "colab": {
          "base_uri": "https://localhost:8080/"
        },
        "outputId": "dbe9d7b5-ac6b-4350-e345-24eaaee20dba"
      },
      "source": [
        "# Define function\n",
        "def create_copy(list):\n",
        "  new_nums = []             # Create empty/new list\n",
        "  for num in nums:          # For each item in original list\n",
        "    new_nums.append(num)    # Append item in list to empty/new list\n",
        "  \n",
        "  # Check nums has been copied and stored in new_nums\n",
        "  print(new_nums[:10])      # Print first 10 items in empty/new list\n",
        "  print(nums[:10])          # Print first 10 items in original list\n",
        "  print(len(new_nums))      # Print length of empty/new list\n",
        "  print(len(nums))          # Print length of original list\n",
        "\n",
        "create_copy(nums)"
      ],
      "execution_count": 5,
      "outputs": [
        {
          "output_type": "stream",
          "text": [
            "[84, 58, 13, 4, 78, 38, 23, 28, 45, 87]\n",
            "[84, 58, 13, 4, 78, 38, 23, 28, 45, 87]\n",
            "1000\n",
            "1000\n"
          ],
          "name": "stdout"
        }
      ]
    },
    {
      "cell_type": "markdown",
      "metadata": {
        "id": "deUIFWjRe-3G"
      },
      "source": [
        "\n",
        "\n",
        "```\n",
        "# This is formatted as code\n",
        "```\n",
        "\n",
        "---\n",
        "### Exercise 5 - count the occurrence of age in characteristics\n",
        "\n",
        "Write a function which will use the list method:\n",
        "\n",
        "`list_name.count(item)`\n",
        "\n",
        "to count the number of occurrences of 'age' in the `characteristics` list.  Print the result."
      ]
    },
    {
      "cell_type": "code",
      "metadata": {
        "id": "b9TrHQ9hfoIU",
        "colab": {
          "base_uri": "https://localhost:8080/"
        },
        "outputId": "9aadcecd-529f-467c-caca-b8626390f8b2"
      },
      "source": [
        "def count_age(list_name):\n",
        "    print(list_name.count('age'))\n",
        "\n",
        "count_age(characteristics)"
      ],
      "execution_count": 6,
      "outputs": [
        {
          "output_type": "stream",
          "text": [
            "137\n"
          ],
          "name": "stdout"
        }
      ]
    },
    {
      "cell_type": "markdown",
      "metadata": {
        "id": "zm2VI5RmfoSy"
      },
      "source": [
        "---\n",
        "### Exercise 6 - sort the nums list\n",
        "\n",
        "Write a function which will:\n",
        "*   call the function `get_num_list()` and store the result in a new list called **sort_nums**\n",
        "*   print the first, and last, 20 items in the `sort_nums` list\n",
        "*   use the `list_name.sort()` method to sort the `sort_nums` list into ascending order\n",
        "*   print the first, and last, 20 items again  \n",
        "*   use the `list_name.sort()` method again to sort the `sort_nums` list into descending order\n",
        "*   print the first, and last, 20 items again"
      ]
    },
    {
      "cell_type": "code",
      "metadata": {
        "id": "Fksgpj9JgWDs",
        "colab": {
          "base_uri": "https://localhost:8080/"
        },
        "outputId": "9857f745-bca1-4709-ea5e-2481bee81b0d"
      },
      "source": [
        "def sort_num_list():\n",
        "  sort_nums = get_num_list()\n",
        "  print('First 20 items (not sorted):', sort_nums[:20])\n",
        "  print('Last 20 items (not sorted):', sort_nums[-20:])\n",
        "  \n",
        "  # Sort in asc order (default for sort())\n",
        "  sort_nums.sort()\n",
        "  print('First 20 items (asc):', sort_nums[:20])\n",
        "  print('Last 20 items (asc):', sort_nums[-20:])\n",
        "\n",
        "  # Sort in desc order\n",
        "  sort_nums.sort(reverse=True)\n",
        "  print('First 20 items (desc):', sort_nums[:20])\n",
        "  print('Last 20 items (desc):', sort_nums[-20:])\n",
        "\n",
        "\n",
        "sort_num_list()"
      ],
      "execution_count": 7,
      "outputs": [
        {
          "output_type": "stream",
          "text": [
            "First 20 items (not sorted): [96, 22, 100, 23, 54, 99, 53, 54, 47, 64, 13, 31, 44, 95, 23, 94, 98, 83, 82, 29]\n",
            "Last 20 items (not sorted): [15, 59, 10, 81, 32, 25, 4, 82, 20, 73, 4, 90, 12, 48, 63, 82, 43, 79, 72, 49]\n",
            "First 20 items (asc): [1, 1, 1, 1, 1, 1, 1, 2, 2, 2, 2, 2, 2, 2, 2, 2, 2, 2, 2, 2]\n",
            "Last 20 items (asc): [99, 99, 99, 99, 99, 99, 100, 100, 100, 100, 100, 100, 100, 100, 100, 100, 100, 100, 100, 100]\n",
            "First 20 items (desc): [100, 100, 100, 100, 100, 100, 100, 100, 100, 100, 100, 100, 100, 100, 99, 99, 99, 99, 99, 99]\n",
            "Last 20 items (desc): [2, 2, 2, 2, 2, 2, 2, 2, 2, 2, 2, 2, 2, 1, 1, 1, 1, 1, 1, 1]\n"
          ],
          "name": "stdout"
        }
      ]
    },
    {
      "cell_type": "markdown",
      "metadata": {
        "id": "_OF-Xuj1UrW0"
      },
      "source": [
        "---\n",
        "### Exercise 7 - get statistics (max(), min(), sum() )\n",
        "\n",
        "Write a function which will:\n",
        "*   print the maximum and minimum numbers in the `nums` list  \n",
        "*   print the sum of the `nums` list\n",
        "*   calculate and print the average of the `nums` list (using `len()` to help)"
      ]
    },
    {
      "cell_type": "code",
      "metadata": {
        "id": "9YmYMenZVGod",
        "colab": {
          "base_uri": "https://localhost:8080/"
        },
        "outputId": "87ab5135-3449-4a47-aac7-e7c34a4544c2"
      },
      "source": [
        "def get_stats():\n",
        "  print(max(nums))\n",
        "  print(min(nums))\n",
        "  print(sum(nums))\n",
        "  average = sum(nums) / len(nums)\n",
        "  print(average)\n",
        "\n",
        "get_stats()"
      ],
      "execution_count": 8,
      "outputs": [
        {
          "output_type": "stream",
          "text": [
            "100\n",
            "1\n",
            "49845\n",
            "49.845\n"
          ],
          "name": "stdout"
        }
      ]
    },
    {
      "cell_type": "markdown",
      "metadata": {
        "id": "Mn4tHQ_KVbHa"
      },
      "source": [
        "---\n",
        "### Exercise 8 - percentage difference\n",
        "\n",
        "Write a function which will:\n",
        "*   generate a new list called **ex8_nums** using `get_num_list()`\n",
        "*   calculate and print the percentage of the first number in `ex8_nums` that is the difference between it and the first number in `nums` (subtract **ex8_num** from **num**, divide by `nums` and multiply by 100)\n",
        "*   calculate and print the percentage difference between the last numbers in each list in the same way\n",
        "*   calculate and print the percentage difference between the middle numbers in each list in the same way.\n",
        "*   calculate and print the percentage difference between the sums of each list in the same way"
      ]
    },
    {
      "cell_type": "code",
      "metadata": {
        "id": "nJCQjZIeZL0e",
        "colab": {
          "base_uri": "https://localhost:8080/"
        },
        "outputId": "1421ebd6-39cf-407e-95c9-413620d21e62"
      },
      "source": [
        "def get_percent_dif():\n",
        "  # calculate percent difference of first numbers in lists\n",
        "  ex8_nums = get_num_list()\n",
        "  ex8_num = int(ex8_nums[0])\n",
        "  num = int(nums[0])\n",
        "  print(((num - ex8_num) / num) * 100)\n",
        "  \n",
        "  # calculate percent difference of last numbers in lists\n",
        "  ex8_num_last = ex8_nums[len(ex8_nums) -1]\n",
        "  num_last = nums[len(nums) - 1]\n",
        "  print(((num_last - ex8_num_last) / num) * 100)\n",
        "\n",
        "  # calculate percent different of sums of lists\n",
        "  ex8_nums_sum = sum(ex8_nums)\n",
        "  nums_sum = sum(nums)\n",
        "  print(((nums_sum - ex8_nums_sum) / num) * 100)\n",
        "\n",
        "\n",
        "get_percent_dif()"
      ],
      "execution_count": 9,
      "outputs": [
        {
          "output_type": "stream",
          "text": [
            "-15.476190476190476\n",
            "40.476190476190474\n",
            "-1619.047619047619\n"
          ],
          "name": "stdout"
        }
      ]
    },
    {
      "cell_type": "markdown",
      "metadata": {
        "id": "HNs3lZmYawFO"
      },
      "source": [
        "---\n",
        "### Exercise 9 - characteristic counts\n",
        "\n",
        "Write a function which will:\n",
        "*  iterate through the `protected_characteristics` tuple and for each **characteristic**:\n",
        "*   *   count the number of occurrences of that `characteristic` in the `characteristics` list\n",
        "*   *   print the `protected_characteristic` and the **count**  \n",
        "\n",
        "Example expected output:\n",
        "\n",
        "age 100  \n",
        "disability 120  \n",
        "gender reassignment 120  \n",
        "marriage and civil partnership 111  \n",
        "pregnancy and maternity 103  \n",
        "race 106  \n",
        "religion or belief 95  \n",
        "sex 110  \n",
        "sexual orientation 113  \n",
        "\n",
        "Extra learning:  you can read [here](https://thispointer.com/python-how-to-pad-strings-with-zero-space-or-some-other-character/) how to justify the printed characteristic so that the output is organised into two columns as shown below:  \n",
        "![tabulated output](https://drive.google.com/uc?id=1CCXfX6K5ZeDefnq7vUsqxCDmqvcfY8Mz)\n",
        "\n",
        "\n",
        "\n"
      ]
    },
    {
      "cell_type": "code",
      "metadata": {
        "id": "GURT11albqUs",
        "colab": {
          "base_uri": "https://localhost:8080/"
        },
        "outputId": "508b8ac9-84e9-478f-adf6-28899d0cf557"
      },
      "source": [
        "def characteristics_count():\n",
        "  for i in protected_characteristics:\n",
        "    # Print the characteristic and resp. count\n",
        "    print(i, characteristics.count(i))\n",
        "\n",
        "characteristics_count()"
      ],
      "execution_count": 10,
      "outputs": [
        {
          "output_type": "stream",
          "text": [
            "age 137\n",
            "disability 151\n",
            "gender reassignment 134\n",
            "marriage and civil partnership 145\n",
            "pregnancy and maternity 140\n",
            "race 154\n",
            "religion or belief 146\n",
            "sex 132\n",
            "sexual orientation 134\n"
          ],
          "name": "stdout"
        }
      ]
    },
    {
      "cell_type": "markdown",
      "metadata": {
        "id": "9Po7yQj-ds38"
      },
      "source": [
        "---\n",
        "### Exercise 10 - characteristics statistics\n",
        "\n",
        "Assuming that the `characteristics` list may have been taken from a study of cases that have been taken to court in relation to the Equality Act.  \n",
        "\n",
        "Write a function which will:\n",
        "\n",
        "*   find the most common characteristic resulting in court action, from this population\n",
        "*   print this in a message, e.g. The characteristic with the highest number of court cases is:  *characteristic*\n",
        "*   print the list of `protected_characteristics`, on one line if possible - see [here](https://www.geeksforgeeks.org/g-fact-25-print-single-multiple-variable-python/)\n",
        "*   ask the user to enter a characteristic that they would like to see statistics on and use a while loop to continue until the user has entered a valid characteristic\n",
        "*   print the characteristic, its frequency and the percentage that this frequency is of the whole population."
      ]
    },
    {
      "cell_type": "code",
      "metadata": {
        "id": "uk_I5z7UgbDs",
        "colab": {
          "base_uri": "https://localhost:8080/"
        },
        "outputId": "dd252fe9-fa6f-4036-ff20-e5d9747dc904"
      },
      "source": [
        "def characteristic_stats():\n",
        "  counter = 0\n",
        "  \n",
        "  # for each category (i) in protected_characteristics, find their frequency in characteristics \n",
        "  for i in protected_characteristics:\n",
        "    characteristic_freq = characteristics.count(i)\n",
        "    # if characteristic frequecy is greater than the counter, replace counter value with characteristic frequency until the highest value is found\n",
        "    if (characteristic_freq > counter):\n",
        "      counter = characteristic_freq\n",
        "  \n",
        "  print(\"The characteristic with the highest number of court cases is:\", counter)\n",
        "  print((protected_characteristics)) # print on one line using double brackets\n",
        "\n",
        "  chosen_characteristic = input(\"Enter a characteristics you want to see statistics on: \")\n",
        "  # keep returning error statement and asking for characteristic in the list whilst an inavlid entry is made\n",
        "  while chosen_characteristic not in protected_characteristics:\n",
        "    print(\"Invalid characteristic\")\n",
        "    chosen_characteristic = input(\"Enter a characteristics you want to see statistics on: \")\n",
        "  \n",
        "  chosen_characteristic_freq = characteristics.count(chosen_characteristic)\n",
        "  chosen_characteristic_perc = (chosen_characteristic_freq / len(characteristics)) * 100\n",
        "  \n",
        "  print(\"Chosen characteristic:\", chosen_characteristic,\n",
        "        \"Characteristic frequency:\", chosen_characteristic_freq,\n",
        "        \"Percentage of whole population:\", chosen_characteristic_perc, sep=\"\\n\") # print to multiple lines\n",
        "\n",
        "characteristic_stats()"
      ],
      "execution_count": 20,
      "outputs": [
        {
          "output_type": "stream",
          "text": [
            "The characteristic with the highest number of court cases is: 154\n",
            "('age', 'disability', 'gender reassignment', 'marriage and civil partnership', 'pregnancy and maternity', 'race', 'religion or belief', 'sex', 'sexual orientation')\n",
            "Enter a characteristics you want to see statistics on: age\n",
            "Chosen characteristic:\n",
            "age\n",
            "Characteristic frequency:\n",
            "137\n",
            "Percentage of whole population:\n",
            "10.761979575805185\n"
          ],
          "name": "stdout"
        }
      ]
    }
  ]
}