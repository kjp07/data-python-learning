{
  "nbformat": 4,
  "nbformat_minor": 0,
  "metadata": {
    "colab": {
      "name": "Worksheet-functions-datetime.ipynb",
      "provenance": [],
      "collapsed_sections": [],
      "include_colab_link": true
    },
    "kernelspec": {
      "name": "python3",
      "display_name": "Python 3"
    },
    "language_info": {
      "name": "python"
    }
  },
  "cells": [
    {
      "cell_type": "markdown",
      "metadata": {
        "id": "view-in-github",
        "colab_type": "text"
      },
      "source": [
        "<a href=\"https://colab.research.google.com/github/kjp07/data-python-learning/blob/main/Worksheet_functions_datetime.ipynb\" target=\"_parent\"><img src=\"https://colab.research.google.com/assets/colab-badge.svg\" alt=\"Open In Colab\"/></a>"
      ]
    },
    {
      "cell_type": "markdown",
      "metadata": {
        "id": "7iQyKP-SQiw1"
      },
      "source": [
        "# User-defined functions using datetime library\n",
        "\n",
        "---\n"
      ]
    },
    {
      "cell_type": "markdown",
      "metadata": {
        "id": "Vi93h5I4QnKs"
      },
      "source": [
        "When working with dates and times, fairly common in data sets, we need to be able to extract certain bits of information.  \n",
        "\n",
        "In Python, as with other languages, dates and times are stored in a data structure that combines the two together and stores the information as a number of seconds since a start point (often 1st January 1900).  This is obviously a large number but every bit of information about a date can be extracted from it and used to give a wide range of information.  \n",
        "\n",
        "Have a go at the exercises below to use a selection of datetime functions and return a new bit of data from each, to be printed by the caller.\n",
        "\n",
        "Before you can use datetime functions you will need to import them. Import the datetime functions like this:\n",
        "\n",
        "`from datetime import datetime`  \n",
        "\n",
        "\n",
        "For more information about datetime functions visit [w3Schools-Python datetime](https://www.w3schools.com/python/python_datetime.asp) and [Python docs](https://docs.python.org/3/library/datetime.html)"
      ]
    },
    {
      "cell_type": "markdown",
      "metadata": {
        "id": "MIDLi7CNR034"
      },
      "source": [
        "---\n",
        "### Exercise 1 - print current date and time\n",
        "\n",
        "Write a function that will return the date and time now.  The caller will print it.  \n",
        "\n",
        "*Hint:  the format has been added for you, the other exercises will follow a similar format.   Always remember to import datetime from datetime as shown below*"
      ]
    },
    {
      "cell_type": "code",
      "metadata": {
        "id": "gS6GJdXbQfHp",
        "colab": {
          "base_uri": "https://localhost:8080/"
        },
        "outputId": "35960651-7fcc-41b7-b1ff-9238d5432b88"
      },
      "source": [
        "from datetime import datetime\n",
        "# add your function, called get_datetime_now() below here\n",
        "def get_datetime_now():\n",
        "  # Store date and time in now_datetime\n",
        "  now_datetime = datetime.now()\n",
        "  print(now_datetime)\n",
        "\n",
        "get_datetime_now()"
      ],
      "execution_count": 1,
      "outputs": [
        {
          "output_type": "stream",
          "text": [
            "2021-04-10 18:26:24.695604\n"
          ],
          "name": "stdout"
        }
      ]
    },
    {
      "cell_type": "markdown",
      "metadata": {
        "id": "Yy24sL0bUtpF"
      },
      "source": [
        "---\n",
        "### Exercise 2 - print the current year\n",
        "\n",
        "Write a function that will return the current year.  The caller will print the year."
      ]
    },
    {
      "cell_type": "code",
      "metadata": {
        "id": "YqlQqPIqUtyr",
        "colab": {
          "base_uri": "https://localhost:8080/"
        },
        "outputId": "76d3b858-e22a-4ec5-8a2b-d28bd7ebc0d0"
      },
      "source": [
        "def get_current_year():\n",
        "  # Get datetime, but specify only the year\n",
        "  current_year = datetime.now().year\n",
        "  return current_year\n",
        "\n",
        "get_current_year()"
      ],
      "execution_count": 2,
      "outputs": [
        {
          "output_type": "execute_result",
          "data": {
            "text/plain": [
              "2021"
            ]
          },
          "metadata": {
            "tags": []
          },
          "execution_count": 2
        }
      ]
    },
    {
      "cell_type": "markdown",
      "metadata": {
        "id": "FzSVCaJKV1O1"
      },
      "source": [
        "---\n",
        "### Exercise 3 - print the current day of the week\n",
        "\n",
        "Write a function that will return the current day of the week.  The caller will print it."
      ]
    },
    {
      "cell_type": "code",
      "metadata": {
        "id": "OP4ZIXBWV1Yj",
        "colab": {
          "base_uri": "https://localhost:8080/",
          "height": 35
        },
        "outputId": "2b26611b-b60a-4a39-dbec-fe90f5e8d4e0"
      },
      "source": [
        "def get_current_day():\n",
        "  # Get current date\n",
        "  current_date = datetime.now()\n",
        "  # Get day of week\n",
        "  current_day = current_date.strftime(\"%Y\")\n",
        "  return current_day\n",
        "\n",
        "get_current_day()\n",
        "\n",
        "# \"%a\" returns Thu\n",
        "# \"%A\" returns Thursday\n",
        "# \"%b\" returns Apr\n",
        "# \"%B\" returns April\n",
        "# \"%d\" returns 08\n",
        "# \"%D\" returns 04/08/21 (MM/DD/YY)\n",
        "# \"%m\" returns 04\n",
        "# \"%y\" returns 21\n",
        "# \"%Y\" returns 2021"
      ],
      "execution_count": 3,
      "outputs": [
        {
          "output_type": "execute_result",
          "data": {
            "application/vnd.google.colaboratory.intrinsic+json": {
              "type": "string"
            },
            "text/plain": [
              "'2021'"
            ]
          },
          "metadata": {
            "tags": []
          },
          "execution_count": 3
        }
      ]
    },
    {
      "cell_type": "markdown",
      "metadata": {
        "id": "a8euCtdmWIDE"
      },
      "source": [
        "---\n",
        "### Exercise 4 - create a new date\n",
        "\n",
        "Write a function that will take 3 parameters, day, month, year (3 numbers that make a valid date) and will create, and return a new date.  The caller will print the date."
      ]
    },
    {
      "cell_type": "code",
      "metadata": {
        "id": "FbOFnTwnWILN",
        "colab": {
          "base_uri": "https://localhost:8080/",
          "height": 86
        },
        "outputId": "c5307e25-db37-4c47-a70e-bff21de32b8c"
      },
      "source": [
        "def new_date():\n",
        "  # Ask for numbers for day, month, and year\n",
        "  day = int(input(\"Enter a numder for a day: \"))\n",
        "  month = int(input(\"Enter a number for a month: \"))\n",
        "  year = int(input(\"Enter a number for a year: \"))\n",
        "\n",
        "  # Put numbers into datetime and display as MM/DD/YY\n",
        "  new_date = datetime(year, month, day)\n",
        "  return new_date.strftime(\"%x\")\n",
        "\n",
        "new_date()"
      ],
      "execution_count": 4,
      "outputs": [
        {
          "output_type": "stream",
          "text": [
            "Enter a numder for a day: 1\n",
            "Enter a number for a month: 2\n",
            "Enter a number for a year: 2021\n"
          ],
          "name": "stdout"
        },
        {
          "output_type": "execute_result",
          "data": {
            "application/vnd.google.colaboratory.intrinsic+json": {
              "type": "string"
            },
            "text/plain": [
              "'02/01/21'"
            ]
          },
          "metadata": {
            "tags": []
          },
          "execution_count": 4
        }
      ]
    },
    {
      "cell_type": "markdown",
      "metadata": {
        "id": "f5SKVuE0WfcE"
      },
      "source": [
        "---\n",
        "### Exercise 5 - create a valid date\n",
        "\n",
        "Write a function that will take 3 parameters, day, month, year (3 numbers) and will:  \n",
        "*   check that the month is between 1 and 12  \n",
        "*   check that the day is valid for the month (e.g. if the month is 2, then the day must be between 1 and 28 (don't worry about leap years for the moment)  \n",
        "*   if the date is not valid, print an error message and return None (which the caller will print)  \n",
        "*   if the date is valid, store it in a new variable, return the variable and the caller will print it."
      ]
    },
    {
      "cell_type": "code",
      "metadata": {
        "id": "gclt-f9-XfdG",
        "colab": {
          "base_uri": "https://localhost:8080/",
          "height": 35
        },
        "outputId": "448e4297-5d9a-4490-8454-f5ec7b8a42c1"
      },
      "source": [
        "def get_valid_date(day, month, year):\n",
        "\n",
        "  # Put months into list depending on how many days they have\n",
        "  months_30_days = [4, 6, 9, 11] # April, June, September, November\n",
        "  months_31_days = [1, 3, 5, 7, 8, 10, 12]\n",
        "\n",
        "  # Check if month is February (2) and day is within range\n",
        "  if month == 2 and 1 <= day <= 28:\n",
        "    new_date = datetime(year, month, day)\n",
        "    return new_date.strftime(\"%x\")\n",
        "  \n",
        "  # Check for months with 30 days\n",
        "  elif month in months_30_days and 1 <= day <= 30:\n",
        "    new_date = datetime(year, month, day)\n",
        "    return new_date.strftime(\"%x\")\n",
        "  \n",
        "  # Check for months with 31 days\n",
        "  elif month in months_31_days and 1 <= day <= 31:\n",
        "    new_date = datetime(year, month, day)\n",
        "    return new_date.strftime(\"%x\")\n",
        "  \n",
        "  else:\n",
        "    return None\n",
        "\n",
        "get_valid_date(3, 5, 2020)"
      ],
      "execution_count": 5,
      "outputs": [
        {
          "output_type": "execute_result",
          "data": {
            "application/vnd.google.colaboratory.intrinsic+json": {
              "type": "string"
            },
            "text/plain": [
              "'05/03/20'"
            ]
          },
          "metadata": {
            "tags": []
          },
          "execution_count": 5
        }
      ]
    },
    {
      "cell_type": "markdown",
      "metadata": {
        "id": "js7fy2HWXfm2"
      },
      "source": [
        "---\n",
        "### Exercise 6 - is it a leap year?\n",
        "\n",
        "Write a function that will take a date as a parameter (you will need to create the date variable before calling the function) and will determine if it is a leap year, returning True or False.\n",
        "\n",
        "*Hint:  a leap year is a year that is divisible by 4 but the centuries (1900, 2000, etc are only leap years if they are divisible by 400)*"
      ]
    },
    {
      "cell_type": "code",
      "metadata": {
        "id": "KY1jtf3lX_ps",
        "colab": {
          "base_uri": "https://localhost:8080/"
        },
        "outputId": "6816fd0b-a811-4ce6-b92f-f46544e2297c"
      },
      "source": [
        "from datetime import datetime\n",
        "def is_leap_year(date_to_check):\n",
        "  # add your code below here\n",
        "  # Leap year divisible by 4 and centuries divisible by 400\n",
        "  # Only need year of date_to_check\n",
        "  if date_to_check.year % 4 == 0 or date_to_check.year % 400 == 0:\n",
        "    return True\n",
        "  else:\n",
        "    return False\n",
        "\n",
        "check_date = datetime(1996, 12, 15)\n",
        "if is_leap_year(check_date):\n",
        "  print(check_date.strftime(\"%Y\"), \"is a leap year\")\n",
        "else:\n",
        "  print(check_date.strftime(\"%Y\"), \"is not a leap year\")"
      ],
      "execution_count": 6,
      "outputs": [
        {
          "output_type": "stream",
          "text": [
            "1996 is a leap year\n"
          ],
          "name": "stdout"
        }
      ]
    },
    {
      "cell_type": "markdown",
      "metadata": {
        "id": "9BuRDi08YAO0"
      },
      "source": [
        "---\n",
        "### Exercise 7 - display parts of date/time\n",
        "\n",
        "Write a function that will take a date and print from it the following:  \n",
        "*  given date and time  \n",
        "*  year (in full) \n",
        "*  month (as a number) \n",
        "*  month name \n",
        "*  week number of the year  \n",
        "*  weekday of the week (as a number)  \n",
        "*  day of year  \n",
        "*  day of the month  \n",
        "*  day of week (as a name)  \n",
        "\n",
        "*Hint:  see w3Schools for [strftime reference](https://www.w3schools.com/python/python_datetime.asp)*\n",
        "\n"
      ]
    },
    {
      "cell_type": "code",
      "metadata": {
        "id": "zl-37Ez9ahym",
        "colab": {
          "base_uri": "https://localhost:8080/"
        },
        "outputId": "1d56f1b9-5912-4c6a-c1c7-dcfe468dc3b6"
      },
      "source": [
        "def display_date(year, month, day):\n",
        "  date = datetime(year, month, day)\n",
        "\n",
        "  # Date and time provided\n",
        "  print(date)\n",
        "  # Year\n",
        "  print(date.strftime(\"%Y\"))\n",
        "  # Month as number\n",
        "  print(date.strftime(\"%m\"))\n",
        "  # Month name\n",
        "  print(date.strftime(\"%B\"))\n",
        "  # Week number of the year\n",
        "  print(date.strftime(\"%U\"))\n",
        "  # Weekday of the week (as a number)\n",
        "  print(date.strftime(\"%w\"))\n",
        "  # Day of year\n",
        "  print(date.strftime(\"%j\"))\n",
        "  # Day of the month\n",
        "  print(date.strftime(\"%d\"))\n",
        "  # Day of week (as a name)\n",
        "  print(date.strftime(\"%A\"))\n",
        "\n",
        "display_date(2021, 4, 10)"
      ],
      "execution_count": 8,
      "outputs": [
        {
          "output_type": "stream",
          "text": [
            "2021-04-10 00:00:00\n",
            "2021\n",
            "04\n",
            "April\n",
            "14\n",
            "6\n",
            "100\n",
            "10\n",
            "Saturday\n"
          ],
          "name": "stdout"
        }
      ]
    },
    {
      "cell_type": "markdown",
      "metadata": {
        "id": "_rpTIoSDaiBj"
      },
      "source": [
        "---\n",
        "### Exercise 8 - next 6 days\n",
        "\n",
        "Write a function that will take a date and generate the dates of the following 6 days.  It should print each of the 6 days in the form:  \n",
        "\n",
        "DAY OF THE WEEK, MONTH NAME, FULL YEAR\n",
        "\n",
        "Hint:  to generate the days, use the function datetime.timedelta(), there is a good example of its use [here](https://www.geeksforgeeks.org/python-datetime-timedelta-function/)  "
      ]
    },
    {
      "cell_type": "code",
      "metadata": {
        "id": "1d-oXqLLb0vX",
        "colab": {
          "base_uri": "https://localhost:8080/"
        },
        "outputId": "1edd3959-c4ae-452d-e5f7-d94e946fc728"
      },
      "source": [
        "from datetime import datetime, timedelta\n",
        "\n",
        "def get_next_six_dates(year, month, day):\n",
        "  date = datetime(year, month, day)\n",
        "\n",
        "  # Add day to date and print statement for 6 \n",
        "  for i in range(1, 7):\n",
        "    date = date + timedelta(days = i)\n",
        "    # Day of week, Month name, Full year\n",
        "    print(date.strftime(\"%A\").upper(), \",\", date.strftime(\"%B\").upper(), \",\", date.strftime(\"%Y\"))\n",
        "\n",
        "get_next_six_dates(2021, 4, 10)"
      ],
      "execution_count": 18,
      "outputs": [
        {
          "output_type": "stream",
          "text": [
            "SUNDAY , APRIL , 2021\n",
            "TUESDAY , APRIL , 2021\n",
            "FRIDAY , APRIL , 2021\n",
            "TUESDAY , APRIL , 2021\n",
            "SUNDAY , APRIL , 2021\n",
            "SATURDAY , MAY , 2021\n"
          ],
          "name": "stdout"
        }
      ]
    },
    {
      "cell_type": "markdown",
      "metadata": {
        "id": "22Rhwx2Sb1Ey"
      },
      "source": [
        "---\n",
        "### Optional extra practice\n",
        "\n",
        "There are some similar and some more challenging exercises [here](https://www.w3resource.com/python-exercises/date-time-exercise/) if you would like to practice more. The site has its own editor."
      ]
    }
  ]
}