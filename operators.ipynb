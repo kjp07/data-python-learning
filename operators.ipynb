{
  "nbformat": 4,
  "nbformat_minor": 0,
  "metadata": {
    "colab": {
      "name": "operators",
      "provenance": [],
      "collapsed_sections": [],
      "authorship_tag": "ABX9TyOR1Dln8TVUg9jSFt86tYVa",
      "include_colab_link": true
    },
    "kernelspec": {
      "name": "python3",
      "display_name": "Python 3"
    },
    "language_info": {
      "name": "python"
    }
  },
  "cells": [
    {
      "cell_type": "markdown",
      "metadata": {
        "id": "view-in-github",
        "colab_type": "text"
      },
      "source": [
        "<a href=\"https://colab.research.google.com/github/kjp07/data-python-learning/blob/main/operators.ipynb\" target=\"_parent\"><img src=\"https://colab.research.google.com/assets/colab-badge.svg\" alt=\"Open In Colab\"/></a>"
      ]
    },
    {
      "cell_type": "markdown",
      "metadata": {
        "id": "MXSb5IrY6RLr"
      },
      "source": [
        "## **Operators**\n",
        "\n",
        "**Exercise 1 - multiplication of integers**  \n",
        "Write a function called print_dog_human_age() which will:\n",
        "\n",
        "- ask the user to input their dog's age and assign this to an integer variable called dog_age\n",
        "- calculate the dog’s age in human years by multiplying it by 7, assigning it to a new variable called dog_human_age\n",
        "- print the age in human years (dog_human_age)"
      ]
    },
    {
      "cell_type": "code",
      "metadata": {
        "colab": {
          "base_uri": "https://localhost:8080/"
        },
        "id": "74vSYvXP6SiC",
        "outputId": "bc600e64-511d-4e90-f4c8-af0a5f2f76be"
      },
      "source": [
        "def print_dog_human_age():\n",
        "  dog_age = int(input(\"Input your dog's age: \"))\n",
        "  dog_human_age = dog_age * 7\n",
        "  print(dog_human_age)\n",
        "print_dog_human_age()"
      ],
      "execution_count": 1,
      "outputs": [
        {
          "output_type": "stream",
          "text": [
            "Input your dog's age: 4\n",
            "28\n"
          ],
          "name": "stdout"
        }
      ]
    },
    {
      "cell_type": "markdown",
      "metadata": {
        "id": "El122DL17fff"
      },
      "source": [
        "**Exercise 2 - BIDMAS**  \n",
        "Write a function called calculate_average() which will:\n",
        "\n",
        "- ask the user for 3 seperate numbers, num1, num2, num3\n",
        "- calculate the average of the three numbers\n",
        "- print the average, rounded to 2 decimal places\n",
        "Hint 1: to round a number, use round(), e.g. round(average) Hint 2: remember the BIDMAS order of operators and use brackets to change the order if necessary.\n",
        "\n",
        "Test Input:\n",
        "3\n",
        "5\n",
        "9\n",
        "\n",
        "Expected output:\n",
        "5.67"
      ]
    },
    {
      "cell_type": "code",
      "metadata": {
        "colab": {
          "base_uri": "https://localhost:8080/"
        },
        "id": "CiOAXk1g69Ox",
        "outputId": "0d1bc43b-2a66-4b1a-a8a4-35f5b4303e8e"
      },
      "source": [
        "def calculate_average():\n",
        "  num1 = int(input(\"Enter a number: \"))\n",
        "  num2 = int(input(\"Enter another number: \"))\n",
        "  num3 = int(input(\"Enter another number: \"))\n",
        "  average_num = (num1 + num2 + num3) / 3\n",
        "  print(round(average_num, ndigits=2)) # set ndigits to 2 for 2 decimal places\n",
        "calculate_average()"
      ],
      "execution_count": 2,
      "outputs": [
        {
          "output_type": "stream",
          "text": [
            "Enter a number: 3\n",
            "Enter another number: 5\n",
            "Enter another number: 9\n",
            "5.67\n"
          ],
          "name": "stdout"
        }
      ]
    },
    {
      "cell_type": "markdown",
      "metadata": {
        "id": "Aiz0H9y89GIZ"
      },
      "source": [
        "**Exercise 3 - BIDMAS**  \n",
        "Write a function called calculate_avg_height() which will:\n",
        "\n",
        "- ask the user to input their height\n",
        "- convert height to height_centimeters (multiply by 100)\n",
        "- print height_centimeters\n",
        "- Remember, height in metres is usually a decimal, so data type matters\n",
        "\n",
        "Test Input:\n",
        "1.67\n",
        "\n",
        "Expected output:\n",
        "167"
      ]
    },
    {
      "cell_type": "code",
      "metadata": {
        "colab": {
          "base_uri": "https://localhost:8080/"
        },
        "id": "MiddhxkH9LDm",
        "outputId": "20836ab1-f5aa-44ed-b875-e4fa00dc804e"
      },
      "source": [
        "def calculate_avg_height():\n",
        "  height = float(input(\"What is your height in meters? \"))\n",
        "  height_centimeters = int(height * 100)\n",
        "  print(height_centimeters,\"cm\")\n",
        "calculate_avg_height()"
      ],
      "execution_count": 3,
      "outputs": [
        {
          "output_type": "stream",
          "text": [
            "What is your height in meters? 1.67\n",
            "167 cm\n"
          ],
          "name": "stdout"
        }
      ]
    },
    {
      "cell_type": "markdown",
      "metadata": {
        "id": "R4hjtMBK-Cm3"
      },
      "source": [
        "**Exercise 4 - float and formatting printing**  \n",
        "At the time of writing, the exchange rate from Pounds (£) to Euros (€) is 1.16 (£1 = €1.16).\n",
        "\n",
        "Write a function called convert_currency() which will:\n",
        "\n",
        "- ask a user to input an amount in pounds\n",
        "- calculate the equivalent number of euros\n",
        "- print euros, rounded to 2 decimal places\n",
        "\n",
        "Test Input:\n",
        "£60\n",
        "\n",
        "Expected output:\n",
        "€69.6\n",
        "\n",
        "Remember, pounds is likely to be a decimal number and that the user should not enter the £ sign."
      ]
    },
    {
      "cell_type": "code",
      "metadata": {
        "colab": {
          "base_uri": "https://localhost:8080/"
        },
        "id": "oAaE1Dn29rck",
        "outputId": "385f1e1c-9b45-4034-cace-b9c02b003edf"
      },
      "source": [
        "def convert_currency():\n",
        "  pounds = float(input(\"Input an amount in pounds (do not enter the £ sign): \"))\n",
        "  euros = pounds * 1.16 # Exchange rate is £1 = $1.16\n",
        "  print(\"€\" + str(round(euros, ndigits=2)))\n",
        "convert_currency()"
      ],
      "execution_count": 8,
      "outputs": [
        {
          "output_type": "stream",
          "text": [
            "Input an amount in pounds (do not enter the £ sign): 60\n",
            "€69.6\n"
          ],
          "name": "stdout"
        }
      ]
    },
    {
      "cell_type": "markdown",
      "metadata": {
        "id": "5W1qR9qO-_BS"
      },
      "source": [
        "**Exercise 5 - rounding**  \n",
        "Write a function called calculate_stats() which will: \n",
        "\n",
        "- assign the numbers 3.145, 5.6723 and 9.34 to the variables num1, num2 and num3 respectively\n",
        "- calculate the total of the three numbers, rounded to 2 decimal places\n",
        "- calculate the average of the numbers, rounded to 3 decimal places\n",
        "- print total and average in a message that labels them.\n",
        "\n",
        "Expected output:\n",
        "\n",
        "The total of the three numbers is 18.16\n",
        "The average of the three numbers is 6.052\n",
        "\n",
        "*Remember to calculate the average you divide the total by the quantity of numbers, e.g. total/3*"
      ]
    },
    {
      "cell_type": "code",
      "metadata": {
        "colab": {
          "base_uri": "https://localhost:8080/"
        },
        "id": "pWTsDbsR-p4O",
        "outputId": "d3e2f36a-d821-49b0-c917-530c4cf7f2e3"
      },
      "source": [
        "def calculate_stats():\n",
        "  num1 = 3.145\n",
        "  num2 = 5.6723\n",
        "  num3 = 9.34\n",
        "  total_num = round(num1 + num2 + num3, ndigits = 2) # Round to 2dp\n",
        "  average_num = round(total_num / 3, ndigits = 3) # Round to 3dp\n",
        "  print(\"The total number is\", total_num, \"and the average number is\", average_num,\".\")\n",
        "calculate_stats()"
      ],
      "execution_count": 9,
      "outputs": [
        {
          "output_type": "stream",
          "text": [
            "The total number is 18.16 and the average number is 6.053 .\n"
          ],
          "name": "stdout"
        }
      ]
    },
    {
      "cell_type": "markdown",
      "metadata": {
        "id": "DAeWQBq6AKiW"
      },
      "source": [
        "**Exercise 6 - calculating volume**  \n",
        "Bill is moving house. He needs to know how much space his cardboard packing boxes have.\n",
        "\n",
        "Write a function called calculate_volume() which will:\n",
        "\n",
        "- assign the value 3.2, 5.6 and 7.8 to the variables base, width and height respectively\n",
        "- calculate the box_volume rounded to 1 decimal place\n",
        "- print the box_volume  \n",
        "\n",
        "*Hint: volume = base x width x height*\n",
        "\n",
        "Expected output:\n",
        "139.8"
      ]
    },
    {
      "cell_type": "code",
      "metadata": {
        "colab": {
          "base_uri": "https://localhost:8080/"
        },
        "id": "BNi_BZRE_hkB",
        "outputId": "7874c333-965f-4130-cc9f-693b240150e4"
      },
      "source": [
        "def calculate_volume():\n",
        "  base = 3.2\n",
        "  width = 5.6\n",
        "  height = 7.8\n",
        "  box_volume = round(base * height * height, ndigits = 1) # round to 1dp\n",
        "  print(box_volume)\n",
        "calculate_volume()"
      ],
      "execution_count": 10,
      "outputs": [
        {
          "output_type": "stream",
          "text": [
            "194.7\n"
          ],
          "name": "stdout"
        }
      ]
    },
    {
      "cell_type": "markdown",
      "metadata": {
        "id": "sMmvIvMkA7KK"
      },
      "source": [
        "**Exercise 7 - calculating with volumes**  \n",
        "Bill needs to work out how many boxes he will need.\n",
        "\n",
        "Building on what you did in the last exercise, write a function called calculate_boxes(base, width, height) which will:\n",
        "\n",
        "- calculate the volume of a box, using the base, width and height supplied in the brackets\n",
        "- ask Bill for the total_volume of his stuff\n",
        "- calculate the total number_of_boxes he will need, and print the number_of_boxes  \n",
        "\n",
        "*Hint: the total will not be a decimal number - you should use floor division and add one to the answer (for the box that will have the leftovers).*\n",
        "\n",
        "Test Input:\n",
        "1500\n",
        "\n",
        "Expected output:\n",
        "11"
      ]
    },
    {
      "cell_type": "code",
      "metadata": {
        "id": "CAdMOZWPBBOw",
        "colab": {
          "base_uri": "https://localhost:8080/"
        },
        "outputId": "474295c6-2477-4aeb-f053-5875c8e0024b"
      },
      "source": [
        "def calculate_boxes(base, width, height):\n",
        "  # add your code below here to calculate the boxVolume, ask for totalVolume and calculate number of boxes\n",
        "  box_volume = base * width * height\n",
        "  total_volume = int(input(\"What is the volume of your stuff? \"))\n",
        "  number_of_boxes = int((total_volume // box_volume) + 1)\n",
        "  print(\"Bill will need\", number_of_boxes, \"boxes to pack his things.\")\n",
        "calculate_boxes(3.2, 5.6, 7.8)"
      ],
      "execution_count": 17,
      "outputs": [
        {
          "output_type": "stream",
          "text": [
            "What is the volume of your stuff? 1500\n",
            "Bill will need 11 boxes to pack his things.\n"
          ],
          "name": "stdout"
        }
      ]
    },
    {
      "cell_type": "markdown",
      "metadata": {
        "id": "re98N4LLsqh_"
      },
      "source": [
        "**Exercise 8 - floor division**  \n",
        "Write a function called calculate_parcel_weight() which will:\n",
        "\n",
        "- ask the user to enter the weights, in kg, of four parcels (weight1, weight2, weight3, weight4)\n",
        "- calculate the total parcel_weight and display this in a whole number of kg, rounded up\n",
        "- print the parcel_weight\n",
        "\n",
        "*Hint: round() could either round up or down. Floor division could be a better option*\n",
        "\n",
        "*Test Inputs:*  \n",
        "1.23\n",
        "2.84\n",
        "1.675\n",
        "3.03\n",
        "\n",
        "*Expected Output:*  \n",
        "9kg"
      ]
    },
    {
      "cell_type": "code",
      "metadata": {
        "colab": {
          "base_uri": "https://localhost:8080/"
        },
        "id": "sca6uo_msxNe",
        "outputId": "841c4c88-baf3-4734-bc46-6018a2e50f42"
      },
      "source": [
        "def calculate_parcel_weight():\n",
        "  weight1 = float(input(\"Enter a weight in kg: \"))\n",
        "  weight2 = float(input(\"Enter another weight in kg: \"))\n",
        "  weight3 = float(input(\"Enter another weight in kg: \"))\n",
        "  weight4 = float(input(\"Enter another weight in kg: \"))\n",
        "  parcel_weight = str(round(weight1 + weight2 + weight3 + weight4))\n",
        "  print(parcel_weight + \"kg\")\n",
        "calculate_parcel_weight()"
      ],
      "execution_count": 18,
      "outputs": [
        {
          "output_type": "stream",
          "text": [
            "Enter a weight in kg: 1.23\n",
            "Enter another weight in kg: 2.84\n",
            "Enter another weight in kg: 1.675\n",
            "Enter another weight in kg: 3.03\n",
            "9kg\n"
          ],
          "name": "stdout"
        }
      ]
    },
    {
      "cell_type": "markdown",
      "metadata": {
        "id": "VH2xAHLSwTjC"
      },
      "source": [
        "**Exercise 9 - modulus**  \n",
        "Write a function called get_pm_minutes() which will:\n",
        "\n",
        "- ask the user to enter an afternoon time in 24 hour clock (e.g. 1350)\n",
        "- use floor division to get the hour (ie divide by 100)\n",
        "- use modulus to get the minutes\n",
        "- subtract 12 to get the 12 hour clock storing the result back in hour\n",
        "- print a message to say that It is minutes minutes past hour PM\n",
        "\n",
        "*Test Input:*  \n",
        "1350\n",
        "\n",
        "*Expected output:*  \n",
        "It is 50 minutes past 1 PM\n",
        "\n",
        "*(Is it possible to use this code to get the right hour for a morning time? You will do this in the section that allows selection depending on value)*"
      ]
    },
    {
      "cell_type": "code",
      "metadata": {
        "colab": {
          "base_uri": "https://localhost:8080/"
        },
        "id": "HnfxH1JrvDky",
        "outputId": "96bb660a-d2fe-45c1-f7fb-2b79c0b70795"
      },
      "source": [
        "# Afternoon time\n",
        "def get_pm_minutes():\n",
        "  afternoon_time = int(input(\"Enter an afternoon in 24 hour clock (e.g. 1350): \"))\n",
        "  hour = afternoon_time // 100\n",
        "  minutes = afternoon_time % 100\n",
        "  hour = hour - 12\n",
        "  print(\"It is\", minutes, \"minutes past\", hour, \"PM\")\n",
        "get_pm_minutes()"
      ],
      "execution_count": 19,
      "outputs": [
        {
          "output_type": "stream",
          "text": [
            "Enter an afternoon in 24 hour clock (e.g. 1350): 1350\n",
            "It is 50 minutes past 1 PM\n"
          ],
          "name": "stdout"
        }
      ]
    },
    {
      "cell_type": "code",
      "metadata": {
        "colab": {
          "base_uri": "https://localhost:8080/"
        },
        "id": "puXCMafyxG29",
        "outputId": "45dba74a-ebdc-41f0-cb85-81c271777837"
      },
      "source": [
        "# Monring time\n",
        "def get_am_minutes():\n",
        "  morning_time = int(input(\"Enter a monring time in 24 hour clock (e.g. 1040): \"))\n",
        "  hour = morning_time // 100\n",
        "  minutes = morning_time % 100\n",
        "  print(\"It is\", minutes, \"minutes past\", hour, \"AM\")\n",
        "get_am_minutes()"
      ],
      "execution_count": 20,
      "outputs": [
        {
          "output_type": "stream",
          "text": [
            "Enter a monring time in 24 hour clock (e.g. 1040): 1040\n",
            "It is 40 minutes past 10 AM\n"
          ],
          "name": "stdout"
        }
      ]
    },
    {
      "cell_type": "markdown",
      "metadata": {
        "id": "x6pjd9wIyA1p"
      },
      "source": [
        "**Exercise 10 - How many tins of beans?**  \n",
        "Write a function called calculate_tins() that will calculate how many tins of beans will fit in a cardboard box. Bean tins are 11cm tall and 8cm diameter. All tins will be standing up and can be stacked in layers.\n",
        "\n",
        "- use the height, width and depth of the box supplied in the function’s brackets.\n",
        "- calculate the number_of_tins that can fit in the box\n",
        "- print the number_of_tins that can fit\n",
        "\n",
        "*Hint: you will need to calculate the number of layers, and the number that will fit in each direction, the product (all of the numbers multiplied together) will tell you how many tins. All answers must be whole numbers*\n",
        "\n",
        "*Expected output:*  \n",
        "24 tins will fit in this box"
      ]
    },
    {
      "cell_type": "code",
      "metadata": {
        "colab": {
          "base_uri": "https://localhost:8080/"
        },
        "id": "6MQsz89Zxwn_",
        "outputId": "6966febc-d173-4432-ad04-f0f8425adfa9"
      },
      "source": [
        "def calculate_tins(height, width, depth):\n",
        "  tin_height = 11\n",
        "  tin_diameter = 8\n",
        "  number_of_layers = height // tin_height \n",
        "  number_of_stacks1 = width // tin_diameter\n",
        "  number_of_stacks2 = depth // tin_diameter\n",
        "  number_of_tins = number_of_layers * number_of_stacks1 * number_of_stacks2\n",
        "  print(number_of_tins)\n",
        "calculate_tins(24, 50, 18)  "
      ],
      "execution_count": 21,
      "outputs": [
        {
          "output_type": "stream",
          "text": [
            "24\n"
          ],
          "name": "stdout"
        }
      ]
    },
    {
      "cell_type": "markdown",
      "metadata": {
        "id": "Qz5SOfae4ddQ"
      },
      "source": [
        "### **Operators - comparison and reusing variables**\n",
        "\n",
        "**Exercise 1 = running total**  \n",
        "Write a function called calculate_running_total() which will:\n",
        "\n",
        "- assign the value 0 to a variable called **total**\n",
        "- ask the user to enter a **number**\n",
        "- add the number to the total, storing the result in total\n",
        "- ask the user to enter a second **number**\n",
        "- add this number to the total\n",
        "- ask the user to enter a third number\n",
        "- add this number to the total\n",
        "- print the total\n",
        "\n",
        "*Hint: you should only use TWO variables, number and total for this exercise*\n",
        "\n",
        "Test input:  \n",
        "3  \n",
        "5  \n",
        "8  \n",
        "\n",
        "Expected output:  \n",
        "16"
      ]
    },
    {
      "cell_type": "code",
      "metadata": {
        "colab": {
          "base_uri": "https://localhost:8080/"
        },
        "id": "nUuNsx4S333P",
        "outputId": "21a14913-0194-4261-9807-15522250a53d"
      },
      "source": [
        "def calculate_running_total():\n",
        "  total = 0\n",
        "  number = int(input(\"Enter a number: \")) \n",
        "  total += number # Makes total equal to total plus number\n",
        "  number = int(input(\"Enter another number: \"))\n",
        "  total += number\n",
        "  number = int(input(\"Enter a third number: \"))\n",
        "  total += number\n",
        "  print(total)\n",
        "calculate_running_total()"
      ],
      "execution_count": 25,
      "outputs": [
        {
          "output_type": "stream",
          "text": [
            "Enter a number: 3\n",
            "Enter another number: 5\n",
            "Enter a third number: 8\n",
            "16\n"
          ],
          "name": "stdout"
        }
      ]
    },
    {
      "cell_type": "markdown",
      "metadata": {
        "id": "IFNYy2Qh5fjl"
      },
      "source": [
        "**Exercise 2 - continuous decrease**  \n",
        "Write a function called **decrease_time_left()** which will:\n",
        "\n",
        "- assign the value 60 to a variable called **seconds_left**\n",
        "- ask the user to enter a **time** in seconds\n",
        "- subtract the time from the seconds_left, storing the result in seconds_left\n",
        "- ask the user to enter a second time in seconds\n",
        "- subtract this time from the seconds_left\n",
        "- print seconds_left, \"seconds left\"\n",
        "\n",
        "*Hint: you should only use TWO variables, **time** and **seconds_left** for this exercise*\n",
        "\n",
        "Test input:  \n",
        "40  \n",
        "20  \n",
        "\n",
        "Expected output:  \n",
        "0 seconds left"
      ]
    },
    {
      "cell_type": "code",
      "metadata": {
        "colab": {
          "base_uri": "https://localhost:8080/"
        },
        "id": "DkoMf5x_5LiE",
        "outputId": "4d74e373-6595-4551-d3cc-a4640ebf862a"
      },
      "source": [
        "def decrease_time_left():\n",
        "  seconds_left = 60\n",
        "  time = int(input(\"Enter a time in seconds: \"))\n",
        "  seconds_left -= time\n",
        "  time = int(input(\"Enter another time in seconds: \"))\n",
        "  seconds_left -= time\n",
        "  print(seconds_left, \"seconds left\")\n",
        "decrease_time_left()"
      ],
      "execution_count": 30,
      "outputs": [
        {
          "output_type": "stream",
          "text": [
            "Enter a time in seconds: 40\n",
            "Enter another time in seconds: 20\n",
            "0 seconds left\n"
          ],
          "name": "stdout"
        }
      ]
    },
    {
      "cell_type": "markdown",
      "metadata": {
        "id": "vzHoHz1U6i8_"
      },
      "source": [
        "**Exercise 3 - decrease by factor**  \n",
        "Write a function called **decrease_by_factor()** which will:\n",
        "\n",
        "- ask the user for a **factor** to decrease by (a whole number between 2 and 8)\n",
        "- ask the user to enter a whole **number**\n",
        "- divide the number by the factor, using floor division, storing the result in number\n",
        "- print the number\n",
        "- divide the number by the factor again, storing the result again in number\n",
        "- print the number\n",
        "\n",
        "*Hint: On this occasion, you don't need to assign the result of the character input to a variable, because you aren't going to use it, it just lets the user indicate when they are ready to divide again*\n",
        "\n",
        "Test input:  \n",
        "4  \n",
        "80  \n",
        "\n",
        "Expected output:  \n",
        "5"
      ]
    },
    {
      "cell_type": "code",
      "metadata": {
        "colab": {
          "base_uri": "https://localhost:8080/"
        },
        "id": "1fWDW08D5_do",
        "outputId": "e372e392-d9f8-472d-dd27-070f0967b9d5"
      },
      "source": [
        "def decrease_by_factor():\n",
        "  factor = int(input(\"Enter a factor to decrease by (a whole number between 2 and 8): \"))\n",
        "  number = int(input(\"Enter a whole number: \"))\n",
        "  number //= factor\n",
        "  print(number)\n",
        "  number //= factor\n",
        "  print(number)\n",
        "decrease_by_factor()\n"
      ],
      "execution_count": 31,
      "outputs": [
        {
          "output_type": "stream",
          "text": [
            "Enter a factor to decrease by (a whole number between 2 and 8): 4\n",
            "Enter a whole number: 80\n",
            "20\n",
            "5\n"
          ],
          "name": "stdout"
        }
      ]
    },
    {
      "cell_type": "markdown",
      "metadata": {
        "id": "dDlDxPSU7WeV"
      },
      "source": [
        "**Exercise 4 - powers of 4**  \n",
        "Write a function called generate_powers() which will:\n",
        "\n",
        "- assign the value 1 to a variable called number\n",
        "- assign the value 4 to a variable called multiplier\n",
        "- multiply number by multiplier and store the result in number\n",
        "- print number\n",
        "- multiply number by multiplier and store the result in number\n",
        "- print number\n",
        "- add instructions to multiply number by multiplier, store the result in number and print number 8 more times (use copy and paste)\n",
        "\n",
        "*Hint: later on you will learn how to use loops to reduce the amount of code*\n",
        "\n",
        "Expected output:  \n",
        "4  \n",
        "16  \n",
        "64  \n",
        "256  \n",
        "1024  \n",
        "4096  \n",
        "16384  \n",
        "65536  \n",
        "262144  \n",
        "1048576  "
      ]
    },
    {
      "cell_type": "code",
      "metadata": {
        "colab": {
          "base_uri": "https://localhost:8080/"
        },
        "id": "5WV0RPwV7Od4",
        "outputId": "a966dd28-296a-4783-d47e-808252bcbfd4"
      },
      "source": [
        "def generate_powers():\n",
        "  number = 1\n",
        "  multiplier = 4\n",
        "  number *= multiplier\n",
        "  print(number)\n",
        "  number *= multiplier\n",
        "  print(number)\n",
        "  number *= multiplier\n",
        "  print(number)\n",
        "  number *= multiplier\n",
        "  print(number)\n",
        "  number *= multiplier\n",
        "  print(number)\n",
        "  number *= multiplier\n",
        "  print(number)\n",
        "  number *= multiplier\n",
        "  print(number)\n",
        "  number *= multiplier\n",
        "  print(number)\n",
        "  number *= multiplier\n",
        "  print(number)\n",
        "  number *= multiplier\n",
        "  print(number)\n",
        "generate_powers()\n"
      ],
      "execution_count": 32,
      "outputs": [
        {
          "output_type": "stream",
          "text": [
            "4\n",
            "16\n",
            "64\n",
            "256\n",
            "1024\n",
            "4096\n",
            "16384\n",
            "65536\n",
            "262144\n",
            "1048576\n"
          ],
          "name": "stdout"
        }
      ]
    },
    {
      "cell_type": "markdown",
      "metadata": {
        "id": "PniTDXL_ANnW"
      },
      "source": [
        "### **Comparison operators**\n",
        "\n",
        "**Exercise 5 - is it afternoon?**  \n",
        "Write a function called **is_afternoon()** which will:\n",
        "\n",
        "- ask the user to enter a **time** in 24 hour clock format as a whole number (e.g. 1756)\n",
        "- get the **hour** using floor division\n",
        "- assign the result of comparing the hour to 12 (is it after 12?) to a boolean variable called **afternoon**\n",
        "- print the message \"It is afternoon\", followed by True or False depending on the result stored in afternoon\n",
        "\n",
        "*Hint: for this exercise 12 is in the afternoon even when the time is 1200*\n",
        "\n",
        "Test input:  \n",
        "1756\n",
        "\n",
        "Expected output:  \n",
        "It is afternoon True"
      ]
    },
    {
      "cell_type": "code",
      "metadata": {
        "colab": {
          "base_uri": "https://localhost:8080/"
        },
        "id": "JGFVMvZG_BIi",
        "outputId": "df6f996d-1dd0-4a4d-d54d-3b57a5b6c949"
      },
      "source": [
        "def is_afternoon():\n",
        "  time = int(input(\"Enter a time in 24 hour clock format: \"))\n",
        "  hour = time // 100 # Get hour\n",
        "  afternoon = hour >= 12 # Compare hour to 12\n",
        "  print(\"It is afternoon\", afternoon)\n",
        "is_afternoon()"
      ],
      "execution_count": 34,
      "outputs": [
        {
          "output_type": "stream",
          "text": [
            "Enter a time in 24 hour clock format: 1756\n",
            "It is afternoon True\n"
          ],
          "name": "stdout"
        }
      ]
    },
    {
      "cell_type": "markdown",
      "metadata": {
        "id": "nQlo_n8IA_ku"
      },
      "source": [
        "**Exercise 6 - guess the number in two attempts**  \n",
        "The code cell below contains the definition of a function called guess_number(number) which has a variable called number (in the brackets). The function call (last line) sends a generated random number to the function, which becomes the value of the variable number.\n",
        "\n",
        "Complete the function **guess_number()** so that it will:\n",
        "\n",
        "- ask the user to enter a **guess** between 1 and 10\n",
        "- assign True or False to the boolean variable **correct**\n",
        "- print the message \"Guess 1 correct? \" followed by the value of the variable correct\n",
        "- ask the user to guess again, assign the new guess to the guess variable\n",
        "- assign True or False to the boolean variable correct\n",
        "- print the message \"Guess 2 correct? \" followed by the value of the variable correct\n",
        "\n",
        "*Later you will learn to choose from different instructions depending on whether the result was True or False*\n",
        "\n",
        "Example random number:  \n",
        "6\n",
        "\n",
        "Test input:  \n",
        "1  \n",
        "5  \n",
        "\n",
        "Expected output:  \n",
        "Guess 1 correct? False  \n",
        "Guess 2 correct? False  "
      ]
    },
    {
      "cell_type": "code",
      "metadata": {
        "colab": {
          "base_uri": "https://localhost:8080/"
        },
        "id": "0kFGT3ayBQVH",
        "outputId": "7c46dae4-3081-48c4-f1df-d28ca58873e5"
      },
      "source": [
        "from random import randint\n",
        "\n",
        "def guess_number(number):\n",
        "  guess = int(input(\"Guess a number between 1 and 10: \"))\n",
        "  correct = guess == number\n",
        "  print(\"Guess 1 correct? \", correct)\n",
        "  guess = int(input(\"Guess again: \"))\n",
        "  correct = guess == number\n",
        "  print(\"guess 2 correct? \", correct)\n",
        "guess_number(randint(0,10))"
      ],
      "execution_count": 44,
      "outputs": [
        {
          "output_type": "stream",
          "text": [
            "Guess a number between 1 and 10: 2\n",
            "Guess 1 correct?  False\n",
            "Guess again: 2\n",
            "guess 2 correct?  False\n"
          ],
          "name": "stdout"
        }
      ]
    },
    {
      "cell_type": "markdown",
      "metadata": {
        "id": "Ahb248IMnROw"
      },
      "source": [
        "**Exercise 7 - not the same**  \n",
        "Write a function called **show_case_sensitivity()** which will:\n",
        "\n",
        "- ask the user to enter a **name** in all lower case letters (e.g. karen)\n",
        "- ask the user to enter a **capitalised_name** with a leading capital letter\n",
        "- assign the result of comparing the two names to see if they are the same to a boolean variable called **same_names**\n",
        "- print the message \"These are the same name\", followed by True or False depending on the result stored in same_names\n",
        "\n",
        "Test input:  \n",
        "karen  \n",
        "Karen\n",
        "\n",
        "Expected output:  \n",
        "These are the same name False"
      ]
    },
    {
      "cell_type": "code",
      "metadata": {
        "colab": {
          "base_uri": "https://localhost:8080/"
        },
        "id": "_awh06qqmiOq",
        "outputId": "078ceec4-e969-4ab5-c70a-345541212bf8"
      },
      "source": [
        "def show_case_sensitivity():\n",
        "  name = input(\"Enter a name in lower case letters: \")\n",
        "  capitalised_name = input(\"Enter a name with a leading capital letter: \")\n",
        "  same_names = name == capitalised_name\n",
        "  print(\"These are the same name:\", same_names)\n",
        "show_case_sensitivity()"
      ],
      "execution_count": 45,
      "outputs": [
        {
          "output_type": "stream",
          "text": [
            "Enter a name in lower case letters: karen\n",
            "Enter a name with a leading capital letter: Karen#\n",
            "These are the same name: False\n"
          ],
          "name": "stdout"
        }
      ]
    },
    {
      "cell_type": "markdown",
      "metadata": {
        "id": "kFQj0ECdoVNJ"
      },
      "source": [
        "**Exercise 8 - check an answer to a maths problem**  \n",
        "Write a function called **calculate_answer()** which will:\n",
        "\n",
        "- assign the value 5.6 to a float variable called **x**\n",
        "- assign the value 6.2 to a float variable called **y**\n",
        "- use arithmetic operators to calculate the **answer** to: x squared plus y to the power of 3\n",
        "- round the answer to 3 decimal places and store the result back in answer\n",
        "- ask the user to input the **user_answer**\n",
        "- assign the result of checking that the user_answer is not the same as the real answer to a variable called **incorrect_answer**\n",
        "- print the message \"Not the right answer? \", followed by True if the answer was incorrect or False if it was correct (stored in incorrect_answer)\n",
        "\n",
        "Test input:  \n",
        "200\n",
        "\n",
        "Expected output:  \n",
        "Not the right answer? True\n",
        "\n",
        "Test input:  \n",
        "269.688\n",
        "\n",
        "Expected output:  \n",
        "Not the right answer? False"
      ]
    },
    {
      "cell_type": "code",
      "metadata": {
        "colab": {
          "base_uri": "https://localhost:8080/"
        },
        "id": "1Oh_zGaFn_X0",
        "outputId": "0156d591-2684-48d7-c02b-d5352bc375d8"
      },
      "source": [
        "def calculate_answer():\n",
        "  x = float(5.6)\n",
        "  y = float(6.2)\n",
        "  answer = (x ** 2) + (y ** 3)\n",
        "  answer = round(answer, ndigits=3)\n",
        "  user_answer = float(input(\"Enter your answer: \"))\n",
        "  incorrect_answer = user_answer != answer\n",
        "  print(\"Not the right answer? \", incorrect_answer)\n",
        "calculate_answer()\n",
        "calculate_answer()"
      ],
      "execution_count": 56,
      "outputs": [
        {
          "output_type": "stream",
          "text": [
            "Enter your answer: 200\n",
            "Not the right answer?  True\n",
            "Enter your answer: 269.688\n",
            "Not the right answer?  False\n"
          ],
          "name": "stdout"
        }
      ]
    },
    {
      "cell_type": "markdown",
      "metadata": {
        "id": "Jo6aSgUKqT5q"
      },
      "source": [
        "### **Logical operators**\n",
        "\n",
        "**Exercies 9 - two comparisons**  \n",
        "Write a function called **check_in_range()** which will:\n",
        "\n",
        "- ask the user to input a whole **number** between 1 and 12\n",
        "- assign the result of checking that the number is between 1 and 12 to a variable called **in_range**\n",
        "- print the message \"Valid number: \" followed by True if the answer was True or False if not\n",
        "\n",
        "Test input:  \n",
        "6\n",
        "\n",
        "Expected output:  \n",
        "Valid number? True\n",
        "\n",
        "Test input:  \n",
        "23\n",
        "\n",
        "Expected output:  \n",
        "Valid number? False"
      ]
    },
    {
      "cell_type": "code",
      "metadata": {
        "colab": {
          "base_uri": "https://localhost:8080/"
        },
        "id": "9lMUZhQTp12u",
        "outputId": "5cffe48c-a649-4ff7-ecb0-ab8acf282de2"
      },
      "source": [
        "def check_in_range():\n",
        "  number = int(input(\"Enter a whole number between 1 and 12: \"))\n",
        "  in_range = number >= 1 and number <= 12\n",
        "  print(\"Valid number: \", in_range)\n",
        "check_in_range()\n",
        "check_in_range()"
      ],
      "execution_count": 55,
      "outputs": [
        {
          "output_type": "stream",
          "text": [
            "Enter a whole number between 1 and 12: 6\n",
            "Valid number:  True\n",
            "Enter a whole number between 1 and 12: 23\n",
            "Valid number:  False\n"
          ],
          "name": "stdout"
        }
      ]
    },
    {
      "cell_type": "markdown",
      "metadata": {
        "id": "7SMKNt4IrSbL"
      },
      "source": [
        "**Exercise 10 - finding the outlier**  \n",
        "Write a function called **identify_outlier()** which will:\n",
        "\n",
        "- ask the user to input a whole **number**\n",
        "- assign the result of checking that the number is outside the range 20 to 50 to a boolean variable called **outlier**\n",
        "- print the message \"Outlier? \" followed by True if the answer was True or False if not\n",
        "\n",
        "Test input:  \n",
        "32\n",
        "\n",
        "Expected output:  \n",
        "Outlier? False\n",
        "\n",
        "Test input:  \n",
        "16\n",
        "\n",
        "Expected output:  \n",
        "Outlier? True"
      ]
    },
    {
      "cell_type": "code",
      "metadata": {
        "colab": {
          "base_uri": "https://localhost:8080/"
        },
        "id": "kPXPiyM8rEIC",
        "outputId": "ce1de692-9f61-4094-b304-5a4fe73e7cf2"
      },
      "source": [
        "def identify_outlier():\n",
        "  number = int(input(\"Enter a whole number: \"))\n",
        "  outlier = number >= 20 and number <= 50\n",
        "  print(\"Outlier? \", outlier)\n",
        "identify_outlier()\n",
        "identify_outlier()"
      ],
      "execution_count": 58,
      "outputs": [
        {
          "output_type": "stream",
          "text": [
            "Enter a whole number: 32\n",
            "Outlier?  True\n",
            "Enter a whole number: 16\n",
            "Outlier?  False\n"
          ],
          "name": "stdout"
        }
      ]
    },
    {
      "cell_type": "code",
      "metadata": {
        "id": "J7W5KgFar0mP"
      },
      "source": [
        ""
      ],
      "execution_count": null,
      "outputs": []
    }
  ]
}