{
  "nbformat": 4,
  "nbformat_minor": 0,
  "metadata": {
    "colab": {
      "name": "operators",
      "provenance": [],
      "authorship_tag": "ABX9TyP4v0lJbMbE9WLM2GzEsc4R",
      "include_colab_link": true
    },
    "kernelspec": {
      "name": "python3",
      "display_name": "Python 3"
    },
    "language_info": {
      "name": "python"
    }
  },
  "cells": [
    {
      "cell_type": "markdown",
      "metadata": {
        "id": "view-in-github",
        "colab_type": "text"
      },
      "source": [
        "<a href=\"https://colab.research.google.com/github/kjp07/data-python-learning/blob/main/operators.ipynb\" target=\"_parent\"><img src=\"https://colab.research.google.com/assets/colab-badge.svg\" alt=\"Open In Colab\"/></a>"
      ]
    },
    {
      "cell_type": "markdown",
      "metadata": {
        "id": "MXSb5IrY6RLr"
      },
      "source": [
        "## **Operators**\n",
        "\n",
        "**Exercise 1 - multiplication of integers**  \n",
        "Write a function called print_dog_human_age() which will:\n",
        "\n",
        "- ask the user to input their dog's age and assign this to an integer variable called dog_age\n",
        "- calculate the dog’s age in human years by multiplying it by 7, assigning it to a new variable called dog_human_age\n",
        "- print the age in human years (dog_human_age)"
      ]
    },
    {
      "cell_type": "code",
      "metadata": {
        "colab": {
          "base_uri": "https://localhost:8080/"
        },
        "id": "74vSYvXP6SiC",
        "outputId": "a7928cd0-072b-4f0d-dbb8-e7820cbbee56"
      },
      "source": [
        "def print_dog_human_age():\n",
        "  dog_age = int(input(\"Input your dog's age: \"))\n",
        "  dog_human_age = dog_age * 7\n",
        "  print(dog_human_age)\n",
        "print_dog_human_age()"
      ],
      "execution_count": null,
      "outputs": [
        {
          "output_type": "stream",
          "text": [
            "Input your dog's age: 4\n",
            "28\n"
          ],
          "name": "stdout"
        }
      ]
    },
    {
      "cell_type": "markdown",
      "metadata": {
        "id": "El122DL17fff"
      },
      "source": [
        "**Exercise 2 - BIDMAS**  \n",
        "Write a function called calculate_average() which will:\n",
        "\n",
        "- ask the user for 3 seperate numbers, num1, num2, num3\n",
        "- calculate the average of the three numbers\n",
        "- print the average, rounded to 2 decimal places\n",
        "Hint 1: to round a number, use round(), e.g. round(average) Hint 2: remember the BIDMAS order of operators and use brackets to change the order if necessary.\n",
        "\n",
        "Test Input:\n",
        "3\n",
        "5\n",
        "9\n",
        "\n",
        "Expected output:\n",
        "5.67"
      ]
    },
    {
      "cell_type": "code",
      "metadata": {
        "colab": {
          "base_uri": "https://localhost:8080/"
        },
        "id": "CiOAXk1g69Ox",
        "outputId": "ac0d04d7-861d-4ed7-b89a-22fab488c474"
      },
      "source": [
        "def calculate_average():\n",
        "  num1 = int(input(\"Enter a number: \"))\n",
        "  num2 = int(input(\"Enter another number: \"))\n",
        "  num3 = int(input(\"Enter another number: \"))\n",
        "  average_num = (num1 + num2 + num3) / 3\n",
        "  print(round(average_num, ndigits=2)) # set ndigits to 2 for 2 decimal places\n",
        "calculate_average()"
      ],
      "execution_count": null,
      "outputs": [
        {
          "output_type": "stream",
          "text": [
            "Enter a number: 3\n",
            "Enter another number: 5\n",
            "Enter another number: 9\n",
            "5.67\n"
          ],
          "name": "stdout"
        }
      ]
    },
    {
      "cell_type": "markdown",
      "metadata": {
        "id": "Aiz0H9y89GIZ"
      },
      "source": [
        "**Exercise 3 - BIDMAS**  \n",
        "Write a function called calculate_avg_height() which will:\n",
        "\n",
        "- ask the user to input their height\n",
        "- convert height to height_centimeters (multiply by 100)\n",
        "- print height_centimeters\n",
        "- Remember, height in metres is usually a decimal, so data type matters\n",
        "\n",
        "Test Input:\n",
        "1.67\n",
        "\n",
        "Expected output:\n",
        "167"
      ]
    },
    {
      "cell_type": "code",
      "metadata": {
        "colab": {
          "base_uri": "https://localhost:8080/",
          "height": 555
        },
        "id": "MiddhxkH9LDm",
        "outputId": "332d3cc4-1f75-4aea-e5c8-825a8355e8ab"
      },
      "source": [
        "def calculate_avg_height():\n",
        "  height = float(input(\"What is your height in meters? \"))\n",
        "  height_centimeters = int(height * 100)\n",
        "  print(height_centimeters,\"cm\")\n",
        "calculate_avg_height()"
      ],
      "execution_count": 1,
      "outputs": [
        {
          "output_type": "error",
          "ename": "KeyboardInterrupt",
          "evalue": "ignored",
          "traceback": [
            "\u001b[0;31m---------------------------------------------------------------------------\u001b[0m",
            "\u001b[0;31mKeyboardInterrupt\u001b[0m                         Traceback (most recent call last)",
            "\u001b[0;32m/usr/local/lib/python3.7/dist-packages/ipykernel/kernelbase.py\u001b[0m in \u001b[0;36m_input_request\u001b[0;34m(self, prompt, ident, parent, password)\u001b[0m\n\u001b[1;32m    728\u001b[0m             \u001b[0;32mtry\u001b[0m\u001b[0;34m:\u001b[0m\u001b[0;34m\u001b[0m\u001b[0;34m\u001b[0m\u001b[0m\n\u001b[0;32m--> 729\u001b[0;31m                 \u001b[0mident\u001b[0m\u001b[0;34m,\u001b[0m \u001b[0mreply\u001b[0m \u001b[0;34m=\u001b[0m \u001b[0mself\u001b[0m\u001b[0;34m.\u001b[0m\u001b[0msession\u001b[0m\u001b[0;34m.\u001b[0m\u001b[0mrecv\u001b[0m\u001b[0;34m(\u001b[0m\u001b[0mself\u001b[0m\u001b[0;34m.\u001b[0m\u001b[0mstdin_socket\u001b[0m\u001b[0;34m,\u001b[0m \u001b[0;36m0\u001b[0m\u001b[0;34m)\u001b[0m\u001b[0;34m\u001b[0m\u001b[0;34m\u001b[0m\u001b[0m\n\u001b[0m\u001b[1;32m    730\u001b[0m             \u001b[0;32mexcept\u001b[0m \u001b[0mException\u001b[0m\u001b[0;34m:\u001b[0m\u001b[0;34m\u001b[0m\u001b[0;34m\u001b[0m\u001b[0m\n",
            "\u001b[0;32m/usr/local/lib/python3.7/dist-packages/jupyter_client/session.py\u001b[0m in \u001b[0;36mrecv\u001b[0;34m(self, socket, mode, content, copy)\u001b[0m\n\u001b[1;32m    802\u001b[0m         \u001b[0;32mtry\u001b[0m\u001b[0;34m:\u001b[0m\u001b[0;34m\u001b[0m\u001b[0;34m\u001b[0m\u001b[0m\n\u001b[0;32m--> 803\u001b[0;31m             \u001b[0mmsg_list\u001b[0m \u001b[0;34m=\u001b[0m \u001b[0msocket\u001b[0m\u001b[0;34m.\u001b[0m\u001b[0mrecv_multipart\u001b[0m\u001b[0;34m(\u001b[0m\u001b[0mmode\u001b[0m\u001b[0;34m,\u001b[0m \u001b[0mcopy\u001b[0m\u001b[0;34m=\u001b[0m\u001b[0mcopy\u001b[0m\u001b[0;34m)\u001b[0m\u001b[0;34m\u001b[0m\u001b[0;34m\u001b[0m\u001b[0m\n\u001b[0m\u001b[1;32m    804\u001b[0m         \u001b[0;32mexcept\u001b[0m \u001b[0mzmq\u001b[0m\u001b[0;34m.\u001b[0m\u001b[0mZMQError\u001b[0m \u001b[0;32mas\u001b[0m \u001b[0me\u001b[0m\u001b[0;34m:\u001b[0m\u001b[0;34m\u001b[0m\u001b[0;34m\u001b[0m\u001b[0m\n",
            "\u001b[0;32m/usr/local/lib/python3.7/dist-packages/zmq/sugar/socket.py\u001b[0m in \u001b[0;36mrecv_multipart\u001b[0;34m(self, flags, copy, track)\u001b[0m\n\u001b[1;32m    582\u001b[0m         \"\"\"\n\u001b[0;32m--> 583\u001b[0;31m         \u001b[0mparts\u001b[0m \u001b[0;34m=\u001b[0m \u001b[0;34m[\u001b[0m\u001b[0mself\u001b[0m\u001b[0;34m.\u001b[0m\u001b[0mrecv\u001b[0m\u001b[0;34m(\u001b[0m\u001b[0mflags\u001b[0m\u001b[0;34m,\u001b[0m \u001b[0mcopy\u001b[0m\u001b[0;34m=\u001b[0m\u001b[0mcopy\u001b[0m\u001b[0;34m,\u001b[0m \u001b[0mtrack\u001b[0m\u001b[0;34m=\u001b[0m\u001b[0mtrack\u001b[0m\u001b[0;34m)\u001b[0m\u001b[0;34m]\u001b[0m\u001b[0;34m\u001b[0m\u001b[0;34m\u001b[0m\u001b[0m\n\u001b[0m\u001b[1;32m    584\u001b[0m         \u001b[0;31m# have first part already, only loop while more to receive\u001b[0m\u001b[0;34m\u001b[0m\u001b[0;34m\u001b[0m\u001b[0;34m\u001b[0m\u001b[0m\n",
            "\u001b[0;32mzmq/backend/cython/socket.pyx\u001b[0m in \u001b[0;36mzmq.backend.cython.socket.Socket.recv\u001b[0;34m()\u001b[0m\n",
            "\u001b[0;32mzmq/backend/cython/socket.pyx\u001b[0m in \u001b[0;36mzmq.backend.cython.socket.Socket.recv\u001b[0;34m()\u001b[0m\n",
            "\u001b[0;32mzmq/backend/cython/socket.pyx\u001b[0m in \u001b[0;36mzmq.backend.cython.socket._recv_copy\u001b[0;34m()\u001b[0m\n",
            "\u001b[0;32m/usr/local/lib/python3.7/dist-packages/zmq/backend/cython/checkrc.pxd\u001b[0m in \u001b[0;36mzmq.backend.cython.checkrc._check_rc\u001b[0;34m()\u001b[0m\n",
            "\u001b[0;31mKeyboardInterrupt\u001b[0m: ",
            "\nDuring handling of the above exception, another exception occurred:\n",
            "\u001b[0;31mKeyboardInterrupt\u001b[0m                         Traceback (most recent call last)",
            "\u001b[0;32m<ipython-input-1-c08fe18ece9e>\u001b[0m in \u001b[0;36m<module>\u001b[0;34m()\u001b[0m\n\u001b[1;32m      3\u001b[0m   \u001b[0mheight_centimeters\u001b[0m \u001b[0;34m=\u001b[0m \u001b[0mint\u001b[0m\u001b[0;34m(\u001b[0m\u001b[0mheight\u001b[0m \u001b[0;34m*\u001b[0m \u001b[0;36m100\u001b[0m\u001b[0;34m)\u001b[0m\u001b[0;34m\u001b[0m\u001b[0;34m\u001b[0m\u001b[0m\n\u001b[1;32m      4\u001b[0m   \u001b[0mprint\u001b[0m\u001b[0;34m(\u001b[0m\u001b[0mheight_centimeters\u001b[0m\u001b[0;34m,\u001b[0m\u001b[0;34m\"cm\"\u001b[0m\u001b[0;34m)\u001b[0m\u001b[0;34m\u001b[0m\u001b[0;34m\u001b[0m\u001b[0m\n\u001b[0;32m----> 5\u001b[0;31m \u001b[0mcalculate_avg_height\u001b[0m\u001b[0;34m(\u001b[0m\u001b[0;34m)\u001b[0m\u001b[0;34m\u001b[0m\u001b[0;34m\u001b[0m\u001b[0m\n\u001b[0m",
            "\u001b[0;32m<ipython-input-1-c08fe18ece9e>\u001b[0m in \u001b[0;36mcalculate_avg_height\u001b[0;34m()\u001b[0m\n\u001b[1;32m      1\u001b[0m \u001b[0;32mdef\u001b[0m \u001b[0mcalculate_avg_height\u001b[0m\u001b[0;34m(\u001b[0m\u001b[0;34m)\u001b[0m\u001b[0;34m:\u001b[0m\u001b[0;34m\u001b[0m\u001b[0;34m\u001b[0m\u001b[0m\n\u001b[0;32m----> 2\u001b[0;31m   \u001b[0mheight\u001b[0m \u001b[0;34m=\u001b[0m \u001b[0mfloat\u001b[0m\u001b[0;34m(\u001b[0m\u001b[0minput\u001b[0m\u001b[0;34m(\u001b[0m\u001b[0;34m\"What is your height in meters? \"\u001b[0m\u001b[0;34m)\u001b[0m\u001b[0;34m)\u001b[0m\u001b[0;34m\u001b[0m\u001b[0;34m\u001b[0m\u001b[0m\n\u001b[0m\u001b[1;32m      3\u001b[0m   \u001b[0mheight_centimeters\u001b[0m \u001b[0;34m=\u001b[0m \u001b[0mint\u001b[0m\u001b[0;34m(\u001b[0m\u001b[0mheight\u001b[0m \u001b[0;34m*\u001b[0m \u001b[0;36m100\u001b[0m\u001b[0;34m)\u001b[0m\u001b[0;34m\u001b[0m\u001b[0;34m\u001b[0m\u001b[0m\n\u001b[1;32m      4\u001b[0m   \u001b[0mprint\u001b[0m\u001b[0;34m(\u001b[0m\u001b[0mheight_centimeters\u001b[0m\u001b[0;34m,\u001b[0m\u001b[0;34m\"cm\"\u001b[0m\u001b[0;34m)\u001b[0m\u001b[0;34m\u001b[0m\u001b[0;34m\u001b[0m\u001b[0m\n\u001b[1;32m      5\u001b[0m \u001b[0mcalculate_avg_height\u001b[0m\u001b[0;34m(\u001b[0m\u001b[0;34m)\u001b[0m\u001b[0;34m\u001b[0m\u001b[0;34m\u001b[0m\u001b[0m\n",
            "\u001b[0;32m/usr/local/lib/python3.7/dist-packages/ipykernel/kernelbase.py\u001b[0m in \u001b[0;36mraw_input\u001b[0;34m(self, prompt)\u001b[0m\n\u001b[1;32m    702\u001b[0m             \u001b[0mself\u001b[0m\u001b[0;34m.\u001b[0m\u001b[0m_parent_ident\u001b[0m\u001b[0;34m,\u001b[0m\u001b[0;34m\u001b[0m\u001b[0;34m\u001b[0m\u001b[0m\n\u001b[1;32m    703\u001b[0m             \u001b[0mself\u001b[0m\u001b[0;34m.\u001b[0m\u001b[0m_parent_header\u001b[0m\u001b[0;34m,\u001b[0m\u001b[0;34m\u001b[0m\u001b[0;34m\u001b[0m\u001b[0m\n\u001b[0;32m--> 704\u001b[0;31m             \u001b[0mpassword\u001b[0m\u001b[0;34m=\u001b[0m\u001b[0;32mFalse\u001b[0m\u001b[0;34m,\u001b[0m\u001b[0;34m\u001b[0m\u001b[0;34m\u001b[0m\u001b[0m\n\u001b[0m\u001b[1;32m    705\u001b[0m         )\n\u001b[1;32m    706\u001b[0m \u001b[0;34m\u001b[0m\u001b[0m\n",
            "\u001b[0;32m/usr/local/lib/python3.7/dist-packages/ipykernel/kernelbase.py\u001b[0m in \u001b[0;36m_input_request\u001b[0;34m(self, prompt, ident, parent, password)\u001b[0m\n\u001b[1;32m    732\u001b[0m             \u001b[0;32mexcept\u001b[0m \u001b[0mKeyboardInterrupt\u001b[0m\u001b[0;34m:\u001b[0m\u001b[0;34m\u001b[0m\u001b[0;34m\u001b[0m\u001b[0m\n\u001b[1;32m    733\u001b[0m                 \u001b[0;31m# re-raise KeyboardInterrupt, to truncate traceback\u001b[0m\u001b[0;34m\u001b[0m\u001b[0;34m\u001b[0m\u001b[0;34m\u001b[0m\u001b[0m\n\u001b[0;32m--> 734\u001b[0;31m                 \u001b[0;32mraise\u001b[0m \u001b[0mKeyboardInterrupt\u001b[0m\u001b[0;34m\u001b[0m\u001b[0;34m\u001b[0m\u001b[0m\n\u001b[0m\u001b[1;32m    735\u001b[0m             \u001b[0;32melse\u001b[0m\u001b[0;34m:\u001b[0m\u001b[0;34m\u001b[0m\u001b[0;34m\u001b[0m\u001b[0m\n\u001b[1;32m    736\u001b[0m                 \u001b[0;32mbreak\u001b[0m\u001b[0;34m\u001b[0m\u001b[0;34m\u001b[0m\u001b[0m\n",
            "\u001b[0;31mKeyboardInterrupt\u001b[0m: "
          ]
        }
      ]
    },
    {
      "cell_type": "markdown",
      "metadata": {
        "id": "R4hjtMBK-Cm3"
      },
      "source": [
        "**Exercise 4 - float and formatting printing**  \n",
        "At the time of writing, the exchange rate from Pounds (£) to Euros (€) is 1.16 (£1 = €1.16).\n",
        "\n",
        "Write a function called convert_currency() which will:\n",
        "\n",
        "- ask a user to input an amount in pounds\n",
        "- calculate the equivalent number of euros\n",
        "- print euros, rounded to 2 decimal places\n",
        "\n",
        "Test Input:\n",
        "£60\n",
        "\n",
        "Expected output:\n",
        "€69.6\n",
        "\n",
        "Remember, pounds is likely to be a decimal number and that the user should not enter the £ sign."
      ]
    },
    {
      "cell_type": "code",
      "metadata": {
        "colab": {
          "base_uri": "https://localhost:8080/"
        },
        "id": "oAaE1Dn29rck",
        "outputId": "cfe25684-f7dd-4694-a9e3-222e891a33bb"
      },
      "source": [
        "def convert_currency():\n",
        "  pounds = float(input(\"Input an amount in pounds (do not enter the £ sign): \"))\n",
        "  euros = pounds * 1.16 # Exchange rate is £1 = $1.16\n",
        "  print(round(euros, ndigits=2))\n",
        "convert_currency()"
      ],
      "execution_count": null,
      "outputs": [
        {
          "output_type": "stream",
          "text": [
            "Input an amount in pounds (do not enter the £ sign): 60\n",
            "69.6\n"
          ],
          "name": "stdout"
        }
      ]
    },
    {
      "cell_type": "markdown",
      "metadata": {
        "id": "5W1qR9qO-_BS"
      },
      "source": [
        "**Exercise 5 - rounding**  \n",
        "Write a function called calculate_stats() which will: \n",
        "\n",
        "- assign the numbers 3.145, 5.6723 and 9.34 to the variables num1, num2 and num3 respectively\n",
        "- calculate the total of the three numbers, rounded to 2 decimal places\n",
        "- calculate the average of the numbers, rounded to 3 decimal places\n",
        "- print total and average in a message that labels them.\n",
        "\n",
        "Expected output:\n",
        "\n",
        "The total of the three numbers is 18.16\n",
        "The average of the three numbers is 6.052\n",
        "\n",
        "*Remember to calculate the average you divide the total by the quantity of numbers, e.g. total/3*"
      ]
    },
    {
      "cell_type": "code",
      "metadata": {
        "colab": {
          "base_uri": "https://localhost:8080/"
        },
        "id": "pWTsDbsR-p4O",
        "outputId": "6365b14f-b01f-4ac5-8122-ce40c7094208"
      },
      "source": [
        "def calculate_stats():\n",
        "  num1 = 3.145\n",
        "  num2 = 5.6723\n",
        "  num3 = 9.34\n",
        "  total_num = round(num1 + num2 + num3, ndigits = 2) # Round to 2dp\n",
        "  average_num = round(total_num / 3, ndigits = 3) # Round to 3dp\n",
        "  print(\"The total number is\", total_num, \"and the average number is\", average_num,\".\")\n",
        "calculate_stats()"
      ],
      "execution_count": null,
      "outputs": [
        {
          "output_type": "stream",
          "text": [
            "The total number is 18.16 and the average number is 6.053 .\n"
          ],
          "name": "stdout"
        }
      ]
    },
    {
      "cell_type": "markdown",
      "metadata": {
        "id": "DAeWQBq6AKiW"
      },
      "source": [
        "**Exercise 6 - calculating volume**  \n",
        "Bill is moving house. He needs to know how much space his cardboard packing boxes have.\n",
        "\n",
        "Write a function called calculate_volume() which will:\n",
        "\n",
        "- assign the value 3.2, 5.6 and 7.8 to the variables base, width and height respectively\n",
        "- calculate the box_volume rounded to 1 decimal place\n",
        "- print the box_volume  \n",
        "\n",
        "*Hint: volume = base x width x height*\n",
        "\n",
        "Expected output:\n",
        "139.8"
      ]
    },
    {
      "cell_type": "code",
      "metadata": {
        "colab": {
          "base_uri": "https://localhost:8080/"
        },
        "id": "BNi_BZRE_hkB",
        "outputId": "5b743332-6c9a-4b18-e750-7560768ab39a"
      },
      "source": [
        "def calculate_volume():\n",
        "  base = 3.2\n",
        "  width = 5.6\n",
        "  height = 7.8\n",
        "  box_volume = round(base * height * height, ndigits = 1) # round to 1dp\n",
        "  print(box_volume)\n",
        "calculate_volume()"
      ],
      "execution_count": null,
      "outputs": [
        {
          "output_type": "stream",
          "text": [
            "194.7\n"
          ],
          "name": "stdout"
        }
      ]
    },
    {
      "cell_type": "markdown",
      "metadata": {
        "id": "sMmvIvMkA7KK"
      },
      "source": [
        "**Exercise 7 - calculating with volumes**  \n",
        "Bill needs to work out how many boxes he will need.\n",
        "\n",
        "Building on what you did in the last exercise, write a function called calculate_boxes(base, width, height) which will:\n",
        "\n",
        "- calculate the volume of a box, using the base, width and height supplied in the brackets\n",
        "- ask Bill for the total_volume of his stuff\n",
        "- calculate the total number_of_boxes he will need, and print the number_of_boxes  \n",
        "\n",
        "*Hint: the total will not be a decimal number - you should use floor division and add one to the answer (for the box that will have the leftovers).*\n",
        "\n",
        "Test Input:\n",
        "1500\n",
        "\n",
        "Expected output:\n",
        "11"
      ]
    },
    {
      "cell_type": "code",
      "metadata": {
        "id": "CAdMOZWPBBOw"
      },
      "source": [
        "def calculate_boxes(base, width, height):\n",
        "  # add your code below here to calculate the boxVolume, ask for totalVolume and calculate number of boxes\n",
        "  box_volume = base * width * height\n",
        "  total_volume = input(\"What is the volume of your stuff? \")\n",
        "  number_of_boxes = \n",
        "\n",
        "calculate_boxes(3.2, 5.6, 7.8)"
      ],
      "execution_count": null,
      "outputs": []
    },
    {
      "cell_type": "markdown",
      "metadata": {
        "id": "re98N4LLsqh_"
      },
      "source": [
        "**Exercise 8 - floor division**  \n",
        "Write a function called calculate_parcel_weight() which will:\n",
        "\n",
        "- ask the user to enter the weights, in kg, of four parcels (weight1, weight2, weight3, weight4)\n",
        "- calculate the total parcel_weight and display this in a whole number of kg, rounded up\n",
        "- print the parcel_weight\n",
        "\n",
        "*Hint: round() could either round up or down. Floor division could be a better option*\n",
        "\n",
        "*Test Inputs:*  \n",
        "1.23\n",
        "2.84\n",
        "1.675\n",
        "3.03\n",
        "\n",
        "*Expected Output:*  \n",
        "9kg"
      ]
    },
    {
      "cell_type": "code",
      "metadata": {
        "colab": {
          "base_uri": "https://localhost:8080/"
        },
        "id": "sca6uo_msxNe",
        "outputId": "7a4b0a4d-fa2b-48ce-b3d6-c9f8e9f9d78d"
      },
      "source": [
        "def calculate_parcel_weight():\n",
        "  weight1 = float(input(\"Enter a weight in kg: \"))\n",
        "  weight2 = float(input(\"Enter another weight in kg: \"))\n",
        "  weight3 = float(input(\"Enter another weight in kg: \"))\n",
        "  weight4 = float(input(\"Enter another weight in kg: \"))\n",
        "  parcel_weight = str(round(weight1 + weight2 + weight3 + weight4))\n",
        "  print(parcel_weight + \"kg\")\n",
        "calculate_parcel_weight()"
      ],
      "execution_count": 9,
      "outputs": [
        {
          "output_type": "stream",
          "text": [
            "Enter a weight in kg: 1.23\n",
            "Enter another weight in kg: 2.84\n",
            "Enter another weight in kg: 1.675\n",
            "Enter another weight in kg: 3.03\n",
            "9kg\n"
          ],
          "name": "stdout"
        }
      ]
    },
    {
      "cell_type": "markdown",
      "metadata": {
        "id": "VH2xAHLSwTjC"
      },
      "source": [
        "**Exercise 9 - modulus**  \n",
        "Write a function called get_pm_minutes() which will:\n",
        "\n",
        "- ask the user to enter an afternoon time in 24 hour clock (e.g. 1350)\n",
        "- use floor division to get the hour (ie divide by 100)\n",
        "- use modulus to get the minutes\n",
        "- subtract 12 to get the 12 hour clock storing the result back in hour\n",
        "- print a message to say that It is minutes minutes past hour PM\n",
        "\n",
        "*Test Input:*  \n",
        "1350\n",
        "\n",
        "*Expected output:*  \n",
        "It is 50 minutes past 1 PM\n",
        "\n",
        "*(Is it possible to use this code to get the right hour for a morning time? You will do this in the section that allows selection depending on value)*"
      ]
    },
    {
      "cell_type": "code",
      "metadata": {
        "colab": {
          "base_uri": "https://localhost:8080/"
        },
        "id": "HnfxH1JrvDky",
        "outputId": "742059da-f2aa-4558-c3a4-cf2af26f5ef1"
      },
      "source": [
        "# Afternoon time\n",
        "def get_pm_minutes():\n",
        "  afternoon_time = int(input(\"Enter an afternoon in 24 hour clock (e.g. 1350): \"))\n",
        "  hour = afternoon_time // 100\n",
        "  minutes = afternoon_time % 100\n",
        "  hour = hour - 12\n",
        "  print(\"It is\", minutes, \"minutes past\", hour, \"PM\")\n",
        "get_pm_minutes()"
      ],
      "execution_count": 12,
      "outputs": [
        {
          "output_type": "stream",
          "text": [
            "Enter an afternoon in 24 hour clock (e.g. 1350): 1350\n",
            "It is 50 minutes past 1 PM\n"
          ],
          "name": "stdout"
        }
      ]
    },
    {
      "cell_type": "code",
      "metadata": {
        "colab": {
          "base_uri": "https://localhost:8080/"
        },
        "id": "puXCMafyxG29",
        "outputId": "e3ddbae0-27e4-443b-f887-c72f4475c894"
      },
      "source": [
        "# Monring time\n",
        "def get_am_minutes():\n",
        "  morning_time = int(input(\"Enter a monring time in 24 hour clock (e.g. 1040): \"))\n",
        "  hour = morning_time // 100\n",
        "  minutes = morning_time % 100\n",
        "  print(\"It is\", minutes, \"minutes past\", hour, \"AM\")\n",
        "get_am_minutes()"
      ],
      "execution_count": 15,
      "outputs": [
        {
          "output_type": "stream",
          "text": [
            "Enter a monring time in 24 hour clock (e.g. 1040): 1040\n",
            "It is 40 minutes past 10 AM\n"
          ],
          "name": "stdout"
        }
      ]
    },
    {
      "cell_type": "markdown",
      "metadata": {
        "id": "x6pjd9wIyA1p"
      },
      "source": [
        "**Exercise 10 - How many tins of beans?**  \n",
        "Write a function called calculate_tins() that will calculate how many tins of beans will fit in a cardboard box. Bean tins are 11cm tall and 8cm diameter. All tins will be standing up and can be stacked in layers.\n",
        "\n",
        "- use the height, width and depth of the box supplied in the function’s brackets.\n",
        "- calculate the number_of_tins that can fit in the box\n",
        "- print the number_of_tins that can fit\n",
        "\n",
        "*Hint: you will need to calculate the number of layers, and the number that will fit in each direction, the product (all of the numbers multiplied together) will tell you how many tins. All answers must be whole numbers*\n",
        "\n",
        "*Expected output:*  \n",
        "24 tins will fit in this box"
      ]
    },
    {
      "cell_type": "code",
      "metadata": {
        "colab": {
          "base_uri": "https://localhost:8080/"
        },
        "id": "6MQsz89Zxwn_",
        "outputId": "9f4aa603-8040-4d2c-c064-5f50cf2dc732"
      },
      "source": [
        "def calculate_tins(height, width, depth):\n",
        "  tin_height = 11\n",
        "  tin_diameter = 8\n",
        "  number_of_layers = height // tin_height \n",
        "  number_of_stacks1 = width // tin_diameter\n",
        "  number_of_stacks2 = depth // tin_diameter\n",
        "  number_of_tins = number_of_layers * number_of_stacks1 * number_of_stacks2\n",
        "  print(number_of_tins)\n",
        "calculate_tins(24, 50, 18)  "
      ],
      "execution_count": 22,
      "outputs": [
        {
          "output_type": "stream",
          "text": [
            "24\n"
          ],
          "name": "stdout"
        }
      ]
    }
  ]
}