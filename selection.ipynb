{
  "nbformat": 4,
  "nbformat_minor": 0,
  "metadata": {
    "colab": {
      "name": "selection.ipynb",
      "provenance": [],
      "collapsed_sections": [],
      "authorship_tag": "ABX9TyNScmn2kjiqOQxIhCTRqVkX",
      "include_colab_link": true
    },
    "kernelspec": {
      "name": "python3",
      "display_name": "Python 3"
    },
    "language_info": {
      "name": "python"
    }
  },
  "cells": [
    {
      "cell_type": "markdown",
      "metadata": {
        "id": "view-in-github",
        "colab_type": "text"
      },
      "source": [
        "<a href=\"https://colab.research.google.com/github/kjp07/data-python-learning/blob/main/selection.ipynb\" target=\"_parent\"><img src=\"https://colab.research.google.com/assets/colab-badge.svg\" alt=\"Open In Colab\"/></a>"
      ]
    },
    {
      "cell_type": "markdown",
      "metadata": {
        "id": "u3BdmZJY8zbZ"
      },
      "source": [
        "## **Selection**\n",
        "\n",
        "**Example: `If` and `else`**"
      ]
    },
    {
      "cell_type": "code",
      "metadata": {
        "colab": {
          "base_uri": "https://localhost:8080/"
        },
        "id": "zpU5vU-mF1zO",
        "outputId": "3c0ee7da-6085-41ed-a180-f48ff2a226fd"
      },
      "source": [
        "from datetime import datetime\n",
        "\n",
        "# determine if user is old enough to drive\n",
        "def drive_age():\n",
        "    birth_year = int(input(\"What year were you born? \"))  \n",
        "    current_year = datetime.now().year  \n",
        "    age = current_year - birth_year  \n",
        "    if age < 17: # The condition to be met\n",
        "        print(\"You are too young to drive a car.\") # The output if condition met\n",
        "    else: \n",
        "        print(\"You are old enough to drive a car.\") # The output if condition not met\n",
        "\n",
        "drive_age()\n",
        "drive_age()"
      ],
      "execution_count": 1,
      "outputs": [
        {
          "output_type": "stream",
          "text": [
            "What year were you born? 1997\n",
            "You are old enough to drive a car.\n",
            "What year were you born? 2000\n",
            "You are old enough to drive a car.\n"
          ],
          "name": "stdout"
        }
      ]
    },
    {
      "cell_type": "markdown",
      "metadata": {
        "id": "LOD2ECQSHE0y"
      },
      "source": [
        "**Example: `if`, `else`, and `elif`**\n"
      ]
    },
    {
      "cell_type": "code",
      "metadata": {
        "colab": {
          "base_uri": "https://localhost:8080/"
        },
        "id": "Vo2t7Ld7F3FU",
        "outputId": "a60a286e-7906-49a5-a19f-43d3450452ba"
      },
      "source": [
        "def age_to_drive():\n",
        "    age = int(input(\"Please enter your age: \"))\n",
        "    if age >= 17:\n",
        "        print(\"You are old enough to drive\")\n",
        "    elif age >= 13:\n",
        "        print(\"You are too young to drive but you are old enough to have a social media account\")\n",
        "    else:\n",
        "        print(\"You are too young to drive and to have a social media account\")\n",
        "\n",
        "age_to_drive()\n",
        "age_to_drive()\n",
        "age_to_drive()"
      ],
      "execution_count": 2,
      "outputs": [
        {
          "output_type": "stream",
          "text": [
            "Please enter your age: 18\n",
            "You are old enough to drive\n",
            "Please enter your age: 15\n",
            "You are too young to drive but you are old enough to have a social media account\n",
            "Please enter your age: 9\n",
            "You are too young to drive and to have a social media account\n"
          ],
          "name": "stdout"
        }
      ]
    },
    {
      "cell_type": "markdown",
      "metadata": {
        "id": "nYi6_zZWHexN"
      },
      "source": [
        "**Exercise 1 - if and else**  \n",
        "Write a function called find_greater() which will:\n",
        "\n",
        "- ask the user for 2 numbers (num1 and num2)\n",
        "- use an if statement that compares the two numbers and prints the one that is the greater of the two.\n"
      ]
    },
    {
      "cell_type": "code",
      "metadata": {
        "colab": {
          "base_uri": "https://localhost:8080/"
        },
        "id": "z-1DlMRnHdrC",
        "outputId": "fb9780c1-bcdd-48c0-970c-69c7738f20e9"
      },
      "source": [
        "def find_greater():\n",
        "  num1 = int(input(\"Enter a number: \"))\n",
        "  num2 = int(input(\"Enter another number: \"))\n",
        "  if num1 > num2:\n",
        "    print(num1)\n",
        "  else:\n",
        "    print(num2)\n",
        "\n",
        "find_greater()\n",
        "find_greater()"
      ],
      "execution_count": 3,
      "outputs": [
        {
          "output_type": "stream",
          "text": [
            "Enter a number: 5\n",
            "Enter another number: 6\n",
            "6\n",
            "Enter a number: 8\n",
            "Enter another number: 90\n",
            "90\n"
          ],
          "name": "stdout"
        }
      ]
    },
    {
      "cell_type": "markdown",
      "metadata": {
        "id": "0io2T6YNIMvX"
      },
      "source": [
        "**Exercise 2**  \n",
        "Write a function called **guess_number(random_number)** which will use the generated **random_number**, between 1 and 100, provided in the brackets (called a parameter):\n",
        "\n",
        "- ask the user to **guess** the `random_number`\n",
        "- if the `guess` is greater than the `random_number` print \"Too high\"\n",
        "- else if the `guess` is less than the `random_number` print \"Too low\""
      ]
    },
    {
      "cell_type": "code",
      "metadata": {
        "colab": {
          "base_uri": "https://localhost:8080/"
        },
        "id": "l9b8iqa2HSFK",
        "outputId": "63db12d0-1b86-4fc9-8359-0fbce9b0f602"
      },
      "source": [
        "from random import randint\n",
        "\n",
        "def guess_number(random_number):\n",
        "  guess = int(input(\"Guess the number: \"))\n",
        "  if guess > random_number:\n",
        "    print(\"Too high!\")\n",
        "  elif guess < random_number:\n",
        "    print(\"Too low!\")\n",
        "guess_number(randint(1,100))"
      ],
      "execution_count": 4,
      "outputs": [
        {
          "output_type": "stream",
          "text": [
            "Guess the number: 9\n",
            "Too low!\n"
          ],
          "name": "stdout"
        }
      ]
    },
    {
      "cell_type": "markdown",
      "metadata": {
        "id": "RK1VCC4dKLjj"
      },
      "source": [
        "**Exercise 3 - AM or PM**  \n",
        "Write a function called **is_afternoon()** which will:\n",
        "\n",
        "- ask the user to enter the **time** in 24 hour clock format (e.g. 1759)\n",
        "- use floor division (by 100) to calculate the **hour**\n",
        "- use modulus (100) to calculate the **minutes**\n",
        "- if the **hour** is 12 or greater, assign \"PM\" to a variable called **am_pm** AND subtract 12 from `hour` and store the result back in `hour`\n",
        "- else assign \"AM\" to the `am_pm` variable\n",
        "- assign the value str(`hour`) + \":\" + str(`minutes`) + am_pm to a new variable called **text_time**\n",
        "- print the message \"The time is\", `text_time`\n",
        "\n",
        "Test input:  \n",
        "1759\n",
        "\n",
        "Expected output:  \n",
        "The time is 5:59PM\n",
        "\n",
        "Test input:  \n",
        "1132\n",
        "\n",
        "Expected output:  \n",
        "The time is 11:32AM"
      ]
    },
    {
      "cell_type": "code",
      "metadata": {
        "id": "j30WGM4KI3sJ",
        "colab": {
          "base_uri": "https://localhost:8080/"
        },
        "outputId": "5239c319-6e5f-4b74-8019-92677a2b4ffb"
      },
      "source": [
        "def is_afternoon():\n",
        "  time = int(input(\"Enter a time in 24 hour clock format: \"))\n",
        "  hour = int(time // 100)\n",
        "  minutes = time % 100\n",
        "  if hour >= 12:\n",
        "    am_pm = \"PM\" \n",
        "    hour = hour - 12\n",
        "  else:\n",
        "    am_pm = \"AM\"\n",
        "\n",
        "  text_time = str(hour) + \":\" + str(minutes) + am_pm\n",
        "  print(\"The time is\", text_time)\n",
        "  # The two lines of code are executed after the condition has been tested\n",
        "  # They are still part of the function and should be indented.\n",
        "\n",
        "is_afternoon()\n",
        "is_afternoon()"
      ],
      "execution_count": 5,
      "outputs": [
        {
          "output_type": "stream",
          "text": [
            "Enter a time in 24 hour clock format: 1509\n",
            "The time is 3:9PM\n",
            "Enter a time in 24 hour clock format: 1009\n",
            "The time is 10:9AM\n"
          ],
          "name": "stdout"
        }
      ]
    },
    {
      "cell_type": "markdown",
      "metadata": {
        "id": "4CQWepWENMVJ"
      },
      "source": [
        "**Exercise 4 - Getting a number within limits**  \n",
        "Write a function called **validate()** which will:\n",
        "\n",
        "- ask the user to enter a **number** between 1 and 100\n",
        "- if the `number` is less than 1 or more than 100, print the error message \"Number out of limits\"\n",
        "- else print \"Your number was\" followed by the `number`\n",
        "\n",
        "Test input:  \n",
        "50\n",
        "\n",
        "Expected output:  \n",
        "Your number was 50\n",
        "\n",
        "Test input:  \n",
        "150\n",
        "\n",
        "Expected output:  \n",
        "Number out of limits"
      ]
    },
    {
      "cell_type": "code",
      "metadata": {
        "colab": {
          "base_uri": "https://localhost:8080/"
        },
        "id": "xXW2o1X1LuKp",
        "outputId": "70f51e74-3c25-4dab-8467-9bd8bffd4701"
      },
      "source": [
        "def validate():\n",
        "  number = int(input(\"Enter a number between 1 and 100: \"))\n",
        "  if number < 1 or number > 100:\n",
        "    print(\"Number out of limits.\")\n",
        "  else:\n",
        "    print(\"Your number was:\", number)\n",
        "validate()\n",
        "validate()"
      ],
      "execution_count": 6,
      "outputs": [
        {
          "output_type": "stream",
          "text": [
            "Enter a number between 1 and 100: 50\n",
            "Your number was: 50\n",
            "Enter a number between 1 and 100: 150\n",
            "Number out of limits.\n"
          ],
          "name": "stdout"
        }
      ]
    },
    {
      "cell_type": "markdown",
      "metadata": {
        "id": "px5kwNTOeIRY"
      },
      "source": [
        "**Exercise 5 - getting a menu choice**  \n",
        "Write a function called **process_menu()** which will:\n",
        "\n",
        "- print the following menu:\n",
        "\n",
        "What value would you like to see?\n",
        "\n",
        "1. Pi\n",
        "2. Plank’s constant\n",
        "3. E\n",
        "4. Square root of 2\n",
        "- ask the user to choose a **menu_option**\n",
        "- if the menu_option chosen is not between 1 and 4, print \"Invalid choice\"\n",
        "- else print the number of the menu_option chosen\n",
        "\n",
        "Test input:  \n",
        "2\n",
        "\n",
        "Expected output:  \n",
        "2\n",
        "\n",
        "Test input:  \n",
        "5\n",
        "\n",
        "Expected output:  \n",
        "Invalid choice"
      ]
    },
    {
      "cell_type": "code",
      "metadata": {
        "id": "S7A6JLeDNuWl",
        "colab": {
          "base_uri": "https://localhost:8080/"
        },
        "outputId": "0766f86f-dee0-4d11-d871-9c786ed6cfb9"
      },
      "source": [
        "def process_menu():\n",
        "  print(\"\"\"What value would you like to see? \n",
        "    1. Pi \n",
        "    2. Plank's constant \n",
        "    3. E \n",
        "    4. Square root of 2\"\"\") # Triple quotes to print over multiple lines\n",
        "  \n",
        "  menu_option = int(input(\"Chose a menu option: \"))\n",
        "  \n",
        "  if menu_option < 1 or menu_option > 4:\n",
        "    print(\"Invalid choice.\")\n",
        "  else:\n",
        "    print(menu_option)\n",
        "\n",
        "process_menu()\n",
        "process_menu()"
      ],
      "execution_count": 7,
      "outputs": [
        {
          "output_type": "stream",
          "text": [
            "What value would you like to see? \n",
            "    1. Pi \n",
            "    2. Plank's constant \n",
            "    3. E \n",
            "    4. Square root of 2\n",
            "Chose a menu option: 2\n",
            "2\n",
            "What value would you like to see? \n",
            "    1. Pi \n",
            "    2. Plank's constant \n",
            "    3. E \n",
            "    4. Square root of 2\n",
            "Chose a menu option: 5\n",
            "Invalid choice.\n"
          ],
          "name": "stdout"
        }
      ]
    },
    {
      "cell_type": "markdown",
      "metadata": {
        "id": "YQRkQ10hf1Qz"
      },
      "source": [
        "**Exercise 6 - acting on menu choice**  \n",
        "Write a function called **process_menu_options()** which will:\n",
        "\n",
        "- print the following menu:  \n",
        "\n",
        "What value would you like to see?\n",
        "\n",
        "1. Pi\n",
        "2. Plank’s constant\n",
        "3. E\n",
        "4. Square root of 2\n",
        "- ask the user to choose a **menu_option**\n",
        "- if the menu_option is 1 print 3.14159265359\n",
        "- otherwise (*elif*) the menu_option is 2 print 6.62607004 × 10-34 (in Python this would be written 6.62607004E-34\n",
        "- otherwise if the menu_option is 3 - print 2.71828\n",
        "- otherwise if the menu_option is 4 - print 1.414\n",
        "- otherwise if the menu_option is anything else - print \"Invalid choice\""
      ]
    },
    {
      "cell_type": "code",
      "metadata": {
        "colab": {
          "base_uri": "https://localhost:8080/"
        },
        "id": "6BQ6_91RfAeo",
        "outputId": "0f5df8d7-7f5f-447f-eba7-fad8b91db81f"
      },
      "source": [
        "def process_menu_options():\n",
        "  print(\"\"\"What would you like to see?\n",
        "    1. Pi\n",
        "    2. Plank's constant\n",
        "    3. E\n",
        "    4. Square root of 2\"\"\")\n",
        "  menu_option = int(input(\"Choose a menu_option: \")) # Triple quotes for print over multiple lines\n",
        "  if menu_option == 1:\n",
        "    print(\"3.14159265359\")\n",
        "  elif menu_option == 2:\n",
        "    print(\"6.62607004E-34\")\n",
        "  elif menu_option == 3:\n",
        "    print(\"2.71828\")\n",
        "  elif menu_option == 4:\n",
        "    print(\"1.414\")\n",
        "  else:\n",
        "    print(\"Inavlid choice.\") # Output if no conditions met\n",
        "\n",
        "process_menu_options()\n",
        "process_menu_options()\n",
        "process_menu_options()\n",
        "process_menu_options()\n",
        "process_menu_options()"
      ],
      "execution_count": 8,
      "outputs": [
        {
          "output_type": "stream",
          "text": [
            "What would you like to see?\n",
            "    1. Pi\n",
            "    2. Plank's constant\n",
            "    3. E\n",
            "    4. Square root of 2\n",
            "Choose a menu_option: 5\n",
            "Inavlid choice.\n",
            "What would you like to see?\n",
            "    1. Pi\n",
            "    2. Plank's constant\n",
            "    3. E\n",
            "    4. Square root of 2\n",
            "Choose a menu_option: 6\n",
            "Inavlid choice.\n",
            "What would you like to see?\n",
            "    1. Pi\n",
            "    2. Plank's constant\n",
            "    3. E\n",
            "    4. Square root of 2\n",
            "Choose a menu_option: 1\n",
            "3.14159265359\n",
            "What would you like to see?\n",
            "    1. Pi\n",
            "    2. Plank's constant\n",
            "    3. E\n",
            "    4. Square root of 2\n",
            "Choose a menu_option: 3\n",
            "2.71828\n",
            "What would you like to see?\n",
            "    1. Pi\n",
            "    2. Plank's constant\n",
            "    3. E\n",
            "    4. Square root of 2\n",
            "Choose a menu_option: 4\n",
            "1.414\n"
          ],
          "name": "stdout"
        }
      ]
    },
    {
      "cell_type": "markdown",
      "metadata": {
        "id": "q9thAY4Jhmmj"
      },
      "source": [
        "**Exercise 7 - positive or negative**  \n",
        "Write a function called **report_pos_or_neg()** which will:\n",
        "\n",
        "- ask a user to input a **number**\n",
        "- if the number is greater than 0, print number \"is a positive number\"\n",
        "- otherwise if it is less than 0 print number \"is a negative number\n",
        "- otherwise print number \"is neither positive or negative\"\n",
        "\n",
        "Test Inputs:  \n",
        "0  \n",
        "50  \n",
        "-50  \n",
        "\n",
        "Expected outputs:  \n",
        "0 is neither positive or negative  \n",
        "50 is a positive number  \n",
        "-50 is a negative number"
      ]
    },
    {
      "cell_type": "code",
      "metadata": {
        "colab": {
          "base_uri": "https://localhost:8080/"
        },
        "id": "JAAwIRiGhIp0",
        "outputId": "c6be62e4-005f-42fb-9603-ec1f7cb76b93"
      },
      "source": [
        "def report_pos_or_neg():\n",
        "  number = int(input(\"Enter a number: \"))\n",
        "  if number > 0:\n",
        "    print(number, \"is a positive number.\")\n",
        "  elif number < 0:\n",
        "    print(number, \"is a negative number.\")\n",
        "  else:\n",
        "    print(number, \"is neither positive or negative.\")\n",
        "\n",
        "report_pos_or_neg()\n",
        "report_pos_or_neg()\n",
        "report_pos_or_neg()"
      ],
      "execution_count": 9,
      "outputs": [
        {
          "output_type": "stream",
          "text": [
            "Enter a number: 0\n",
            "0 is neither positive or negative.\n",
            "Enter a number: 50\n",
            "50 is a positive number.\n",
            "Enter a number: -50\n",
            "-50 is a negative number.\n"
          ],
          "name": "stdout"
        }
      ]
    },
    {
      "cell_type": "markdown",
      "metadata": {
        "id": "d6U1s0SriP5o"
      },
      "source": [
        "**Exercise 8 - traffic light actions**  \n",
        "Write a function called **act_on_light()** which will:\n",
        "\n",
        "- ask the user to enter a traffic light **colour**\n",
        "- if the colour is \"red\" print the message \"Stop the car\"\n",
        "- otherwise if the colour is \"amber\" print the message \"Be ready to stop\"\n",
        "- otherwise if the colour is \"green\" print the message \"Continue forward\"\n",
        "- otherwise if the colour is \"red and amber\" print the message \"Get ready to go\"\n",
        "- otherwise print \"That is not a traffic light colour\"\n",
        "\n",
        "Test inputs:  \n",
        "red  \n",
        "amber  \n",
        "red and amber  \n",
        "blue  \n",
        "\n",
        "Expected output:  \n",
        "Stop the car  \n",
        "Be ready to stop  \n",
        "Get ready to go  \n",
        "That is not a traffic light colour"
      ]
    },
    {
      "cell_type": "code",
      "metadata": {
        "colab": {
          "base_uri": "https://localhost:8080/"
        },
        "id": "fY-1UMi8iKIy",
        "outputId": "92574816-c837-4a52-9e65-192e7bffefe2"
      },
      "source": [
        "def act_on_light():\n",
        "  colour = str(input(\"Enter a traffic light colour: \"))\n",
        "  if colour == \"red\":\n",
        "    print(\"Stop the car!\")\n",
        "  elif colour == \"amber\":\n",
        "    print(\"Be ready to stop.\")\n",
        "  elif colour == \"green\":\n",
        "    print(\"Continue forward!\")\n",
        "  elif colour == \"red and amber\":\n",
        "    print(\"Get ready to go.\")\n",
        "  else:\n",
        "    print(\"That is not a traffic light colour!\")\n",
        "\n",
        "act_on_light()\n",
        "act_on_light()\n",
        "act_on_light()\n",
        "act_on_light()\n",
        "act_on_light()"
      ],
      "execution_count": 10,
      "outputs": [
        {
          "output_type": "stream",
          "text": [
            "Enter a traffic light colour: red\n",
            "Stop the car!\n",
            "Enter a traffic light colour: amber\n",
            "Be ready to stop.\n",
            "Enter a traffic light colour: red and amber\n",
            "Get ready to go.\n",
            "Enter a traffic light colour: green\n",
            "Continue forward!\n",
            "Enter a traffic light colour: blue\n",
            "That is not a traffic light colour!\n"
          ],
          "name": "stdout"
        }
      ]
    },
    {
      "cell_type": "markdown",
      "metadata": {
        "id": "ctkosuj8k9w0"
      },
      "source": [
        "**Exercise 9 - dealing with capitals**\n",
        "\n",
        "Write a function called **check_capital()** which will:\n",
        "\n",
        "- ask the user what is the **capital** city of Scotland\n",
        "- If they answer correctly (Edinburgh), tell them that they are correct, Edinburgh is the capital city. If they enter anything else, tell them \"No, Edinburgh is the capital city\"\n",
        "\n",
        "Test Inputs:  \n",
        "London  \n",
        "Edinburgh  \n",
        "edinburgh  \n",
        "\n",
        "Expected output:  \n",
        "No, Edinburgh is the capital city  \n",
        "You are correct, Edinburgh is the capital city  \n",
        "No, Edinburgh is the capital city\n",
        "\n",
        "(think about why it is likely that the output here is incorrect, and change the code to make it work)"
      ]
    },
    {
      "cell_type": "code",
      "metadata": {
        "colab": {
          "base_uri": "https://localhost:8080/"
        },
        "id": "h9ehxxLsj4Qv",
        "outputId": "4c3b93f6-9431-4975-ccd2-d65f5ffb905d"
      },
      "source": [
        "def check_capital():\n",
        "  capital = str(input(\"What is the capital city of Scotland? \"))\n",
        "  if capital == \"Edinburgh\":\n",
        "    print(\"You are correct, Edinburgh is the capital city of Scotland.\")\n",
        "  else:\n",
        "    print(\"No, Edinburgh is the capital city.\")\n",
        "\n",
        "check_capital()\n",
        "check_capital()\n",
        "check_capital()"
      ],
      "execution_count": 11,
      "outputs": [
        {
          "output_type": "stream",
          "text": [
            "What is the capital city of Scotland? Edinburgh\n",
            "You are correct, Edinburgh is the capital city of Scotland.\n",
            "What is the capital city of Scotland? edinburgh\n",
            "No, Edinburgh is the capital city.\n",
            "What is the capital city of Scotland? Aberdeen\n",
            "No, Edinburgh is the capital city.\n"
          ],
          "name": "stdout"
        }
      ]
    },
    {
      "cell_type": "code",
      "metadata": {
        "colab": {
          "base_uri": "https://localhost:8080/"
        },
        "id": "eAe8rAoGlNWB",
        "outputId": "a37d9777-5afb-4697-dbb1-20d7995f83e8"
      },
      "source": [
        "# Taking into account entries with lowercase \"e\"\n",
        "def check_capital():\n",
        "  capital = str(input(\"What is the capital city of Scotland? \"))\n",
        "  capital_lower = capital.lower() # Put capital in lowercase\n",
        "  if capital == \"Edinburgh\" or capital_lower == \"edinburgh\": # Checks both capital and capital_lower\n",
        "    print(\"You are correct, Edinburgh is the capital city of Scotland.\")\n",
        "  else:\n",
        "    print(\"No, Edinburgh is the capital city.\")\n",
        "\n",
        "check_capital()\n",
        "check_capital()\n",
        "check_capital()\n"
      ],
      "execution_count": 12,
      "outputs": [
        {
          "output_type": "stream",
          "text": [
            "What is the capital city of Scotland? Edinburgh\n",
            "You are correct, Edinburgh is the capital city of Scotland.\n",
            "What is the capital city of Scotland? edinburgh\n",
            "You are correct, Edinburgh is the capital city of Scotland.\n",
            "What is the capital city of Scotland? London\n",
            "No, Edinburgh is the capital city.\n"
          ],
          "name": "stdout"
        }
      ]
    },
    {
      "cell_type": "markdown",
      "metadata": {
        "id": "Ha4muB4TyoJO"
      },
      "source": [
        "**Exercise 10 - calculator**  \n",
        "Write a function called **calculate()** which will:\n",
        "\n",
        "- asks the user for 2 numbers (**num1** and **num2**) and an **operator** (+, -, /, *)\n",
        "Use if statements to allow the user to perform calculations on these 2 numbers and provide the answer in a print statement.\n",
        "\n",
        "Test Inputs:  \n",
        "num1 = 2, num2 = 3, operator = +  \n",
        "num1 = 2, num2 = 3, operator = -  \n",
        "num1 = 2, num2 = 3, operator = *  \n",
        "num1 = 2, num2 = 3, operator = /  \n",
        "\n",
        "Expected output:  \n",
        "Your answer is 5  \n",
        "Your answer is -1  \n",
        "Your answer is 6  \n",
        "Your answer is 0.6666666666  "
      ]
    },
    {
      "cell_type": "code",
      "metadata": {
        "colab": {
          "base_uri": "https://localhost:8080/"
        },
        "id": "Xo-rbHHEnR1V",
        "outputId": "1c2dedcf-6cb8-4ce0-9ca6-86c499f221d4"
      },
      "source": [
        "def calculate():\n",
        "  num1 = int(input(\"Enter a number: \"))\n",
        "  num2 = int(input(\"Enter another number\"))\n",
        "  operator = input(\"Enter an operator (+, -, /, *): \")\n",
        "  if operator == \"+\":\n",
        "    answer = num1 + num2\n",
        "  elif operator == \"-\":\n",
        "    answer = num1 - num2\n",
        "  elif operator == \"/\":\n",
        "    answer = num1 / num2\n",
        "  elif operator == \"*\":\n",
        "    answer = num1 * num2\n",
        "  print(\"Your answer is\", answer) # Prints the answer where the condition is met\n",
        "\n",
        "calculate()\n",
        "calculate()\n",
        "calculate()\n",
        "calculate()"
      ],
      "execution_count": 13,
      "outputs": [
        {
          "output_type": "stream",
          "text": [
            "Enter a number: 2\n",
            "Enter another number3\n",
            "Enter an operator (+, -, /, *): +\n",
            "Your answer is 5\n",
            "Enter a number: 2\n",
            "Enter another number3\n",
            "Enter an operator (+, -, /, *): -\n",
            "Your answer is -1\n",
            "Enter a number: 2\n",
            "Enter another number3\n",
            "Enter an operator (+, -, /, *): *\n",
            "Your answer is 6\n",
            "Enter a number: 2\n",
            "Enter another number3\n",
            "Enter an operator (+, -, /, *): /\n",
            "Your answer is 0.6666666666666666\n"
          ],
          "name": "stdout"
        }
      ]
    },
    {
      "cell_type": "markdown",
      "metadata": {
        "id": "_pLghNdtamps"
      },
      "source": [
        "### Selection Challenges\n",
        "\n",
        "**Challenge 1 - password format**  \n",
        "Write a function called **check_password_valid()** which will check the validity of a **password** input by a user.\n",
        "\n",
        "Rules for a valid password are:\n",
        "\n",
        "- At least 1 letter between [a-z] and 1 letter between [A-Z].\n",
        "- At least 1 number between [0-9].\n",
        "- At least 1 character from [$#@].\n",
        "- Minimum length 6 characters.\n",
        "- Maximum length 16 characters.  \n",
        "\n",
        "Let the user know if the password they have typed is valid and, if not, where was the first error.\n",
        "\n",
        "*Hint: to test if a set of characters is present in a password String, you can use re.search([character set], password)*\n",
        "\n",
        "Example:\n",
        "*if re.search([a-z],password):*  \n",
        "this will be True if there is at least 1 character a-z in the password.\n",
        "\n",
        "**re** is a pre-written Python function for pattern searching in Strings. It has been imported for you in the code cell below."
      ]
    },
    {
      "cell_type": "code",
      "metadata": {
        "id": "xF69JtLe0H2f",
        "colab": {
          "base_uri": "https://localhost:8080/"
        },
        "outputId": "77a2fd8d-be54-4912-ce3a-0c8d8b5a1a58"
      },
      "source": [
        "import re \n",
        "\n",
        "def check_password_valid():\n",
        "  password = str(input(\"Enter a password: \"))\n",
        "  if not re.search('[a-z]', password):\n",
        "    print(\"Password needs to contain at least 1 letter between [a-z] and 1 letter between [A-Z]\")\n",
        "  elif not re.search('[0-9]', password):\n",
        "    print(\"Password needs to contain at least 1 number between 0-9\")      \n",
        "  elif not re.search('[$#@]', password):\n",
        "    print(\"Password needs to contain at least 1 character from [$#@]\")\n",
        "  elif len(password) < 6:\n",
        "    print(\"Password needs to be at least 6 characters long\")\n",
        "  elif len(password) > 16:\n",
        "    print(\"Password can't be more than 16 characters long\")  \n",
        "  else:\n",
        "    print(\"Password accepted\")\n",
        "\n",
        "check_password_valid()"
      ],
      "execution_count": 35,
      "outputs": [
        {
          "output_type": "stream",
          "text": [
            "Enter a password: password@12\n",
            "Password accepted\n"
          ],
          "name": "stdout"
        }
      ]
    },
    {
      "cell_type": "markdown",
      "metadata": {
        "id": "wJeO8-uwj0VK"
      },
      "source": [
        "**Challenge 2 - triangle shape**  \n",
        "Write a function called **evaluate_triangle_shape()** which will check if a triangle is equilateral, isosceles or scalene, based on the three side lengths entered by a user (**x**, **y** and **z**).\n",
        "\n",
        "An equilateral triangle is a triangle in which all three sides are equal. A scalene triangle is a triangle that has three unequal sides. An isosceles triangle is a triangle with (at least) two equal sides.\n",
        "\n",
        "For example:  \n",
        "A triange with side lengths  \n",
        "x: 6  \n",
        "y: 8  \n",
        "z: 12  \n",
        "is a Scalene triangle\n",
        "\n",
        "A triangle with side lengths x:5  \n",
        "y:3  \n",
        "z:5  \n",
        "is an Isosceles triangle"
      ]
    },
    {
      "cell_type": "code",
      "metadata": {
        "colab": {
          "base_uri": "https://localhost:8080/"
        },
        "id": "IK8IarxhbK1S",
        "outputId": "a513e26e-ffde-41c8-c4e8-4ae092cea434"
      },
      "source": [
        "def evaluate_triangle_shape():\n",
        "  x = int(input(\"Enter a number: \"))\n",
        "  y = int(input(\"Enter another number: \"))\n",
        "  z = int(input(\"Enter another number: \"))\n",
        "  if x == y and x == z and y == z:\n",
        "    print(\"Equilateral triangle\")\n",
        "  elif x != y and x != z and y != z:\n",
        "    print(\"Scalene triangle\")\n",
        "  elif x == y or x == z or y == z:\n",
        "    print(\"Isosceles triangle\")\n",
        "\n",
        "evaluate_triangle_shape()"
      ],
      "execution_count": 46,
      "outputs": [
        {
          "output_type": "stream",
          "text": [
            "Enter a number: 4\n",
            "Enter another number: 4\n",
            "Enter another number: 4\n",
            "Equilateral triangle\n"
          ],
          "name": "stdout"
        }
      ]
    },
    {
      "cell_type": "markdown",
      "metadata": {
        "id": "0O4qiZ2alpTX"
      },
      "source": [
        "**Challenge 3 - which season**  \n",
        "Write a function called **determine_season()** which will ask the user to enter two integers representing a **month** and **day** and prints the season for that month and day.\n",
        "\n",
        "Note: for this exercise the season dates are:\n",
        "\n",
        "- Winter December 21 to March 20\n",
        "- Spring March 21 to June 20\n",
        "- Summer June 21 to September 20\n",
        "- Autumn September 21 to December 20\n",
        "\n",
        "Test input:  \n",
        "Input the month (e.g. January, February etc.): 7  \n",
        "Input the day: 31\n",
        "\n",
        "Expected output:  \n",
        "Season is summer\n",
        "\n",
        "*Note: this will require multiple and or or operators and you should use brackets to help Python know which operations to do first*\n",
        "\n",
        "*For an extra challenge you can check that the day is valid for the month*"
      ]
    },
    {
      "cell_type": "code",
      "metadata": {
        "colab": {
          "base_uri": "https://localhost:8080/"
        },
        "id": "EHixn1rxlDac",
        "outputId": "bd2d1b82-aabb-424f-e012-48e27bf487c4"
      },
      "source": [
        "def determine_season():\n",
        "  month = int(input(\"Enter a number representing a month: \"))\n",
        "  day = int(input(\"Enter a number representing a day: \"))\n",
        "  if (month == 12 and day >= 21) or (month <= 3 and day <= 20):\n",
        "    print(\"Season is Winter\")\n",
        "  elif (month >= 3 and day >= 21) or (month <= 6 and day <= 20):\n",
        "    print(\"Season is Spring\")\n",
        "  elif (month >= 6 and day >= 21) or (month <= 9 and days <=20):\n",
        "    print(\"Season is Summer\")\n",
        "  elif (month >= 9 and day >=21) or (month == 12 and day <= 20):\n",
        "    print(\"Season is Autumn\")\n",
        "\n",
        "determine_season()"
      ],
      "execution_count": 57,
      "outputs": [
        {
          "output_type": "stream",
          "text": [
            "Enter a number representing a month: 12\n",
            "Enter a number representing a day: 13\n",
            "Season is Autumn\n"
          ],
          "name": "stdout"
        }
      ]
    },
    {
      "cell_type": "code",
      "metadata": {
        "id": "NoE4aSNTm6yi"
      },
      "source": [
        ""
      ],
      "execution_count": null,
      "outputs": []
    }
  ]
}