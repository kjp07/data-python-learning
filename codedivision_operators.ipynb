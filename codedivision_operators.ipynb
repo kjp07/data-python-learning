{
  "nbformat": 4,
  "nbformat_minor": 0,
  "metadata": {
    "colab": {
      "name": "codedivision_operators",
      "provenance": [],
      "authorship_tag": "ABX9TyPHAXv1lXXg3/GwJQlY3SO3",
      "include_colab_link": true
    },
    "kernelspec": {
      "name": "python3",
      "display_name": "Python 3"
    },
    "language_info": {
      "name": "python"
    }
  },
  "cells": [
    {
      "cell_type": "markdown",
      "metadata": {
        "id": "view-in-github",
        "colab_type": "text"
      },
      "source": [
        "<a href=\"https://colab.research.google.com/github/kjp07/data-python-learning/blob/main/codedivision_operators.ipynb\" target=\"_parent\"><img src=\"https://colab.research.google.com/assets/colab-badge.svg\" alt=\"Open In Colab\"/></a>"
      ]
    },
    {
      "cell_type": "code",
      "metadata": {
        "id": "6h62sk8y6M4A"
      },
      "source": [
        ""
      ],
      "execution_count": null,
      "outputs": []
    },
    {
      "cell_type": "markdown",
      "metadata": {
        "id": "MXSb5IrY6RLr"
      },
      "source": [
        "## **Operators**"
      ]
    },
    {
      "cell_type": "markdown",
      "metadata": {
        "id": "ixriAp5d6a9E"
      },
      "source": [
        "### **Exercise 1** - multiplication of integers  \n",
        "Write a function called print_dog_human_age() which will:\n",
        "\n",
        "- ask the user to input their dog's age and assign this to an integer variable called dog_age\n",
        "- calculate the dog’s age in human years by multiplying it by 7, assigning it to a new variable called dog_human_age\n",
        "- print the age in human years (dog_human_age)"
      ]
    },
    {
      "cell_type": "code",
      "metadata": {
        "colab": {
          "base_uri": "https://localhost:8080/"
        },
        "id": "74vSYvXP6SiC",
        "outputId": "a7928cd0-072b-4f0d-dbb8-e7820cbbee56"
      },
      "source": [
        "def print_dog_human_age():\n",
        "  dog_age = int(input(\"Input your dog's age: \"))\n",
        "  dog_human_age = dog_age * 7\n",
        "  print(dog_human_age)\n",
        "print_dog_human_age()"
      ],
      "execution_count": 6,
      "outputs": [
        {
          "output_type": "stream",
          "text": [
            "Input your dog's age: 4\n",
            "28\n"
          ],
          "name": "stdout"
        }
      ]
    },
    {
      "cell_type": "markdown",
      "metadata": {
        "id": "El122DL17fff"
      },
      "source": [
        "### **Exercise 2** - BIDMAS  \n",
        "Write a function called calculate_average() which will:\n",
        "\n",
        "- ask the user for 3 seperate numbers, num1, num2, num3\n",
        "- calculate the average of the three numbers\n",
        "- print the average, rounded to 2 decimal places\n",
        "Hint 1: to round a number, use round(), e.g. round(average) Hint 2: remember the BIDMAS order of operators and use brackets to change the order if necessary.\n",
        "\n",
        "Test Input:\n",
        "3\n",
        "5\n",
        "9\n",
        "\n",
        "Expected output:\n",
        "5.67"
      ]
    },
    {
      "cell_type": "code",
      "metadata": {
        "colab": {
          "base_uri": "https://localhost:8080/"
        },
        "id": "CiOAXk1g69Ox",
        "outputId": "ac0d04d7-861d-4ed7-b89a-22fab488c474"
      },
      "source": [
        "def calculate_average():\n",
        "  num1 = int(input(\"Enter a number: \"))\n",
        "  num2 = int(input(\"Enter another number: \"))\n",
        "  num3 = int(input(\"Enter another number: \"))\n",
        "  average_num = (num1 + num2 + num3) / 3\n",
        "  print(round(average_num, ndigits=2)) # set ndigits to 2 for 2 decimal places\n",
        "calculate_average()"
      ],
      "execution_count": 10,
      "outputs": [
        {
          "output_type": "stream",
          "text": [
            "Enter a number: 3\n",
            "Enter another number: 5\n",
            "Enter another number: 9\n",
            "5.67\n"
          ],
          "name": "stdout"
        }
      ]
    },
    {
      "cell_type": "markdown",
      "metadata": {
        "id": "Aiz0H9y89GIZ"
      },
      "source": [
        "### **Exercise 3** - BIDMAS  \n",
        "Write a function called calculate_avg_height() which will:\n",
        "\n",
        "- ask the user to input their height\n",
        "- convert height to height_centimeters (multiply by 100)\n",
        "- print height_centimeters\n",
        "- Remember, height in metres is usually a decimal, so data type matters\n",
        "\n",
        "Test Input:\n",
        "1.67\n",
        "\n",
        "Expected output:\n",
        "167"
      ]
    },
    {
      "cell_type": "code",
      "metadata": {
        "colab": {
          "base_uri": "https://localhost:8080/"
        },
        "id": "MiddhxkH9LDm",
        "outputId": "aa052ef5-af2d-492e-cf59-97e20d6e445f"
      },
      "source": [
        "def calculate_avg_height():\n",
        "  height = float(input(\"What is your height in meters? \"))\n",
        "  height_centimeters = int(height * 100)\n",
        "  print(height_centimeters,\"cm\")\n",
        "calculate_avg_height()"
      ],
      "execution_count": 16,
      "outputs": [
        {
          "output_type": "stream",
          "text": [
            "What is your height in meters? 1.56\n",
            "156 cm\n"
          ],
          "name": "stdout"
        }
      ]
    },
    {
      "cell_type": "markdown",
      "metadata": {
        "id": "R4hjtMBK-Cm3"
      },
      "source": [
        "### **Exercise 4** - float and formatting printing  \n",
        "At the time of writing, the exchange rate from Pounds (£) to Euros (€) is 1.16 (£1 = €1.16).\n",
        "\n",
        "Write a function called convert_currency() which will:\n",
        "\n",
        "- ask a user to input an amount in pounds\n",
        "- calculate the equivalent number of euros\n",
        "- print euros, rounded to 2 decimal places\n",
        "\n",
        "Test Input:\n",
        "£60\n",
        "\n",
        "Expected output:\n",
        "€69.6\n",
        "\n",
        "Remember, pounds is likely to be a decimal number and that the user should not enter the £ sign."
      ]
    },
    {
      "cell_type": "code",
      "metadata": {
        "colab": {
          "base_uri": "https://localhost:8080/"
        },
        "id": "oAaE1Dn29rck",
        "outputId": "cfe25684-f7dd-4694-a9e3-222e891a33bb"
      },
      "source": [
        "def convert_currency():\n",
        "  pounds = float(input(\"Input an amount in pounds (do not enter the £ sign): \"))\n",
        "  euros = pounds * 1.16 # Exchange rate is £1 = $1.16\n",
        "  print(round(euros, ndigits=2))\n",
        "convert_currency()"
      ],
      "execution_count": 18,
      "outputs": [
        {
          "output_type": "stream",
          "text": [
            "Input an amount in pounds (do not enter the £ sign): 60\n",
            "69.6\n"
          ],
          "name": "stdout"
        }
      ]
    },
    {
      "cell_type": "markdown",
      "metadata": {
        "id": "5W1qR9qO-_BS"
      },
      "source": [
        "### **Exercise 5** - rounding  \n",
        "Write a function called calculate_stats() which will: \n",
        "\n",
        "- assign the numbers 3.145, 5.6723 and 9.34 to the variables num1, num2 and num3 respectively\n",
        "- calculate the total of the three numbers, rounded to 2 decimal places\n",
        "- calculate the average of the numbers, rounded to 3 decimal places\n",
        "- print total and average in a message that labels them.\n",
        "\n",
        "Expected output:\n",
        "\n",
        "The total of the three numbers is 18.16\n",
        "The average of the three numbers is 6.052\n",
        "\n",
        "*Remember to calculate the average you divide the total by the quantity of numbers, e.g. total/3*"
      ]
    },
    {
      "cell_type": "code",
      "metadata": {
        "colab": {
          "base_uri": "https://localhost:8080/"
        },
        "id": "pWTsDbsR-p4O",
        "outputId": "6365b14f-b01f-4ac5-8122-ce40c7094208"
      },
      "source": [
        "def calculate_stats():\n",
        "  num1 = 3.145\n",
        "  num2 = 5.6723\n",
        "  num3 = 9.34\n",
        "  total_num = round(num1 + num2 + num3, ndigits = 2) # Round to 2dp\n",
        "  average_num = round(total_num / 3, ndigits = 3) # Round to 3dp\n",
        "  print(\"The total number is\", total_num, \"and the average number is\", average_num,\".\")\n",
        "calculate_stats()"
      ],
      "execution_count": 23,
      "outputs": [
        {
          "output_type": "stream",
          "text": [
            "The total number is 18.16 and the average number is 6.053 .\n"
          ],
          "name": "stdout"
        }
      ]
    },
    {
      "cell_type": "markdown",
      "metadata": {
        "id": "DAeWQBq6AKiW"
      },
      "source": [
        "### **Exercise 6** - calculating volume  \n",
        "Bill is moving house. He needs to know how much space his cardboard packing boxes have.\n",
        "\n",
        "Write a function called calculate_volume() which will:\n",
        "\n",
        "- assign the value 3.2, 5.6 and 7.8 to the variables base, width and height respectively\n",
        "- calculate the box_volume rounded to 1 decimal place\n",
        "- print the box_volume  \n",
        "\n",
        "*Hint: volume = base x width x height*\n",
        "\n",
        "Expected output:\n",
        "139.8"
      ]
    },
    {
      "cell_type": "code",
      "metadata": {
        "colab": {
          "base_uri": "https://localhost:8080/"
        },
        "id": "BNi_BZRE_hkB",
        "outputId": "5b743332-6c9a-4b18-e750-7560768ab39a"
      },
      "source": [
        "def calculate_volume():\n",
        "  base = 3.2\n",
        "  width = 5.6\n",
        "  height = 7.8\n",
        "  box_volume = round(base * height * height, ndigits = 1) # round to 1dp\n",
        "  print(box_volume)\n",
        "calculate_volume()"
      ],
      "execution_count": 25,
      "outputs": [
        {
          "output_type": "stream",
          "text": [
            "194.7\n"
          ],
          "name": "stdout"
        }
      ]
    },
    {
      "cell_type": "markdown",
      "metadata": {
        "id": "sMmvIvMkA7KK"
      },
      "source": [
        "### **Exercise 7** - calculating with volumes  \n",
        "Bill needs to work out how many boxes he will need.\n",
        "\n",
        "Building on what you did in the last exercise, write a function called calculate_boxes(base, width, height) which will:\n",
        "\n",
        "- calculate the volume of a box, using the base, width and height supplied in the brackets\n",
        "- ask Bill for the total_volume of his stuff\n",
        "- calculate the total number_of_boxes he will need, and print the number_of_boxes  \n",
        "\n",
        "*Hint: the total will not be a decimal number - you should use floor division and add one to the answer (for the box that will have the leftovers).*\n",
        "\n",
        "Test Input:\n",
        "1500\n",
        "\n",
        "Expected output:\n",
        "11"
      ]
    },
    {
      "cell_type": "code",
      "metadata": {
        "id": "CAdMOZWPBBOw"
      },
      "source": [
        "def calculate_boxes(base, width, height):\n",
        "  # add your code below here to calculate the boxVolume, ask for totalVolume and calculate number of boxes\n",
        "  box_volume = base * width * height\n",
        "  total_volume = input(\"What is the volume of your stuff? \")\n",
        "  number_of_boxes = \n",
        "\n",
        "calculate_boxes(3.2, 5.6, 7.8)"
      ],
      "execution_count": null,
      "outputs": []
    }
  ]
}