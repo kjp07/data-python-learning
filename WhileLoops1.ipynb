{
  "nbformat": 4,
  "nbformat_minor": 0,
  "metadata": {
    "colab": {
      "name": "WhileLoops1.ipynb",
      "provenance": [],
      "collapsed_sections": [],
      "include_colab_link": true
    },
    "kernelspec": {
      "name": "python3",
      "display_name": "Python 3"
    }
  },
  "cells": [
    {
      "cell_type": "markdown",
      "metadata": {
        "id": "view-in-github",
        "colab_type": "text"
      },
      "source": [
        "<a href=\"https://colab.research.google.com/github/kjp07/data-python-learning/blob/main/WhileLoops1.ipynb\" target=\"_parent\"><img src=\"https://colab.research.google.com/assets/colab-badge.svg\" alt=\"Open In Colab\"/></a>"
      ]
    },
    {
      "cell_type": "markdown",
      "metadata": {
        "id": "OWGIE_ptimyf"
      },
      "source": [
        "# While loops\n",
        "\n",
        "---\n"
      ]
    },
    {
      "cell_type": "markdown",
      "metadata": {
        "id": "Kjh4DVogizl5"
      },
      "source": [
        "There are many situations when an external event (such as an input from the user or finding an invalid data value) will be the thing that will cause the loop to stop.\n",
        "\n",
        "A while loop allows us to say \"repeat these instructions while something has not yet happened, or repeat these instruction while a particular state exists\"\n",
        "\n",
        "For example, we want to ask a user to enter some positive numbers to be added to a total. They will indicate that there are no more numbers by entering -1.\n",
        "\n"
      ]
    },
    {
      "cell_type": "code",
      "metadata": {
        "id": "HieVx4BrtJlU",
        "colab": {
          "base_uri": "https://localhost:8080/"
        },
        "outputId": "226bc03e-74dd-4969-8bf4-cac5a0201741"
      },
      "source": [
        "# initialise a total to 0\n",
        "# read the first number\n",
        "# add the number to the total and keep reading next number and adding to total until -1 entered\n",
        "\n",
        "def running_total():\n",
        "    total = 0\n",
        "    num = int(input(\"Enter a number, or type -1 to stop\"))\n",
        "    while num != -1:\n",
        "        total = total + num\n",
        "        num = int(input(\"Enter a number, or type -1 to stop\"))\n",
        "    print(total)\n",
        "\n",
        "running_total()"
      ],
      "execution_count": 2,
      "outputs": [
        {
          "output_type": "stream",
          "text": [
            "Enter a number, or type -1 to stop5\n",
            "Enter a number, or type -1 to stop6\n",
            "Enter a number, or type -1 to stop-11\n",
            "Enter a number, or type -1 to stop9\n",
            "Enter a number, or type -1 to stop-1\n",
            "9\n"
          ],
          "name": "stdout"
        }
      ]
    },
    {
      "cell_type": "markdown",
      "metadata": {
        "id": "X8pROiEYtKbA"
      },
      "source": [
        "**Another example**\n",
        "\n",
        "We want to take a number from the user and keep dividing it by 2 until the answer is 1 or less, then to print the number of times it was divided. Try it out. If you enter 8 then the answer should be 3, if you enter 6 the answer will also be 3."
      ]
    },
    {
      "cell_type": "code",
      "metadata": {
        "id": "eL9nJORbtTUb",
        "colab": {
          "base_uri": "https://localhost:8080/"
        },
        "outputId": "e7778702-c122-4b11-d565-8f384ea280a3"
      },
      "source": [
        "def div_by_two():\n",
        "  num = int(input(\"Enter a number to be processed\"))\n",
        "  number_times_divided = 0\n",
        "  while num > 1:\n",
        "    number_times_divided = number_times_divided + 1\n",
        "    num = num/2\n",
        "  print(\"Your number was divided\", number_times_divided, \"times\") \n",
        "   \n",
        "div_by_two()"
      ],
      "execution_count": 4,
      "outputs": [
        {
          "output_type": "stream",
          "text": [
            "Enter a number to be processed6\n",
            "Your number was divided 3 times\n"
          ],
          "name": "stdout"
        }
      ]
    },
    {
      "cell_type": "markdown",
      "metadata": {
        "id": "jKqqk9LstW83"
      },
      "source": [
        "*Here are some more examples of use of while loops.*\n",
        "\n",
        "### Ensuring valid input  \n",
        "When reading from the keyboard it is important to ensure that the user only enters valid data. You can do this in a number of ways but a while loop can be used to make the user keep entering data until they enter something that is valid."
      ]
    },
    {
      "cell_type": "code",
      "metadata": {
        "id": "7_CoIBfluIUG",
        "colab": {
          "base_uri": "https://localhost:8080/"
        },
        "outputId": "2b60449f-b9a7-40a6-aa27-2afe2f2341b8"
      },
      "source": [
        "# read a number from the user\n",
        "# check that the number is a positive integer.  If not, display error messages\n",
        "# keep reading until a positive integer is read\n",
        "\n",
        "def positive_num():\n",
        "  number = -1\n",
        "  while number < 0:\n",
        "    print(\"You must type a number above 0\")\n",
        "    number = int(input(\"Enter a positive number\"))\n",
        "  print(\"Thank you for typing the number\", number)\n",
        "\n",
        "positive_num()"
      ],
      "execution_count": 6,
      "outputs": [
        {
          "output_type": "stream",
          "text": [
            "You must type a number above 0\n",
            "Enter a positive number-1\n",
            "You must type a number above 0\n",
            "Enter a positive number6\n",
            "Thank you for typing the number 6\n"
          ],
          "name": "stdout"
        }
      ]
    },
    {
      "cell_type": "markdown",
      "metadata": {
        "id": "YiO-WgJ8zzjp"
      },
      "source": [
        "### Take home points\n",
        "\n",
        "* An algorithm is the method for solving a particular problem (e.g. getting the right sort of number, selecting a message depending on input, calculating a new figure, etc)\n",
        "* A while loop will keep repeating while the given condition is TRUE\n",
        "* As soon as the condition becomes false the loop will stop executing\n",
        "* We use while loops when we don't necessarily know how many times a loop will need to repeat, but we do know under what conditions it does need to repeat."
      ]
    },
    {
      "cell_type": "markdown",
      "metadata": {
        "id": "4CS8CNrmQUbO"
      },
      "source": [
        "---\n",
        "### Exercise 1 - get a valid username\n",
        "\n",
        "Write a function called **get_username()** which will:  \n",
        "\n",
        "*  assign the value False to a boolean variable called **valid**  \n",
        "*  start a while loop that will continue to loop while `valid` is False  \n",
        "*  in the loop:  ask the user to enter a **username**,  if the `username` is \"user\" assign the value True to `valid`, otherwise print the message \"Incorrect user name\"   \n",
        "*  after the loop, display the message \"Welcome `username`, you will now be asked to enter your password  \n",
        "\n",
        "Test input:  \n",
        "username   \n",
        "user  \n",
        "\n",
        "Expected output:  \n",
        "Incorrect username  \n",
        "Welcome user you will now be asked to enter your password  "
      ]
    },
    {
      "cell_type": "code",
      "metadata": {
        "id": "nwq55T5eRv7_",
        "colab": {
          "base_uri": "https://localhost:8080/"
        },
        "outputId": "920dfdd6-dabb-4292-9515-a6a041b3fc28"
      },
      "source": [
        "def get_username():\n",
        "  \n",
        "  valid = False\n",
        "  \n",
        "  # As long as valid is False, print statement and keep asking for username\n",
        "  while valid == False: \n",
        "    username = str(input(\"Enter a username: \"))\n",
        "    if username == \"user\":\n",
        "      valid = True\n",
        "    else:\n",
        "      print(\"Incorrect user name\")\n",
        "  \n",
        "  print(\"Welcome username, you will now be asked to enter your password\")\n",
        "\n",
        "get_username()"
      ],
      "execution_count": 8,
      "outputs": [
        {
          "output_type": "stream",
          "text": [
            "Enter a username: username\n",
            "Incorrect user name\n",
            "Enter a username: user\n",
            "Welcome username, you will now be asked to enter your password\n"
          ],
          "name": "stdout"
        }
      ]
    },
    {
      "cell_type": "markdown",
      "metadata": {
        "id": "FXN6-MtQRwb9"
      },
      "source": [
        "---\n",
        "### Exercise 2 - get a valid passcode  \n",
        "\n",
        "Write a function called **get_passcode()** which will:  \n",
        "\n",
        "*  assign the value False to a boolean variable called **valid**  \n",
        "*  start a while loop that will continue to loop while `valid` is False  \n",
        "*  in the loop:  ask the user to enter a **passcode**, if the `passcode` is \"9876\" assign the value True to `valid`, otherwise print the message \"Incorrect passcode\"  \n",
        "*  after the loop, display the message \"Passcode accepted\"    \n",
        "\n",
        "Test input:  \n",
        "1234   \n",
        "9876  \n",
        "\n",
        "Expected output:  \n",
        "Incorrect passcode  \n",
        "Passcode accepted  "
      ]
    },
    {
      "cell_type": "code",
      "metadata": {
        "id": "a0Z_ACOiSxsP",
        "colab": {
          "base_uri": "https://localhost:8080/"
        },
        "outputId": "cef74490-65d0-47b6-96c1-18c79e3a060f"
      },
      "source": [
        "def get_passcode():\n",
        "  \n",
        "  valid = False\n",
        "  \n",
        "  while valid == False:\n",
        "    passcode = int(input(\"Enter a passcode: \"))\n",
        "    if passcode == 9876:\n",
        "      valid = True\n",
        "    else: \n",
        "      print(\"Incorrect passcode\")\n",
        "  \n",
        "  print(\"Passcode accepted\")\n",
        "\n",
        "get_passcode()"
      ],
      "execution_count": 9,
      "outputs": [
        {
          "output_type": "stream",
          "text": [
            "Enter a passcode: 1234\n",
            "Incorrect passcode\n",
            "Enter a passcode: 9876\n",
            "Passcode accepted\n"
          ],
          "name": "stdout"
        }
      ]
    },
    {
      "cell_type": "markdown",
      "metadata": {
        "id": "DMeDXd7TS0ar"
      },
      "source": [
        "---\n",
        "### Exercise 3 - single digit input  \n",
        "\n",
        "Write a function called **get_digit()** which will:  \n",
        "\n",
        "*  assign the value False to a boolean variable called **valid_digit**  \n",
        "*  use a while loop to repeatedly ask the user to enter a single digit until the value they enter is less than 10     \n",
        "*  in the loop:  ask the user to enter a **single_digit**, if the `single_digit` is less than 10 assign the value True to `valid`, otherwise print the message \"Not a digit\"  \n",
        "*  after the loop, display the message \"Single digit entered\"    \n",
        "\n",
        "Test input:  \n",
        "10   \n",
        "9  \n",
        "\n",
        "Expected output:  \n",
        "Not a digit  \n",
        "Single digit entered  "
      ]
    },
    {
      "cell_type": "code",
      "metadata": {
        "id": "4oGXPcmqTtVN",
        "colab": {
          "base_uri": "https://localhost:8080/"
        },
        "outputId": "c1ee2ecf-4eba-4b88-8cdb-6bedc68f4c51"
      },
      "source": [
        "def get_digit():\n",
        "  \n",
        "  valid_digit = False\n",
        "  \n",
        "  while valid_digit == False:\n",
        "    single_digit = int(input(\"Enter a value less than 10: \"))\n",
        "    if single_digit < 10:\n",
        "      valid_digit = True\n",
        "    else:\n",
        "      print(\"Not a single digit\")\n",
        "  \n",
        "  print(\"Single digit entered\")\n",
        "\n",
        "get_digit()"
      ],
      "execution_count": 10,
      "outputs": [
        {
          "output_type": "stream",
          "text": [
            "Enter a value less than 10: 10\n",
            "Not a single digit\n",
            "Enter a value less than 10: 9\n",
            "Single digit entered\n"
          ],
          "name": "stdout"
        }
      ]
    },
    {
      "cell_type": "markdown",
      "metadata": {
        "id": "o80s4nzfi37X"
      },
      "source": [
        "---\n",
        "### Exercise 4 - positive number input \n",
        "\n",
        "Write a function called **positive_number()** which will:\n",
        "*  ask the user to enter a **number**, the message should indicate that it must be a positive number  \n",
        "*  if `number` is not positive **(ie. less than 1)** show an error message and ask user to re-enter the `number` \n",
        "*  when the `number` is positive, print the `number`\n",
        "\n",
        "Test input:  \n",
        "-1\n",
        "0\n",
        "1\n",
        "\n",
        "Expected output:  \n",
        "It must be a positive number, try again  \n",
        "It must be a positive number, try again  \n",
        "1  "
      ]
    },
    {
      "cell_type": "code",
      "metadata": {
        "id": "BmZjI8PzwdT-",
        "colab": {
          "base_uri": "https://localhost:8080/"
        },
        "outputId": "a8ec361d-a1be-4345-e371-71d604c74f46"
      },
      "source": [
        "def positive_number():\n",
        "  \n",
        "  valid_number = False\n",
        "  \n",
        "  while valid_number == False:\n",
        "    number = int(input(\"Enter a positive number: \"))\n",
        "    if number < 1:\n",
        "      print(\"Number is not positive. Try again...\")\n",
        "      valid_number = False\n",
        "    else:\n",
        "      valid_number = True\n",
        "      print(number)\n",
        "\n",
        "positive_number()"
      ],
      "execution_count": 11,
      "outputs": [
        {
          "output_type": "stream",
          "text": [
            "Enter a positive number: -1\n",
            "Number is not positive. Try again...\n",
            "Enter a positive number: 0\n",
            "Number is not positive. Try again...\n",
            "Enter a positive number: 1\n",
            "1\n"
          ],
          "name": "stdout"
        }
      ]
    },
    {
      "cell_type": "markdown",
      "metadata": {
        "id": "xPJfd9lUyULa"
      },
      "source": [
        "---\n",
        "### Exercise 5 - getting a number within limits \n",
        "\n",
        "Write a function called **test_limits()** which will:\n",
        "\n",
        "*  ask the user to enter a number between **1 and 31**\n",
        "*  if the number entered is less than 1 or more than 31, display the error message \"Number out of limits\"  \n",
        "*  continue asking the user until a valid input is given \n",
        "*  when a valid number is given, display the message \"Your number was `number`\" and end the program \n",
        "\n",
        "Test input:  \n",
        "40  \n",
        "50  \n",
        "30  \n",
        "\n",
        "Expected output:  \n",
        "Number out of limits  \n",
        "Number out of limits  \n",
        "Your number was 30  \n"
      ]
    },
    {
      "cell_type": "code",
      "metadata": {
        "id": "MVxhTY6zzq8k",
        "colab": {
          "base_uri": "https://localhost:8080/"
        },
        "outputId": "4146ded2-bc52-4ae0-c851-ea9635fc3c56"
      },
      "source": [
        "def test_limits():\n",
        "  number_valid = False\n",
        "  while number_valid == False:\n",
        "    number = int(input(\"Enter a number between 1 and 31: \"))\n",
        "    if number < 1 or number > 31:\n",
        "      print(\"Number out of limits\")\n",
        "      number_valid = False\n",
        "    else:\n",
        "      number_valid = True\n",
        "      print(\"Your number was number\", number)\n",
        "\n",
        "test_limits()"
      ],
      "execution_count": 12,
      "outputs": [
        {
          "output_type": "stream",
          "text": [
            "Enter a number between 1 and 31: 40\n",
            "Number out of limits\n",
            "Enter a number between 1 and 31: 50\n",
            "Number out of limits\n",
            "Enter a number between 1 and 31: 30\n",
            "Your number was number 30\n"
          ],
          "name": "stdout"
        }
      ]
    },
    {
      "cell_type": "markdown",
      "metadata": {
        "id": "WcHiG9AlUPdr"
      },
      "source": [
        "---\n",
        "### Exercise 6 - getting a number outside range\n",
        "\n",
        "Write a function called **test_outlier()** which will:\n",
        "\n",
        "*  ask the user to enter a **number** that is NOT between 40 and 50  \n",
        "*  if the `number` entered is between 40 and 50 (including both 40 and 50, display the error message \"This is not an outlier\"\n",
        "*  continue asking the user until a valid `number` is given\n",
        "*  when a valid `number` is given, display the message \"You have entered an outlier\" and end the program  \n",
        "\n",
        "Test input:  \n",
        "34  \n",
        "\n",
        "Expected output:  \n",
        "You have entered an outlier  \n",
        "\n",
        "Test input:  \n",
        "44  \n",
        "50  \n",
        "40  \n",
        "34  \n",
        "\n",
        "Expected output:  \n",
        "This is not an outlier  \n",
        "This is not an outlier  \n",
        "This is not an outlier  \n",
        "You have entered an outlier  "
      ]
    },
    {
      "cell_type": "code",
      "metadata": {
        "id": "PqvtQXYnUQ8E",
        "colab": {
          "base_uri": "https://localhost:8080/"
        },
        "outputId": "4e3eca38-d69a-4788-a8d6-69df7db1bb43"
      },
      "source": [
        "def test_outlier():\n",
        "  valid = False\n",
        "  while valid == False:\n",
        "    number = int(input(\"Enter a number that is not between 40 and 50: \"))\n",
        "    if number >= 40 and number <= 50:\n",
        "      print(\"This is not an outlier\")\n",
        "      valid = False\n",
        "    else:\n",
        "      print(\"You have entered an outlier\")\n",
        "      valid = True\n",
        "\n",
        "test_outlier()"
      ],
      "execution_count": 14,
      "outputs": [
        {
          "output_type": "stream",
          "text": [
            "Enter a number that is not between 40 and 50: 44\n",
            "This is not an outlier\n",
            "Enter a number that is not between 40 and 50: 50\n",
            "This is not an outlier\n",
            "Enter a number that is not between 40 and 50: 40\n",
            "This is not an outlier\n",
            "Enter a number that is not between 40 and 50: 34\n",
            "You have entered an outlier\n"
          ],
          "name": "stdout"
        }
      ]
    },
    {
      "cell_type": "markdown",
      "metadata": {
        "id": "53kjOj7nzri1"
      },
      "source": [
        "---\n",
        "### Exercise 7 - multiplying a number to be greater than 20,000\n",
        "\n",
        "Write a function called **increase_to_twenty_thousand()** that will:\n",
        "\n",
        "*  ask the user to input a **number**\n",
        "*  multiply given `number` by itself repeatedly, printing its value each time it changes, until the  number has become greater (>) than 20,000\n",
        "\n",
        "Test input:  \n",
        "5\n",
        "\n",
        "Expected output:  \n",
        "5   \n",
        "25  \n",
        "125  \n",
        "625  \n",
        "3125  \n",
        "15625  \n",
        "78125  \n",
        " "
      ]
    },
    {
      "cell_type": "code",
      "metadata": {
        "id": "9vzat0W21tNA",
        "colab": {
          "base_uri": "https://localhost:8080/"
        },
        "outputId": "87deb42b-2eff-4d5f-b769-5ee4bc52936e"
      },
      "source": [
        "def increase_to_twenty_thousand():\n",
        "  # limit is 20,000\n",
        "  limit = 200000 \n",
        "\n",
        "  # Ask user to input a number \n",
        "  number = int(input(\"Enter a number: \"))\n",
        "\n",
        "  # while the number is less than limit\n",
        "  while number < limit:\n",
        "    number = number * number\n",
        "    print(number)\n",
        "\n",
        "increase_to_twenty_thousand()\n",
        "\n",
        "# Something is not right here...."
      ],
      "execution_count": 15,
      "outputs": [
        {
          "output_type": "stream",
          "text": [
            "Enter a number: 5\n",
            "25\n",
            "625\n",
            "390625\n"
          ],
          "name": "stdout"
        }
      ]
    },
    {
      "cell_type": "markdown",
      "metadata": {
        "id": "wepL2Ufj1uvT"
      },
      "source": [
        "---\n",
        "### Exercise 8 - even and odds \n",
        "\n",
        "Write a function called **get_even_number()** that:\n",
        "\n",
        "*  asks the user to input an even number (divisible by 2)\n",
        "*  if an odd number is given, display message \"That number is odd\"\n",
        "*  once valid input given (even number), display message \"Thanks, that number is even\"\n",
        "\n",
        "Test input:  \n",
        "3  \n",
        "1  \n",
        "2  \n",
        "\n",
        "Expected output:  \n",
        "That number is odd  \n",
        "That number is odd  \n",
        "Thanks, that number is even  \n",
        "\n"
      ]
    },
    {
      "cell_type": "code",
      "metadata": {
        "id": "KME9Qfcs45yJ",
        "colab": {
          "base_uri": "https://localhost:8080/"
        },
        "outputId": "c9d4df36-325b-4622-bde2-c304114b5fd1"
      },
      "source": [
        "# Define function\n",
        "def get_even_number():\n",
        "  \n",
        "  # Set modulus to 1\n",
        "  modulus = 1 \n",
        "  \n",
        "  while modulus != 0:\n",
        "    number = int(input(\"Enter an even_number: \"))\n",
        "    # Calculate modulus to check if it's odd or even\n",
        "    modulus = number % 2\n",
        "    # Test modulus, if not 0 statement below is printed\n",
        "    if modulus != 0:\n",
        "      print(\"That number is odd\")\n",
        "  \n",
        "  if modulus == 0:\n",
        "    print(\"Thanks, that number is even\")\n",
        "\n",
        "get_even_number() "
      ],
      "execution_count": 16,
      "outputs": [
        {
          "output_type": "stream",
          "text": [
            "Enter an even_number: 3\n",
            "That number is odd\n",
            "Enter an even_number: 1\n",
            "That number is odd\n",
            "Enter an even_number: 2\n",
            "Thanks, that number is even\n"
          ],
          "name": "stdout"
        }
      ]
    },
    {
      "cell_type": "markdown",
      "metadata": {
        "id": "-p3LVygZwd6R"
      },
      "source": [
        "### Exercise 9 - menu choice \n",
        "\n",
        "Write a function called **show_special_numbers()** which will:\n",
        "\n",
        "*  display the following menu \n",
        "\n",
        "*What value would you like to see?*\n",
        "\n",
        "1. *Pi*\n",
        "2. *Plank’s constant*\n",
        "3. *E*\n",
        "4. *Square root of 2*\n",
        "5. *Quit the program*\n",
        "\n",
        "*  ask the user to input which value they would like to see by typing a number between 1 - 5 \n",
        "*  read and process the choice while the user selects anything other than 5 (Quit the program)\n",
        "\n",
        "To process the choice:  \n",
        "* if the number is 1 - print 3.14159265359\n",
        "* if the number is 2 - print 6.62607004 × 10-34 (in Python this would be written 6.62607004E-34\n",
        "* if the number is 3 - print 2.71828\n",
        "* if the number is 4 - print 1.414\n",
        "* if the number is 5 - print the message (\"Thank you for using this program\")\n",
        "* if the number is anything else - print \"Invalid choice\"\n",
        "\n",
        "The program will print the message associated with the menu choice and will then display the menu again and ask the user to select a choice.  \n",
        "\n",
        "When the user enters 5, the program should stop repeating.\n",
        "\n",
        "Test input:    \n",
        "1  \n",
        "4  \n",
        "6  \n",
        "5  \n",
        "\n",
        "Expected output:    \n",
        "3.14159265359  \n",
        "1.414  \n",
        "Invalid choice  \n",
        "Thank you for using this program  "
      ]
    },
    {
      "cell_type": "code",
      "metadata": {
        "id": "EZdR70D-yP_Y",
        "colab": {
          "base_uri": "https://localhost:8080/"
        },
        "outputId": "91222732-d6bd-4182-c536-f9e7ba6be7ac"
      },
      "source": [
        "def show_special_numbers():\n",
        "  \n",
        "  # Define and print menu\n",
        "  menu = \"\"\"What would you like to see?\n",
        "  1. Pi\n",
        "  2. Plank’s constant\n",
        "  3. E\n",
        "  4. Square root of 2\n",
        "  5. Quit the program\"\"\"\n",
        "  \n",
        "  # Set value\n",
        "  value = 6\n",
        "\n",
        "  # Set up while loop \n",
        "  while value != 5:\n",
        "    print(menu)\n",
        "    value = int(input(\"Enter a number between 1 and 5: \"))\n",
        "    if value == 1:\n",
        "      print(\"3.14159265359\")\n",
        "    elif value == 2:\n",
        "      print(\"6.62607004E-34\")\n",
        "    elif value == 3:\n",
        "      print(\"2.71828\")\n",
        "    elif value == 4:\n",
        "      print(\"1.414\")\n",
        "    elif value == 5:\n",
        "      print(\"Thank you for using this program\")\n",
        "    else:\n",
        "      print(\"Invalid number entered\")\n",
        "\n",
        "show_special_numbers()"
      ],
      "execution_count": 20,
      "outputs": [
        {
          "output_type": "stream",
          "text": [
            "What would you like to see?\n",
            "  1. Pi\n",
            "  2. Plank’s constant\n",
            "  3. E\n",
            "  4. Square root of 2\n",
            "  5. Quit the program\n",
            "Enter a number between 1 and 5: 1\n",
            "3.14159265359\n",
            "What would you like to see?\n",
            "  1. Pi\n",
            "  2. Plank’s constant\n",
            "  3. E\n",
            "  4. Square root of 2\n",
            "  5. Quit the program\n",
            "Enter a number between 1 and 5: 4\n",
            "1.414\n",
            "What would you like to see?\n",
            "  1. Pi\n",
            "  2. Plank’s constant\n",
            "  3. E\n",
            "  4. Square root of 2\n",
            "  5. Quit the program\n",
            "Enter a number between 1 and 5: 6\n",
            "Invalid number entered\n",
            "What would you like to see?\n",
            "  1. Pi\n",
            "  2. Plank’s constant\n",
            "  3. E\n",
            "  4. Square root of 2\n",
            "  5. Quit the program\n",
            "Enter a number between 1 and 5: 5\n",
            "Thank you for using this program\n"
          ],
          "name": "stdout"
        }
      ]
    },
    {
      "cell_type": "markdown",
      "metadata": {
        "id": "Ig_WrlmPWG4v"
      },
      "source": [
        "---\n",
        "### Exercise 10 - Guess the number  \n",
        "\n",
        "Write a function called **guess_number(number)** which will:  \n",
        "\n",
        "Ask the user to guess the number within 6 attempts.  \n",
        "\n",
        "The function will be given a random number (called `number`) and should use a while loop that will continue while the user has not guessed correctly and has had less than 6 attempts (don't forget to set the number of attempts to 0 before the loop and increment it every time a guess is made).  \n",
        "\n",
        "In the loop:  \n",
        "\n",
        "*  ask the user to enter a **guess**  \n",
        "*  if the `guess` is greater than the `number` print \"Too high\", if less than the number print \"Too low\" or if correct print \"You guessed it\"  \n",
        "*  count the `attempt`  \n",
        "\n",
        "After the loop if the maximum attempts has been reached, print \"Too many attempts\"\n",
        "\n",
        "\n"
      ]
    },
    {
      "cell_type": "code",
      "metadata": {
        "id": "7qagArrHWHGV",
        "colab": {
          "base_uri": "https://localhost:8080/"
        },
        "outputId": "9d9ac792-5ad6-4f8e-d0f1-8e59c7ea267c"
      },
      "source": [
        "from random import randint\n",
        "\n",
        "def guess_number(number):\n",
        "  # add your code below here, remembering to indent\n",
        "  \n",
        "  # Initial variables\n",
        "  guess = \" \"\n",
        "  attempts = 0\n",
        "\n",
        "  # While these statements are True, perform the following\n",
        "  while guess != number and attempts < 6: \n",
        "    guess = int(input(\"Guess the number: \"))\n",
        "    attempts = attempts + 1\n",
        "    if guess > number:\n",
        "      print(\"Too high!\")\n",
        "    elif guess < number:\n",
        "      print(\"Too low!\")\n",
        "  if attempts == 6:\n",
        "    print(\"Too many attempts\")\n",
        "  else:\n",
        "    print(\"You guess it!\")\n",
        "\n",
        "\n",
        "guess_number(randint(1,50))"
      ],
      "execution_count": 22,
      "outputs": [
        {
          "output_type": "stream",
          "text": [
            "Guess the number: 10\n",
            "Too low!\n",
            "Guess the number: 30\n",
            "Too low!\n",
            "Guess the number: 40\n",
            "Too low!\n",
            "Guess the number: 45\n",
            "Too low!\n",
            "Guess the number: 48\n",
            "Too high!\n",
            "Guess the number: 47\n",
            "Too high!\n",
            "Too many attempts\n"
          ],
          "name": "stdout"
        }
      ]
    }
  ]
}