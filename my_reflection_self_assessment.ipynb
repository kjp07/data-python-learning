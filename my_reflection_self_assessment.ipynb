{
  "nbformat": 4,
  "nbformat_minor": 0,
  "metadata": {
    "colab": {
      "name": "my_reflection-self-assessment.ipynb",
      "provenance": [],
      "collapsed_sections": [],
      "include_colab_link": true
    },
    "kernelspec": {
      "name": "python3",
      "display_name": "Python 3"
    },
    "language_info": {
      "name": "python"
    }
  },
  "cells": [
    {
      "cell_type": "markdown",
      "metadata": {
        "id": "view-in-github",
        "colab_type": "text"
      },
      "source": [
        "<a href=\"https://colab.research.google.com/github/kjp07/data-python-learning/blob/main/my_reflection_self_assessment.ipynb\" target=\"_parent\"><img src=\"https://colab.research.google.com/assets/colab-badge.svg\" alt=\"Open In Colab\"/></a>"
      ]
    },
    {
      "cell_type": "markdown",
      "metadata": {
        "id": "rZjqhF0NXKBW"
      },
      "source": [
        "# Reflection and self-assessment\n",
        "\n",
        "---\n"
      ]
    },
    {
      "cell_type": "markdown",
      "metadata": {
        "id": "60dyofsmXPGL"
      },
      "source": [
        "## Self-assessment - Python programming\n",
        "\n",
        "### You are going to assess your progress in the programming part of this module, using a ranking system, then you are going to write a set of functions that will allow you to demonstrate your skills, knowledge and understanding.\n",
        "\n",
        "Reflect on your programming so far in this course.  For each of the criteria below, rank yourself from 1 to 10 using the information below to guide you.  Use the numbers between 1 and 5 and between 5 and 10 to indicate which you are closer to.   \n",
        "\n",
        "10 = totally confident that you can do this  \n",
        "5  = starting to feel confident  \n",
        "1  = not confident at all  \n",
        "\n",
        "---\n",
        "\n",
        "1.  Use basic programming concepts and notebooks independently to produce simple coded solutions.\n",
        "\n",
        "2.  Code and document inputs, outputs and processes within simple Python programs\n",
        "\n",
        "3.  Use variables of a range of types within working Python code\n",
        "\n",
        "4.  Explain coded solutions clearly through well-placed comments\n",
        "\n",
        "5.  Develop Python coded solutions which process lists of data\n",
        "\n",
        "6.  Use meaningful data and function names\n",
        "\n",
        "7.  Select and use if statements correctly for given problems\n",
        "\n",
        "8.  Select and use appropriate loops correctly for given problems\n",
        "\n",
        "9.  Demonstrate clear understanding of selection and repetition by using them appropriately in combination\n",
        "\n",
        "10.  Identify and use in-built and imported library functions\n",
        "\n",
        "11.  Develop and test the output of user-defined functions\n",
        "\n",
        "12.  Demonstrate clear understanding of external functions and custom functions and choose or write them appropriately\n",
        "\n",
        "13.  Use Google Colabs and Github together to regularly store copies of code notebooks\n",
        "\n",
        "14.  Produce code that is free from obvious errors\n",
        "\n",
        "15.  Write neat and readable code (blank lines for spacing, indentation, relevant function naming, relevant variable naming.\n",
        "\n",
        "16.  Use basic technical language to explain coded solutions\n",
        "\n",
        "17.  Identify obvious errors and look for opportunities to make code faster, more robust or more secure.\n",
        "\n",
        "\n",
        "## Challenge problem\n",
        "\n",
        "1.  Create a list of the criteria.  Each of the criteria should be stored as a string in the list.   \n",
        "2.  Create a second list which contains your ranks as a list of numbers.\n",
        "\n",
        "Give each list a relevant variable name.\n",
        "\n",
        "Determine the expected output and then write functions to find and display the following:\n",
        "*  average ranking\n",
        "*  the criteria with the highest ranking (there may be more than one)  \n",
        "*  the criteria with the lowest ranking (there may be more than one)\n",
        "*  the most common ranking level and all the criteria with that ranking\n",
        "*  the median ranking and the first criterion that has that ranking (the median should be found by sorting the ranking list from lowest to highest rank and finding the one in the middle.  The criterion will be the first one with that ranking in the original criteria list).\n",
        "\n",
        "Use text cells to explain what each function does and what the expected output is.  Use a code cell for each function.\n"
      ]
    },
    {
      "cell_type": "code",
      "metadata": {
        "id": "im660yKGXJJN"
      },
      "source": [
        "# Create criteria_list\n",
        "criteria_list = ['1. Use basic programming concepts and notebooks independently to produce simple coded solutions', \n",
        "                 '2. Code and document inputs, outputs and processes within simple Python programs',\n",
        "                 '3. Use variables of a range of types within working Python code',\n",
        "                 '4. Explain coded solutions clearly through well-placed comments',\n",
        "                 '5. Develop Python coded solutions which process lists of data',\n",
        "                 '6. Use meaningful data and function names',\n",
        "                 '7. Select and use if statements correctly for given problems',\n",
        "                 '8. Select and use appropriate loops correctly for given problems',\n",
        "                 '9. Demonstrate clear understanding of selection and repetition by using them appropriately in combination',\n",
        "                 '10. Identify and use in-built and imported library functions',\n",
        "                 '11. Develop and test the output of user-defined functions',\n",
        "                 '12. Demonstrate clear understanding of external functions and custom functions and choose or write them appropriately',\n",
        "                 '13. Use Google Colabs and Github together to regularly store copies of code notebooks',\n",
        "                 '14. Produce code that is free from obvious errors',\n",
        "                 '15. Write neat and readable code (blank lines for spacing, indentation, relevant function naming, relevant variable naming)',\n",
        "                 '16. Use basic technical language to explain coded solutions',\n",
        "                 '17. Identify obvious errors and look for opportunities to make code faster, more robust or more secure']"
      ],
      "execution_count": 1,
      "outputs": []
    },
    {
      "cell_type": "code",
      "metadata": {
        "colab": {
          "base_uri": "https://localhost:8080/"
        },
        "id": "LtiM0CAX8qot",
        "outputId": "b6cb1243-fef1-47f6-f453-14aa97dbaf02"
      },
      "source": [
        "# Define print_list function to print each item in list\n",
        "# Looks a bit neater than print(criteria_list)\n",
        "def print_list(list):\n",
        "  for i in list:\n",
        "    print(i)\n",
        "\n",
        "print_list(criteria_list)"
      ],
      "execution_count": 2,
      "outputs": [
        {
          "output_type": "stream",
          "text": [
            "1. Use basic programming concepts and notebooks independently to produce simple coded solutions\n",
            "2. Code and document inputs, outputs and processes within simple Python programs\n",
            "3. Use variables of a range of types within working Python code\n",
            "4. Explain coded solutions clearly through well-placed comments\n",
            "5. Develop Python coded solutions which process lists of data\n",
            "6. Use meaningful data and function names\n",
            "7. Select and use if statements correctly for given problems\n",
            "8. Select and use appropriate loops correctly for given problems\n",
            "9. Demonstrate clear understanding of selection and repetition by using them appropriately in combination\n",
            "10. Identify and use in-built and imported library functions\n",
            "11. Develop and test the output of user-defined functions\n",
            "12. Demonstrate clear understanding of external functions and custom functions and choose or write them appropriately\n",
            "13. Use Google Colabs and Github together to regularly store copies of code notebooks\n",
            "14. Produce code that is free from obvious errors\n",
            "15. Write neat and readable code (blank lines for spacing, indentation, relevant function naming, relevant variable naming)\n",
            "16. Use basic technical language to explain coded solutions\n",
            "17. Identify obvious errors and look for opportunities to make code faster, more robust or more secure\n"
          ],
          "name": "stdout"
        }
      ]
    },
    {
      "cell_type": "code",
      "metadata": {
        "colab": {
          "base_uri": "https://localhost:8080/"
        },
        "id": "hRkI0VPV8tTS",
        "outputId": "b8d9ba2d-24c0-47dc-d0c3-00f611ba252c"
      },
      "source": [
        "# Create list of my criteria rankings, 1 - 10\n",
        "rank_list = [8, 8, 8, 8, 8, 8, 7, 7, 7, 7, 7, 7, 7, 7, 8, 7, 6]\n",
        "print(rank_list)\n",
        "\n",
        "# Check rank_list has correct number of values\n",
        "len(rank_list)"
      ],
      "execution_count": 9,
      "outputs": [
        {
          "output_type": "stream",
          "text": [
            "[8, 8, 8, 8, 8, 8, 7, 7, 7, 7, 7, 7, 7, 7, 8, 7, 6]\n"
          ],
          "name": "stdout"
        },
        {
          "output_type": "execute_result",
          "data": {
            "text/plain": [
              "17"
            ]
          },
          "metadata": {
            "tags": []
          },
          "execution_count": 9
        }
      ]
    },
    {
      "cell_type": "code",
      "metadata": {
        "id": "WkNz24Mo-yUz",
        "colab": {
          "base_uri": "https://localhost:8080/"
        },
        "outputId": "c9dbb038-124d-4f5c-e6f1-6c9cbd9f6fce"
      },
      "source": [
        "# Average ranking\n",
        "average_rank = sum(rank_list) / len(rank_list)\n",
        "print(average_rank)"
      ],
      "execution_count": 8,
      "outputs": [
        {
          "output_type": "stream",
          "text": [
            "7.294117647058823\n"
          ],
          "name": "stdout"
        }
      ]
    },
    {
      "cell_type": "code",
      "metadata": {
        "id": "P4bTGzSeTAAb"
      },
      "source": [
        ""
      ],
      "execution_count": null,
      "outputs": []
    }
  ]
}