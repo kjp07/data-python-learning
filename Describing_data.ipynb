{
  "nbformat": 4,
  "nbformat_minor": 0,
  "metadata": {
    "colab": {
      "name": "Describing data.ipynb",
      "provenance": [],
      "collapsed_sections": [],
      "include_colab_link": true
    },
    "kernelspec": {
      "name": "python3",
      "display_name": "Python 3"
    },
    "language_info": {
      "name": "python"
    }
  },
  "cells": [
    {
      "cell_type": "markdown",
      "metadata": {
        "id": "view-in-github",
        "colab_type": "text"
      },
      "source": [
        "<a href=\"https://colab.research.google.com/github/kjp07/data-python-learning/blob/main/Describing_data.ipynb\" target=\"_parent\"><img src=\"https://colab.research.google.com/assets/colab-badge.svg\" alt=\"Open In Colab\"/></a>"
      ]
    },
    {
      "cell_type": "markdown",
      "metadata": {
        "id": "mM0KF3nvGREF"
      },
      "source": [
        "# Describing data with summary statistics\n",
        "---\n",
        "\n",
        "This worksheet is tied to the Pandas Getting Started Tutorials, picking out particular tutorials to link them into a theme here.\n",
        "\n",
        "We will focus on describing data.  This is the least risky in terms of bias and inaccurate conclusions as it should focus just on what data is presented to us.\n",
        "\n",
        "Each exercise will ask you to work through on tutorial on the Getting Started page, to try the code from the tutorial here and to try a second, similar action."
      ]
    },
    {
      "cell_type": "markdown",
      "metadata": {
        "id": "kTyelqrywYQl"
      },
      "source": [
        "---\n",
        "\n",
        "The practice data from the tutorials comes from a dataset on Titanic passengers.\n"
      ]
    },
    {
      "cell_type": "markdown",
      "metadata": {
        "id": "Cb3JAeCCOeN9"
      },
      "source": [
        "### Exercise 1 - open the Titanic dataset\n",
        "---\n",
        "\n",
        "The Titanic dataset is stored at this URL:\n",
        "https://raw.githubusercontent.com/pandas-dev/pandas/master/doc/data/titanic.csv\n",
        "\n",
        "Read the dataset into a pandas dataframe that you will call **titanic**.\n",
        "\n",
        "**Test output**:  \n",
        "The shape of the dataframe will be (891, 12)"
      ]
    },
    {
      "cell_type": "code",
      "metadata": {
        "id": "bEhmZCf7GPzn",
        "colab": {
          "base_uri": "https://localhost:8080/"
        },
        "outputId": "b45b212e-a7ea-42e5-a767-6de9af5b2c8a"
      },
      "source": [
        "import pandas as pd\n",
        "\n",
        "url =  \"https://raw.githubusercontent.com/pandas-dev/pandas/master/doc/data/titanic.csv\"\n",
        "df = pd.read_csv(url)\n",
        "df.shape"
      ],
      "execution_count": 1,
      "outputs": [
        {
          "output_type": "execute_result",
          "data": {
            "text/plain": [
              "(891, 12)"
            ]
          },
          "metadata": {
            "tags": []
          },
          "execution_count": 1
        }
      ]
    },
    {
      "cell_type": "markdown",
      "metadata": {
        "id": "bNNZCv5DQWAU"
      },
      "source": [
        "### Exercise 2 - get summary information about the dataframe\n",
        "---\n",
        "\n",
        "Read through the tutorials:  \n",
        "[What kind of data does pandas handle?](https://pandas.pydata.org/docs/getting_started/intro_tutorials/01_table_oriented.html#)  \n",
        "[How do I read and write tabular data?](https://pandas.pydata.org/docs/getting_started/intro_tutorials/02_read_write.html)\n",
        "\n",
        "Use panda functions to display the following:\n",
        "1.  A technical summary of the data (info())\n",
        "2.  A description of the numerical data (describe())\n",
        "3.  Display the Series 'Age'\n",
        "\n",
        "**Test output**:   \n",
        "1.  The info should show that there are only 204 values in the Cabin series, out of 891 records.  \n",
        "2.  The description should show 7 columns and a mean age of 29.699118\n",
        "3.  The Age series should have values of type float64 and Length 891"
      ]
    },
    {
      "cell_type": "code",
      "metadata": {
        "id": "puw-h7O0RJlk",
        "colab": {
          "base_uri": "https://localhost:8080/"
        },
        "outputId": "090efc19-847c-4baa-bd10-7e170316153e"
      },
      "source": [
        "# technical summary\n",
        "df.info()"
      ],
      "execution_count": 2,
      "outputs": [
        {
          "output_type": "stream",
          "text": [
            "<class 'pandas.core.frame.DataFrame'>\n",
            "RangeIndex: 891 entries, 0 to 890\n",
            "Data columns (total 12 columns):\n",
            " #   Column       Non-Null Count  Dtype  \n",
            "---  ------       --------------  -----  \n",
            " 0   PassengerId  891 non-null    int64  \n",
            " 1   Survived     891 non-null    int64  \n",
            " 2   Pclass       891 non-null    int64  \n",
            " 3   Name         891 non-null    object \n",
            " 4   Sex          891 non-null    object \n",
            " 5   Age          714 non-null    float64\n",
            " 6   SibSp        891 non-null    int64  \n",
            " 7   Parch        891 non-null    int64  \n",
            " 8   Ticket       891 non-null    object \n",
            " 9   Fare         891 non-null    float64\n",
            " 10  Cabin        204 non-null    object \n",
            " 11  Embarked     889 non-null    object \n",
            "dtypes: float64(2), int64(5), object(5)\n",
            "memory usage: 83.7+ KB\n"
          ],
          "name": "stdout"
        }
      ]
    },
    {
      "cell_type": "code",
      "metadata": {
        "colab": {
          "base_uri": "https://localhost:8080/",
          "height": 284
        },
        "id": "N1zjQaLJ8PJy",
        "outputId": "fc206ddc-6372-458e-8400-aaa55fd0d1df"
      },
      "source": [
        "# Descriptive stats\n",
        "df.describe()"
      ],
      "execution_count": 3,
      "outputs": [
        {
          "output_type": "execute_result",
          "data": {
            "text/html": [
              "<div>\n",
              "<style scoped>\n",
              "    .dataframe tbody tr th:only-of-type {\n",
              "        vertical-align: middle;\n",
              "    }\n",
              "\n",
              "    .dataframe tbody tr th {\n",
              "        vertical-align: top;\n",
              "    }\n",
              "\n",
              "    .dataframe thead th {\n",
              "        text-align: right;\n",
              "    }\n",
              "</style>\n",
              "<table border=\"1\" class=\"dataframe\">\n",
              "  <thead>\n",
              "    <tr style=\"text-align: right;\">\n",
              "      <th></th>\n",
              "      <th>PassengerId</th>\n",
              "      <th>Survived</th>\n",
              "      <th>Pclass</th>\n",
              "      <th>Age</th>\n",
              "      <th>SibSp</th>\n",
              "      <th>Parch</th>\n",
              "      <th>Fare</th>\n",
              "    </tr>\n",
              "  </thead>\n",
              "  <tbody>\n",
              "    <tr>\n",
              "      <th>count</th>\n",
              "      <td>891.000000</td>\n",
              "      <td>891.000000</td>\n",
              "      <td>891.000000</td>\n",
              "      <td>714.000000</td>\n",
              "      <td>891.000000</td>\n",
              "      <td>891.000000</td>\n",
              "      <td>891.000000</td>\n",
              "    </tr>\n",
              "    <tr>\n",
              "      <th>mean</th>\n",
              "      <td>446.000000</td>\n",
              "      <td>0.383838</td>\n",
              "      <td>2.308642</td>\n",
              "      <td>29.699118</td>\n",
              "      <td>0.523008</td>\n",
              "      <td>0.381594</td>\n",
              "      <td>32.204208</td>\n",
              "    </tr>\n",
              "    <tr>\n",
              "      <th>std</th>\n",
              "      <td>257.353842</td>\n",
              "      <td>0.486592</td>\n",
              "      <td>0.836071</td>\n",
              "      <td>14.526497</td>\n",
              "      <td>1.102743</td>\n",
              "      <td>0.806057</td>\n",
              "      <td>49.693429</td>\n",
              "    </tr>\n",
              "    <tr>\n",
              "      <th>min</th>\n",
              "      <td>1.000000</td>\n",
              "      <td>0.000000</td>\n",
              "      <td>1.000000</td>\n",
              "      <td>0.420000</td>\n",
              "      <td>0.000000</td>\n",
              "      <td>0.000000</td>\n",
              "      <td>0.000000</td>\n",
              "    </tr>\n",
              "    <tr>\n",
              "      <th>25%</th>\n",
              "      <td>223.500000</td>\n",
              "      <td>0.000000</td>\n",
              "      <td>2.000000</td>\n",
              "      <td>20.125000</td>\n",
              "      <td>0.000000</td>\n",
              "      <td>0.000000</td>\n",
              "      <td>7.910400</td>\n",
              "    </tr>\n",
              "    <tr>\n",
              "      <th>50%</th>\n",
              "      <td>446.000000</td>\n",
              "      <td>0.000000</td>\n",
              "      <td>3.000000</td>\n",
              "      <td>28.000000</td>\n",
              "      <td>0.000000</td>\n",
              "      <td>0.000000</td>\n",
              "      <td>14.454200</td>\n",
              "    </tr>\n",
              "    <tr>\n",
              "      <th>75%</th>\n",
              "      <td>668.500000</td>\n",
              "      <td>1.000000</td>\n",
              "      <td>3.000000</td>\n",
              "      <td>38.000000</td>\n",
              "      <td>1.000000</td>\n",
              "      <td>0.000000</td>\n",
              "      <td>31.000000</td>\n",
              "    </tr>\n",
              "    <tr>\n",
              "      <th>max</th>\n",
              "      <td>891.000000</td>\n",
              "      <td>1.000000</td>\n",
              "      <td>3.000000</td>\n",
              "      <td>80.000000</td>\n",
              "      <td>8.000000</td>\n",
              "      <td>6.000000</td>\n",
              "      <td>512.329200</td>\n",
              "    </tr>\n",
              "  </tbody>\n",
              "</table>\n",
              "</div>"
            ],
            "text/plain": [
              "       PassengerId    Survived      Pclass  ...       SibSp       Parch        Fare\n",
              "count   891.000000  891.000000  891.000000  ...  891.000000  891.000000  891.000000\n",
              "mean    446.000000    0.383838    2.308642  ...    0.523008    0.381594   32.204208\n",
              "std     257.353842    0.486592    0.836071  ...    1.102743    0.806057   49.693429\n",
              "min       1.000000    0.000000    1.000000  ...    0.000000    0.000000    0.000000\n",
              "25%     223.500000    0.000000    2.000000  ...    0.000000    0.000000    7.910400\n",
              "50%     446.000000    0.000000    3.000000  ...    0.000000    0.000000   14.454200\n",
              "75%     668.500000    1.000000    3.000000  ...    1.000000    0.000000   31.000000\n",
              "max     891.000000    1.000000    3.000000  ...    8.000000    6.000000  512.329200\n",
              "\n",
              "[8 rows x 7 columns]"
            ]
          },
          "metadata": {
            "tags": []
          },
          "execution_count": 3
        }
      ]
    },
    {
      "cell_type": "code",
      "metadata": {
        "colab": {
          "base_uri": "https://localhost:8080/"
        },
        "id": "xgx8AQzL8XMp",
        "outputId": "7c5342ab-0b24-4222-aa31-1e9a8af34011"
      },
      "source": [
        "# Display \"Age\"\n",
        "df[\"Age\"]"
      ],
      "execution_count": 4,
      "outputs": [
        {
          "output_type": "execute_result",
          "data": {
            "text/plain": [
              "0      22.0\n",
              "1      38.0\n",
              "2      26.0\n",
              "3      35.0\n",
              "4      35.0\n",
              "       ... \n",
              "886    27.0\n",
              "887    19.0\n",
              "888     NaN\n",
              "889    26.0\n",
              "890    32.0\n",
              "Name: Age, Length: 891, dtype: float64"
            ]
          },
          "metadata": {
            "tags": []
          },
          "execution_count": 4
        }
      ]
    },
    {
      "cell_type": "markdown",
      "metadata": {
        "id": "g3EzF12i0m1a"
      },
      "source": [
        "### Exercise 3 - aggregating statistics\n",
        "---\n",
        "\n",
        "Read through the tutorial:  \n",
        "[How to calculate summary statistics?](https://pandas.pydata.org/docs/getting_started/intro_tutorials/06_calculate_statistics.html#)  \n",
        "\n",
        "Use panda functions to display the following summary statistics from the titanic dataset:  \n",
        "\n",
        "1.  The average (mean) age of passengers  \n",
        "2.  The median age and fare  \n",
        "3.  The mean fare\n",
        "4.  The modal fare and gender\n",
        "\n",
        "**Test output**:   \n",
        "29.699118, Age 28.0000 Fare 14.4542, 32.2042079685746, Fare 8.05 Sex male \n"
      ]
    },
    {
      "cell_type": "code",
      "metadata": {
        "id": "D7jFHvO42UL5",
        "colab": {
          "base_uri": "https://localhost:8080/"
        },
        "outputId": "1f9329e8-a01c-4743-e258-77f3f386184c"
      },
      "source": [
        "# Mean age of passengers\n",
        "mean_age = round(df[\"Age\"].mean(), 0)\n",
        "print(\"The mean age of the passengers is\", mean_age, \"(rounded to 0 decimal places).\")"
      ],
      "execution_count": 5,
      "outputs": [
        {
          "output_type": "stream",
          "text": [
            "The mean age of the passengers is 30.0 (rounded to 0 decimal places).\n"
          ],
          "name": "stdout"
        }
      ]
    },
    {
      "cell_type": "code",
      "metadata": {
        "colab": {
          "base_uri": "https://localhost:8080/"
        },
        "id": "6zBJ10S088uT",
        "outputId": "3064c5bc-8adc-4835-f651-230368205439"
      },
      "source": [
        "# Median age and fare of passengers\n",
        "df[[\"Age\", \"Fare\"]].median()"
      ],
      "execution_count": 6,
      "outputs": [
        {
          "output_type": "execute_result",
          "data": {
            "text/plain": [
              "Age     28.0000\n",
              "Fare    14.4542\n",
              "dtype: float64"
            ]
          },
          "metadata": {
            "tags": []
          },
          "execution_count": 6
        }
      ]
    },
    {
      "cell_type": "code",
      "metadata": {
        "colab": {
          "base_uri": "https://localhost:8080/"
        },
        "id": "8OIcOvtf9Wfs",
        "outputId": "00c1e48b-a7fe-4d1c-d8b0-d6f935cedf52"
      },
      "source": [
        "# Mean fare\n",
        "df[\"Fare\"].mean()"
      ],
      "execution_count": 7,
      "outputs": [
        {
          "output_type": "execute_result",
          "data": {
            "text/plain": [
              "32.2042079685746"
            ]
          },
          "metadata": {
            "tags": []
          },
          "execution_count": 7
        }
      ]
    },
    {
      "cell_type": "markdown",
      "metadata": {
        "id": "moYrHf2s2UrP"
      },
      "source": [
        "### Exercise 4 - displaying other statistics\n",
        "---\n",
        "\n",
        "Take a look at the list of methods available for giving summary statistics [here](https://pandas.pydata.org/docs/user_guide/basics.html#basics-stats) \n",
        "\n",
        "Use panda functions, and your existing knowledge, to display the following summary statistics from the titanic dataset:\n",
        "\n",
        "1.  The total number of passengers on the titanic\n",
        "2.  The age of the youngest passenger\n",
        "3.  The most expensive ticket price\n",
        "4.  The range of ticket prices\n",
        "5.  The number of passenges with cabins\n",
        "6.  The code for the port where the highest number of passengers embarked\n",
        "7.  The most populous gender\n",
        "8.  The standard deviation for age and fare\n",
        "\n",
        "**Tests**:  \n",
        "891, 0.42, 512.3292, 512.3292, 204, S, male, Age 14.526497 Fare 49.693429"
      ]
    },
    {
      "cell_type": "code",
      "metadata": {
        "id": "AqDs2Xfw3upQ",
        "colab": {
          "base_uri": "https://localhost:8080/"
        },
        "outputId": "2c6b126c-8e6c-47b5-8f56-4cdd63eda864"
      },
      "source": [
        "# Total number of passengers\n",
        "df[\"PassengerId\"].count()"
      ],
      "execution_count": 8,
      "outputs": [
        {
          "output_type": "execute_result",
          "data": {
            "text/plain": [
              "891"
            ]
          },
          "metadata": {
            "tags": []
          },
          "execution_count": 8
        }
      ]
    },
    {
      "cell_type": "code",
      "metadata": {
        "colab": {
          "base_uri": "https://localhost:8080/"
        },
        "id": "Evk2xMPI9_sS",
        "outputId": "39f8f9f8-3a59-4df9-995c-f0ab7e5dbfbc"
      },
      "source": [
        "# Age of youngest passenger\n",
        "df[\"Age\"].min()"
      ],
      "execution_count": 9,
      "outputs": [
        {
          "output_type": "execute_result",
          "data": {
            "text/plain": [
              "0.42"
            ]
          },
          "metadata": {
            "tags": []
          },
          "execution_count": 9
        }
      ]
    },
    {
      "cell_type": "code",
      "metadata": {
        "colab": {
          "base_uri": "https://localhost:8080/"
        },
        "id": "7n02wKAm-E0S",
        "outputId": "fe7dffa8-a99d-4f17-d534-a105ef1ba98f"
      },
      "source": [
        "# Most expensive ticket price\n",
        "df[\"Fare\"].max()"
      ],
      "execution_count": 10,
      "outputs": [
        {
          "output_type": "execute_result",
          "data": {
            "text/plain": [
              "512.3292"
            ]
          },
          "metadata": {
            "tags": []
          },
          "execution_count": 10
        }
      ]
    },
    {
      "cell_type": "code",
      "metadata": {
        "colab": {
          "base_uri": "https://localhost:8080/"
        },
        "id": "VsRF9VsC-JoH",
        "outputId": "64f4baf2-156d-48fc-b4d9-59cf307914eb"
      },
      "source": [
        "# Range of ticket prices\n",
        "df[\"Fare\"].max() - df[\"Fare\"].min()"
      ],
      "execution_count": 11,
      "outputs": [
        {
          "output_type": "execute_result",
          "data": {
            "text/plain": [
              "512.3292"
            ]
          },
          "metadata": {
            "tags": []
          },
          "execution_count": 11
        }
      ]
    },
    {
      "cell_type": "code",
      "metadata": {
        "colab": {
          "base_uri": "https://localhost:8080/"
        },
        "id": "ANcHeiVG-fAQ",
        "outputId": "b26d9ebb-bfa7-47dc-c5bc-8fd9d1f96a5e"
      },
      "source": [
        "# Number of passengers with cabins\n",
        "df[[\"PassengerId\", \"Cabin\"]].count()"
      ],
      "execution_count": 12,
      "outputs": [
        {
          "output_type": "execute_result",
          "data": {
            "text/plain": [
              "PassengerId    891\n",
              "Cabin          204\n",
              "dtype: int64"
            ]
          },
          "metadata": {
            "tags": []
          },
          "execution_count": 12
        }
      ]
    },
    {
      "cell_type": "code",
      "metadata": {
        "colab": {
          "base_uri": "https://localhost:8080/"
        },
        "id": "PdZo3oRP-v29",
        "outputId": "15330629-0d82-4349-edd7-06969a2c342d"
      },
      "source": [
        "# Code for the port where the highest number of passengers embarked\n",
        "df.groupby(\"Embarked\")[\"PassengerId\"].count()"
      ],
      "execution_count": 13,
      "outputs": [
        {
          "output_type": "execute_result",
          "data": {
            "text/plain": [
              "Embarked\n",
              "C    168\n",
              "Q     77\n",
              "S    644\n",
              "Name: PassengerId, dtype: int64"
            ]
          },
          "metadata": {
            "tags": []
          },
          "execution_count": 13
        }
      ]
    },
    {
      "cell_type": "code",
      "metadata": {
        "colab": {
          "base_uri": "https://localhost:8080/"
        },
        "id": "ubdQnMV9_PIX",
        "outputId": "5a5b9de5-5fee-4080-f22d-181bae5f1c9d"
      },
      "source": [
        "# Most populous gender\n",
        "df.groupby(\"Sex\")[\"PassengerId\"].count()"
      ],
      "execution_count": 14,
      "outputs": [
        {
          "output_type": "execute_result",
          "data": {
            "text/plain": [
              "Sex\n",
              "female    314\n",
              "male      577\n",
              "Name: PassengerId, dtype: int64"
            ]
          },
          "metadata": {
            "tags": []
          },
          "execution_count": 14
        }
      ]
    },
    {
      "cell_type": "code",
      "metadata": {
        "colab": {
          "base_uri": "https://localhost:8080/"
        },
        "id": "ET-_w-GB_k50",
        "outputId": "77c1314e-7526-413e-edf8-864fff45bdae"
      },
      "source": [
        "# Standard deviation for age and fare\n",
        "df[[\"Age\", \"Fare\"]].std()"
      ],
      "execution_count": 15,
      "outputs": [
        {
          "output_type": "execute_result",
          "data": {
            "text/plain": [
              "Age     14.526497\n",
              "Fare    49.693429\n",
              "dtype: float64"
            ]
          },
          "metadata": {
            "tags": []
          },
          "execution_count": 15
        }
      ]
    },
    {
      "cell_type": "markdown",
      "metadata": {
        "id": "Q6s13LaY4_QC"
      },
      "source": [
        "### Exercise 5 - aggregating statistics grouped by category\n",
        "---\n",
        "\n",
        "Refer again to the tutorial  \n",
        "[How to calculate summary statistics?](https://pandas.pydata.org/docs/getting_started/intro_tutorials/06_calculate_statistics.html#)   \n",
        "looking particularly at the section on Aggregating statistics grouped by category.\n",
        "\n",
        "1.  What is the mean age for male versus female Titanic passengers?\n",
        "2.  What is the mean ticket fare price for each of the sex and cabin class combinations?\n",
        "3.  What is the mean ticket fare price for passengers who embarked at each port?\n",
        "4.  Which passenger class had the highest number of survivors (for now, just show the statistics - it may not be meaningful yet)?\n",
        "\n",
        "**Test output**:  \n",
        "1.  female 27.915709 male 30.726645\n",
        "2.  \n",
        "```\n",
        "female  1         106.125798\n",
        "            2          21.970121\n",
        "            3          16.118810\n",
        "male    1          67.226127\n",
        "            2          19.741782\n",
        "            3          12.661633\n",
        "```\n",
        "3.  \n",
        "```\n",
        "C    59.954144\n",
        "Q    13.276030\n",
        "S    27.079812\n",
        "```\n",
        "4. \n",
        "\n",
        "```\n",
        "Survived  Pclass\n",
        "\n",
        "0         1          80\n",
        "          2          97\n",
        "          3         372\n",
        "1         1         136\n",
        "          2          87\n",
        "          3         119\n",
        "```\n",
        "\n",
        "\n",
        "\n",
        "\n"
      ]
    },
    {
      "cell_type": "code",
      "metadata": {
        "id": "hH4-UZxH_omw",
        "colab": {
          "base_uri": "https://localhost:8080/"
        },
        "outputId": "e5a972f2-58eb-4b7a-c135-b28525dd4c94"
      },
      "source": [
        "# Mean age for male versus female Titanic passengers\n",
        "df.groupby(\"Sex\")[\"Age\"].mean()"
      ],
      "execution_count": 16,
      "outputs": [
        {
          "output_type": "execute_result",
          "data": {
            "text/plain": [
              "Sex\n",
              "female    27.915709\n",
              "male      30.726645\n",
              "Name: Age, dtype: float64"
            ]
          },
          "metadata": {
            "tags": []
          },
          "execution_count": 16
        }
      ]
    },
    {
      "cell_type": "code",
      "metadata": {
        "colab": {
          "base_uri": "https://localhost:8080/"
        },
        "id": "ezGD3WLp_1il",
        "outputId": "04b9b1d2-599c-4048-cf29-af3ff63bfd68"
      },
      "source": [
        "# Mean ticket fare price for each of the sex and cabin class combinations\n",
        "df.groupby([\"Sex\", \"Pclass\"])[\"Fare\"].mean()"
      ],
      "execution_count": 17,
      "outputs": [
        {
          "output_type": "execute_result",
          "data": {
            "text/plain": [
              "Sex     Pclass\n",
              "female  1         106.125798\n",
              "        2          21.970121\n",
              "        3          16.118810\n",
              "male    1          67.226127\n",
              "        2          19.741782\n",
              "        3          12.661633\n",
              "Name: Fare, dtype: float64"
            ]
          },
          "metadata": {
            "tags": []
          },
          "execution_count": 17
        }
      ]
    },
    {
      "cell_type": "code",
      "metadata": {
        "colab": {
          "base_uri": "https://localhost:8080/"
        },
        "id": "ldzYeBot_37W",
        "outputId": "4c23d876-dd0f-4120-8fb1-804dcc6446fb"
      },
      "source": [
        "# Mean ticket fare price for passengers who embarked at each port\n",
        "df.groupby(\"Embarked\")[\"Fare\"].mean()"
      ],
      "execution_count": 18,
      "outputs": [
        {
          "output_type": "execute_result",
          "data": {
            "text/plain": [
              "Embarked\n",
              "C    59.954144\n",
              "Q    13.276030\n",
              "S    27.079812\n",
              "Name: Fare, dtype: float64"
            ]
          },
          "metadata": {
            "tags": []
          },
          "execution_count": 18
        }
      ]
    },
    {
      "cell_type": "code",
      "metadata": {
        "colab": {
          "base_uri": "https://localhost:8080/"
        },
        "id": "Die0fpsr_3po",
        "outputId": "dc2fe98f-9235-451b-bd47-3da48f40423d"
      },
      "source": [
        "# Passenger class with the highest number of survivors (for now, just show the statistics - it may not be meaningful yet)\n",
        "df.groupby([\"Survived\", \"Pclass\"])[\"PassengerId\"].count()"
      ],
      "execution_count": 19,
      "outputs": [
        {
          "output_type": "execute_result",
          "data": {
            "text/plain": [
              "Survived  Pclass\n",
              "0         1          80\n",
              "          2          97\n",
              "          3         372\n",
              "1         1         136\n",
              "          2          87\n",
              "          3         119\n",
              "Name: PassengerId, dtype: int64"
            ]
          },
          "metadata": {
            "tags": []
          },
          "execution_count": 19
        }
      ]
    },
    {
      "cell_type": "markdown",
      "metadata": {
        "id": "uG42G7oPCaVT"
      },
      "source": [
        "### Exercise 6 - an aggregation of different statistics\n",
        "---\n",
        "\n",
        "Use the function titanic.agg() as shown in the tutorial  \n",
        "[How to calculate summary statistics?](https://pandas.pydata.org/docs/getting_started/intro_tutorials/06_calculate_statistics.html#)  \n",
        "\n",
        "1.  Display\n",
        "\n",
        "```\n",
        "     {\n",
        "         \"Age\": [\"min\", \"max\", \"median\", \"skew\"],\n",
        "         \"Fare\": [\"min\", \"max\", \"median\", \"mean\"]\n",
        "     }\n",
        "```\n",
        "2.  Display:  \n",
        "min, max and mean for Age  \n",
        "min, max and standard deviation for Fare  \n",
        "count for Cabin\n",
        "\n",
        "**Test output**:   \n",
        "1.  \t\n",
        "```\n",
        "                  Age\t      Fare  \n",
        "max\t   80.000000\t512.329200  \n",
        "mean\t  NaN\t      32.204208  \n",
        "median\t28.000000\t14.454200  \n",
        "min\t   0.420000\t 0.000000  \n",
        "skew\t  0.389108\t NaN\n",
        "```\n",
        "\n",
        "2.   \n",
        "```\n",
        "\t        Age\t    Fare\t   Cabin\n",
        "count  NaN\t    NaN\t    204.0\n",
        "max\t80.000000  512.329200 NaN\n",
        "mean   29.699118  NaN        NaN\n",
        "min\t0.420000   0.000000   NaN\n",
        "std\tNaN        49.693429  NaN\n",
        "```\n",
        "\n",
        "\n"
      ]
    },
    {
      "cell_type": "code",
      "metadata": {
        "id": "2hqgzlZgZnzx",
        "colab": {
          "base_uri": "https://localhost:8080/",
          "height": 195
        },
        "outputId": "dfa04e0f-f1b3-47c0-c740-248dd1bb61d8"
      },
      "source": [
        "# Display summary stats for Age and Fare\n",
        "df.agg({\n",
        "    \"Age\": [\"min\", \"max\", \"median\", \"skew\"],\n",
        "    \"Fare\": [\"min\", \"max\", \"median\", \"mean\"]\n",
        "    })"
      ],
      "execution_count": 20,
      "outputs": [
        {
          "output_type": "execute_result",
          "data": {
            "text/html": [
              "<div>\n",
              "<style scoped>\n",
              "    .dataframe tbody tr th:only-of-type {\n",
              "        vertical-align: middle;\n",
              "    }\n",
              "\n",
              "    .dataframe tbody tr th {\n",
              "        vertical-align: top;\n",
              "    }\n",
              "\n",
              "    .dataframe thead th {\n",
              "        text-align: right;\n",
              "    }\n",
              "</style>\n",
              "<table border=\"1\" class=\"dataframe\">\n",
              "  <thead>\n",
              "    <tr style=\"text-align: right;\">\n",
              "      <th></th>\n",
              "      <th>Age</th>\n",
              "      <th>Fare</th>\n",
              "    </tr>\n",
              "  </thead>\n",
              "  <tbody>\n",
              "    <tr>\n",
              "      <th>max</th>\n",
              "      <td>80.000000</td>\n",
              "      <td>512.329200</td>\n",
              "    </tr>\n",
              "    <tr>\n",
              "      <th>mean</th>\n",
              "      <td>NaN</td>\n",
              "      <td>32.204208</td>\n",
              "    </tr>\n",
              "    <tr>\n",
              "      <th>median</th>\n",
              "      <td>28.000000</td>\n",
              "      <td>14.454200</td>\n",
              "    </tr>\n",
              "    <tr>\n",
              "      <th>min</th>\n",
              "      <td>0.420000</td>\n",
              "      <td>0.000000</td>\n",
              "    </tr>\n",
              "    <tr>\n",
              "      <th>skew</th>\n",
              "      <td>0.389108</td>\n",
              "      <td>NaN</td>\n",
              "    </tr>\n",
              "  </tbody>\n",
              "</table>\n",
              "</div>"
            ],
            "text/plain": [
              "              Age        Fare\n",
              "max     80.000000  512.329200\n",
              "mean          NaN   32.204208\n",
              "median  28.000000   14.454200\n",
              "min      0.420000    0.000000\n",
              "skew     0.389108         NaN"
            ]
          },
          "metadata": {
            "tags": []
          },
          "execution_count": 20
        }
      ]
    },
    {
      "cell_type": "code",
      "metadata": {
        "colab": {
          "base_uri": "https://localhost:8080/",
          "height": 195
        },
        "id": "UbM4fAqpBrJk",
        "outputId": "2af5df69-a922-41d7-8077-f6b6caf45b51"
      },
      "source": [
        "# Display:\n",
        "# min, max and mean for Age\n",
        "# min, max and standard deviation for Fare\n",
        "# count for Cabin\n",
        "\n",
        "df.agg({\n",
        "    \"Age\": [\"min\", \"max\", \"mean\"],\n",
        "    \"Fare\": [\"min\", \"max\", \"std\"],\n",
        "    \"Cabin\": [\"count\"]\n",
        "})"
      ],
      "execution_count": 21,
      "outputs": [
        {
          "output_type": "execute_result",
          "data": {
            "text/html": [
              "<div>\n",
              "<style scoped>\n",
              "    .dataframe tbody tr th:only-of-type {\n",
              "        vertical-align: middle;\n",
              "    }\n",
              "\n",
              "    .dataframe tbody tr th {\n",
              "        vertical-align: top;\n",
              "    }\n",
              "\n",
              "    .dataframe thead th {\n",
              "        text-align: right;\n",
              "    }\n",
              "</style>\n",
              "<table border=\"1\" class=\"dataframe\">\n",
              "  <thead>\n",
              "    <tr style=\"text-align: right;\">\n",
              "      <th></th>\n",
              "      <th>Age</th>\n",
              "      <th>Fare</th>\n",
              "      <th>Cabin</th>\n",
              "    </tr>\n",
              "  </thead>\n",
              "  <tbody>\n",
              "    <tr>\n",
              "      <th>count</th>\n",
              "      <td>NaN</td>\n",
              "      <td>NaN</td>\n",
              "      <td>204.0</td>\n",
              "    </tr>\n",
              "    <tr>\n",
              "      <th>max</th>\n",
              "      <td>80.000000</td>\n",
              "      <td>512.329200</td>\n",
              "      <td>NaN</td>\n",
              "    </tr>\n",
              "    <tr>\n",
              "      <th>mean</th>\n",
              "      <td>29.699118</td>\n",
              "      <td>NaN</td>\n",
              "      <td>NaN</td>\n",
              "    </tr>\n",
              "    <tr>\n",
              "      <th>min</th>\n",
              "      <td>0.420000</td>\n",
              "      <td>0.000000</td>\n",
              "      <td>NaN</td>\n",
              "    </tr>\n",
              "    <tr>\n",
              "      <th>std</th>\n",
              "      <td>NaN</td>\n",
              "      <td>49.693429</td>\n",
              "      <td>NaN</td>\n",
              "    </tr>\n",
              "  </tbody>\n",
              "</table>\n",
              "</div>"
            ],
            "text/plain": [
              "             Age        Fare  Cabin\n",
              "count        NaN         NaN  204.0\n",
              "max    80.000000  512.329200    NaN\n",
              "mean   29.699118         NaN    NaN\n",
              "min     0.420000    0.000000    NaN\n",
              "std          NaN   49.693429    NaN"
            ]
          },
          "metadata": {
            "tags": []
          },
          "execution_count": 21
        }
      ]
    },
    {
      "cell_type": "markdown",
      "metadata": {
        "id": "cucQCpY1SwUj"
      },
      "source": [
        "### Exercise 7 - count by category\n",
        "---\n",
        "\n",
        "Read the section Count number of records by category in the tutorial  \n",
        "[How to calculate summary statistics?](https://pandas.pydata.org/docs/getting_started/intro_tutorials/06_calculate_statistics.html#)\n",
        "\n",
        "1. Display the number of passengers of each gender who had a ticket\n",
        "2. Display the number of passengers who embarked at each port and had a ticket\n",
        "3. Calculate the percentage of PassengerIds who survived the sinking of the Titanic (*Hint:  try getting the PassengerIds with a count for survived or not.  Store this value in a new variable, which will contain a list/array.  The second item in this list will be the number who survived.  You can use this number and the count of PassengerIds to calculate the percentage*)\n",
        "\n",
        "**Test output**:  \n",
        "1.  female 314, male 577\n",
        "2.  C 168, Q 77, S 644\n",
        "3.  38.38383838383838\n",
        "\n"
      ]
    },
    {
      "cell_type": "code",
      "metadata": {
        "id": "NkZHxv_nTj-o",
        "colab": {
          "base_uri": "https://localhost:8080/"
        },
        "outputId": "31e685c8-f027-4ce0-b763-747fe6f4e881"
      },
      "source": [
        "# Number of passengers of each gender who had a ticket\n",
        "df[\"Sex\"].value_counts()"
      ],
      "execution_count": 22,
      "outputs": [
        {
          "output_type": "execute_result",
          "data": {
            "text/plain": [
              "male      577\n",
              "female    314\n",
              "Name: Sex, dtype: int64"
            ]
          },
          "metadata": {
            "tags": []
          },
          "execution_count": 22
        }
      ]
    },
    {
      "cell_type": "code",
      "metadata": {
        "colab": {
          "base_uri": "https://localhost:8080/"
        },
        "id": "lMfoK05JCqwx",
        "outputId": "ad44b463-2f2f-4a3a-c700-4e8477699df3"
      },
      "source": [
        "# Number of passengers who embarked at each port and had a ticket\n",
        "df.groupby(\"Embarked\")[\"Ticket\"].count()"
      ],
      "execution_count": 23,
      "outputs": [
        {
          "output_type": "execute_result",
          "data": {
            "text/plain": [
              "Embarked\n",
              "C    168\n",
              "Q     77\n",
              "S    644\n",
              "Name: Ticket, dtype: int64"
            ]
          },
          "metadata": {
            "tags": []
          },
          "execution_count": 23
        }
      ]
    },
    {
      "cell_type": "code",
      "metadata": {
        "colab": {
          "base_uri": "https://localhost:8080/"
        },
        "id": "3J6-mqYEDCWb",
        "outputId": "54d74773-83a0-4744-d561-399fdb17d2a6"
      },
      "source": [
        "# Calculate the percentage of PassengerIds who survived the sinking of the Titanic \n",
        "# (Hint: try getting the PassengerIds with a count for survived or not. Store this value in a new variable, which will contain a list/array. \n",
        "# The second item in this list will be the number who survived. You can use this number and the count of PassengerIds to calculate the percentage)\n",
        "\n",
        "# Number of passengers\n",
        "passenger_count = df[\"PassengerId\"].count()\n",
        "\n",
        "# Survival status\n",
        "survived = df.groupby(\"Survived\")[\"PassengerId\"].count()\n",
        "survived_count = survived[1]\n",
        "\n",
        "# Calculate percentage\n",
        "(survived_count / passenger_count) * 100"
      ],
      "execution_count": 24,
      "outputs": [
        {
          "output_type": "execute_result",
          "data": {
            "text/plain": [
              "38.38383838383838"
            ]
          },
          "metadata": {
            "tags": []
          },
          "execution_count": 24
        }
      ]
    },
    {
      "cell_type": "markdown",
      "metadata": {
        "id": "Y2aTzdTlLjlI"
      },
      "source": [
        "### Exercise 8 - summary happiness statistics\n",
        "---\n",
        "\n",
        "Open the data set here: https://github.com/futureCodersSE/working-with-data/blob/main/Happiness-Data/2019.xlsx?raw=true\n",
        "\n",
        "It contains data on people's perception of happiness levels in a number of countries across the world.\n",
        "\n",
        "1.  Display the number of records in the set  \n",
        "2.  Display the description of the numerical data  \n",
        "3.  Display the highest GDP and life expectancy  \n",
        "4.  Display the mean, max and min for Freedom,  mean, max, min and skew for Generosity and mean, min, max and std for GDP  \n",
        "\n",
        "**Test output**:  \n",
        "1.  156\n",
        "2.  Table showing count, mean, std, min, 25%, 50%, 75%, max for 8 columns\n",
        "3.  GDP 0.905147, life expectancy 0.725244  \n",
        "4.  \n",
        "\n",
        "\n",
        "```\n",
        "\t   Freedom to make life choices\tGenerosity\tGDP per capita\n",
        "max\t 0.631000\t                   0.566000\t  1.684000\n",
        "mean\t0.392571\t                   0.184846\t  0.905147\n",
        "min\t 0.000000\t                   0.000000  \t0.000000\n",
        "skew\tNaN\t                        0.745942\t  NaN\n",
        "std\t NaN\t                        NaN\t       0.398389\n",
        "```\n",
        "\n",
        "\n"
      ]
    },
    {
      "cell_type": "code",
      "metadata": {
        "id": "ISwIDuuAL6qo",
        "colab": {
          "base_uri": "https://localhost:8080/"
        },
        "outputId": "ee52e0fe-eaa6-42cc-acc6-51aabf6041e7"
      },
      "source": [
        "url2 = \"https://github.com/futureCodersSE/working-with-data/blob/main/Happiness-Data/2019.xlsx?raw=true\"\n",
        "happy = pd.read_excel(url2)\n",
        "happy.info()"
      ],
      "execution_count": 25,
      "outputs": [
        {
          "output_type": "stream",
          "text": [
            "<class 'pandas.core.frame.DataFrame'>\n",
            "RangeIndex: 156 entries, 0 to 155\n",
            "Data columns (total 9 columns):\n",
            " #   Column                        Non-Null Count  Dtype  \n",
            "---  ------                        --------------  -----  \n",
            " 0   Overall rank                  156 non-null    int64  \n",
            " 1   Country or region             156 non-null    object \n",
            " 2   Score                         156 non-null    float64\n",
            " 3   GDP per capita                156 non-null    float64\n",
            " 4   Social support                156 non-null    float64\n",
            " 5   Healthy life expectancy       156 non-null    float64\n",
            " 6   Freedom to make life choices  156 non-null    float64\n",
            " 7   Generosity                    156 non-null    float64\n",
            " 8   Perceptions of corruption     156 non-null    float64\n",
            "dtypes: float64(7), int64(1), object(1)\n",
            "memory usage: 11.1+ KB\n"
          ],
          "name": "stdout"
        }
      ]
    },
    {
      "cell_type": "code",
      "metadata": {
        "colab": {
          "base_uri": "https://localhost:8080/",
          "height": 195
        },
        "id": "nxUn8LavH907",
        "outputId": "575a7361-adde-40cc-bb7e-6c6fb84acfd4"
      },
      "source": [
        "happy.head(5)"
      ],
      "execution_count": 26,
      "outputs": [
        {
          "output_type": "execute_result",
          "data": {
            "text/html": [
              "<div>\n",
              "<style scoped>\n",
              "    .dataframe tbody tr th:only-of-type {\n",
              "        vertical-align: middle;\n",
              "    }\n",
              "\n",
              "    .dataframe tbody tr th {\n",
              "        vertical-align: top;\n",
              "    }\n",
              "\n",
              "    .dataframe thead th {\n",
              "        text-align: right;\n",
              "    }\n",
              "</style>\n",
              "<table border=\"1\" class=\"dataframe\">\n",
              "  <thead>\n",
              "    <tr style=\"text-align: right;\">\n",
              "      <th></th>\n",
              "      <th>Overall rank</th>\n",
              "      <th>Country or region</th>\n",
              "      <th>Score</th>\n",
              "      <th>GDP per capita</th>\n",
              "      <th>Social support</th>\n",
              "      <th>Healthy life expectancy</th>\n",
              "      <th>Freedom to make life choices</th>\n",
              "      <th>Generosity</th>\n",
              "      <th>Perceptions of corruption</th>\n",
              "    </tr>\n",
              "  </thead>\n",
              "  <tbody>\n",
              "    <tr>\n",
              "      <th>0</th>\n",
              "      <td>1</td>\n",
              "      <td>Finland</td>\n",
              "      <td>7.769</td>\n",
              "      <td>1.340</td>\n",
              "      <td>1.587</td>\n",
              "      <td>0.986</td>\n",
              "      <td>0.596</td>\n",
              "      <td>0.153</td>\n",
              "      <td>0.393</td>\n",
              "    </tr>\n",
              "    <tr>\n",
              "      <th>1</th>\n",
              "      <td>2</td>\n",
              "      <td>Denmark</td>\n",
              "      <td>7.600</td>\n",
              "      <td>1.383</td>\n",
              "      <td>1.573</td>\n",
              "      <td>0.996</td>\n",
              "      <td>0.592</td>\n",
              "      <td>0.252</td>\n",
              "      <td>0.410</td>\n",
              "    </tr>\n",
              "    <tr>\n",
              "      <th>2</th>\n",
              "      <td>3</td>\n",
              "      <td>Norway</td>\n",
              "      <td>7.554</td>\n",
              "      <td>1.488</td>\n",
              "      <td>1.582</td>\n",
              "      <td>1.028</td>\n",
              "      <td>0.603</td>\n",
              "      <td>0.271</td>\n",
              "      <td>0.341</td>\n",
              "    </tr>\n",
              "    <tr>\n",
              "      <th>3</th>\n",
              "      <td>4</td>\n",
              "      <td>Iceland</td>\n",
              "      <td>7.494</td>\n",
              "      <td>1.380</td>\n",
              "      <td>1.624</td>\n",
              "      <td>1.026</td>\n",
              "      <td>0.591</td>\n",
              "      <td>0.354</td>\n",
              "      <td>0.118</td>\n",
              "    </tr>\n",
              "    <tr>\n",
              "      <th>4</th>\n",
              "      <td>5</td>\n",
              "      <td>Netherlands</td>\n",
              "      <td>7.488</td>\n",
              "      <td>1.396</td>\n",
              "      <td>1.522</td>\n",
              "      <td>0.999</td>\n",
              "      <td>0.557</td>\n",
              "      <td>0.322</td>\n",
              "      <td>0.298</td>\n",
              "    </tr>\n",
              "  </tbody>\n",
              "</table>\n",
              "</div>"
            ],
            "text/plain": [
              "   Overall rank Country or region  ...  Generosity  Perceptions of corruption\n",
              "0             1           Finland  ...       0.153                      0.393\n",
              "1             2           Denmark  ...       0.252                      0.410\n",
              "2             3            Norway  ...       0.271                      0.341\n",
              "3             4           Iceland  ...       0.354                      0.118\n",
              "4             5       Netherlands  ...       0.322                      0.298\n",
              "\n",
              "[5 rows x 9 columns]"
            ]
          },
          "metadata": {
            "tags": []
          },
          "execution_count": 26
        }
      ]
    },
    {
      "cell_type": "code",
      "metadata": {
        "colab": {
          "base_uri": "https://localhost:8080/"
        },
        "id": "L1HHN8HKG5Ec",
        "outputId": "57271d38-9cc7-410e-9571-cb1a40527d2a"
      },
      "source": [
        "# Number of records\n",
        "happy[\"Overall rank\"].count()"
      ],
      "execution_count": 27,
      "outputs": [
        {
          "output_type": "execute_result",
          "data": {
            "text/plain": [
              "156"
            ]
          },
          "metadata": {
            "tags": []
          },
          "execution_count": 27
        }
      ]
    },
    {
      "cell_type": "code",
      "metadata": {
        "colab": {
          "base_uri": "https://localhost:8080/",
          "height": 284
        },
        "id": "0n7aCB_qHHqE",
        "outputId": "5308e0ef-d2ac-44cd-a8c4-3e7df57c3a98"
      },
      "source": [
        "# Description of the numerical data\n",
        "happy.describe()"
      ],
      "execution_count": 28,
      "outputs": [
        {
          "output_type": "execute_result",
          "data": {
            "text/html": [
              "<div>\n",
              "<style scoped>\n",
              "    .dataframe tbody tr th:only-of-type {\n",
              "        vertical-align: middle;\n",
              "    }\n",
              "\n",
              "    .dataframe tbody tr th {\n",
              "        vertical-align: top;\n",
              "    }\n",
              "\n",
              "    .dataframe thead th {\n",
              "        text-align: right;\n",
              "    }\n",
              "</style>\n",
              "<table border=\"1\" class=\"dataframe\">\n",
              "  <thead>\n",
              "    <tr style=\"text-align: right;\">\n",
              "      <th></th>\n",
              "      <th>Overall rank</th>\n",
              "      <th>Score</th>\n",
              "      <th>GDP per capita</th>\n",
              "      <th>Social support</th>\n",
              "      <th>Healthy life expectancy</th>\n",
              "      <th>Freedom to make life choices</th>\n",
              "      <th>Generosity</th>\n",
              "      <th>Perceptions of corruption</th>\n",
              "    </tr>\n",
              "  </thead>\n",
              "  <tbody>\n",
              "    <tr>\n",
              "      <th>count</th>\n",
              "      <td>156.000000</td>\n",
              "      <td>156.000000</td>\n",
              "      <td>156.000000</td>\n",
              "      <td>156.000000</td>\n",
              "      <td>156.000000</td>\n",
              "      <td>156.000000</td>\n",
              "      <td>156.000000</td>\n",
              "      <td>156.000000</td>\n",
              "    </tr>\n",
              "    <tr>\n",
              "      <th>mean</th>\n",
              "      <td>78.500000</td>\n",
              "      <td>5.407096</td>\n",
              "      <td>0.905147</td>\n",
              "      <td>1.208814</td>\n",
              "      <td>0.725244</td>\n",
              "      <td>0.392571</td>\n",
              "      <td>0.184846</td>\n",
              "      <td>0.110603</td>\n",
              "    </tr>\n",
              "    <tr>\n",
              "      <th>std</th>\n",
              "      <td>45.177428</td>\n",
              "      <td>1.113120</td>\n",
              "      <td>0.398389</td>\n",
              "      <td>0.299191</td>\n",
              "      <td>0.242124</td>\n",
              "      <td>0.143289</td>\n",
              "      <td>0.095254</td>\n",
              "      <td>0.094538</td>\n",
              "    </tr>\n",
              "    <tr>\n",
              "      <th>min</th>\n",
              "      <td>1.000000</td>\n",
              "      <td>2.853000</td>\n",
              "      <td>0.000000</td>\n",
              "      <td>0.000000</td>\n",
              "      <td>0.000000</td>\n",
              "      <td>0.000000</td>\n",
              "      <td>0.000000</td>\n",
              "      <td>0.000000</td>\n",
              "    </tr>\n",
              "    <tr>\n",
              "      <th>25%</th>\n",
              "      <td>39.750000</td>\n",
              "      <td>4.544500</td>\n",
              "      <td>0.602750</td>\n",
              "      <td>1.055750</td>\n",
              "      <td>0.547750</td>\n",
              "      <td>0.308000</td>\n",
              "      <td>0.108750</td>\n",
              "      <td>0.047000</td>\n",
              "    </tr>\n",
              "    <tr>\n",
              "      <th>50%</th>\n",
              "      <td>78.500000</td>\n",
              "      <td>5.379500</td>\n",
              "      <td>0.960000</td>\n",
              "      <td>1.271500</td>\n",
              "      <td>0.789000</td>\n",
              "      <td>0.417000</td>\n",
              "      <td>0.177500</td>\n",
              "      <td>0.085500</td>\n",
              "    </tr>\n",
              "    <tr>\n",
              "      <th>75%</th>\n",
              "      <td>117.250000</td>\n",
              "      <td>6.184500</td>\n",
              "      <td>1.232500</td>\n",
              "      <td>1.452500</td>\n",
              "      <td>0.881750</td>\n",
              "      <td>0.507250</td>\n",
              "      <td>0.248250</td>\n",
              "      <td>0.141250</td>\n",
              "    </tr>\n",
              "    <tr>\n",
              "      <th>max</th>\n",
              "      <td>156.000000</td>\n",
              "      <td>7.769000</td>\n",
              "      <td>1.684000</td>\n",
              "      <td>1.624000</td>\n",
              "      <td>1.141000</td>\n",
              "      <td>0.631000</td>\n",
              "      <td>0.566000</td>\n",
              "      <td>0.453000</td>\n",
              "    </tr>\n",
              "  </tbody>\n",
              "</table>\n",
              "</div>"
            ],
            "text/plain": [
              "       Overall rank       Score  ...  Generosity  Perceptions of corruption\n",
              "count    156.000000  156.000000  ...  156.000000                 156.000000\n",
              "mean      78.500000    5.407096  ...    0.184846                   0.110603\n",
              "std       45.177428    1.113120  ...    0.095254                   0.094538\n",
              "min        1.000000    2.853000  ...    0.000000                   0.000000\n",
              "25%       39.750000    4.544500  ...    0.108750                   0.047000\n",
              "50%       78.500000    5.379500  ...    0.177500                   0.085500\n",
              "75%      117.250000    6.184500  ...    0.248250                   0.141250\n",
              "max      156.000000    7.769000  ...    0.566000                   0.453000\n",
              "\n",
              "[8 rows x 8 columns]"
            ]
          },
          "metadata": {
            "tags": []
          },
          "execution_count": 28
        }
      ]
    },
    {
      "cell_type": "code",
      "metadata": {
        "colab": {
          "base_uri": "https://localhost:8080/"
        },
        "id": "rzrGPA1aHLk5",
        "outputId": "db36ee93-d736-4bf7-b9c1-52d5163c1581"
      },
      "source": [
        "# Highest GDP and life expectancy\n",
        "print(happy[\"GDP per capita\"].max())\n",
        "print(happy[\"Healthy life expectancy\"].max())"
      ],
      "execution_count": 29,
      "outputs": [
        {
          "output_type": "stream",
          "text": [
            "1.684\n",
            "1.141\n"
          ],
          "name": "stdout"
        }
      ]
    },
    {
      "cell_type": "code",
      "metadata": {
        "colab": {
          "base_uri": "https://localhost:8080/",
          "height": 195
        },
        "id": "Dc4X9F3TIKZc",
        "outputId": "e058d7a4-f79a-4733-a3c6-4bc796b74d9e"
      },
      "source": [
        "# mean, max and min for Freedom, mean, max, min and skew for Generosity and mean, min, max and std for GDP\n",
        "\n",
        "happy.agg({\n",
        "    \"Freedom to make life choices\": [\"mean\", \"max\", \"min\"],\n",
        "    \"Generosity\": [\"mean\", \"max\", \"min\", \"skew\"],\n",
        "    \"GDP per capita\": [\"mean\", \"min\", \"max\", \"std\"]\n",
        "})"
      ],
      "execution_count": 30,
      "outputs": [
        {
          "output_type": "execute_result",
          "data": {
            "text/html": [
              "<div>\n",
              "<style scoped>\n",
              "    .dataframe tbody tr th:only-of-type {\n",
              "        vertical-align: middle;\n",
              "    }\n",
              "\n",
              "    .dataframe tbody tr th {\n",
              "        vertical-align: top;\n",
              "    }\n",
              "\n",
              "    .dataframe thead th {\n",
              "        text-align: right;\n",
              "    }\n",
              "</style>\n",
              "<table border=\"1\" class=\"dataframe\">\n",
              "  <thead>\n",
              "    <tr style=\"text-align: right;\">\n",
              "      <th></th>\n",
              "      <th>Freedom to make life choices</th>\n",
              "      <th>Generosity</th>\n",
              "      <th>GDP per capita</th>\n",
              "    </tr>\n",
              "  </thead>\n",
              "  <tbody>\n",
              "    <tr>\n",
              "      <th>max</th>\n",
              "      <td>0.631000</td>\n",
              "      <td>0.566000</td>\n",
              "      <td>1.684000</td>\n",
              "    </tr>\n",
              "    <tr>\n",
              "      <th>mean</th>\n",
              "      <td>0.392571</td>\n",
              "      <td>0.184846</td>\n",
              "      <td>0.905147</td>\n",
              "    </tr>\n",
              "    <tr>\n",
              "      <th>min</th>\n",
              "      <td>0.000000</td>\n",
              "      <td>0.000000</td>\n",
              "      <td>0.000000</td>\n",
              "    </tr>\n",
              "    <tr>\n",
              "      <th>skew</th>\n",
              "      <td>NaN</td>\n",
              "      <td>0.745942</td>\n",
              "      <td>NaN</td>\n",
              "    </tr>\n",
              "    <tr>\n",
              "      <th>std</th>\n",
              "      <td>NaN</td>\n",
              "      <td>NaN</td>\n",
              "      <td>0.398389</td>\n",
              "    </tr>\n",
              "  </tbody>\n",
              "</table>\n",
              "</div>"
            ],
            "text/plain": [
              "      Freedom to make life choices  Generosity  GDP per capita\n",
              "max                       0.631000    0.566000        1.684000\n",
              "mean                      0.392571    0.184846        0.905147\n",
              "min                       0.000000    0.000000        0.000000\n",
              "skew                           NaN    0.745942             NaN\n",
              "std                            NaN         NaN        0.398389"
            ]
          },
          "metadata": {
            "tags": []
          },
          "execution_count": 30
        }
      ]
    },
    {
      "cell_type": "markdown",
      "metadata": {
        "id": "X3vlyA6zRdXs"
      },
      "source": [
        "### Exercise 9 - migration data\n",
        "---\n",
        "\n",
        "Open the dataset at this url: https://github.com/futureCodersSE/working-with-data/blob/main/Data%20sets/public_use-talent-migration.xlsx?raw=true  Open the sheet named *Country Migration*\n",
        "\n",
        "1.  Describe the dataset  \n",
        "2.  Show summary information\n",
        "3.  Display the mean net per 10K migration in each of the years 2015 to 2019\n",
        "4.  Display the mean, max and min migration for the year 2019 for each of the regions (*base_country_wb_region*)\n",
        "5.  Display the median net migration for the years 2015 and 2019 for the base countries by income level\n",
        "6.  Display the number of target countries in each income level\n",
        "7.  Display the mean net migration for all five years, for each income level\n",
        "\n",
        "**Test output**:  \n",
        "1  count, mean, std, min, 25%, 50%, 75%, max for 9 columns\n",
        "\n",
        "2  shows 16 columns with non-null count of 4148 in each column\n",
        "\n",
        "3  \n",
        "```\n",
        "net_per_10K_2015    0.461757\n",
        "net_per_10K_2016    0.150248\n",
        "net_per_10K_2017   -0.080272\n",
        "net_per_10K_2018   -0.040591\n",
        "net_per_10K_2019   -0.022743\n",
        "dtype: float64\n",
        "```\n",
        "\n",
        "4  \n",
        "```\n",
        "\tnet_per_10K_2019\n",
        "mean\tmax\tmin\n",
        "base_country_wb_region\t\t\t\n",
        "East Asia & Pacific\t0.198827\t21.57\t-9.88\n",
        "Europe & Central Asia\t0.208974\t87.71\t-21.34\n",
        "Latin America & Caribbean\t-0.904602\t21.15\t-31.75\n",
        "Middle East & North Africa\t-0.107655\t55.60\t-50.33\n",
        "North America\t0.239246\t23.20\t-0.29\n",
        "South Asia\t-0.514577\t13.72\t-24.89\n",
        "Sub-Saharan Africa\t-0.279729\t37.11\t-21.54\n",
        "```\n",
        "\n",
        "5  \n",
        "```\n",
        "\tnet_per_10K_2015\tnet_per_10K_2019\n",
        "base_country_wb_income\t\t\n",
        "High Income\t0.02\t0.04\n",
        "Low Income\t0.42\t-0.05\n",
        "Lower Middle Income\t-0.02\t-0.07\n",
        "Upper Middle Income\t-0.03\t-0.08\n",
        "```\n",
        "\n",
        "6  \n",
        "```\n",
        "base_country_wb_income\n",
        "High Income            2415\n",
        "Low Income              185\n",
        "Lower Middle Income     653\n",
        "Upper Middle Income     895\n",
        "Name: target_country_name, dtype: int64 \n",
        "```\n",
        "\n",
        "7  \n",
        "```\n",
        "net_per_10K_2015\tnet_per_10K_2016\tnet_per_10K_2017\tnet_per_10K_2018\tnet_per_10K_2019\n",
        "base_country_wb_income\t\t\t\t\t\n",
        "High Income\t0.505482\t0.391379\t0.314178\t0.379201\t0.401470\n",
        "Low Income\t1.876432\t0.798270\t-0.684865\t-0.677784\t-0.681459\n",
        "Lower Middle Income\t0.591654\t-0.029893\t-0.519433\t-0.527136\t-0.476616\n",
        "Upper Middle Income\t-0.043419\t-0.502916\t-0.699240\t-0.686626\t-0.700101\n",
        "```\n",
        "\n",
        "\n",
        "\n",
        "\n"
      ]
    },
    {
      "cell_type": "code",
      "metadata": {
        "id": "yk8cfjUvIj5x",
        "colab": {
          "base_uri": "https://localhost:8080/"
        },
        "outputId": "756b664d-5797-4d71-ec83-f34c74014752"
      },
      "source": [
        "url3 = \"https://github.com/futureCodersSE/working-with-data/blob/main/Data%20sets/public_use-talent-migration.xlsx?raw=true\"\n",
        "cm = pd.read_excel(url3, sheet_name=\"Country Migration\")\n",
        "\n",
        "# Show summary information\n",
        "cm.info()"
      ],
      "execution_count": 38,
      "outputs": [
        {
          "output_type": "stream",
          "text": [
            "<class 'pandas.core.frame.DataFrame'>\n",
            "RangeIndex: 4148 entries, 0 to 4147\n",
            "Data columns (total 17 columns):\n",
            " #   Column                    Non-Null Count  Dtype  \n",
            "---  ------                    --------------  -----  \n",
            " 0   base_country_code         4148 non-null   object \n",
            " 1   base_country_name         4148 non-null   object \n",
            " 2   base_lat                  4148 non-null   float64\n",
            " 3   base_long                 4148 non-null   float64\n",
            " 4   base_country_wb_income    4148 non-null   object \n",
            " 5   base_country_wb_region    4148 non-null   object \n",
            " 6   target_country_code       4148 non-null   object \n",
            " 7   target_country_name       4148 non-null   object \n",
            " 8   target_lat                4148 non-null   float64\n",
            " 9   target_long               4148 non-null   float64\n",
            " 10  target_country_wb_income  4148 non-null   object \n",
            " 11  target_country_wb_region  4148 non-null   object \n",
            " 12  net_per_10K_2015          4148 non-null   float64\n",
            " 13  net_per_10K_2016          4148 non-null   float64\n",
            " 14  net_per_10K_2017          4148 non-null   float64\n",
            " 15  net_per_10K_2018          4148 non-null   float64\n",
            " 16  net_per_10K_2019          4148 non-null   float64\n",
            "dtypes: float64(9), object(8)\n",
            "memory usage: 551.0+ KB\n"
          ],
          "name": "stdout"
        }
      ]
    },
    {
      "cell_type": "code",
      "metadata": {
        "colab": {
          "base_uri": "https://localhost:8080/",
          "height": 284
        },
        "id": "mXyRI2cBG-4D",
        "outputId": "55e65f2c-8999-4343-f652-79ef7b248e44"
      },
      "source": [
        "# Describe the dataset\n",
        "cm.describe()"
      ],
      "execution_count": 39,
      "outputs": [
        {
          "output_type": "execute_result",
          "data": {
            "text/html": [
              "<div>\n",
              "<style scoped>\n",
              "    .dataframe tbody tr th:only-of-type {\n",
              "        vertical-align: middle;\n",
              "    }\n",
              "\n",
              "    .dataframe tbody tr th {\n",
              "        vertical-align: top;\n",
              "    }\n",
              "\n",
              "    .dataframe thead th {\n",
              "        text-align: right;\n",
              "    }\n",
              "</style>\n",
              "<table border=\"1\" class=\"dataframe\">\n",
              "  <thead>\n",
              "    <tr style=\"text-align: right;\">\n",
              "      <th></th>\n",
              "      <th>base_lat</th>\n",
              "      <th>base_long</th>\n",
              "      <th>target_lat</th>\n",
              "      <th>target_long</th>\n",
              "      <th>net_per_10K_2015</th>\n",
              "      <th>net_per_10K_2016</th>\n",
              "      <th>net_per_10K_2017</th>\n",
              "      <th>net_per_10K_2018</th>\n",
              "      <th>net_per_10K_2019</th>\n",
              "    </tr>\n",
              "  </thead>\n",
              "  <tbody>\n",
              "    <tr>\n",
              "      <th>count</th>\n",
              "      <td>4148.000000</td>\n",
              "      <td>4148.000000</td>\n",
              "      <td>4148.000000</td>\n",
              "      <td>4148.000000</td>\n",
              "      <td>4148.000000</td>\n",
              "      <td>4148.000000</td>\n",
              "      <td>4148.000000</td>\n",
              "      <td>4148.000000</td>\n",
              "      <td>4148.000000</td>\n",
              "    </tr>\n",
              "    <tr>\n",
              "      <th>mean</th>\n",
              "      <td>28.418022</td>\n",
              "      <td>21.698305</td>\n",
              "      <td>28.418022</td>\n",
              "      <td>21.698305</td>\n",
              "      <td>0.461757</td>\n",
              "      <td>0.150248</td>\n",
              "      <td>-0.080272</td>\n",
              "      <td>-0.040591</td>\n",
              "      <td>-0.022743</td>\n",
              "    </tr>\n",
              "    <tr>\n",
              "      <th>std</th>\n",
              "      <td>25.086012</td>\n",
              "      <td>61.937381</td>\n",
              "      <td>25.086012</td>\n",
              "      <td>61.937381</td>\n",
              "      <td>5.006530</td>\n",
              "      <td>4.201118</td>\n",
              "      <td>3.203092</td>\n",
              "      <td>3.593876</td>\n",
              "      <td>3.633247</td>\n",
              "    </tr>\n",
              "    <tr>\n",
              "      <th>min</th>\n",
              "      <td>-40.900557</td>\n",
              "      <td>-106.346771</td>\n",
              "      <td>-40.900557</td>\n",
              "      <td>-106.346771</td>\n",
              "      <td>-37.010000</td>\n",
              "      <td>-40.890000</td>\n",
              "      <td>-43.660000</td>\n",
              "      <td>-56.220000</td>\n",
              "      <td>-50.330000</td>\n",
              "    </tr>\n",
              "    <tr>\n",
              "      <th>25%</th>\n",
              "      <td>14.058324</td>\n",
              "      <td>-3.435973</td>\n",
              "      <td>14.058324</td>\n",
              "      <td>-3.435973</td>\n",
              "      <td>-0.150000</td>\n",
              "      <td>-0.190000</td>\n",
              "      <td>-0.210000</td>\n",
              "      <td>-0.210000</td>\n",
              "      <td>-0.210000</td>\n",
              "    </tr>\n",
              "    <tr>\n",
              "      <th>50%</th>\n",
              "      <td>35.861660</td>\n",
              "      <td>19.145136</td>\n",
              "      <td>35.861660</td>\n",
              "      <td>19.145136</td>\n",
              "      <td>0.000000</td>\n",
              "      <td>0.000000</td>\n",
              "      <td>0.000000</td>\n",
              "      <td>0.000000</td>\n",
              "      <td>0.000000</td>\n",
              "    </tr>\n",
              "    <tr>\n",
              "      <th>75%</th>\n",
              "      <td>47.516231</td>\n",
              "      <td>53.688046</td>\n",
              "      <td>47.516231</td>\n",
              "      <td>53.688046</td>\n",
              "      <td>0.240000</td>\n",
              "      <td>0.220000</td>\n",
              "      <td>0.160000</td>\n",
              "      <td>0.170000</td>\n",
              "      <td>0.180000</td>\n",
              "    </tr>\n",
              "    <tr>\n",
              "      <th>max</th>\n",
              "      <td>64.963051</td>\n",
              "      <td>179.414413</td>\n",
              "      <td>64.963051</td>\n",
              "      <td>179.414413</td>\n",
              "      <td>150.680000</td>\n",
              "      <td>124.480000</td>\n",
              "      <td>87.000000</td>\n",
              "      <td>91.410000</td>\n",
              "      <td>87.710000</td>\n",
              "    </tr>\n",
              "  </tbody>\n",
              "</table>\n",
              "</div>"
            ],
            "text/plain": [
              "          base_lat    base_long  ...  net_per_10K_2018  net_per_10K_2019\n",
              "count  4148.000000  4148.000000  ...       4148.000000       4148.000000\n",
              "mean     28.418022    21.698305  ...         -0.040591         -0.022743\n",
              "std      25.086012    61.937381  ...          3.593876          3.633247\n",
              "min     -40.900557  -106.346771  ...        -56.220000        -50.330000\n",
              "25%      14.058324    -3.435973  ...         -0.210000         -0.210000\n",
              "50%      35.861660    19.145136  ...          0.000000          0.000000\n",
              "75%      47.516231    53.688046  ...          0.170000          0.180000\n",
              "max      64.963051   179.414413  ...         91.410000         87.710000\n",
              "\n",
              "[8 rows x 9 columns]"
            ]
          },
          "metadata": {
            "tags": []
          },
          "execution_count": 39
        }
      ]
    },
    {
      "cell_type": "code",
      "metadata": {
        "colab": {
          "base_uri": "https://localhost:8080/"
        },
        "id": "B3c4LzVfHFiU",
        "outputId": "e4a26584-ff27-43f6-b0a0-cd5eb1f70342"
      },
      "source": [
        "# Display the mean net per 10K migration in each of the years 2015 to 2019\n",
        "cm[[\"net_per_10K_2015\", \"net_per_10K_2016\", \"net_per_10K_2017\", \"net_per_10K_2018\", \"net_per_10K_2019\"]].mean()"
      ],
      "execution_count": 42,
      "outputs": [
        {
          "output_type": "execute_result",
          "data": {
            "text/plain": [
              "net_per_10K_2015    0.461757\n",
              "net_per_10K_2016    0.150248\n",
              "net_per_10K_2017   -0.080272\n",
              "net_per_10K_2018   -0.040591\n",
              "net_per_10K_2019   -0.022743\n",
              "dtype: float64"
            ]
          },
          "metadata": {
            "tags": []
          },
          "execution_count": 42
        }
      ]
    },
    {
      "cell_type": "code",
      "metadata": {
        "colab": {
          "base_uri": "https://localhost:8080/",
          "height": 314
        },
        "id": "0TSdqVR-HIO0",
        "outputId": "53fec576-8b20-42d2-d768-3f2e74b02852"
      },
      "source": [
        "# Display the mean, max and min migration for the year 2019 for each of the regions (base_country_wb_region)\n",
        "cm.groupby(\"base_country_wb_region\").agg({\"net_per_10K_2019\": [\"mean\", \"min\", \"max\"]})"
      ],
      "execution_count": 45,
      "outputs": [
        {
          "output_type": "execute_result",
          "data": {
            "text/html": [
              "<div>\n",
              "<style scoped>\n",
              "    .dataframe tbody tr th:only-of-type {\n",
              "        vertical-align: middle;\n",
              "    }\n",
              "\n",
              "    .dataframe tbody tr th {\n",
              "        vertical-align: top;\n",
              "    }\n",
              "\n",
              "    .dataframe thead tr th {\n",
              "        text-align: left;\n",
              "    }\n",
              "\n",
              "    .dataframe thead tr:last-of-type th {\n",
              "        text-align: right;\n",
              "    }\n",
              "</style>\n",
              "<table border=\"1\" class=\"dataframe\">\n",
              "  <thead>\n",
              "    <tr>\n",
              "      <th></th>\n",
              "      <th colspan=\"3\" halign=\"left\">net_per_10K_2019</th>\n",
              "    </tr>\n",
              "    <tr>\n",
              "      <th></th>\n",
              "      <th>mean</th>\n",
              "      <th>min</th>\n",
              "      <th>max</th>\n",
              "    </tr>\n",
              "    <tr>\n",
              "      <th>base_country_wb_region</th>\n",
              "      <th></th>\n",
              "      <th></th>\n",
              "      <th></th>\n",
              "    </tr>\n",
              "  </thead>\n",
              "  <tbody>\n",
              "    <tr>\n",
              "      <th>East Asia &amp; Pacific</th>\n",
              "      <td>0.198827</td>\n",
              "      <td>-9.88</td>\n",
              "      <td>21.57</td>\n",
              "    </tr>\n",
              "    <tr>\n",
              "      <th>Europe &amp; Central Asia</th>\n",
              "      <td>0.208974</td>\n",
              "      <td>-21.34</td>\n",
              "      <td>87.71</td>\n",
              "    </tr>\n",
              "    <tr>\n",
              "      <th>Latin America &amp; Caribbean</th>\n",
              "      <td>-0.904602</td>\n",
              "      <td>-31.75</td>\n",
              "      <td>21.15</td>\n",
              "    </tr>\n",
              "    <tr>\n",
              "      <th>Middle East &amp; North Africa</th>\n",
              "      <td>-0.107655</td>\n",
              "      <td>-50.33</td>\n",
              "      <td>55.60</td>\n",
              "    </tr>\n",
              "    <tr>\n",
              "      <th>North America</th>\n",
              "      <td>0.239246</td>\n",
              "      <td>-0.29</td>\n",
              "      <td>23.20</td>\n",
              "    </tr>\n",
              "    <tr>\n",
              "      <th>South Asia</th>\n",
              "      <td>-0.514577</td>\n",
              "      <td>-24.89</td>\n",
              "      <td>13.72</td>\n",
              "    </tr>\n",
              "    <tr>\n",
              "      <th>Sub-Saharan Africa</th>\n",
              "      <td>-0.279729</td>\n",
              "      <td>-21.54</td>\n",
              "      <td>37.11</td>\n",
              "    </tr>\n",
              "  </tbody>\n",
              "</table>\n",
              "</div>"
            ],
            "text/plain": [
              "                           net_per_10K_2019              \n",
              "                                       mean    min    max\n",
              "base_country_wb_region                                   \n",
              "East Asia & Pacific                0.198827  -9.88  21.57\n",
              "Europe & Central Asia              0.208974 -21.34  87.71\n",
              "Latin America & Caribbean         -0.904602 -31.75  21.15\n",
              "Middle East & North Africa        -0.107655 -50.33  55.60\n",
              "North America                      0.239246  -0.29  23.20\n",
              "South Asia                        -0.514577 -24.89  13.72\n",
              "Sub-Saharan Africa                -0.279729 -21.54  37.11"
            ]
          },
          "metadata": {
            "tags": []
          },
          "execution_count": 45
        }
      ]
    },
    {
      "cell_type": "code",
      "metadata": {
        "colab": {
          "base_uri": "https://localhost:8080/",
          "height": 225
        },
        "id": "kxSJ-HoFHJZY",
        "outputId": "4305f4b5-bc85-4727-91e7-c4e6152c6f13"
      },
      "source": [
        "# Display the median net migration for the years 2015 and 2019 for the base countries by income level\n",
        "cm.groupby(\"base_country_wb_income\").agg({\n",
        "    \"net_per_10K_2015\": [\"median\"],\n",
        "    \"net_per_10K_2019\": [\"median\"]})"
      ],
      "execution_count": 46,
      "outputs": [
        {
          "output_type": "execute_result",
          "data": {
            "text/html": [
              "<div>\n",
              "<style scoped>\n",
              "    .dataframe tbody tr th:only-of-type {\n",
              "        vertical-align: middle;\n",
              "    }\n",
              "\n",
              "    .dataframe tbody tr th {\n",
              "        vertical-align: top;\n",
              "    }\n",
              "\n",
              "    .dataframe thead tr th {\n",
              "        text-align: left;\n",
              "    }\n",
              "\n",
              "    .dataframe thead tr:last-of-type th {\n",
              "        text-align: right;\n",
              "    }\n",
              "</style>\n",
              "<table border=\"1\" class=\"dataframe\">\n",
              "  <thead>\n",
              "    <tr>\n",
              "      <th></th>\n",
              "      <th>net_per_10K_2015</th>\n",
              "      <th>net_per_10K_2019</th>\n",
              "    </tr>\n",
              "    <tr>\n",
              "      <th></th>\n",
              "      <th>median</th>\n",
              "      <th>median</th>\n",
              "    </tr>\n",
              "    <tr>\n",
              "      <th>base_country_wb_income</th>\n",
              "      <th></th>\n",
              "      <th></th>\n",
              "    </tr>\n",
              "  </thead>\n",
              "  <tbody>\n",
              "    <tr>\n",
              "      <th>High Income</th>\n",
              "      <td>0.02</td>\n",
              "      <td>0.04</td>\n",
              "    </tr>\n",
              "    <tr>\n",
              "      <th>Low Income</th>\n",
              "      <td>0.42</td>\n",
              "      <td>-0.05</td>\n",
              "    </tr>\n",
              "    <tr>\n",
              "      <th>Lower Middle Income</th>\n",
              "      <td>-0.02</td>\n",
              "      <td>-0.07</td>\n",
              "    </tr>\n",
              "    <tr>\n",
              "      <th>Upper Middle Income</th>\n",
              "      <td>-0.03</td>\n",
              "      <td>-0.08</td>\n",
              "    </tr>\n",
              "  </tbody>\n",
              "</table>\n",
              "</div>"
            ],
            "text/plain": [
              "                       net_per_10K_2015 net_per_10K_2019\n",
              "                                 median           median\n",
              "base_country_wb_income                                  \n",
              "High Income                        0.02             0.04\n",
              "Low Income                         0.42            -0.05\n",
              "Lower Middle Income               -0.02            -0.07\n",
              "Upper Middle Income               -0.03            -0.08"
            ]
          },
          "metadata": {
            "tags": []
          },
          "execution_count": 46
        }
      ]
    },
    {
      "cell_type": "code",
      "metadata": {
        "colab": {
          "base_uri": "https://localhost:8080/"
        },
        "id": "4fJBZPKNHK5E",
        "outputId": "34c4ded7-a949-48b8-adcd-714b17f38cda"
      },
      "source": [
        "# Display the number of target countries in each income level\n",
        "cm.groupby(\"target_country_wb_income\")[\"target_country_name\"].count()"
      ],
      "execution_count": 48,
      "outputs": [
        {
          "output_type": "execute_result",
          "data": {
            "text/plain": [
              "target_country_wb_income\n",
              "High Income            2415\n",
              "Low Income              185\n",
              "Lower Middle Income     653\n",
              "Upper Middle Income     895\n",
              "Name: target_country_name, dtype: int64"
            ]
          },
          "metadata": {
            "tags": []
          },
          "execution_count": 48
        }
      ]
    },
    {
      "cell_type": "code",
      "metadata": {
        "colab": {
          "base_uri": "https://localhost:8080/",
          "height": 195
        },
        "id": "93jOY1nEHLY6",
        "outputId": "2bc0addf-69c6-46fb-910a-772061e4a881"
      },
      "source": [
        "# Display the mean net migration for all five years, for each income level\n",
        "cm.groupby(\"base_country_wb_income\")[[\"net_per_10K_2015\", \"net_per_10K_2016\", \"net_per_10K_2017\", \"net_per_10K_2018\", \"net_per_10K_2019\"]].mean()"
      ],
      "execution_count": 49,
      "outputs": [
        {
          "output_type": "execute_result",
          "data": {
            "text/html": [
              "<div>\n",
              "<style scoped>\n",
              "    .dataframe tbody tr th:only-of-type {\n",
              "        vertical-align: middle;\n",
              "    }\n",
              "\n",
              "    .dataframe tbody tr th {\n",
              "        vertical-align: top;\n",
              "    }\n",
              "\n",
              "    .dataframe thead th {\n",
              "        text-align: right;\n",
              "    }\n",
              "</style>\n",
              "<table border=\"1\" class=\"dataframe\">\n",
              "  <thead>\n",
              "    <tr style=\"text-align: right;\">\n",
              "      <th></th>\n",
              "      <th>net_per_10K_2015</th>\n",
              "      <th>net_per_10K_2016</th>\n",
              "      <th>net_per_10K_2017</th>\n",
              "      <th>net_per_10K_2018</th>\n",
              "      <th>net_per_10K_2019</th>\n",
              "    </tr>\n",
              "    <tr>\n",
              "      <th>base_country_wb_income</th>\n",
              "      <th></th>\n",
              "      <th></th>\n",
              "      <th></th>\n",
              "      <th></th>\n",
              "      <th></th>\n",
              "    </tr>\n",
              "  </thead>\n",
              "  <tbody>\n",
              "    <tr>\n",
              "      <th>High Income</th>\n",
              "      <td>0.505482</td>\n",
              "      <td>0.391379</td>\n",
              "      <td>0.314178</td>\n",
              "      <td>0.379201</td>\n",
              "      <td>0.401470</td>\n",
              "    </tr>\n",
              "    <tr>\n",
              "      <th>Low Income</th>\n",
              "      <td>1.876432</td>\n",
              "      <td>0.798270</td>\n",
              "      <td>-0.684865</td>\n",
              "      <td>-0.677784</td>\n",
              "      <td>-0.681459</td>\n",
              "    </tr>\n",
              "    <tr>\n",
              "      <th>Lower Middle Income</th>\n",
              "      <td>0.591654</td>\n",
              "      <td>-0.029893</td>\n",
              "      <td>-0.519433</td>\n",
              "      <td>-0.527136</td>\n",
              "      <td>-0.476616</td>\n",
              "    </tr>\n",
              "    <tr>\n",
              "      <th>Upper Middle Income</th>\n",
              "      <td>-0.043419</td>\n",
              "      <td>-0.502916</td>\n",
              "      <td>-0.699240</td>\n",
              "      <td>-0.686626</td>\n",
              "      <td>-0.700101</td>\n",
              "    </tr>\n",
              "  </tbody>\n",
              "</table>\n",
              "</div>"
            ],
            "text/plain": [
              "                        net_per_10K_2015  ...  net_per_10K_2019\n",
              "base_country_wb_income                    ...                  \n",
              "High Income                     0.505482  ...          0.401470\n",
              "Low Income                      1.876432  ...         -0.681459\n",
              "Lower Middle Income             0.591654  ...         -0.476616\n",
              "Upper Middle Income            -0.043419  ...         -0.700101\n",
              "\n",
              "[4 rows x 5 columns]"
            ]
          },
          "metadata": {
            "tags": []
          },
          "execution_count": 49
        }
      ]
    },
    {
      "cell_type": "markdown",
      "metadata": {
        "id": "UqBCMK6dIkS-"
      },
      "source": [
        "### Exercise 10 - calculating range over a grouped series\n",
        "\n",
        "Open the dataset at this url: https://github.com/futureCodersSE/working-with-data/blob/main/Data%20sets/public_use-talent-migration.xlsx?raw=true Open the sheet named *Skill Migration*\n",
        "\n",
        "1.  Display the max for each skill group category of net migration for the year 2017\n",
        "2.  Assign the max for each skill group category of net migration for the year 2017 to a variable called **max_skill_migration** and print `max_skill_migration`\n",
        "3.  Create a second variable called **min_skill_migration** and assign to it the min for each skill group category of net migration for the year 2017, print `min_skill_migration`\n",
        "\n",
        "4.  You now have two series `max_skill_migration` and `min_skill_migration` each of which is a numpy array.  You can perfom calculations on these two series in the same way as you would individual data items.\n",
        "\n",
        "So, you can calculate the range for each skill category by subtracting the `min_skill_migration` from `max_skill_migration` to get a new series **skill_migration_range**\n",
        "\n",
        "skill_migration_range = max_skill_migration - min_skill_migration\n",
        "\n",
        "Try it out.\n",
        "\n",
        "5.  Now calculate the range for the year 2019\n",
        "6.  Now calculate the range for countries grouped by base country income level for the year 2015\n",
        "\n",
        "Test output:  \n",
        "1 and 2  \n",
        "```\n",
        "skill_group_category\n",
        "Business Skills                1048.20\n",
        "Disruptive Tech Skills         1478.56\n",
        "Soft Skills                    1572.35\n",
        "Specialized Industry Skills    1906.14\n",
        "Tech Skills                    1336.78\n",
        "Name: net_per_10K_2017, dtype: float64\n",
        "```\n",
        "\n",
        "3    \n",
        "```\n",
        "skill_group_category\n",
        "Business Skills               -3471.35\n",
        "Disruptive Tech Skills        -2646.19\n",
        "Soft Skills                   -2542.23\n",
        "Specialized Industry Skills   -6604.67\n",
        "Tech Skills                   -6060.98\n",
        "Name: net_per_10K_2017, dtype: float64\n",
        "```\n",
        "\n",
        "4  \n",
        "```\n",
        "skill_group_category\n",
        "Business Skills                4519.55\n",
        "Disruptive Tech Skills         4124.75\n",
        "Soft Skills                    4114.58\n",
        "Specialized Industry Skills    8510.81\n",
        "Tech Skills                    7397.76\n",
        "Name: net_per_10K_2017, dtype: float64\n",
        "```\n",
        "\n",
        "5  \n",
        "```\n",
        "skill_group_category\n",
        "Business Skills                4543.96\n",
        "Disruptive Tech Skills         3651.81\n",
        "Soft Skills                    5528.47\n",
        "Specialized Industry Skills    4036.44\n",
        "Tech Skills                    3424.45\n",
        "Name: net_per_10K_2019, dtype: float64\n",
        "```\n",
        "\n",
        "6  \n",
        "```\n",
        "wb_income\n",
        "High income            4246.50\n",
        "Low income             4556.42\n",
        "Lower middle income    2148.36\n",
        "Upper middle income    4045.43\n",
        "Name: net_per_10K_2015, dtype: float64\n",
        "```\n",
        "\n",
        "\n",
        "\n"
      ]
    },
    {
      "cell_type": "code",
      "metadata": {
        "id": "1_2brpLnKIBt",
        "colab": {
          "base_uri": "https://localhost:8080/"
        },
        "outputId": "4cf20c33-6c65-4ce1-884b-1098e0f5aaad"
      },
      "source": [
        "sm = pd.read_excel(url3, sheet_name=\"Skill Migration\")\n",
        "sm.info()"
      ],
      "execution_count": 51,
      "outputs": [
        {
          "output_type": "stream",
          "text": [
            "<class 'pandas.core.frame.DataFrame'>\n",
            "RangeIndex: 17617 entries, 0 to 17616\n",
            "Data columns (total 12 columns):\n",
            " #   Column                Non-Null Count  Dtype  \n",
            "---  ------                --------------  -----  \n",
            " 0   country_code          17617 non-null  object \n",
            " 1   country_name          17617 non-null  object \n",
            " 2   wb_income             17617 non-null  object \n",
            " 3   wb_region             17617 non-null  object \n",
            " 4   skill_group_id        17617 non-null  int64  \n",
            " 5   skill_group_category  17617 non-null  object \n",
            " 6   skill_group_name      17617 non-null  object \n",
            " 7   net_per_10K_2015      17617 non-null  float64\n",
            " 8   net_per_10K_2016      17617 non-null  float64\n",
            " 9   net_per_10K_2017      17617 non-null  float64\n",
            " 10  net_per_10K_2018      17617 non-null  float64\n",
            " 11  net_per_10K_2019      17617 non-null  float64\n",
            "dtypes: float64(5), int64(1), object(6)\n",
            "memory usage: 1.6+ MB\n"
          ],
          "name": "stdout"
        }
      ]
    },
    {
      "cell_type": "code",
      "metadata": {
        "colab": {
          "base_uri": "https://localhost:8080/"
        },
        "id": "4JQWlyr2KN0W",
        "outputId": "acfa921c-f78e-4df1-a8d8-fb1a9e0650b6"
      },
      "source": [
        "# Max net migration for each skill group category in 2017\n",
        "sm.groupby(\"skill_group_category\")[\"net_per_10K_2017\"].max()"
      ],
      "execution_count": 52,
      "outputs": [
        {
          "output_type": "execute_result",
          "data": {
            "text/plain": [
              "skill_group_category\n",
              "Business Skills                1048.20\n",
              "Disruptive Tech Skills         1478.56\n",
              "Soft Skills                    1572.35\n",
              "Specialized Industry Skills    1906.14\n",
              "Tech Skills                    1336.78\n",
              "Name: net_per_10K_2017, dtype: float64"
            ]
          },
          "metadata": {
            "tags": []
          },
          "execution_count": 52
        }
      ]
    },
    {
      "cell_type": "code",
      "metadata": {
        "colab": {
          "base_uri": "https://localhost:8080/"
        },
        "id": "McHM7TFGKinI",
        "outputId": "1f7063dc-3d35-47f4-ea6b-b6303470f16e"
      },
      "source": [
        "# Assign the max for each skill group category of net migration for the year 2017 to a variable called max_skill_migration and print max_skill_migration\n",
        "\n",
        "print(max_skill_migration)"
      ],
      "execution_count": 54,
      "outputs": [
        {
          "output_type": "stream",
          "text": [
            "skill_group_category\n",
            "Business Skills                1048.20\n",
            "Disruptive Tech Skills         1478.56\n",
            "Soft Skills                    1572.35\n",
            "Specialized Industry Skills    1906.14\n",
            "Tech Skills                    1336.78\n",
            "Name: net_per_10K_2017, dtype: float64\n"
          ],
          "name": "stdout"
        }
      ]
    },
    {
      "cell_type": "code",
      "metadata": {
        "colab": {
          "base_uri": "https://localhost:8080/"
        },
        "id": "cdQeuFzRJ5uS",
        "outputId": "b15dde70-d6dd-4883-84ec-0de78f964d49"
      },
      "source": [
        "# Create a second variable called min_skill_migration and assign to it the min for each skill group category of net migration for the year 2017, print min_skill_migration\n",
        "min_skill_migration = sm.groupby(\"skill_group_category\")[\"net_per_10K_2017\"].min()\n",
        "print(min_skill_migration)"
      ],
      "execution_count": 55,
      "outputs": [
        {
          "output_type": "stream",
          "text": [
            "skill_group_category\n",
            "Business Skills               -3471.35\n",
            "Disruptive Tech Skills        -2646.19\n",
            "Soft Skills                   -2542.23\n",
            "Specialized Industry Skills   -6604.67\n",
            "Tech Skills                   -6060.98\n",
            "Name: net_per_10K_2017, dtype: float64\n"
          ],
          "name": "stdout"
        }
      ]
    },
    {
      "cell_type": "code",
      "metadata": {
        "colab": {
          "base_uri": "https://localhost:8080/"
        },
        "id": "gOBFClDxKrpw",
        "outputId": "f81a187a-8ac5-4306-9be2-22b8faaa01ff"
      },
      "source": [
        "# Skill migration range for 2017\n",
        "skill_migration_range = max_skill_migration - min_skill_migration\n",
        "print(skill_migration_range)"
      ],
      "execution_count": 57,
      "outputs": [
        {
          "output_type": "stream",
          "text": [
            "skill_group_category\n",
            "Business Skills                4519.55\n",
            "Disruptive Tech Skills         4124.75\n",
            "Soft Skills                    4114.58\n",
            "Specialized Industry Skills    8510.81\n",
            "Tech Skills                    7397.76\n",
            "Name: net_per_10K_2017, dtype: float64\n"
          ],
          "name": "stdout"
        }
      ]
    },
    {
      "cell_type": "code",
      "metadata": {
        "colab": {
          "base_uri": "https://localhost:8080/"
        },
        "id": "5-_yp1IMLRC0",
        "outputId": "7ce9370c-ba4a-4061-ee3a-782567bfbb81"
      },
      "source": [
        "# Now calculate the range for the year 2019\n",
        "max_skill_migration_2019 = sm.groupby(\"skill_group_category\")[\"net_per_10K_2019\"].max()\n",
        "min_skill_migration_2019 = sm.groupby(\"skill_group_category\")[\"net_per_10K_2019\"].min()\n",
        "skill_migration_range_2019 = max_skill_migration_2019 - min_skill_migration_2019\n",
        "print(skill_migration_range_2019)"
      ],
      "execution_count": 58,
      "outputs": [
        {
          "output_type": "stream",
          "text": [
            "skill_group_category\n",
            "Business Skills                4543.96\n",
            "Disruptive Tech Skills         3651.81\n",
            "Soft Skills                    5528.47\n",
            "Specialized Industry Skills    4036.44\n",
            "Tech Skills                    3424.45\n",
            "Name: net_per_10K_2019, dtype: float64\n"
          ],
          "name": "stdout"
        }
      ]
    },
    {
      "cell_type": "code",
      "metadata": {
        "colab": {
          "base_uri": "https://localhost:8080/"
        },
        "id": "URhbt6BDLkhx",
        "outputId": "4d693af9-cead-43ae-a8d6-2fb6c41cd48d"
      },
      "source": [
        "# Now calculate the range for countries grouped by base country income level for the year 2015\n",
        "min_skill_migration_2015 = sm.groupby(\"wb_income\")[\"net_per_10K_2015\"].min()\n",
        "max_skill_migration_2015 = sm.groupby(\"wb_income\")[\"net_per_10K_2015\"].max()\n",
        "skill_migration_2015 = max_skill_migration_2015 - min_skill_migration_2015\n",
        "print(skill_migration_2015)"
      ],
      "execution_count": 59,
      "outputs": [
        {
          "output_type": "stream",
          "text": [
            "wb_income\n",
            "High income            4246.50\n",
            "Low income             4556.42\n",
            "Lower middle income    2148.36\n",
            "Upper middle income    4045.43\n",
            "Name: net_per_10K_2015, dtype: float64\n"
          ],
          "name": "stdout"
        }
      ]
    }
  ]
}