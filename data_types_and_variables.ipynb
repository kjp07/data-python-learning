{
  "nbformat": 4,
  "nbformat_minor": 0,
  "metadata": {
    "colab": {
      "name": "data_types_and_variables.ipynb",
      "provenance": [],
      "authorship_tag": "ABX9TyNX+4QWvPLBZlPl5F+ryCMW",
      "include_colab_link": true
    },
    "kernelspec": {
      "name": "python3",
      "display_name": "Python 3"
    },
    "language_info": {
      "name": "python"
    }
  },
  "cells": [
    {
      "cell_type": "markdown",
      "metadata": {
        "id": "view-in-github",
        "colab_type": "text"
      },
      "source": [
        "<a href=\"https://colab.research.google.com/github/kjp07/data-python-learning/blob/main/data_types_and_variables.ipynb\" target=\"_parent\"><img src=\"https://colab.research.google.com/assets/colab-badge.svg\" alt=\"Open In Colab\"/></a>"
      ]
    },
    {
      "cell_type": "markdown",
      "metadata": {
        "id": "73gd6yTIl-oT"
      },
      "source": [
        "## **Data Types and Variables**"
      ]
    },
    {
      "cell_type": "markdown",
      "metadata": {
        "id": "gUSMA4zWmMbc"
      },
      "source": [
        "### **Exercise 1**\n",
        "The cell below contains a function. Functions are named sets of instructions that do one particular thing, often creating a new set of data but sometimes just setting something up.\n",
        "\n",
        "A function starts with the keyword def (short for define or definition). All instructions below the definition are indented and this indicates that they are part of that function. A function runs when its name is used outside the function (here it is not indented). The indentation is important, note where the code is and isn't indented.\n",
        "\n",
        "- create a variable called name and assign it a value (any name)\n",
        "- print the message “Hello” name\n",
        "- change the value of name and run the code again to get a new message"
      ]
    },
    {
      "cell_type": "code",
      "metadata": {
        "colab": {
          "base_uri": "https://localhost:8080/"
        },
        "id": "ApAJiaBPl9hP",
        "outputId": "f8ed19f9-14e2-4c00-9afc-83c9ae853e9e"
      },
      "source": [
        "def print_welcome():\n",
        "  # create the variable called name below here (indented like this line) and add the instruction print(\"Hello\",name)\n",
        "  name = \"Mark\"\n",
        "  print(\"Hello\", name)\n",
        "\n",
        "print_welcome()"
      ],
      "execution_count": 6,
      "outputs": [
        {
          "output_type": "stream",
          "text": [
            "Hello Mark\n"
          ],
          "name": "stdout"
        }
      ]
    },
    {
      "cell_type": "markdown",
      "metadata": {
        "id": "lSk29Aemm_ZQ"
      },
      "source": [
        "### **Exercise 2**\n",
        "- create two variables num1 and num2 and assign them each a whole number\n",
        "- create a third variable total which will store the sum of num1 + num2\n",
        "- run the code\n",
        "\n",
        "Change the value of one of the numbers and run the code again to get new messages and a new total."
      ]
    },
    {
      "cell_type": "code",
      "metadata": {
        "colab": {
          "base_uri": "https://localhost:8080/"
        },
        "id": "AWbLN4FKmsZH",
        "outputId": "82d4d6ec-0060-4473-f22c-48bab89b927e"
      },
      "source": [
        "def print_total():\n",
        "  # add your code below here\n",
        "  num1 = 25\n",
        "  num2 = 6\n",
        "  total = num1 + num2\n",
        "  print(num1, \"+\", num2, \"=\", total)\n",
        "\n",
        "print_total()"
      ],
      "execution_count": 8,
      "outputs": [
        {
          "output_type": "stream",
          "text": [
            "25 + 6 = 31\n"
          ],
          "name": "stdout"
        }
      ]
    },
    {
      "cell_type": "markdown",
      "metadata": {
        "id": "iJYR1gQongEU"
      },
      "source": [
        "### **Exercise 3 - variables of different types**\n",
        "- create a variable called name and assign it the value \"Monty\"\n",
        "- create a variable called age and assign it the value 101\n",
        "- print a message \"Hello name you are age years old\"\n",
        "\n",
        "*Test input:*  \n",
        "Billy  \n",
        "18\n",
        "\n",
        "*Expected output:*  \n",
        "Hello Billy you are 18 years old"
      ]
    },
    {
      "cell_type": "code",
      "metadata": {
        "colab": {
          "base_uri": "https://localhost:8080/"
        },
        "id": "Y0u-yS9OnXXu",
        "outputId": "64df8e58-71d3-40b7-e040-e5716dc58ff8"
      },
      "source": [
        "def print_info():\n",
        "  # add your code below here\n",
        "  name = \"Monty\"\n",
        "  age = 101\n",
        "  print(\"Hello\", name + \".\", \"You are\", age, \"years old.\") # Add a period to the end of name\n",
        "\n",
        "print_info()"
      ],
      "execution_count": 17,
      "outputs": [
        {
          "output_type": "stream",
          "text": [
            "Hello Monty. You are 101 years old.\n"
          ],
          "name": "stdout"
        }
      ]
    },
    {
      "cell_type": "markdown",
      "metadata": {
        "id": "UTeL_gAtoX-w"
      },
      "source": [
        "### **Exercise 4 - float variables (and writing your own function)**\n",
        "\n",
        "Write a function called print_price() which will:\n",
        "\n",
        "- create a variable called product and assign the value \"Chocolate Bar\"\n",
        "- create a variable called cost and assign the value 1.39\n",
        "- print the message product, \"costs\", \"£\", cost\n",
        "\n",
        "*Expected output:*  \n",
        "Chocolate Bar costs £ 1.39"
      ]
    },
    {
      "cell_type": "code",
      "metadata": {
        "colab": {
          "base_uri": "https://localhost:8080/"
        },
        "id": "yPYYvvoVn9oU",
        "outputId": "f4018751-8108-4aa6-9bb8-da9a95e7d596"
      },
      "source": [
        "def print_price():\n",
        "  product = \"Chocolate Bar\"\n",
        "  cost = 1.39\n",
        "  print(product, \"costs\", \"£\", cost)\n",
        "print_price()"
      ],
      "execution_count": 21,
      "outputs": [
        {
          "output_type": "stream",
          "text": [
            "Chocolate Bar costs £ 1.39\n"
          ],
          "name": "stdout"
        }
      ]
    },
    {
      "cell_type": "code",
      "metadata": {
        "colab": {
          "base_uri": "https://localhost:8080/"
        },
        "id": "g9pD2INiowet",
        "outputId": "e6660877-ff7b-4d25-8822-aa6dcbbf6997"
      },
      "source": [
        "# Same again but making the cost a string\n",
        "# Combining cost with \"£\" so no gaps\n",
        "def print_price():\n",
        "  product = \"Chocolate Bar\"\n",
        "  cost = str(1.39)\n",
        "  print(product, \"costs\", \"£\" + cost)\n",
        "print_price()"
      ],
      "execution_count": 22,
      "outputs": [
        {
          "output_type": "stream",
          "text": [
            "Chocolate Bar costs £1.39\n"
          ],
          "name": "stdout"
        }
      ]
    },
    {
      "cell_type": "markdown",
      "metadata": {
        "id": "9SVLgBKBpFzX"
      },
      "source": [
        "### **Exercise 5 - concatenating strings**\n",
        "\n",
        "Write a function called print_full_name() which will:\n",
        "\n",
        "- create variable called name and assign it the value \"Monty\"\n",
        "- create a variable called surname and assign it the value \"Python\"\n",
        "- create a variable called full_name and assign it the value name + \" \" + surname\n",
        "- print the full_name\n",
        "\n",
        "*Expected output:*  \n",
        "Monty Python"
      ]
    },
    {
      "cell_type": "code",
      "metadata": {
        "colab": {
          "base_uri": "https://localhost:8080/"
        },
        "id": "o5TzEzAao_Zy",
        "outputId": "8998c843-0078-4db1-cd1b-9f531854128b"
      },
      "source": [
        "def print_full_name():\n",
        "  name = \"Monty\"\n",
        "  surname = \"Python\"\n",
        "  full_name = name + \" \" + surname\n",
        "  print(full_name)\n",
        "print_full_name()"
      ],
      "execution_count": 23,
      "outputs": [
        {
          "output_type": "stream",
          "text": [
            "Monty Python\n"
          ],
          "name": "stdout"
        }
      ]
    }
  ]
}