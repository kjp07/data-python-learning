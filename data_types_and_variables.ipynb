{
  "nbformat": 4,
  "nbformat_minor": 0,
  "metadata": {
    "colab": {
      "name": "data_types_and_variables.ipynb",
      "provenance": [],
      "collapsed_sections": [],
      "authorship_tag": "ABX9TyOpfBprL9wmecY6+Iy71W1n",
      "include_colab_link": true
    },
    "kernelspec": {
      "name": "python3",
      "display_name": "Python 3"
    },
    "language_info": {
      "name": "python"
    }
  },
  "cells": [
    {
      "cell_type": "markdown",
      "metadata": {
        "id": "view-in-github",
        "colab_type": "text"
      },
      "source": [
        "<a href=\"https://colab.research.google.com/github/kjp07/data-python-learning/blob/main/data_types_and_variables.ipynb\" target=\"_parent\"><img src=\"https://colab.research.google.com/assets/colab-badge.svg\" alt=\"Open In Colab\"/></a>"
      ]
    },
    {
      "cell_type": "markdown",
      "metadata": {
        "id": "gUSMA4zWmMbc"
      },
      "source": [
        "## **Data Types and Variables**\n",
        "\n",
        "**Exercise 1**  \n",
        "The cell below contains a function. Functions are named sets of instructions that do one particular thing, often creating a new set of data but sometimes just setting something up.\n",
        "\n",
        "A function starts with the keyword def (short for define or definition). All instructions below the definition are indented and this indicates that they are part of that function. A function runs when its name is used outside the function (here it is not indented). The indentation is important, note where the code is and isn't indented.\n",
        "\n",
        "- create a variable called name and assign it a value (any name)\n",
        "- print the message “Hello” name\n",
        "- change the value of name and run the code again to get a new message"
      ]
    },
    {
      "cell_type": "code",
      "metadata": {
        "colab": {
          "base_uri": "https://localhost:8080/"
        },
        "id": "ApAJiaBPl9hP",
        "outputId": "f8ed19f9-14e2-4c00-9afc-83c9ae853e9e"
      },
      "source": [
        "def print_welcome():\n",
        "  # create the variable called name below here (indented like this line) and add the instruction print(\"Hello\",name)\n",
        "  name = \"Mark\"\n",
        "  print(\"Hello\", name)\n",
        "\n",
        "print_welcome()"
      ],
      "execution_count": 6,
      "outputs": [
        {
          "output_type": "stream",
          "text": [
            "Hello Mark\n"
          ],
          "name": "stdout"
        }
      ]
    },
    {
      "cell_type": "markdown",
      "metadata": {
        "id": "lSk29Aemm_ZQ"
      },
      "source": [
        "**Exercise 2**  \n",
        "- create two variables num1 and num2 and assign them each a whole number\n",
        "- create a third variable total which will store the sum of num1 + num2\n",
        "- run the code\n",
        "\n",
        "Change the value of one of the numbers and run the code again to get new messages and a new total."
      ]
    },
    {
      "cell_type": "code",
      "metadata": {
        "colab": {
          "base_uri": "https://localhost:8080/"
        },
        "id": "AWbLN4FKmsZH",
        "outputId": "82d4d6ec-0060-4473-f22c-48bab89b927e"
      },
      "source": [
        "def print_total():\n",
        "  # add your code below here\n",
        "  num1 = 25\n",
        "  num2 = 6\n",
        "  total = num1 + num2\n",
        "  print(num1, \"+\", num2, \"=\", total)\n",
        "\n",
        "print_total()"
      ],
      "execution_count": 8,
      "outputs": [
        {
          "output_type": "stream",
          "text": [
            "25 + 6 = 31\n"
          ],
          "name": "stdout"
        }
      ]
    },
    {
      "cell_type": "markdown",
      "metadata": {
        "id": "iJYR1gQongEU"
      },
      "source": [
        "**Exercise 3 - variables of different types**  \n",
        "- create a variable called name and assign it the value \"Monty\"\n",
        "- create a variable called age and assign it the value 101\n",
        "- print a message \"Hello name you are age years old\"\n",
        "\n",
        "*Test input:*  \n",
        "Billy  \n",
        "18\n",
        "\n",
        "*Expected output:*  \n",
        "Hello Billy you are 18 years old"
      ]
    },
    {
      "cell_type": "code",
      "metadata": {
        "colab": {
          "base_uri": "https://localhost:8080/"
        },
        "id": "Y0u-yS9OnXXu",
        "outputId": "64df8e58-71d3-40b7-e040-e5716dc58ff8"
      },
      "source": [
        "def print_info():\n",
        "  # add your code below here\n",
        "  name = \"Monty\"\n",
        "  age = 101\n",
        "  print(\"Hello\", name + \".\", \"You are\", age, \"years old.\") # Add a period to the end of name\n",
        "\n",
        "print_info()"
      ],
      "execution_count": 17,
      "outputs": [
        {
          "output_type": "stream",
          "text": [
            "Hello Monty. You are 101 years old.\n"
          ],
          "name": "stdout"
        }
      ]
    },
    {
      "cell_type": "markdown",
      "metadata": {
        "id": "UTeL_gAtoX-w"
      },
      "source": [
        "**Exercise 4 - float variables (and writing your own function)**  \n",
        "\n",
        "Write a function called print_price() which will:\n",
        "\n",
        "- create a variable called product and assign the value \"Chocolate Bar\"\n",
        "- create a variable called cost and assign the value 1.39\n",
        "- print the message product, \"costs\", \"£\", cost\n",
        "\n",
        "*Expected output:*  \n",
        "Chocolate Bar costs £ 1.39"
      ]
    },
    {
      "cell_type": "code",
      "metadata": {
        "colab": {
          "base_uri": "https://localhost:8080/"
        },
        "id": "yPYYvvoVn9oU",
        "outputId": "f4018751-8108-4aa6-9bb8-da9a95e7d596"
      },
      "source": [
        "def print_price():\n",
        "  product = \"Chocolate Bar\"\n",
        "  cost = 1.39\n",
        "  print(product, \"costs\", \"£\", cost)\n",
        "print_price()"
      ],
      "execution_count": 21,
      "outputs": [
        {
          "output_type": "stream",
          "text": [
            "Chocolate Bar costs £ 1.39\n"
          ],
          "name": "stdout"
        }
      ]
    },
    {
      "cell_type": "code",
      "metadata": {
        "colab": {
          "base_uri": "https://localhost:8080/"
        },
        "id": "g9pD2INiowet",
        "outputId": "e6660877-ff7b-4d25-8822-aa6dcbbf6997"
      },
      "source": [
        "# Same again but making the cost a string\n",
        "# Combining cost with \"£\" so no gaps\n",
        "def print_price():\n",
        "  product = \"Chocolate Bar\"\n",
        "  cost = str(1.39)\n",
        "  print(product, \"costs\", \"£\" + cost)\n",
        "print_price()"
      ],
      "execution_count": 22,
      "outputs": [
        {
          "output_type": "stream",
          "text": [
            "Chocolate Bar costs £1.39\n"
          ],
          "name": "stdout"
        }
      ]
    },
    {
      "cell_type": "markdown",
      "metadata": {
        "id": "9SVLgBKBpFzX"
      },
      "source": [
        "**Exercise 5 - concatenating strings**  \n",
        "\n",
        "Write a function called print_full_name() which will:\n",
        "\n",
        "- create variable called name and assign it the value \"Monty\"\n",
        "- create a variable called surname and assign it the value \"Python\"\n",
        "- create a variable called full_name and assign it the value name + \" \" + surname\n",
        "- print the full_name\n",
        "\n",
        "*Expected output:*  \n",
        "Monty Python"
      ]
    },
    {
      "cell_type": "code",
      "metadata": {
        "colab": {
          "base_uri": "https://localhost:8080/"
        },
        "id": "o5TzEzAao_Zy",
        "outputId": "8998c843-0078-4db1-cd1b-9f531854128b"
      },
      "source": [
        "def print_full_name():\n",
        "  name = \"Monty\"\n",
        "  surname = \"Python\"\n",
        "  full_name = name + \" \" + surname\n",
        "  print(full_name)\n",
        "print_full_name()"
      ],
      "execution_count": 23,
      "outputs": [
        {
          "output_type": "stream",
          "text": [
            "Monty Python\n"
          ],
          "name": "stdout"
        }
      ]
    },
    {
      "cell_type": "markdown",
      "metadata": {
        "id": "ragBHXK9qK3V"
      },
      "source": [
        "## **Data Types and Operators**\n",
        "\n",
        "**Exercise 1 - changing data type**  \n",
        "\n",
        "Write a function called print_details() which will:\n",
        "\n",
        "- ask the user their name, age and height in metres\n",
        "- print the message Hello name you are age years old and height metres tall\n",
        "\n",
        "***Remember to specify the correct data type for each input***\n",
        "\n",
        "*Test Input:*  \n",
        "Jean  \n",
        "52  \n",
        "2.3\n",
        "\n",
        "*Expected Output:*  \n",
        "Hello Jean you are 52 years old and 2.3 metres tall"
      ]
    },
    {
      "cell_type": "code",
      "metadata": {
        "colab": {
          "base_uri": "https://localhost:8080/"
        },
        "id": "6noZOz11qKRn",
        "outputId": "f8ffc825-1557-4b85-c7ad-3520790261b1"
      },
      "source": [
        "def print_details():\n",
        "  name = str(input(\"What is your name? \"))\n",
        "  age = int(input(\"How old are you? \"))\n",
        "  height = float(input(\"How tall are you in metres? \"))\n",
        "  print(\"Hello\", name, \"you are\", age, \"years old and\", height, \"metres tall\")\n",
        "print_details()"
      ],
      "execution_count": 27,
      "outputs": [
        {
          "output_type": "stream",
          "text": [
            "What is your name? Mark\n",
            "How old are you? 22\n",
            "How tall are you in metres? 1.68\n",
            "Hello Mark you are 22 years old and 1.68 metres tall\n"
          ],
          "name": "stdout"
        }
      ]
    },
    {
      "cell_type": "code",
      "metadata": {
        "colab": {
          "base_uri": "https://localhost:8080/"
        },
        "id": "dlnrsy0yrHkV",
        "outputId": "3bd1aa83-c53e-4390-ff3c-2522bc4f136c"
      },
      "source": [
        "# Same with grammar\n",
        "def print_details():\n",
        "  name = str(input(\"What is your name? \"))\n",
        "  age = int(input(\"How old are you? \"))\n",
        "  height = float(input(\"How tall are you in metres? \"))\n",
        "  print(\"Hello,\", name + \".\", \"You are\", age, \"years old and\", height, \"metres tall.\")\n",
        "print_details()"
      ],
      "execution_count": 31,
      "outputs": [
        {
          "output_type": "stream",
          "text": [
            "What is your name? Kelsey\n",
            "How old are you? 24\n",
            "How tall are you in metres? 1.56\n",
            "Hello, Kelsey. You are 24 years old and 1.56 metres tall.\n"
          ],
          "name": "stdout"
        }
      ]
    },
    {
      "cell_type": "markdown",
      "metadata": {
        "id": "ODsPM2Q4rkfb"
      },
      "source": [
        "**Exercise 2 - boolean variables**  \n",
        "\n",
        "A boolean variable can hold just two values, True or False. This type of variable is hugely valuable in holding onto the state of things. For example, a boolean variable called loggedIn might hold True if the user is loggedIn and False otherwise. This means that at any point while a program is running, it is possible to ask the question \"Is the user logged in?\". The answer will depend on the value of the variable loggedIn.\n",
        "\n",
        "Although we will use the values True and False as words, Python stores them as 1 for true and 0 for false.\n",
        "\n",
        "To demonstrate this, write a function called **show_trueFalse()** which will:\n",
        "\n",
        "- create a variable called **logged_in** and assign it the value True (use the * assignment operator = the same as usual)\n",
        "- create a variable called **logged_in_as_num** and assign it the value int(True)\n",
        "- print logged_in and logged_in_as_num\n",
        "\n",
        "*Expected output:*  \n",
        "True 1\n",
        "\n",
        "When you have run this, change True to False in both places.\n",
        "\n",
        "*Expected output:*  \n",
        "False 0"
      ]
    },
    {
      "cell_type": "code",
      "metadata": {
        "colab": {
          "base_uri": "https://localhost:8080/"
        },
        "id": "i_YJ5rQvrWET",
        "outputId": "edf7d2cf-36a8-4102-cf5b-6ea0bac707ea"
      },
      "source": [
        "# Where logged_in = True and logged_in_as_num = int(True)\n",
        "def show_trueFalse():\n",
        "  logged_in = True\n",
        "  logged_in_as_num = int(True)\n",
        "  print(logged_in)\n",
        "  print(logged_in_as_num)\n",
        "show_trueFalse()"
      ],
      "execution_count": 36,
      "outputs": [
        {
          "output_type": "stream",
          "text": [
            "True\n",
            "1\n"
          ],
          "name": "stdout"
        }
      ]
    },
    {
      "cell_type": "code",
      "metadata": {
        "colab": {
          "base_uri": "https://localhost:8080/"
        },
        "id": "DRi71fm6sLn5",
        "outputId": "1325cb30-31e7-4074-94f0-9346a404ff8d"
      },
      "source": [
        "# Where logged_in = False and logged_in_as_num = int(False)\n",
        "def show_trueFalse():\n",
        "  logged_in = False\n",
        "  logged_in_as_num = int(False)\n",
        "  print(logged_in)\n",
        "  print(logged_in_as_num)\n",
        "show_trueFalse()"
      ],
      "execution_count": 38,
      "outputs": [
        {
          "output_type": "stream",
          "text": [
            "False\n",
            "0\n"
          ],
          "name": "stdout"
        }
      ]
    },
    {
      "cell_type": "markdown",
      "metadata": {
        "id": "z_hkMt8ZsrMf"
      },
      "source": [
        "**Exercise 3 - converting to float to int**  \n",
        "Write a function called count_poundCoins() which will:\n",
        "\n",
        "- ask the user to enter an amount in pounds and pence and assign this value to a float variable called pounds_pence\n",
        "- convert the float variable to int and assign this value to a variable called pound_coins\n",
        "- print the message Number of pound coins pound_coins\n",
        "\n",
        "*Test input:*  \n",
        "3.48\n",
        "\n",
        "*Expected output:*  \n",
        "Number of pound coins 3"
      ]
    },
    {
      "cell_type": "code",
      "metadata": {
        "colab": {
          "base_uri": "https://localhost:8080/"
        },
        "id": "XhW9H8cFsnxv",
        "outputId": "b933524c-e2e2-451c-f67f-cee5bec27c76"
      },
      "source": [
        "def count_poundCoins():\n",
        "  pounds_pence = float(input(\"Enter an amount of money in pounds and pence: \"))\n",
        "  pound_coins = int(pounds_pence)\n",
        "  print(\"Number of pound coins\", pound_coins)\n",
        "count_poundCoins()"
      ],
      "execution_count": 42,
      "outputs": [
        {
          "output_type": "stream",
          "text": [
            "Enter an amount of money in pounds and pence: 3.48\n",
            "Number of pound coins 3\n"
          ],
          "name": "stdout"
        }
      ]
    },
    {
      "cell_type": "markdown",
      "metadata": {
        "id": "ek11xLtstSQp"
      },
      "source": [
        "**Exercise 4 - converting int to string**  \n",
        "Write a function called format_currency() which will:\n",
        "\n",
        "- ask the user to enter a number of pounds and assign this to an integer variable called num_pounds\n",
        "- convert numPounds to a string and assign it to a variable called pounds\n",
        "- create a String variable called currency which has a \"£\", pounds, \".00\" joined together\n",
        "- print the resulting currency, including the £ sign\n",
        "\n",
        "*Test input:*  \n",
        "4\n",
        "\n",
        "*Expected output:*  \n",
        "£4.00"
      ]
    },
    {
      "cell_type": "code",
      "metadata": {
        "colab": {
          "base_uri": "https://localhost:8080/"
        },
        "id": "fosme0jJtM9S",
        "outputId": "40b6d3c4-64c3-4f1b-d824-b09863c77f97"
      },
      "source": [
        "def format_currency():\n",
        "  num_pounds = int(input(\"Enter an amount of pounds: \"))\n",
        "  pounds = str(num_pounds)\n",
        "  print(\"£\" + pounds + \".00\") # Combining strings\n",
        "format_currency()"
      ],
      "execution_count": 44,
      "outputs": [
        {
          "output_type": "stream",
          "text": [
            "Enter an amount of pounds: 4\n",
            "£4.00\n"
          ],
          "name": "stdout"
        }
      ]
    },
    {
      "cell_type": "markdown",
      "metadata": {
        "id": "JeDIWR1ft9Mn"
      },
      "source": [
        "**Exercise 5 - area of a circle**  \n",
        "Write a function called calculate_area() which will:\n",
        "\n",
        "- ask the user to enter the radius of a circle (which could be a float or an int)\n",
        "- create a variable called pi and assign it the value 3.14159\n",
        "- calculate the area of the circle (pi radius radius)\n",
        "- print the area of the circle to 2 decimal places.\n",
        "\n",
        "*Test input:*  \n",
        "5\n",
        "\n",
        "*Expected output:*  \n",
        "78.54"
      ]
    },
    {
      "cell_type": "code",
      "metadata": {
        "colab": {
          "base_uri": "https://localhost:8080/"
        },
        "id": "Nf1x8IWNtwSV",
        "outputId": "37b20b2a-cbab-4398-91f7-71de9b2ad962"
      },
      "source": [
        "def calculate_area():\n",
        "  radius = int(input(\"Enter the radius of a circle: \"))\n",
        "  pi = 3.14159\n",
        "  area = pi * radius * radius\n",
        "  print(round(area, ndigits=2))\n",
        "calculate_area()"
      ],
      "execution_count": 46,
      "outputs": [
        {
          "output_type": "stream",
          "text": [
            "Enter the radius of a circle: 5\n",
            "78.54\n"
          ],
          "name": "stdout"
        }
      ]
    },
    {
      "cell_type": "markdown",
      "metadata": {
        "id": "YfKqj8D_0DtB"
      },
      "source": [
        "## **Working with Strings**"
      ]
    },
    {
      "cell_type": "markdown",
      "metadata": {
        "id": "yC4k1r1K0IOf"
      },
      "source": [
        "**Exercise 1 input and strings**  \n",
        "**Recap:** to get input from the user and store it in a variable, use the instruction\n",
        "\n",
        "variableName = input(\"message asking user for required information\")\n",
        "\n",
        "Remember: Unless you state otherwise, all input is String data\n",
        "\n",
        "Write a function called **print_initials()** which will:\n",
        "\n",
        "- ask the user to input a **first_name**\n",
        "- ask the user to input a **middle_name**\n",
        "- ask the user to input a **surname**\n",
        "- print the name in the format: surname, first_name middle_name\n",
        "\n",
        "*Test Inputs:*  \n",
        "Peter  \n",
        "Barry  \n",
        "Burrows  \n",
        "\n",
        "*Expected output:*  \n",
        "Burrows, Peter Barry"
      ]
    },
    {
      "cell_type": "code",
      "metadata": {
        "colab": {
          "base_uri": "https://localhost:8080/"
        },
        "id": "GJLH-k2mufh1",
        "outputId": "dac99b14-a2fe-4f78-9e96-ebac718eec1d"
      },
      "source": [
        "def print_initials():\n",
        "  first_name = str(input(\"What is your first name? \"))\n",
        "  middle_name = str(input(\"what is your middle name? \"))\n",
        "  surname = str(input(\"What is your surname? \"))\n",
        "  print(surname + \",\", first_name, middle_name)\n",
        "print_initials()"
      ],
      "execution_count": 48,
      "outputs": [
        {
          "output_type": "stream",
          "text": [
            "What is your first name? Peter\n",
            "what is your middle name? Barry\n",
            "What is your surname? Burrows\n",
            "Burrows, Peter Barry\n"
          ],
          "name": "stdout"
        }
      ]
    },
    {
      "cell_type": "markdown",
      "metadata": {
        "id": "cjVdHAvn1AH7"
      },
      "source": [
        "## **Substrings**"
      ]
    },
    {
      "cell_type": "code",
      "metadata": {
        "colab": {
          "base_uri": "https://localhost:8080/"
        },
        "id": "6eBSxf0U01sS",
        "outputId": "0ab7b422-8a20-4166-e7ab-f9747bbe8892"
      },
      "source": [
        "# Example: printing particular letters from a String\n",
        "def print_letters():\n",
        "  name = \"Robert\"\n",
        "  first_letter = name[0]\n",
        "  third_letter = name[2]\n",
        "  fifth_letter = name[4]\n",
        "  print(first_letter, third_letter, fifth_letter)\n",
        "print_letters()"
      ],
      "execution_count": 50,
      "outputs": [
        {
          "output_type": "stream",
          "text": [
            "R b r\n"
          ],
          "name": "stdout"
        }
      ]
    },
    {
      "cell_type": "code",
      "metadata": {
        "colab": {
          "base_uri": "https://localhost:8080/"
        },
        "id": "V93TdyMs1rwV",
        "outputId": "b02f6a42-707d-4ff3-b342-9aa64d3fa2bc"
      },
      "source": [
        "# Example: printing a set of letters from a String\n",
        "def print_substrings():\n",
        "  name = \"Robert\"\n",
        "  first_three_letters = name[0:3]\n",
        "  second_to_fifth_letters = name[1:5]\n",
        "  last_three_letters = name[-3:] # Last letter is at position -1\n",
        "  print(first_three_letters)\n",
        "  print(second_to_fifth_letters)\n",
        "  print(last_three_letters)\n",
        "print_substrings()"
      ],
      "execution_count": 51,
      "outputs": [
        {
          "output_type": "stream",
          "text": [
            "Rob\n",
            "ober\n",
            "ert\n"
          ],
          "name": "stdout"
        }
      ]
    },
    {
      "cell_type": "markdown",
      "metadata": {
        "id": "WHJ0_9gt23Qm"
      },
      "source": [
        "**Exercise 2 - substrings**  \n",
        "Write a function called print_substring() which will:\n",
        "\n",
        "- Ask the user to input a name of at least 5 letters  \n",
        "- Print the first and the fourth letters in the name\n",
        "\n",
        "*Test Inputs:* \n",
        "Bartholomew\n",
        "\n",
        "*Expected output:*  \n",
        "First letter is B, fourth letter is t"
      ]
    },
    {
      "cell_type": "code",
      "metadata": {
        "colab": {
          "base_uri": "https://localhost:8080/"
        },
        "id": "g9MBdltJ2VqI",
        "outputId": "6a84c4f6-67fa-4ff7-9e65-109ae79e24fa"
      },
      "source": [
        "def print_substring():\n",
        "  name = str(input(\"Input a name that is at least 5 letters long: \"))\n",
        "  first_four_letters = name[0:4]\n",
        "  print(first_four_letters)\n",
        "print_substring()"
      ],
      "execution_count": 54,
      "outputs": [
        {
          "output_type": "stream",
          "text": [
            "Input a name that is at least 5 letters long: Bartholomew\n",
            "Bart\n"
          ],
          "name": "stdout"
        }
      ]
    },
    {
      "cell_type": "markdown",
      "metadata": {
        "id": "wAOkYKe83fyB"
      },
      "source": [
        "**Exercise 3 - Formatting String output**  \n",
        "Write a function called print_formatted() which will:\n",
        "\n",
        "- ask the user to input a house_number\n",
        "- ask the user to input a road_name, then a town, then a postcode\n",
        "- print the address on three lines (house_number with a comma and road_name, town, postcode)\n",
        "\n",
        "*Test Input:*  \n",
        "10  \n",
        "Old Road  \n",
        "Chatham  \n",
        "ME4 1AA  \n",
        "\n",
        "*Expected output:*  \n",
        "10, Old Road  \n",
        "Chatham  \n",
        "ME4 1AA  "
      ]
    },
    {
      "cell_type": "code",
      "metadata": {
        "colab": {
          "base_uri": "https://localhost:8080/"
        },
        "id": "ssYqBe-M3Xdm",
        "outputId": "7a013c5c-982d-4e41-b8d2-b5b5b7e9e6a0"
      },
      "source": [
        "def print_formatted():\n",
        "  house_number = str(input(\"Enter a house number: \"))\n",
        "  road_name = str(input(\"Enter a road name: \"))\n",
        "  town = str(input(\"Enter a town: \"))\n",
        "  postcode = str(input(\"Enter a postcode: \"))\n",
        "  print(house_number + \",\", road_name)\n",
        "  print(town)\n",
        "  print(postcode)\n",
        "print_formatted()"
      ],
      "execution_count": 64,
      "outputs": [
        {
          "output_type": "stream",
          "text": [
            "Enter a house number: 10\n",
            "Enter a road name: Old Road\n",
            "Enter a town: Chatham\n",
            "Enter a postcode: ME4 1AA\n",
            "10, Old Road\n",
            "Chatham\n",
            "ME4 1AA\n"
          ],
          "name": "stdout"
        }
      ]
    },
    {
      "cell_type": "markdown",
      "metadata": {
        "id": "iqHbrc3z47cD"
      },
      "source": [
        "## **String funnctions**\n",
        "\n",
        "### **String length**\n",
        "\n",
        "**Exercise 4 - String length**  \n",
        "Write a function called print_namelength() which will:\n",
        "\n",
        "- ask the user to input a name\n",
        "- assign the length of the name to a variable called name_length\n",
        "- print the name followed by a comma, then name_length, then the word “characters”.\n",
        "\n",
        "*Test Input:*  \n",
        "William\n",
        "\n",
        "*Expected Output:*  \n",
        "William, 7 characters"
      ]
    },
    {
      "cell_type": "code",
      "metadata": {
        "colab": {
          "base_uri": "https://localhost:8080/"
        },
        "id": "PlWnuaaU4CPJ",
        "outputId": "47b23b45-b637-4fb3-9d8a-3add7ae28164"
      },
      "source": [
        "def print_namelength():\n",
        "  name = str(input(\"Enter a name: \"))\n",
        "  name_length = len(name)\n",
        "  print(name + \",\", name_length, \"characters.\")\n",
        "print_namelength()"
      ],
      "execution_count": 66,
      "outputs": [
        {
          "output_type": "stream",
          "text": [
            "Enter a name: William\n",
            "William, 7 characters.\n"
          ],
          "name": "stdout"
        }
      ]
    },
    {
      "cell_type": "markdown",
      "metadata": {
        "id": "STdXmLmF5gvD"
      },
      "source": [
        "### **String Case Conversion**\n",
        "\n",
        "**Exercise 5 - case conversion**  \n",
        "Write a function called convert_to_lowercase() which will:\n",
        "\n",
        "- ask the user to input a name in lowercase letters\n",
        "- assign the capitalised String to the variable capitalised_name\n",
        "- print the name in capitals\n",
        "\n",
        "*Test Input:*  \n",
        "jaswinder\n",
        "\n",
        "*Expected output:*  \n",
        "JASWINDER"
      ]
    },
    {
      "cell_type": "code",
      "metadata": {
        "colab": {
          "base_uri": "https://localhost:8080/"
        },
        "id": "3ZxqS2cK5cIc",
        "outputId": "05c91d6a-51f2-4834-bbf5-3f8b1126af20"
      },
      "source": [
        "def convert_to_lowercase():\n",
        "  name = str(input(\"Enter your name in lowercase letter: \"))\n",
        "  capitalised_name = name.capitalize()\n",
        "  print(capitalised_name)\n",
        "convert_to_lowercase()"
      ],
      "execution_count": 67,
      "outputs": [
        {
          "output_type": "stream",
          "text": [
            "Enter your name in lowercase letter: jaswinder\n",
            "Jaswinder\n"
          ],
          "name": "stdout"
        }
      ]
    },
    {
      "cell_type": "markdown",
      "metadata": {
        "id": "3TpW6lHT8s-K"
      },
      "source": [
        "**Exercise 6 - case conversion**  \n",
        "Write a function called capitalise_names() which will:\n",
        "\n",
        "- ask the user to input a name and a surname\n",
        "- print both name and surname in lowercase with a capital letter at the start, even if they didn't have capitals when they were typed in\n",
        "\n",
        "*Test Input:*  \n",
        "benJamIN\n",
        "\n",
        "*Expected output:*  \n",
        "Benjamin"
      ]
    },
    {
      "cell_type": "code",
      "metadata": {
        "colab": {
          "base_uri": "https://localhost:8080/"
        },
        "id": "zGHoJcAH5-Bm",
        "outputId": "f2d9630c-6174-4d43-e39a-5650c706f231"
      },
      "source": [
        "def capitalise_names():\n",
        "  name = str(input(\"Enter a name: \"))\n",
        "  surname = str(input(\"Enter a surname: \"))\n",
        "  print(name.capitalize(), surname.capitalize())\n",
        "capitalise_names()"
      ],
      "execution_count": 68,
      "outputs": [
        {
          "output_type": "stream",
          "text": [
            "Enter a name: benJamIN\n",
            "Enter a surname: sURey\n",
            "Benjamin Surey\n"
          ],
          "name": "stdout"
        }
      ]
    },
    {
      "cell_type": "markdown",
      "metadata": {
        "id": "nuINryXm9XKZ"
      },
      "source": [
        "**Exercise 7 - Substrings**  \n",
        "Write a function called **print_postcode_letters()** which will:\n",
        "\n",
        "- ask the user to enter a **postcode**\n",
        "- assign the first two letters of the postcode to a variable called **postcode_area**\n",
        "- convert the postcode_area String to capital letters and assign this to a variable called **capitalised_area**\n",
        "- print the capitalised_area\n",
        "\n",
        "*Test Input:*  \n",
        "Me4 6bb\n",
        "\n",
        "*Expected output:*  \n",
        "ME"
      ]
    },
    {
      "cell_type": "code",
      "metadata": {
        "colab": {
          "base_uri": "https://localhost:8080/"
        },
        "id": "fQ2Ldqzv9PDD",
        "outputId": "1c9eb3c4-918e-4883-dc1d-de6f609561e7"
      },
      "source": [
        "def print_postcode_letters():\n",
        "  postcode = str(input(\"Enter a postcode: \"))\n",
        "  postcode_area = postcode[0:2]\n",
        "  capitalised_area = postcode_area.upper()\n",
        "  print(capitalised_area)\n",
        "print_postcode_letters()"
      ],
      "execution_count": 70,
      "outputs": [
        {
          "output_type": "stream",
          "text": [
            "Enter a postcode: Me4 6bb\n",
            "ME\n"
          ],
          "name": "stdout"
        }
      ]
    },
    {
      "cell_type": "markdown",
      "metadata": {
        "id": "DbixvzF4-KNb"
      },
      "source": [
        "**Exercise 8 - Floor division and slicing**  \n",
        "Write a function called print_half_word() which will:\n",
        "\n",
        "- ask the user to enter a **word**\n",
        "- assign the value of half the length of the word to a variable called **half_length**\n",
        "- assign the first half of the word to a new variable called **half_word**\n",
        "- print half_word\n",
        "\n",
        "*Hint: when dividing the length of the word by 2, use floor division (//) so that you get a whole number of letters). To get the first half of the word, use word[0:halfLength]*\n",
        "\n",
        "*Test input:*  \n",
        "Runtime\n",
        "\n",
        "*Expected output:*  \n",
        "Run"
      ]
    },
    {
      "cell_type": "code",
      "metadata": {
        "colab": {
          "base_uri": "https://localhost:8080/"
        },
        "id": "SmyD5PA_933w",
        "outputId": "7361d674-2b3e-4e67-b507-ddfe9404c0cf"
      },
      "source": [
        "def print_half_word():\n",
        "  word = str(input(\"Enter a word: \"))\n",
        "  half_length = len(word) // 2 # Determine length of word then half it using floor division\n",
        "  half_word = word[0:half_length]\n",
        "  print(half_word)\n",
        "print_half_word()"
      ],
      "execution_count": 71,
      "outputs": [
        {
          "output_type": "stream",
          "text": [
            "Enter a word: Runtime\n",
            "Run\n"
          ],
          "name": "stdout"
        }
      ]
    },
    {
      "cell_type": "markdown",
      "metadata": {
        "id": "a_WpMl82--8Z"
      },
      "source": [
        "**Exercise 9 - String repetition**  \n",
        "Write a function called **repeat_two_letters()** which will:\n",
        "\n",
        "- ask the user to enter a **word**\n",
        "- assign the last two letters of the word to a variable called **last_two**\n",
        "- assign a string made of 5 copies of the last_two (*Hint: last_two 5 will do it*) to a variable called **five_copies**\n",
        "- print five_copies\n",
        "\n",
        "*Test Input:*  \n",
        "Data\n",
        "\n",
        "*Expected output:*  \n",
        "tatatatata"
      ]
    },
    {
      "cell_type": "code",
      "metadata": {
        "colab": {
          "base_uri": "https://localhost:8080/"
        },
        "id": "fGZNBxhI-020",
        "outputId": "8ec6c02e-e6c5-46e9-e80c-682f69b429bd"
      },
      "source": [
        "def repeat_two_letters():\n",
        "  word = str(input(\"Enter a word: \"))\n",
        "  last_two = word[-2:]  # Start from end\n",
        "  five_copies = last_two * 5\n",
        "  print(five_copies)\n",
        "repeat_two_letters()"
      ],
      "execution_count": 75,
      "outputs": [
        {
          "output_type": "stream",
          "text": [
            "Enter a word: Data\n",
            "tatatatata\n"
          ],
          "name": "stdout"
        }
      ]
    },
    {
      "cell_type": "markdown",
      "metadata": {
        "id": "Rv4a5C_k_x08"
      },
      "source": [
        "**Exercise 10 - converting String to lower case**  \n",
        "Write a function called lowerCase_threeLetters() which will:\n",
        "\n",
        "- assign the value “january” to a variable called **month**\n",
        "- assign the first three characters of month to a variable called **month_short**\n",
        "- capitalise month_short and store the result back in month_short\n",
        "- assign the rest of the characters to a variable called **month_rest**\n",
        "- join month_short and month_rest together and store the result back into the variable **month**\n",
        "- print **month**\n",
        "\n",
        "*Expected output:*  \n",
        "JANuary"
      ]
    },
    {
      "cell_type": "code",
      "metadata": {
        "colab": {
          "base_uri": "https://localhost:8080/"
        },
        "id": "O1fLPApx_n1c",
        "outputId": "f86b6646-3784-48bb-98ec-6880baf2ea1e"
      },
      "source": [
        "def lowerCase_threeLetters():\n",
        "  month = \"january\"\n",
        "  month_short = month[0:3] # Select first three letters\n",
        "  month_short = month_short.upper() # Capitalise\n",
        "  month_rest = month[3:] # Select the rest of the word\n",
        "  month = month_short + month_rest # Combine\n",
        "  print(month) \n",
        "lowerCase_threeLetters()"
      ],
      "execution_count": 78,
      "outputs": [
        {
          "output_type": "stream",
          "text": [
            "JANuary\n"
          ],
          "name": "stdout"
        }
      ]
    },
    {
      "cell_type": "code",
      "metadata": {
        "id": "f3Q3H4VuAh70"
      },
      "source": [
        ""
      ],
      "execution_count": null,
      "outputs": []
    }
  ]
}